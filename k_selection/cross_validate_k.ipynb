{
 "cells": [
  {
   "cell_type": "code",
   "execution_count": null,
   "metadata": {
    "collapsed": true
   },
   "outputs": [],
   "source": [
    "from sklearn.decomposition import NMF"
   ]
  },
  {
   "cell_type": "code",
   "execution_count": null,
   "metadata": {
    "collapsed": true
   },
   "outputs": [],
   "source": [
    "# Fit the NMF model\n",
    "t0=time()\n",
    "print('Fitting the NMF model with size_sample=%d and size_var=%d...'%(n_sample,n_var))\n",
    "nmf=NMF(n_components=k,random_state=1)\n",
    "nmf.fit(mtrx_sample_x_var)\n",
    "print('nmf.fit: done in %0.3fs.'%(time()-t0))\n",
    "print('nmf.reconstruction_err_:',nmf.reconstruction_err_)\n",
    "\n",
    "# Extract H and W matrixes\n",
    "H=nmf.components_\n",
    "W=nmf.fit_transform(mtrx_sample_x_var)\n",
    "\n",
    "# Plot W matrix\n",
    "plt.imshow(W,interpolation='nearest',cmap=plt.cm.ocean,extent=(0,n_sample,0,n_var))\n",
    "plt.colorbar()\n",
    "plt.show()\n",
    "print('W.shape:',W.shape)\n",
    "\n",
    "# Plot H matrix\n",
    "plt.imshow(H,interpolation='nearest',cmap=plt.cm.ocean,extent=(0,n_var,0,n_sample))\n",
    "plt.colorbar()\n",
    "plt.show()\n",
    "print('H.shape:',H.shape)\n",
    "\n",
    "A=np.matrix(W*H)\n",
    "\n",
    "A.shape\n",
    "\n",
    "A-A"
   ]
  }
 ],
 "metadata": {
  "kernelspec": {
   "display_name": "Python 3",
   "language": "python",
   "name": "python3"
  },
  "language_info": {
   "codemirror_mode": {
    "name": "ipython",
    "version": 3
   },
   "file_extension": ".py",
   "mimetype": "text/x-python",
   "name": "python",
   "nbconvert_exporter": "python",
   "pygments_lexer": "ipython3",
   "version": "3.5.1"
  }
 },
 "nbformat": 4,
 "nbformat_minor": 0
}
