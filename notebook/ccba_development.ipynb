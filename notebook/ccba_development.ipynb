{
 "cells": [
  {
   "cell_type": "markdown",
   "metadata": {},
   "source": [
    "# This is a environment to test, prototype, and develop CCBA libraries."
   ]
  },
  {
   "cell_type": "code",
   "execution_count": 3,
   "metadata": {
    "collapsed": false
   },
   "outputs": [
    {
     "ename": "ImportError",
     "evalue": "No module named 'library'",
     "output_type": "error",
     "traceback": [
      "\u001b[0;31m---------------------------------------------------------------------------\u001b[0m",
      "\u001b[0;31mImportError\u001b[0m                               Traceback (most recent call last)",
      "\u001b[0;32m<ipython-input-3-b193d20d0c3d>\u001b[0m in \u001b[0;36m<module>\u001b[0;34m()\u001b[0m\n\u001b[0;32m----> 1\u001b[0;31m \u001b[0;32mfrom\u001b[0m \u001b[0mlibrary\u001b[0m\u001b[0;34m.\u001b[0m\u001b[0mccba\u001b[0m \u001b[0;32mimport\u001b[0m \u001b[0;34m*\u001b[0m\u001b[0;34m\u001b[0m\u001b[0m\n\u001b[0m\u001b[1;32m      2\u001b[0m \u001b[0mget_ipython\u001b[0m\u001b[0;34m(\u001b[0m\u001b[0;34m)\u001b[0m\u001b[0;34m.\u001b[0m\u001b[0mmagic\u001b[0m\u001b[0;34m(\u001b[0m\u001b[0;34m'matplotlib inline'\u001b[0m\u001b[0;34m)\u001b[0m\u001b[0;34m\u001b[0m\u001b[0m\n",
      "\u001b[0;31mImportError\u001b[0m: No module named 'library'"
     ]
    }
   ],
   "source": [
    "from library.ccba import *\n",
    "%matplotlib inline"
   ]
  },
  {
   "cell_type": "markdown",
   "metadata": {},
   "source": [
    "## Test read_gct, write_gct, and plot_heatmap"
   ]
  },
  {
   "cell_type": "code",
   "execution_count": null,
   "metadata": {
    "collapsed": false
   },
   "outputs": [],
   "source": [
    "# Import a .gct\n",
    "input_filename = '/Users/Kwat/binf/hematopoietic_cancer/data/ccle/ctrp_v1.gct'\n",
    "data = read_gct(input_filename)\n",
    "data"
   ]
  },
  {
   "cell_type": "code",
   "execution_count": null,
   "metadata": {
    "collapsed": false
   },
   "outputs": [],
   "source": [
    "# Plot a heatmap for the imported .gct data\n",
    "plot_heatmap(data)"
   ]
  },
  {
   "cell_type": "code",
   "execution_count": null,
   "metadata": {
    "collapsed": false
   },
   "outputs": [],
   "source": [
    "# Output the data as a new .gct\n",
    "output_filename = os.path.join(PATH_TEST_DATA, 'write_gct_output')\n",
    "write_gct(data, output_filename)"
   ]
  },
  {
   "cell_type": "code",
   "execution_count": null,
   "metadata": {
    "collapsed": false
   },
   "outputs": [],
   "source": [
    "# Import the new .gct\n",
    "data2 = read_gct(output_filename + '.gct')\n",
    "data2"
   ]
  },
  {
   "cell_type": "code",
   "execution_count": null,
   "metadata": {
    "collapsed": false
   },
   "outputs": [],
   "source": [
    "# Plot a heatmap for the imported new .gct data\n",
    "plot_heatmap(data2)"
   ]
  },
  {
   "cell_type": "markdown",
   "metadata": {},
   "source": [
    "## Test compute_information_coefficient"
   ]
  },
  {
   "cell_type": "code",
   "execution_count": 2,
   "metadata": {
    "collapsed": false
   },
   "outputs": [],
   "source": [
    "x = np.array([0,1,2,3,4,5,6,7,8,9])\n",
    "y = np.array([0,1,2,3,4,5,6,7,8,9])"
   ]
  },
  {
   "cell_type": "code",
   "execution_count": null,
   "metadata": {
    "collapsed": true
   },
   "outputs": [],
   "source": [
    "# TODO: learn what to exclude\n",
    "# Filter x and y\n",
    "\n",
    "\n",
    "# TODO: understanding why intersect\n",
    "# Get the intersection between x and y\n",
    "\n",
    "if intersection:\n",
    "    # Choose the rank of an SVD approximation via cross validation for x and y\n",
    "    rank_x =\n",
    "    rank_y =\n",
    "    \n",
    "    # Compute the |correlation| of x and y\n",
    "    cor = abs()\n",
    "    \n",
    "    # TODO: understand where the numbers come from\n",
    "    rank_x_XXX =\n",
    "    rank_y_XXX =\n",
    "\n",
    "    # TODO: \n",
    "    # Compute 2-dimensional kernel density estimation with an axis-aligned bivariate normal kernel, evaluated on a square grid.\n",
    "    kernel_x =\n",
    "    kernel_y =\n",
    "    kernel_density =\n",
    "    \n",
    "    # TODO: understand math\n",
    "    dx = \n",
    "    dy = \n",
    "    prob_xy = \n",
    "    prob_x = \n",
    "    prob_y = \n",
    "    entropy_xy = \n",
    "    entropy_x = \n",
    "    entropy_y = \n",
    "    prob_x = \n",
    "    prob_y = \n",
    "    mutual_information = \n",
    "    information_coefficient = \n",
    "else:\n",
    "    information_coefficient = 0\n",
    "    \n",
    "print(information_coefficient) #return information_coefficient"
   ]
  },
  {
   "cell_type": "markdown",
   "metadata": {},
   "source": [
    "# FUNCTIONS TO BE IMPORTED"
   ]
  },
  {
   "cell_type": "code",
   "execution_count": null,
   "metadata": {
    "collapsed": false
   },
   "outputs": [],
   "source": [
    "# Computation\n",
    "def compute_information_coefficient():\n",
    "    \"\"\"\n",
    "    Compute information coefficient.\n",
    "    \"\"\"\n",
    "    \n",
    "def compute_association():\n",
    "    \"\"\"\n",
    "    Compute pairwise association of x and y.\n",
    "    \"\"\"\n",
    "    \n",
    "def compute_conditional_association():\n",
    "    \"\"\"\n",
    "    Compute pairwise association of x and y, given z.\n",
    "    \"\"\"\n",
    "    \n",
    "def compute_conditinal_mutual_information():\n",
    "    \"\"\"\n",
    "    Compute the conditional mutual imnformation:\n",
    "    I(X, Y | X) = H(X, Z) + H(Y, Z) - H(X, Y, Z) - H(Z).\n",
    "    \"\"\"\n",
    "    \n",
    "def normalize():\n",
    "    \"\"\"\n",
    "    \"\"\"\n",
    "    \n",
    "def train_basian_predictor():\n",
    "    \"\"\"\n",
    "    XXX.\n",
    "    \"\"\"\n",
    "\n",
    "def test_basian_predictor():\n",
    "    \"\"\"\n",
    "    XXX.\n",
    "    \"\"\"\n",
    "    \n",
    "def compute_nonnegative_least_square():\n",
    "    \"\"\"\n",
    "    \"\"\"\n",
    "    \n",
    "def compute_mutual_information():\n",
    "    \"\"\"\n",
    "    XXX.\n",
    "    \"\"\"\n",
    "\n",
    "def select_XXX():\n",
    "    \"\"\"\n",
    "    XXX.\n",
    "    \"\"\"\n",
    "    \n",
    "def select_multiple_XXX():\n",
    "    \"\"\"\n",
    "    Select multiple features form a given target XXX.\n",
    "    \"\"\"\n",
    "    \n",
    "def compute_area_under_regression_error_curve():\n",
    "    \"\"\"\n",
    "    Compute area under the regression error curve (REC).\n",
    "    This is the counter of the ROC for continuous target values.\n",
    "    \"\"\"\n",
    "    \n",
    "def compute_association():\n",
    "    \"\"\"\n",
    "    Compute association between XXX and XXX.\n",
    "    \"\"\"\n",
    "    \n",
    "def compute_association_matrix():\n",
    "    \"\"\"\n",
    "    Compute the distance between columns or rows across two matrices.\n",
    "    \"\"\"\n",
    "\n",
    "# Onco GPS\n",
    "def oncogps_define_states():\n",
    "    \"\"\"\n",
    "    Compute the OncoGPS states by consensus clustering.\n",
    "    \"\"\"\n",
    "    \n",
    "def oncogps_map():\n",
    "    \"\"\"\n",
    "    Map OncoGPS.\n",
    "    \"\"\"\n",
    "    \n",
    "def populate_map():\n",
    "    \"\"\"\n",
    "    \"\"\"\n",
    "    \n",
    "def create_components():\n",
    "    \"\"\"\n",
    "    NMF projection.\n",
    "    \"\"\"\n",
    "\n",
    "def select_k():\n",
    "    \"\"\"\n",
    "    Select k for NMF.\n",
    "    \"\"\"\n",
    "    \n",
    "def nmf():\n",
    "    \"\"\"\n",
    "    NMF.\n",
    "    \"\"\"\n",
    "    \n",
    "# Visualization\n",
    "def plot_feature_panel():\n",
    "    \"\"\"\n",
    "    XXX.\n",
    "    \"\"\"\n",
    "\n",
    "def get_overlap():\n",
    "    \"\"\"\n",
    "    XXX.\n",
    "    \"\"\"\n",
    "\n",
    "def explore():\n",
    "    \"\"\"\n",
    "    XXX.\n",
    "    \"\"\"\n",
    "    \n",
    "def convert_maf_to_gct():\n",
    "    \"\"\"\n",
    "    XXX.\n",
    "    \"\"\"\n",
    "\n",
    "def generate_association_matrix():\n",
    "    \"\"\"\n",
    "    XXX.\n",
    "    \"\"\"\n",
    "    \n",
    "def plot_mutual_information():\n",
    "    \"\"\"\n",
    "    \"\"\"\n",
    "    def read_cls():\n",
    "    \"\"\"\n",
    "    Read a .cls and XXX.\n",
    "    \"\"\"\n",
    "    \n",
    "# File manipulation\n",
    "\n",
    "def read_gmt():\n",
    "    \"\"\"\n",
    "    Read a .gmt and XXX.\n",
    "    \"\"\"\n",
    "\n",
    "def filter_matrix():\n",
    "    \"\"\"\n",
    "    Filter a subset of features and samples.\n",
    "    \"\"\"\n",
    "    \n",
    "def subset_phenotype():\n",
    "    \"\"\"\n",
    "    XXX.\n",
    "    \"\"\"\n",
    "    \n",
    "def subset_feature():\n",
    "    \"\"\"\n",
    "    XXX.\n",
    "    \"\"\"\n",
    "    \n",
    "def match_and_merge():\n",
    "    \"\"\"\n",
    "    XXX.\n",
    "    \"\"\""
   ]
  }
 ],
 "metadata": {
  "kernelspec": {
   "display_name": "Python 3",
   "language": "python",
   "name": "python3"
  },
  "language_info": {
   "codemirror_mode": {
    "name": "ipython",
    "version": 3
   },
   "file_extension": ".py",
   "mimetype": "text/x-python",
   "name": "python",
   "nbconvert_exporter": "python",
   "pygments_lexer": "ipython3",
   "version": "3.5.1"
  }
 },
 "nbformat": 4,
 "nbformat_minor": 0
}
