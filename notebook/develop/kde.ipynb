{
 "cells": [
  {
   "cell_type": "code",
   "execution_count": 1,
   "metadata": {
    "collapsed": true
   },
   "outputs": [],
   "source": [
    "import time\n",
    "\n",
    "import numpy as np\n",
    "\n",
    "\n",
    "n = 100\n",
    "size = 1000\n",
    "x = np.random.random_sample(size)\n",
    "y = np.random.random_sample(size)\n",
    "ngrid = 25"
   ]
  },
  {
   "cell_type": "markdown",
   "metadata": {},
   "source": [
    "## R's kde2d\n",
    "Faster."
   ]
  },
  {
   "cell_type": "code",
   "execution_count": null,
   "metadata": {
    "collapsed": false
   },
   "outputs": [
    {
     "data": {
      "text/plain": [
       "0.4581270217895508"
      ]
     },
     "execution_count": 2,
     "metadata": {},
     "output_type": "execute_result"
    }
   ],
   "source": [
    "import rpy2.robjects as ro\n",
    "from rpy2.robjects.numpy2ri import numpy2ri\n",
    "ro.conversion.py2ri = numpy2ri\n",
    "from rpy2.robjects.packages import importr\n",
    "mass = importr('MASS')\n",
    "\n",
    "t0 = time.time()\n",
    "for i in range(n):\n",
    "    x = np.random.random_sample(size)\n",
    "    y = np.random.random_sample(size)\n",
    "    kde = mass.kde2d(x, y, np.asarray([0.1, 0.1]), n=np.asarray([ngrid]))\n",
    "    kde[2]\n",
    "time.time() - t0"
   ]
  },
  {
   "cell_type": "markdown",
   "metadata": {},
   "source": [
    "## statsmodel's KDEMultivariate\n",
    "Higher overhead. Can specify bandwidth. Slowest."
   ]
  },
  {
   "cell_type": "code",
   "execution_count": null,
   "metadata": {
    "collapsed": false
   },
   "outputs": [],
   "source": [
    "from statsmodels.nonparametric.kernel_density import KDEMultivariate\n",
    "\n",
    "t0 = time.time()\n",
    "for i in range(n):\n",
    "    x = np.random.random_sample(size)\n",
    "    y = np.random.random_sample(size)\n",
    "    kde = KDEMultivariate([x, y], var_type='cc', bw=[0.1, 0.1])\n",
    "    kde.pdf()\n",
    "time.time() - t0"
   ]
  },
  {
   "cell_type": "markdown",
   "metadata": {},
   "source": [
    "## scipy's gaussian_kde\n",
    "Faster. Can't specify bandwidth."
   ]
  },
  {
   "cell_type": "code",
   "execution_count": null,
   "metadata": {
    "collapsed": true
   },
   "outputs": [],
   "source": [
    "from scipy.stats import gaussian_kde\n",
    "\n",
    "t0 = time.time()\n",
    "for i in range(n):\n",
    "    x = np.random.random_sample(size)\n",
    "    y = np.random.random_sample(size)\n",
    "    kde = gaussian_kde([x, y], bw_method='silverman')\n",
    "    kde.pdf(np.random.random_sample((2, 25)))\n",
    "time.time() - t0"
   ]
  },
  {
   "cell_type": "markdown",
   "metadata": {},
   "source": [
    "## New fastKDE"
   ]
  },
  {
   "cell_type": "code",
   "execution_count": null,
   "metadata": {
    "collapsed": false
   },
   "outputs": [],
   "source": [
    "from fastkde import fastKDE\n",
    "t0 = time.time()\n",
    "for i in range(n):\n",
    "    x = np.random.random_sample(size)\n",
    "    y = np.random.random_sample(size)\n",
    "    pdf, axes = fastKDE.pdf(x, y)\n",
    "time.time() - t0"
   ]
  }
 ],
 "metadata": {
  "kernelspec": {
   "display_name": "Python 3",
   "language": "python",
   "name": "python3"
  },
  "language_info": {
   "codemirror_mode": {
    "name": "ipython",
    "version": 3
   },
   "file_extension": ".py",
   "mimetype": "text/x-python",
   "name": "python",
   "nbconvert_exporter": "python",
   "pygments_lexer": "ipython3",
   "version": "3.5.1"
  }
 },
 "nbformat": 4,
 "nbformat_minor": 0
}
