{
 "cells": [
  {
   "cell_type": "code",
   "execution_count": 1,
   "metadata": {
    "collapsed": false
   },
   "outputs": [
    {
     "name": "stdout",
     "output_type": "stream",
     "text": [
      "===============================================================================\n",
      "==================== Computational Cancer Analysis Library ====================\n",
      "===============================================================================\n",
      "<20:14:41> Checking dependencies ...\n",
      "<20:14:41> Using the following packages:\n",
      "<20:14:41> \tmatplotlib (v1.5.1)\n",
      "<20:14:41> \tnumpy (v1.10.4)\n",
      "<20:14:41> \tpandas (v0.18.0)\n",
      "<20:14:41> \trpy2 (v2.7.9)\n",
      "<20:14:41> \tscikit-learn (v0.17.1)\n",
      "<20:14:41> \tscipy (v0.17.0)\n",
      "<20:14:41> \tseaborn (v0.7.0)\n"
     ]
    }
   ],
   "source": [
    "import sys\n",
    "sys.path.insert(0, '../../')\n",
    "import ccal\n",
    "%matplotlib inline\n",
    "%config InlineBackend.figure_formats = {'svg',}\n",
    "\n",
    "import numpy as np\n",
    "import pandas as pd\n",
    "\n",
    "from sklearn.cluster import AgglomerativeClustering\n",
    "from scipy.cluster.hierarchy import linkage, fcluster, cophenet\n",
    "from scipy.spatial.distance import pdist"
   ]
  },
  {
   "cell_type": "code",
   "execution_count": 2,
   "metadata": {
    "collapsed": true
   },
   "outputs": [],
   "source": [
    "kmin= 1\n",
    "kmax = 5\n",
    "kincrement = 1\n",
    "nclustering = 3\n",
    "h_matrix = ccal.support.read_gct('../../../hematopoietic_cancer/result/ccle_hema/k9/ccle_hema_k_9_H.gct')"
   ]
  },
  {
   "cell_type": "code",
   "execution_count": null,
   "metadata": {
    "collapsed": true
   },
   "outputs": [],
   "source": [
    "def compare_matrices(matrix1, matrix2, is_distance=False, plot=False, figure_filename=None):\n",
    "    compared_matrix = pd.DataFrame(index=matrix1.index, columns=matrix2.index, dtype=float)\n",
    "    features1_nrow = matrix1.shape[0]\n",
    "\n",
    "    for i, (i1, r1) in enumerate(matrix1.iterrows()):\n",
    "        print_log('Features 1 {} ({}/{}) vs. features 2 ...'.format(i1, i + 1, features1_nrow))\n",
    "        for i2, r2 in matrix2.iterrows():\n",
    "            compared_matrix.ix[i1, i2] = information_coefficient(r1, r2)\n",
    "    if is_distance:\n",
    "        print_log('Converting association to is_distance (is_distance = 1 - association) ...')\n",
    "        compared_matrix = 1 - compared_matrix\n",
    "\n",
    "    if plot:\n",
    "        print_log('Plotting the resulting matrix ...')\n",
    "        ax = sns.clustermap(compared_matrix, cmap=CMAP_CONTINUOUS)\n",
    "        plt.setp(ax.ax_heatmap.xaxis.get_majorticklabels(), rotation=90)\n",
    "        plt.setp(ax.ax_heatmap.yaxis.get_majorticklabels(), rotation=0)\n",
    "        if figure_filename:\n",
    "            establish_path(figure_filename)\n",
    "            compared_matrix.to_csv(figure_filename, sep='\\t')\n",
    "            print_log('Saved the resulting figure as {}.'.format(figure_filename))\n",
    "\n",
    "    return compared_matrix"
   ]
  },
  {
   "cell_type": "code",
   "execution_count": null,
   "metadata": {
    "collapsed": false
   },
   "outputs": [],
   "source": [
    "results = pd.DataFrame(index=range(kmin, kmax + 1, kincrement), columns=list(h_matrix.index) + ['cophenetic_correlation'])\n",
    "\n",
    "standardized_h_matrix = ccal.support.standardize_pandas_object(h_matrix)\n",
    "standardized_and_clipped_h_matrix = standardized_h_matrix.clip(-3, 3)\n",
    "compared_matrix = ccal.analyze.compare_matrices(standardized_and_clipped_h_matrix, standardized_and_clipped_h_matrix)\n",
    "\n",
    "for k in range(kmin, kmax + 1, kincrement):\n",
    "    print(k)\n",
    "    labels = pd.DataFrame(index=range(nclustering), columns=compared_matrix.index)\n",
    "    for i in range(nclustering):\n",
    "        ward = AgglomerativeClustering(n_clusters=k)\n",
    "        ward.fit(compared_matrix)\n",
    "        labels.iloc[i, :] = ward.labels_\n",
    "\n",
    "    cooccurences = pd.DataFrame(index=compared_matrix.index, columns=compared_matrix.columns)\n",
    "    cooccurences.fillna(0, inplace=True)\n",
    "    for n, s in labels.iterrows():\n",
    "        for i in s.index:\n",
    "            for j in s.index:\n",
    "                if i is j or s.ix[i] == s.ix[j]:\n",
    "                    cooccurences.ix[i, j] += 1\n",
    "    cooccurences /= nclustering\n",
    "\n",
    "    distances = 1 - cooccurences\n",
    "    link = linkage(distances, method='ward')\n",
    "    labels = fcluster(link, k, criterion='maxclust')\n",
    "    cophenetic_correlation = cophenet(link, pdist(distances))[0]\n",
    "    results.ix[k, h_matrix.index] = labels\n",
    "    results.ix[k, 'cophenetic_correlation'] = cophenetic_correlation\n",
    "\n",
    "results"
   ]
  }
 ],
 "metadata": {
  "kernelspec": {
   "display_name": "Python 3",
   "language": "python",
   "name": "python3"
  },
  "language_info": {
   "codemirror_mode": {
    "name": "ipython",
    "version": 3
   },
   "file_extension": ".py",
   "mimetype": "text/x-python",
   "name": "python",
   "nbconvert_exporter": "python",
   "pygments_lexer": "ipython3",
   "version": "3.5.1"
  }
 },
 "nbformat": 4,
 "nbformat_minor": 0
}
