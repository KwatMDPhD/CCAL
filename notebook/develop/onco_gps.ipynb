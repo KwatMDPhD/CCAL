{
 "cells": [
  {
   "cell_type": "code",
   "execution_count": 1,
   "metadata": {
    "collapsed": false
   },
   "outputs": [
    {
     "name": "stdout",
     "output_type": "stream",
     "text": [
      "===============================================================================\n",
      "==================== Computational Cancer Analysis Library ====================\n",
      "===============================================================================\n",
      "<14:34:13> Checking dependencies ...\n",
      "<14:34:13> Using the following packages:\n",
      "<14:34:13> \tmatplotlib (v1.5.1)\n",
      "<14:34:13> \tnumpy (v1.10.4)\n",
      "<14:34:13> \tpandas (v0.18.0)\n",
      "<14:34:13> \trpy2 (v2.7.9)\n",
      "<14:34:13> \tscikit-learn (v0.17.1)\n",
      "<14:34:13> \tscipy (v0.17.0)\n",
      "<14:34:13> \tseaborn (v0.7.0)\n"
     ]
    }
   ],
   "source": [
    "import sys\n",
    "sys.path.insert(0, '../../')\n",
    "import ccal\n",
    "%matplotlib inline\n",
    "%config InlineBackend.figure_formats = {'svg',}\n",
    "\n",
    "import numpy as np\n",
    "import pandas as pd\n",
    "\n",
    "from sklearn.cluster import AgglomerativeClustering\n",
    "from scipy.cluster.hierarchy import linkage, fcluster, cophenet\n",
    "from scipy.spatial.distance import pdist"
   ]
  },
  {
   "cell_type": "code",
   "execution_count": 2,
   "metadata": {
    "collapsed": true
   },
   "outputs": [],
   "source": [
    "kmin= 1\n",
    "kmax = 5\n",
    "kincrement = 1\n",
    "nclustering = 3\n",
    "h_matrix = ccal.support.read_gct('../../../hematopoietic_cancer/result/ccle_hema/k9/ccle_hema_k_9_H.gct')"
   ]
  },
  {
   "cell_type": "code",
   "execution_count": 3,
   "metadata": {
    "collapsed": false
   },
   "outputs": [
    {
     "name": "stdout",
     "output_type": "stream",
     "text": [
      "<14:34:14> Features 1 nmf_compC1_9 (1/9) vs. features 2 ...\n",
      "<14:34:14> Features 1 nmf_compC2_9 (2/9) vs. features 2 ...\n",
      "<14:34:14> Features 1 nmf_compC3_9 (3/9) vs. features 2 ...\n",
      "<14:34:14> Features 1 nmf_compC4_9 (4/9) vs. features 2 ...\n",
      "<14:34:14> Features 1 nmf_compC5_9 (5/9) vs. features 2 ...\n",
      "<14:34:14> Features 1 nmf_compC6_9 (6/9) vs. features 2 ...\n",
      "<14:34:14> Features 1 nmf_compC7_9 (7/9) vs. features 2 ...\n",
      "<14:34:14> Features 1 nmf_compC8_9 (8/9) vs. features 2 ...\n",
      "<14:34:14> Features 1 nmf_compC9_9 (9/9) vs. features 2 ...\n",
      "1\n",
      "2\n",
      "3\n",
      "4\n",
      "5\n"
     ]
    },
    {
     "data": {
      "text/html": [
       "<div>\n",
       "<table border=\"1\" class=\"dataframe\">\n",
       "  <thead>\n",
       "    <tr style=\"text-align: right;\">\n",
       "      <th></th>\n",
       "      <th>nmf_compC1_9</th>\n",
       "      <th>nmf_compC2_9</th>\n",
       "      <th>nmf_compC3_9</th>\n",
       "      <th>nmf_compC4_9</th>\n",
       "      <th>nmf_compC5_9</th>\n",
       "      <th>nmf_compC6_9</th>\n",
       "      <th>nmf_compC7_9</th>\n",
       "      <th>nmf_compC8_9</th>\n",
       "      <th>nmf_compC9_9</th>\n",
       "      <th>cophenetic_correlation</th>\n",
       "    </tr>\n",
       "  </thead>\n",
       "  <tbody>\n",
       "    <tr>\n",
       "      <th>1</th>\n",
       "      <td>1</td>\n",
       "      <td>1</td>\n",
       "      <td>1</td>\n",
       "      <td>1</td>\n",
       "      <td>1</td>\n",
       "      <td>1</td>\n",
       "      <td>1</td>\n",
       "      <td>1</td>\n",
       "      <td>1</td>\n",
       "      <td>NaN</td>\n",
       "    </tr>\n",
       "    <tr>\n",
       "      <th>2</th>\n",
       "      <td>1</td>\n",
       "      <td>1</td>\n",
       "      <td>2</td>\n",
       "      <td>2</td>\n",
       "      <td>2</td>\n",
       "      <td>1</td>\n",
       "      <td>2</td>\n",
       "      <td>2</td>\n",
       "      <td>1</td>\n",
       "      <td>1</td>\n",
       "    </tr>\n",
       "    <tr>\n",
       "      <th>3</th>\n",
       "      <td>2</td>\n",
       "      <td>3</td>\n",
       "      <td>1</td>\n",
       "      <td>1</td>\n",
       "      <td>1</td>\n",
       "      <td>3</td>\n",
       "      <td>1</td>\n",
       "      <td>1</td>\n",
       "      <td>2</td>\n",
       "      <td>0.989784</td>\n",
       "    </tr>\n",
       "    <tr>\n",
       "      <th>4</th>\n",
       "      <td>2</td>\n",
       "      <td>3</td>\n",
       "      <td>1</td>\n",
       "      <td>1</td>\n",
       "      <td>4</td>\n",
       "      <td>3</td>\n",
       "      <td>4</td>\n",
       "      <td>1</td>\n",
       "      <td>2</td>\n",
       "      <td>0.978958</td>\n",
       "    </tr>\n",
       "    <tr>\n",
       "      <th>5</th>\n",
       "      <td>2</td>\n",
       "      <td>3</td>\n",
       "      <td>1</td>\n",
       "      <td>1</td>\n",
       "      <td>4</td>\n",
       "      <td>3</td>\n",
       "      <td>5</td>\n",
       "      <td>1</td>\n",
       "      <td>2</td>\n",
       "      <td>0.95529</td>\n",
       "    </tr>\n",
       "  </tbody>\n",
       "</table>\n",
       "</div>"
      ],
      "text/plain": [
       "  nmf_compC1_9 nmf_compC2_9 nmf_compC3_9 nmf_compC4_9 nmf_compC5_9  \\\n",
       "1            1            1            1            1            1   \n",
       "2            1            1            2            2            2   \n",
       "3            2            3            1            1            1   \n",
       "4            2            3            1            1            4   \n",
       "5            2            3            1            1            4   \n",
       "\n",
       "  nmf_compC6_9 nmf_compC7_9 nmf_compC8_9 nmf_compC9_9 cophenetic_correlation  \n",
       "1            1            1            1            1                    NaN  \n",
       "2            1            2            2            1                      1  \n",
       "3            3            1            1            2               0.989784  \n",
       "4            3            4            1            2               0.978958  \n",
       "5            3            5            1            2                0.95529  "
      ]
     },
     "execution_count": 3,
     "metadata": {},
     "output_type": "execute_result"
    }
   ],
   "source": [
    "results = pd.DataFrame(index=range(kmin, kmax + 1, kincrement), columns=list(h_matrix.index) + ['cophenetic_correlation'])\n",
    "\n",
    "standardized_h_matrix = ccal.support.standardize_pandas_object(h_matrix)\n",
    "standardized_and_clipped_h_matrix = standardized_h_matrix.clip(-3, 3)\n",
    "compared_matrix = ccal.analyze.compare_matrices(standardized_and_clipped_h_matrix, standardized_and_clipped_h_matrix)\n",
    "\n",
    "for k in range(kmin, kmax + 1, kincrement):\n",
    "    print(k)\n",
    "    labels = pd.DataFrame(index=range(nclustering), columns=compared_matrix.index)\n",
    "    for i in range(nclustering):\n",
    "        ward = AgglomerativeClustering(n_clusters=k)\n",
    "        ward.fit(compared_matrix)\n",
    "        labels.iloc[i, :] = ward.labels_\n",
    "\n",
    "    cooccurences = pd.DataFrame(index=compared_matrix.index, columns=compared_matrix.columns)\n",
    "    cooccurences.fillna(0, inplace=True)\n",
    "    for n, s in labels.iterrows():\n",
    "        for i in s.index:\n",
    "            for j in s.index:\n",
    "                if i is j or s.ix[i] == s.ix[j]:\n",
    "                    cooccurences.ix[i, j] += 1\n",
    "    cooccurences /= nclustering\n",
    "\n",
    "    distances = 1 - cooccurences\n",
    "    link = linkage(distances, method='ward')\n",
    "    labels = fcluster(link, k, criterion='maxclust')\n",
    "    cophenetic_correlation = cophenet(link, pdist(distances))[0]\n",
    "    results.ix[k, h_matrix.index] = labels\n",
    "    results.ix[k, 'cophenetic_correlation'] = cophenetic_correlation\n",
    "\n",
    "results"
   ]
  }
 ],
 "metadata": {
  "kernelspec": {
   "display_name": "Python 3",
   "language": "python",
   "name": "python3"
  },
  "language_info": {
   "codemirror_mode": {
    "name": "ipython",
    "version": 3
   },
   "file_extension": ".py",
   "mimetype": "text/x-python",
   "name": "python",
   "nbconvert_exporter": "python",
   "pygments_lexer": "ipython3",
   "version": "3.5.1"
  }
 },
 "nbformat": 4,
 "nbformat_minor": 0
}
