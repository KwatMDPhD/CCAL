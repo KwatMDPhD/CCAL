{
 "cells": [
  {
   "cell_type": "code",
   "execution_count": 1,
   "metadata": {
    "collapsed": false
   },
   "outputs": [
    {
     "name": "stdout",
     "output_type": "stream",
     "text": [
      "===============================================================================\n",
      "==================== Computational Cancer Analysis Library ====================\n",
      "===============================================================================\n",
      "<15:19:39> Checking dependencies ...\n",
      "<15:19:39> Using the following packages:\n",
      "<15:19:39> \tmatplotlib (v1.5.1)\n",
      "<15:19:39> \tnumpy (v1.10.4)\n",
      "<15:19:39> \tpandas (v0.18.0)\n",
      "<15:19:39> \trpy2 (v2.7.9)\n",
      "<15:19:39> \tscikit-learn (v0.17.1)\n",
      "<15:19:39> \tscipy (v0.17.0)\n",
      "<15:19:39> \tseaborn (v0.7.0)\n"
     ]
    }
   ],
   "source": [
    "import sys\n",
    "sys.path.insert(0, '../../')\n",
    "import ccal\n",
    "%matplotlib inline\n",
    "%config InlineBackend.figure_formats = {'svg',}\n",
    "\n",
    "import numpy as np\n",
    "import pandas as pd\n",
    "\n",
    "from sklearn.cluster import AgglomerativeClustering\n",
    "from scipy.cluster.hierarchy import linkage, fcluster, cophenet\n",
    "from scipy.spatial.distance import pdist\n",
    "from scipy.spatial import Delaunay\n",
    "from sklearn import manifold\n",
    "import matplotlib.pyplot as plt\n",
    "\n",
    "import matplotlib.tri as tri\n",
    "import math"
   ]
  },
  {
   "cell_type": "code",
   "execution_count": 2,
   "metadata": {
    "collapsed": true
   },
   "outputs": [],
   "source": [
    "kmin= 1\n",
    "kmax = 5\n",
    "kincrement = 1\n",
    "nclustering = 3\n",
    "h_matrix = ccal.support.read_gct('../../../hematopoietic_cancer/result/ccle_hema/k9/ccle_hema_k_9_H.gct')"
   ]
  },
  {
   "cell_type": "code",
   "execution_count": null,
   "metadata": {
    "collapsed": false,
    "scrolled": true
   },
   "outputs": [
    {
     "name": "stdout",
     "output_type": "stream",
     "text": [
      "<15:19:45> Comparing A3KAW_HAEMATOPOIETIC_AND_LYMPHOID_TISSUE (1/166) vs. ...\n",
      "<15:19:45> Comparing A4FUK_HAEMATOPOIETIC_AND_LYMPHOID_TISSUE (2/166) vs. ...\n",
      "<15:19:46> Comparing ALLSIL_HAEMATOPOIETIC_AND_LYMPHOID_TISSUE (3/166) vs. ...\n",
      "<15:19:46> Comparing AML193_HAEMATOPOIETIC_AND_LYMPHOID_TISSUE (4/166) vs. ...\n",
      "<15:19:47> Comparing AMO1_HAEMATOPOIETIC_AND_LYMPHOID_TISSUE (5/166) vs. ...\n",
      "<15:19:47> Comparing BCP1_HAEMATOPOIETIC_AND_LYMPHOID_TISSUE (6/166) vs. ...\n",
      "<15:19:48> Comparing BDCM_HAEMATOPOIETIC_AND_LYMPHOID_TISSUE (7/166) vs. ...\n",
      "<15:19:48> Comparing BL41_HAEMATOPOIETIC_AND_LYMPHOID_TISSUE (8/166) vs. ...\n",
      "<15:19:49> Comparing BL70_HAEMATOPOIETIC_AND_LYMPHOID_TISSUE (9/166) vs. ...\n",
      "<15:19:49> Comparing BV173_HAEMATOPOIETIC_AND_LYMPHOID_TISSUE (10/166) vs. ...\n",
      "<15:19:49> Comparing CA46_HAEMATOPOIETIC_AND_LYMPHOID_TISSUE (11/166) vs. ...\n",
      "<15:19:50> Comparing CI1_HAEMATOPOIETIC_AND_LYMPHOID_TISSUE (12/166) vs. ...\n",
      "<15:19:50> Comparing CMK_HAEMATOPOIETIC_AND_LYMPHOID_TISSUE (13/166) vs. ...\n",
      "<15:19:51> Comparing CMLT1_HAEMATOPOIETIC_AND_LYMPHOID_TISSUE (14/166) vs. ...\n",
      "<15:19:51> Comparing DAUDI_HAEMATOPOIETIC_AND_LYMPHOID_TISSUE (15/166) vs. ...\n",
      "<15:19:52> Comparing DB_HAEMATOPOIETIC_AND_LYMPHOID_TISSUE (16/166) vs. ...\n",
      "<15:19:52> Comparing DEL_HAEMATOPOIETIC_AND_LYMPHOID_TISSUE (17/166) vs. ...\n",
      "<15:19:53> Comparing DND41_HAEMATOPOIETIC_AND_LYMPHOID_TISSUE (18/166) vs. ...\n",
      "<15:19:53> Comparing DOHH2_HAEMATOPOIETIC_AND_LYMPHOID_TISSUE (19/166) vs. ...\n",
      "<15:19:54> Comparing EB1_HAEMATOPOIETIC_AND_LYMPHOID_TISSUE (20/166) vs. ...\n",
      "<15:19:54> Comparing EHEB_HAEMATOPOIETIC_AND_LYMPHOID_TISSUE (21/166) vs. ...\n",
      "<15:19:55> Comparing EJM_HAEMATOPOIETIC_AND_LYMPHOID_TISSUE (22/166) vs. ...\n",
      "<15:19:55> Comparing EM2_HAEMATOPOIETIC_AND_LYMPHOID_TISSUE (23/166) vs. ...\n",
      "<15:19:56> Comparing EOL1_HAEMATOPOIETIC_AND_LYMPHOID_TISSUE (24/166) vs. ...\n",
      "<15:19:56> Comparing F36P_HAEMATOPOIETIC_AND_LYMPHOID_TISSUE (25/166) vs. ...\n",
      "<15:19:57> Comparing GA10_HAEMATOPOIETIC_AND_LYMPHOID_TISSUE (26/166) vs. ...\n",
      "<15:19:57> Comparing GDM1_HAEMATOPOIETIC_AND_LYMPHOID_TISSUE (27/166) vs. ...\n",
      "<15:19:57> Comparing GRANTA519_HAEMATOPOIETIC_AND_LYMPHOID_TISSUE (28/166) vs. ...\n",
      "<15:19:58> Comparing HDLM2_HAEMATOPOIETIC_AND_LYMPHOID_TISSUE (29/166) vs. ...\n",
      "<15:19:58> Comparing HDMYZ_HAEMATOPOIETIC_AND_LYMPHOID_TISSUE (30/166) vs. ...\n",
      "<15:19:59> Comparing HEL9217_HAEMATOPOIETIC_AND_LYMPHOID_TISSUE (31/166) vs. ...\n",
      "<15:19:59> Comparing HEL_HAEMATOPOIETIC_AND_LYMPHOID_TISSUE (32/166) vs. ...\n",
      "<15:20:00> Comparing HH_HAEMATOPOIETIC_AND_LYMPHOID_TISSUE (33/166) vs. ...\n",
      "<15:20:00> Comparing HL60_HAEMATOPOIETIC_AND_LYMPHOID_TISSUE (34/166) vs. ...\n",
      "<15:20:01> Comparing HPBALL_HAEMATOPOIETIC_AND_LYMPHOID_TISSUE (35/166) vs. ...\n",
      "<15:20:01> Comparing HS611T_HAEMATOPOIETIC_AND_LYMPHOID_TISSUE (36/166) vs. ...\n",
      "<15:20:02> Comparing HS616T_HAEMATOPOIETIC_AND_LYMPHOID_TISSUE (37/166) vs. ...\n",
      "<15:20:02> Comparing HS751T_HAEMATOPOIETIC_AND_LYMPHOID_TISSUE (38/166) vs. ...\n",
      "<15:20:03> Comparing HT_HAEMATOPOIETIC_AND_LYMPHOID_TISSUE (39/166) vs. ...\n",
      "<15:20:03> Comparing HUNS1_HAEMATOPOIETIC_AND_LYMPHOID_TISSUE (40/166) vs. ...\n",
      "<15:20:04> Comparing HUT102_HAEMATOPOIETIC_AND_LYMPHOID_TISSUE (41/166) vs. ...\n",
      "<15:20:04> Comparing HUT78_HAEMATOPOIETIC_AND_LYMPHOID_TISSUE (42/166) vs. ...\n",
      "<15:20:04> Comparing JEKO1_HAEMATOPOIETIC_AND_LYMPHOID_TISSUE (43/166) vs. ...\n",
      "<15:20:05> Comparing JJN3_HAEMATOPOIETIC_AND_LYMPHOID_TISSUE (44/166) vs. ...\n",
      "<15:20:05> Comparing JK1_HAEMATOPOIETIC_AND_LYMPHOID_TISSUE (45/166) vs. ...\n",
      "<15:20:06> Comparing JM1_HAEMATOPOIETIC_AND_LYMPHOID_TISSUE (46/166) vs. ...\n",
      "<15:20:06> Comparing JURKAT_HAEMATOPOIETIC_AND_LYMPHOID_TISSUE (47/166) vs. ...\n",
      "<15:20:07> Comparing JURLMK1_HAEMATOPOIETIC_AND_LYMPHOID_TISSUE (48/166) vs. ...\n",
      "<15:20:07> Comparing JVM2_HAEMATOPOIETIC_AND_LYMPHOID_TISSUE (49/166) vs. ...\n",
      "<15:20:08> Comparing JVM3_HAEMATOPOIETIC_AND_LYMPHOID_TISSUE (50/166) vs. ...\n",
      "<15:20:08> Comparing K562_HAEMATOPOIETIC_AND_LYMPHOID_TISSUE (51/166) vs. ...\n",
      "<15:20:09> Comparing KARPAS299_HAEMATOPOIETIC_AND_LYMPHOID_TISSUE (52/166) vs. ...\n",
      "<15:20:09> Comparing KARPAS422_HAEMATOPOIETIC_AND_LYMPHOID_TISSUE (53/166) vs. ...\n",
      "<15:20:10> Comparing KARPAS620_HAEMATOPOIETIC_AND_LYMPHOID_TISSUE (54/166) vs. ...\n",
      "<15:20:10> Comparing KASUMI1_HAEMATOPOIETIC_AND_LYMPHOID_TISSUE (55/166) vs. ...\n",
      "<15:20:11> Comparing KASUMI2_HAEMATOPOIETIC_AND_LYMPHOID_TISSUE (56/166) vs. ...\n",
      "<15:20:11> Comparing KASUMI6_HAEMATOPOIETIC_AND_LYMPHOID_TISSUE (57/166) vs. ...\n",
      "<15:20:11> Comparing KCL22_HAEMATOPOIETIC_AND_LYMPHOID_TISSUE (58/166) vs. ...\n",
      "<15:20:12> Comparing KE37_HAEMATOPOIETIC_AND_LYMPHOID_TISSUE (59/166) vs. ...\n",
      "<15:20:12> Comparing KE97_HAEMATOPOIETIC_AND_LYMPHOID_TISSUE (60/166) vs. ...\n",
      "<15:20:13> Comparing KG1_HAEMATOPOIETIC_AND_LYMPHOID_TISSUE (61/166) vs. ...\n",
      "<15:20:13> Comparing KHM1B_HAEMATOPOIETIC_AND_LYMPHOID_TISSUE (62/166) vs. ...\n",
      "<15:20:14> Comparing KIJK_HAEMATOPOIETIC_AND_LYMPHOID_TISSUE (63/166) vs. ...\n",
      "<15:20:14> Comparing KMH2_HAEMATOPOIETIC_AND_LYMPHOID_TISSUE (64/166) vs. ...\n",
      "<15:20:15> Comparing KMM1_HAEMATOPOIETIC_AND_LYMPHOID_TISSUE (65/166) vs. ...\n",
      "<15:20:15> Comparing KMS11_HAEMATOPOIETIC_AND_LYMPHOID_TISSUE (66/166) vs. ...\n",
      "<15:20:16> Comparing KMS12BM_HAEMATOPOIETIC_AND_LYMPHOID_TISSUE (67/166) vs. ...\n",
      "<15:20:16> Comparing KMS20_HAEMATOPOIETIC_AND_LYMPHOID_TISSUE (68/166) vs. ...\n",
      "<15:20:17> Comparing KMS21BM_HAEMATOPOIETIC_AND_LYMPHOID_TISSUE (69/166) vs. ...\n",
      "<15:20:17> Comparing KMS26_HAEMATOPOIETIC_AND_LYMPHOID_TISSUE (70/166) vs. ...\n",
      "<15:20:17> Comparing KMS27_HAEMATOPOIETIC_AND_LYMPHOID_TISSUE (71/166) vs. ...\n",
      "<15:20:18> Comparing KMS28BM_HAEMATOPOIETIC_AND_LYMPHOID_TISSUE (72/166) vs. ...\n",
      "<15:20:18> Comparing KMS34_HAEMATOPOIETIC_AND_LYMPHOID_TISSUE (73/166) vs. ...\n",
      "<15:20:19> Comparing KO52_HAEMATOPOIETIC_AND_LYMPHOID_TISSUE (74/166) vs. ...\n",
      "<15:20:19> Comparing KOPN8_HAEMATOPOIETIC_AND_LYMPHOID_TISSUE (75/166) vs. ...\n",
      "<15:20:20> Comparing KU812_HAEMATOPOIETIC_AND_LYMPHOID_TISSUE (76/166) vs. ...\n",
      "<15:20:20> Comparing KYO1_HAEMATOPOIETIC_AND_LYMPHOID_TISSUE (77/166) vs. ...\n",
      "<15:20:21> Comparing L1236_HAEMATOPOIETIC_AND_LYMPHOID_TISSUE (78/166) vs. ...\n",
      "<15:20:21> Comparing L363_HAEMATOPOIETIC_AND_LYMPHOID_TISSUE (79/166) vs. ...\n",
      "<15:20:22> Comparing L428_HAEMATOPOIETIC_AND_LYMPHOID_TISSUE (80/166) vs. ...\n",
      "<15:20:22> Comparing L540_HAEMATOPOIETIC_AND_LYMPHOID_TISSUE (81/166) vs. ...\n",
      "<15:20:22> Comparing LAMA84_HAEMATOPOIETIC_AND_LYMPHOID_TISSUE (82/166) vs. ...\n",
      "<15:20:23> Comparing LOUCY_HAEMATOPOIETIC_AND_LYMPHOID_TISSUE (83/166) vs. ...\n",
      "<15:20:23> Comparing LP1_HAEMATOPOIETIC_AND_LYMPHOID_TISSUE (84/166) vs. ...\n",
      "<15:20:24> Comparing M07E_HAEMATOPOIETIC_AND_LYMPHOID_TISSUE (85/166) vs. ...\n",
      "<15:20:24> Comparing MC116_HAEMATOPOIETIC_AND_LYMPHOID_TISSUE (86/166) vs. ...\n",
      "<15:20:25> Comparing ME1_HAEMATOPOIETIC_AND_LYMPHOID_TISSUE (87/166) vs. ...\n",
      "<15:20:25> Comparing MEC1_HAEMATOPOIETIC_AND_LYMPHOID_TISSUE (88/166) vs. ...\n",
      "<15:20:26> Comparing MEG01_HAEMATOPOIETIC_AND_LYMPHOID_TISSUE (89/166) vs. ...\n",
      "<15:20:26> Comparing MHHCALL2_HAEMATOPOIETIC_AND_LYMPHOID_TISSUE (90/166) vs. ...\n",
      "<15:20:27> Comparing MHHCALL3_HAEMATOPOIETIC_AND_LYMPHOID_TISSUE (91/166) vs. ...\n",
      "<15:20:27> Comparing MHHCALL4_HAEMATOPOIETIC_AND_LYMPHOID_TISSUE (92/166) vs. ...\n",
      "<15:20:28> Comparing MINO_HAEMATOPOIETIC_AND_LYMPHOID_TISSUE (93/166) vs. ...\n",
      "<15:20:28> Comparing MJ_HAEMATOPOIETIC_AND_LYMPHOID_TISSUE (94/166) vs. ...\n",
      "<15:20:29> Comparing MM1S_HAEMATOPOIETIC_AND_LYMPHOID_TISSUE (95/166) vs. ...\n",
      "<15:20:29> Comparing MOLM13_HAEMATOPOIETIC_AND_LYMPHOID_TISSUE (96/166) vs. ...\n",
      "<15:20:29> Comparing MOLM16_HAEMATOPOIETIC_AND_LYMPHOID_TISSUE (97/166) vs. ...\n",
      "<15:20:30> Comparing MOLM6_HAEMATOPOIETIC_AND_LYMPHOID_TISSUE (98/166) vs. ...\n",
      "<15:20:30> Comparing MOLP2_HAEMATOPOIETIC_AND_LYMPHOID_TISSUE (99/166) vs. ...\n",
      "<15:20:31> Comparing MOLP8_HAEMATOPOIETIC_AND_LYMPHOID_TISSUE (100/166) vs. ...\n",
      "<15:20:31> Comparing MOLT13_HAEMATOPOIETIC_AND_LYMPHOID_TISSUE (101/166) vs. ...\n",
      "<15:20:32> Comparing MOLT16_HAEMATOPOIETIC_AND_LYMPHOID_TISSUE (102/166) vs. ...\n",
      "<15:20:32> Comparing MOLT3_HAEMATOPOIETIC_AND_LYMPHOID_TISSUE (103/166) vs. ...\n",
      "<15:20:33> Comparing MONOMAC1_HAEMATOPOIETIC_AND_LYMPHOID_TISSUE (104/166) vs. ...\n",
      "<15:20:33> Comparing MONOMAC6_HAEMATOPOIETIC_AND_LYMPHOID_TISSUE (105/166) vs. ...\n",
      "<15:20:34> Comparing MUTZ3_HAEMATOPOIETIC_AND_LYMPHOID_TISSUE (106/166) vs. ...\n",
      "<15:20:34> Comparing MUTZ5_HAEMATOPOIETIC_AND_LYMPHOID_TISSUE (107/166) vs. ...\n",
      "<15:20:35> Comparing MV411_HAEMATOPOIETIC_AND_LYMPHOID_TISSUE (108/166) vs. ...\n",
      "<15:20:35> Comparing NALM19_HAEMATOPOIETIC_AND_LYMPHOID_TISSUE (109/166) vs. ...\n",
      "<15:20:36> Comparing NALM1_HAEMATOPOIETIC_AND_LYMPHOID_TISSUE (110/166) vs. ...\n",
      "<15:20:36> Comparing NALM6_HAEMATOPOIETIC_AND_LYMPHOID_TISSUE (111/166) vs. ...\n",
      "<15:20:36> Comparing NAMALWA_HAEMATOPOIETIC_AND_LYMPHOID_TISSUE (112/166) vs. ...\n",
      "<15:20:37> Comparing NB4_HAEMATOPOIETIC_AND_LYMPHOID_TISSUE (113/166) vs. ...\n",
      "<15:20:37> Comparing NCIH929_HAEMATOPOIETIC_AND_LYMPHOID_TISSUE (114/166) vs. ...\n",
      "<15:20:38> Comparing NCO2_HAEMATOPOIETIC_AND_LYMPHOID_TISSUE (115/166) vs. ...\n",
      "<15:20:38> Comparing NOMO1_HAEMATOPOIETIC_AND_LYMPHOID_TISSUE (116/166) vs. ...\n",
      "<15:20:39> Comparing NUDHL1_HAEMATOPOIETIC_AND_LYMPHOID_TISSUE (117/166) vs. ...\n",
      "<15:20:39> Comparing NUDUL1_HAEMATOPOIETIC_AND_LYMPHOID_TISSUE (118/166) vs. ...\n",
      "<15:20:40> Comparing OCIAML2_HAEMATOPOIETIC_AND_LYMPHOID_TISSUE (119/166) vs. ...\n",
      "<15:20:40> Comparing OCIAML3_HAEMATOPOIETIC_AND_LYMPHOID_TISSUE (120/166) vs. ...\n",
      "<15:20:41> Comparing OCIAML5_HAEMATOPOIETIC_AND_LYMPHOID_TISSUE (121/166) vs. ...\n",
      "<15:20:41> Comparing OCILY19_HAEMATOPOIETIC_AND_LYMPHOID_TISSUE (122/166) vs. ...\n",
      "<15:20:42> Comparing OCILY3_HAEMATOPOIETIC_AND_LYMPHOID_TISSUE (123/166) vs. ...\n",
      "<15:20:42> Comparing OCIM1_HAEMATOPOIETIC_AND_LYMPHOID_TISSUE (124/166) vs. ...\n",
      "<15:20:43> Comparing OPM2_HAEMATOPOIETIC_AND_LYMPHOID_TISSUE (125/166) vs. ...\n",
      "<15:20:43> Comparing P12ICHIKAWA_HAEMATOPOIETIC_AND_LYMPHOID_TISSUE (126/166) vs. ...\n",
      "<15:20:43> Comparing P31FUJ_HAEMATOPOIETIC_AND_LYMPHOID_TISSUE (127/166) vs. ...\n",
      "<15:20:44> Comparing P3HR1_HAEMATOPOIETIC_AND_LYMPHOID_TISSUE (128/166) vs. ...\n",
      "<15:20:44> Comparing PEER_HAEMATOPOIETIC_AND_LYMPHOID_TISSUE (129/166) vs. ...\n",
      "<15:20:45> Comparing PF382_HAEMATOPOIETIC_AND_LYMPHOID_TISSUE (130/166) vs. ...\n",
      "<15:20:45> Comparing PFEIFFER_HAEMATOPOIETIC_AND_LYMPHOID_TISSUE (131/166) vs. ...\n",
      "<15:20:46> Comparing PL21_HAEMATOPOIETIC_AND_LYMPHOID_TISSUE (132/166) vs. ...\n",
      "<15:20:46> Comparing RAJI_HAEMATOPOIETIC_AND_LYMPHOID_TISSUE (133/166) vs. ...\n",
      "<15:20:47> Comparing RCHACV_HAEMATOPOIETIC_AND_LYMPHOID_TISSUE (134/166) vs. ...\n",
      "<15:20:47> Comparing REC1_HAEMATOPOIETIC_AND_LYMPHOID_TISSUE (135/166) vs. ...\n",
      "<15:20:48> Comparing REH_HAEMATOPOIETIC_AND_LYMPHOID_TISSUE (136/166) vs. ...\n",
      "<15:20:48> Comparing RI1_HAEMATOPOIETIC_AND_LYMPHOID_TISSUE (137/166) vs. ...\n",
      "<15:20:48> Comparing RL_HAEMATOPOIETIC_AND_LYMPHOID_TISSUE (138/166) vs. ...\n",
      "<15:20:49> Comparing RPMI8226_HAEMATOPOIETIC_AND_LYMPHOID_TISSUE (139/166) vs. ...\n",
      "<15:20:49> Comparing RPMI8402_HAEMATOPOIETIC_AND_LYMPHOID_TISSUE (140/166) vs. ...\n",
      "<15:20:50> Comparing RS411_HAEMATOPOIETIC_AND_LYMPHOID_TISSUE (141/166) vs. ...\n",
      "<15:20:50> Comparing SEM_HAEMATOPOIETIC_AND_LYMPHOID_TISSUE (142/166) vs. ...\n",
      "<15:20:51> Comparing SET2_HAEMATOPOIETIC_AND_LYMPHOID_TISSUE (143/166) vs. ...\n",
      "<15:20:51> Comparing SIGM5_HAEMATOPOIETIC_AND_LYMPHOID_TISSUE (144/166) vs. ...\n",
      "<15:20:52> Comparing SKM1_HAEMATOPOIETIC_AND_LYMPHOID_TISSUE (145/166) vs. ...\n",
      "<15:20:52> Comparing SKMM2_HAEMATOPOIETIC_AND_LYMPHOID_TISSUE (146/166) vs. ...\n",
      "<15:20:53> Comparing SR786_HAEMATOPOIETIC_AND_LYMPHOID_TISSUE (147/166) vs. ...\n",
      "<15:20:53> Comparing ST486_HAEMATOPOIETIC_AND_LYMPHOID_TISSUE (148/166) vs. ...\n",
      "<15:20:54> Comparing SUDHL10_HAEMATOPOIETIC_AND_LYMPHOID_TISSUE (149/166) vs. ...\n",
      "<15:20:54> Comparing SUDHL1_HAEMATOPOIETIC_AND_LYMPHOID_TISSUE (150/166) vs. ...\n",
      "<15:20:55> Comparing SUDHL4_HAEMATOPOIETIC_AND_LYMPHOID_TISSUE (151/166) vs. ...\n",
      "<15:20:55> Comparing SUDHL5_HAEMATOPOIETIC_AND_LYMPHOID_TISSUE (152/166) vs. ...\n",
      "<15:20:56> Comparing SUDHL6_HAEMATOPOIETIC_AND_LYMPHOID_TISSUE (153/166) vs. ...\n",
      "<15:20:56> Comparing SUDHL8_HAEMATOPOIETIC_AND_LYMPHOID_TISSUE (154/166) vs. ...\n",
      "<15:20:57> Comparing SUPB15_HAEMATOPOIETIC_AND_LYMPHOID_TISSUE (155/166) vs. ...\n",
      "<15:20:57> Comparing SUPM2_HAEMATOPOIETIC_AND_LYMPHOID_TISSUE (156/166) vs. ...\n",
      "<15:20:57> Comparing SUPT11_HAEMATOPOIETIC_AND_LYMPHOID_TISSUE (157/166) vs. ...\n",
      "<15:20:58> Comparing SUPT1_HAEMATOPOIETIC_AND_LYMPHOID_TISSUE (158/166) vs. ...\n",
      "<15:20:58> Comparing TALL1_HAEMATOPOIETIC_AND_LYMPHOID_TISSUE (159/166) vs. ...\n",
      "<15:20:59> Comparing TF1_HAEMATOPOIETIC_AND_LYMPHOID_TISSUE (160/166) vs. ...\n",
      "<15:20:59> Comparing THP1_HAEMATOPOIETIC_AND_LYMPHOID_TISSUE (161/166) vs. ...\n",
      "<15:21:00> Comparing TO175T_HAEMATOPOIETIC_AND_LYMPHOID_TISSUE (162/166) vs. ...\n",
      "<15:21:00> Comparing TOLEDO_HAEMATOPOIETIC_AND_LYMPHOID_TISSUE (163/166) vs. ...\n",
      "<15:21:01> Comparing U266B1_HAEMATOPOIETIC_AND_LYMPHOID_TISSUE (164/166) vs. ...\n",
      "<15:21:01> Comparing U937_HAEMATOPOIETIC_AND_LYMPHOID_TISSUE (165/166) vs. ...\n",
      "<15:21:02> Comparing WSUDLCL2_HAEMATOPOIETIC_AND_LYMPHOID_TISSUE (166/166) vs. ...\n"
     ]
    }
   ],
   "source": [
    "results = pd.DataFrame(index=range(kmin, kmax + 1, kincrement), columns=list(h_matrix.columns) + ['cophenetic_correlation'])\n",
    "\n",
    "standardized_h_matrix = ccal.support.standardize_pandas_object(h_matrix)\n",
    "standardized_and_clipped_h_matrix = standardized_h_matrix.clip(-3, 3)\n",
    "compared_matrix = ccal.analyze.compare_matrices(standardized_and_clipped_h_matrix, standardized_and_clipped_h_matrix, axis=1)\n",
    "\n",
    "for k in range(kmin, kmax + 1, kincrement):\n",
    "    labels = pd.DataFrame(index=range(nclustering), columns=compared_matrix.index)\n",
    "    for i in range(nclustering):\n",
    "        ward = AgglomerativeClustering(n_clusters=k)\n",
    "        ward.fit(compared_matrix)\n",
    "        labels.iloc[i, :] = ward.labels_\n",
    "\n",
    "    cooccurences = pd.DataFrame(index=compared_matrix.index, columns=compared_matrix.columns)\n",
    "    cooccurences.fillna(0, inplace=True)\n",
    "    for n, s in labels.iterrows():\n",
    "        for i in s.index:\n",
    "            for j in s.index:\n",
    "                if i is j or s.ix[i] == s.ix[j]:\n",
    "                    cooccurences.ix[i, j] += 1\n",
    "    cooccurences /= nclustering\n",
    "\n",
    "    distances = 1 - cooccurences\n",
    "    link = linkage(distances, method='ward')\n",
    "    labels = fcluster(link, k, criterion='maxclust')\n",
    "    cophenetic_correlation = cophenet(link, pdist(distances))[0]\n",
    "    results.ix[k, h_matrix.columns] = labels\n",
    "    results.ix[k, 'cophenetic_correlation'] = cophenetic_correlation\n",
    "\n",
    "results"
   ]
  },
  {
   "cell_type": "code",
   "execution_count": null,
   "metadata": {
    "collapsed": true
   },
   "outputs": [],
   "source": [
    "mds = manifold.MDS()\n",
    "points = mds.fit_transform(standardized_and_clipped_h_matrix)\n",
    "x, y = points[:, 0], points[:, 1]\n",
    "\n",
    "delaunay = Delaunay(points)"
   ]
  },
  {
   "cell_type": "code",
   "execution_count": null,
   "metadata": {
    "collapsed": false
   },
   "outputs": [],
   "source": [
    "ax=plt.axes()\n",
    "ax.scatter(points[:, 0], points[:, 1])"
   ]
  },
  {
   "cell_type": "code",
   "execution_count": null,
   "metadata": {
    "collapsed": false
   },
   "outputs": [],
   "source": [
    "plt.plot(x, y, 'o')"
   ]
  },
  {
   "cell_type": "code",
   "execution_count": null,
   "metadata": {
    "collapsed": true
   },
   "outputs": [],
   "source": [
    "triang = tri.Triangulation(x, y)"
   ]
  },
  {
   "cell_type": "code",
   "execution_count": null,
   "metadata": {
    "collapsed": false
   },
   "outputs": [],
   "source": [
    "# Plot the triangulation.\n",
    "plt.figure()\n",
    "plt.gca().set_aspect('equal')\n",
    "plt.triplot(triang, 'bo-')"
   ]
  }
 ],
 "metadata": {
  "kernelspec": {
   "display_name": "Python 3",
   "language": "python",
   "name": "python3"
  },
  "language_info": {
   "codemirror_mode": {
    "name": "ipython",
    "version": 3
   },
   "file_extension": ".py",
   "mimetype": "text/x-python",
   "name": "python",
   "nbconvert_exporter": "python",
   "pygments_lexer": "ipython3",
   "version": "3.5.1"
  }
 },
 "nbformat": 4,
 "nbformat_minor": 0
}
