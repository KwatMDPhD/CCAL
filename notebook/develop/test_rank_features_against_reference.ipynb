{
 "cells": [
  {
   "cell_type": "markdown",
   "metadata": {},
   "source": [
    "<hr style=\"border: none; border-bottom: 1px solid blue;\">\n",
    "###  Genomics and Computational Biology - UCSD Moores Cancer Center, July 18, 2016\n",
    "\n",
    "# Tests and examples for function: *rank_features_against_reference* \n",
    "<hr style=\"border: none; border-bottom: 1px solid blue;\">"
   ]
  },
  {
   "cell_type": "code",
   "execution_count": null,
   "metadata": {
    "collapsed": false
   },
   "outputs": [],
   "source": [
    "import sys\n",
    "sys.path.insert(0, '../../')\n",
    "import ccal\n",
    "%matplotlib inline\n",
    "%config InlineBackend.figure_formats = {'svg',}"
   ]
  },
  {
   "cell_type": "markdown",
   "metadata": {},
   "source": [
    "<hr style=\"border: none; border-bottom: 1px solid blue;\">\n",
    "## Read features and reference datasets"
   ]
  },
  {
   "cell_type": "code",
   "execution_count": null,
   "metadata": {
    "collapsed": false
   },
   "outputs": [],
   "source": [
    "features1 = ccal.support.read_gct('~/Desktop/Protein_All.gct') \n",
    "features2 = ccal.support.read_gct('~/Desktop/Pathways_All.gct')\n",
    "features3 = ccal.support.read_gct('~/Desktop/MUT_All.gct')\n",
    "ref1 = ccal.support.read_gct('~/Desktop/KRAS_comp_HN.gct').ix[0, :]  \n",
    "ref2 = ccal.support.read_gct('~/Desktop/KRAS_comp_ALL.gct').ix[0, :] \n",
    "ref3 = ccal.support.read_gct('~/Desktop/KRAS_comp_HN2.gct').ix[0, :] \n",
    "ref4 = ccal.support.read_gct('~/Desktop/MUT_All.gct').ix[0, :] \n",
    "ref5 = ccal.support.read_gct('~/Desktop/MUT_10.gct').ix[0, :] \n",
    "ref6 = ccal.support.read_gct('~/Desktop/KRAS_states.gct').ix[0, :] "
   ]
  },
  {
   "cell_type": "markdown",
   "metadata": {},
   "source": [
    "<hr style=\"border: none; border-bottom: 1px solid blue;\">\n",
    "## Continuous ref and features, small number of rows"
   ]
  },
  {
   "cell_type": "code",
   "execution_count": null,
   "metadata": {
    "collapsed": false,
    "scrolled": false
   },
   "outputs": [],
   "source": [
    "ccal.analyze.rank_features_against_reference(features1, ref1, n_features=1, title='KRAS C1 vs. Protein Expression')"
   ]
  },
  {
   "cell_type": "markdown",
   "metadata": {},
   "source": [
    "<hr style=\"border: none; border-bottom: 1px solid blue;\">\n",
    "## Continuous ref and features, medium number of rows"
   ]
  },
  {
   "cell_type": "code",
   "execution_count": null,
   "metadata": {
    "collapsed": false
   },
   "outputs": [],
   "source": [
    "ccal.analyze.rank_features_against_reference(features1, ref1, n_features=5, title='KRAS C1 vs. Protein Expression') "
   ]
  },
  {
   "cell_type": "markdown",
   "metadata": {},
   "source": [
    "<hr style=\"border: none; border-bottom: 1px solid blue;\">\n",
    "\n",
    "## Continuous ref and features, negative direction for features"
   ]
  },
  {
   "cell_type": "code",
   "execution_count": null,
   "metadata": {
    "collapsed": false
   },
   "outputs": [],
   "source": [
    "ccal.analyze.rank_features_against_reference(features1, ref1, n_features=5,\n",
    "                                             features_ascending=True, title='KRAS C1 vs. Protein Expression') "
   ]
  },
  {
   "cell_type": "markdown",
   "metadata": {},
   "source": [
    "<hr style=\"border: none; border-bottom: 1px solid blue;\">\n",
    "## Continuous ref and features, negative direction for reference"
   ]
  },
  {
   "cell_type": "code",
   "execution_count": null,
   "metadata": {
    "collapsed": false
   },
   "outputs": [],
   "source": [
    "ccal.analyze.rank_features_against_reference(features1, ref1, n_features=5,\n",
    "                                              features_ascending=True, title='KRAS C1 vs. Protein Expression') "
   ]
  },
  {
   "cell_type": "markdown",
   "metadata": {},
   "source": [
    "<hr style=\"border: none; border-bottom: 1px solid blue;\">\n",
    "## Continuous ref and features, negative direction for reference and features"
   ]
  },
  {
   "cell_type": "code",
   "execution_count": null,
   "metadata": {
    "collapsed": false
   },
   "outputs": [],
   "source": [
    "ccal.analyze.rank_features_against_reference(features1, ref1, n_features=5, \n",
    "                                             features_ascending=True, ref_ascending=True, title='KRAS C1 vs. Protein Expression') "
   ]
  },
  {
   "cell_type": "markdown",
   "metadata": {},
   "source": [
    "<hr style=\"border: none; border-bottom: 1px solid blue;\">\n",
    "## Continuous ref and features, large number of rows and columns"
   ]
  },
  {
   "cell_type": "code",
   "execution_count": null,
   "metadata": {
    "collapsed": false,
    "scrolled": false
   },
   "outputs": [],
   "source": [
    "ccal.analyze.rank_features_against_reference(features1, ref2, n_features=30,\n",
    "                                              title='KRAS C1 vs. Protein Expression') "
   ]
  },
  {
   "cell_type": "markdown",
   "metadata": {},
   "source": [
    "<hr style=\"border: none; border-bottom: 1px solid blue;\">\n",
    "## Continuous ref and features, small number of columns and rows"
   ]
  },
  {
   "cell_type": "code",
   "execution_count": null,
   "metadata": {
    "collapsed": false
   },
   "outputs": [],
   "source": [
    "ccal.analyze.rank_features_against_reference(features1, ref3, n_features=3,\n",
    "                                             title='KRAS C1 vs. Protein Expression') "
   ]
  },
  {
   "cell_type": "markdown",
   "metadata": {},
   "source": [
    "<hr style=\"border: none; border-bottom: 1px solid blue;\">\n",
    "## Binary ref, continuous features, small number of rows and columns"
   ]
  },
  {
   "cell_type": "code",
   "execution_count": null,
   "metadata": {
    "collapsed": false
   },
   "outputs": [],
   "source": [
    "ccal.analyze.rank_features_against_reference(features1, ref5, n_features=3, \n",
    "                                  ref_type='binary', title='KRAS C1 vs. Protein Expression') "
   ]
  },
  {
   "cell_type": "markdown",
   "metadata": {},
   "source": [
    "<hr style=\"border: none; border-bottom: 1px solid blue;\">\n",
    "## Binary ref, continuous features"
   ]
  },
  {
   "cell_type": "code",
   "execution_count": null,
   "metadata": {
    "collapsed": false
   },
   "outputs": [],
   "source": [
    "ccal.analyze.rank_features_against_reference(features1, ref4, n_features=5, \n",
    "                                 ref_type='binary', title='KRAS C1 vs. Protein Expression') "
   ]
  },
  {
   "cell_type": "markdown",
   "metadata": {},
   "source": [
    "<hr style=\"border: none; border-bottom: 1px solid blue;\">\n",
    "## categorical ref, continuous features"
   ]
  },
  {
   "cell_type": "code",
   "execution_count": null,
   "metadata": {
    "collapsed": false,
    "scrolled": true
   },
   "outputs": [],
   "source": [
    "ccal.analyze.rank_features_against_reference(features1, ref6.astype(float), n_features=5,\n",
    "                                              ref_type='categorical', title='KRAS C1 vs. Protein Expression') "
   ]
  }
 ],
 "metadata": {
  "kernelspec": {
   "display_name": "Python 3",
   "language": "python",
   "name": "python3"
  },
  "language_info": {
   "codemirror_mode": {
    "name": "ipython",
    "version": 3
   },
   "file_extension": ".py",
   "mimetype": "text/x-python",
   "name": "python",
   "nbconvert_exporter": "python",
   "pygments_lexer": "ipython3",
   "version": "3.5.1"
  }
 },
 "nbformat": 4,
 "nbformat_minor": 0
}
