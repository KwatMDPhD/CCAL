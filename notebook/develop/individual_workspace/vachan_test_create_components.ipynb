{
 "cells": [
  {
   "cell_type": "code",
   "execution_count": 1,
   "metadata": {
    "collapsed": false
   },
   "outputs": [
    {
     "name": "stdout",
     "output_type": "stream",
     "text": [
      "===============================================================================\n",
      "==================== Computational Cancer Analysis Library ====================\n",
      "===============================================================================\n",
      "<14:46:32.154257> Checking dependencies ...\n",
      "<14:46:32.161274> Using the following packages:\n",
      "<14:46:32.168279> \tmatplotlib (v1.5.1)\n",
      "<14:46:32.168279> \tnumpy (v1.11.1)\n",
      "<14:46:32.168279> \tpandas (v0.18.1)\n",
      "<14:46:32.168279> \trpy2 (v2.8.1)\n",
      "<14:46:32.168279> \tscikit-learn (v0.17.1)\n",
      "<14:46:32.168279> \tscipy (v0.17.1)\n",
      "<14:46:32.168279> \tseaborn (v0.7.0)\n"
     ]
    }
   ],
   "source": [
    "import sys\n",
    "sys.path .insert(0, '../../')\n",
    "import ccal\n",
    "%matplotlib inline\n",
    "%config InlineBackend.figure_formats = { 'svg',}\n"
   ]
  },
  {
   "cell_type": "code",
   "execution_count": 3,
   "metadata": {
    "collapsed": false
   },
   "outputs": [
    {
     "name": "stdout",
     "output_type": "stream",
     "text": [
      "Hello\n"
     ]
    },
    {
     "data": {
      "text/plain": [
       "13"
      ]
     },
     "execution_count": 3,
     "metadata": {},
     "output_type": "execute_result"
    }
   ],
   "source": [
    "#ref = ccal.support.read_gct('~/Documents/Cancer Center/HNSCC_EXP.v1.gct')\n",
    "print(\"Hello\")\n",
    "a = 6+7\n",
    "a"
   ]
  },
  {
   "cell_type": "code",
   "execution_count": null,
   "metadata": {
    "collapsed": true
   },
   "outputs": [],
   "source": []
  }
 ],
 "metadata": {
  "anaconda-cloud": {},
  "kernelspec": {
   "display_name": "Python [Root]",
   "language": "python",
   "name": "Python [Root]"
  },
  "language_info": {
   "codemirror_mode": {
    "name": "ipython",
    "version": 3
   },
   "file_extension": ".py",
   "mimetype": "text/x-python",
   "name": "python",
   "nbconvert_exporter": "python",
   "pygments_lexer": "ipython3",
   "version": "3.5.2"
  }
 },
 "nbformat": 4,
 "nbformat_minor": 0
}
