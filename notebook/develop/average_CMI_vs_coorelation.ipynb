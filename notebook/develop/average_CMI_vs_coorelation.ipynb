{
 "cells": [
  {
   "cell_type": "code",
   "execution_count": 3,
   "metadata": {
    "collapsed": false
   },
   "outputs": [],
   "source": [
    "import matplotlib.pyplot as plt\n",
    "%matplotlib inline\n",
    "import numpy\n",
    "\n",
    "\n",
    "\n",
    "#CMI smooth version 1 takes in two data vectors, and creates bxb grid\n",
    "def CMI_smooth_v1(x,y,b):\n",
    "    \n",
    "    if len(x)==len(y):\n",
    "        sizeOfVector = len(x)\n",
    "        \n",
    "        #Distribution formula in 1 dimension\n",
    "        P = [1/(i+1) for i in range(b)]\n",
    "\n",
    "        x_p = ((x-min(x))/(max(x)-min(x)))*b #Let x' be the vector x rescaled on the interval [0,b]\n",
    "        y_p = ((y-min(y))/(max(y)-min(y)))*b #Let y' be the vector y rescaled on the interval [0,b]\n",
    "\n",
    "        #Take the ceiling of x_p and y_p\n",
    "        for i in range(0,sizeOfVector):\n",
    "            x_p[i] = numpy.ceil(x_p[i])\n",
    "            y_p[i] = numpy.ceil(y_p[i])\n",
    "\n",
    "        #Cumulative Density function in 2D\n",
    "        PXY= [[0 for i in range(b)] for i in range(b)]\n",
    "        \n",
    "        for j in range (1,b+1):\n",
    "            for i in range (1, b+1): #For every upper right corner\n",
    "                #print(\"(\" + str(i) + \",\" + str(j) + \")\") #print points      \n",
    "                distribution = 0\n",
    "                for k in range (0, sizeOfVector): #For every point data given\n",
    "                    if (x_p[k]== i) and (y_p[k] == j): #If the point of the data matches the upper right hand corner\n",
    "                        #print(\"(\" + str(x_p[k]) + \",\" + str(y_p[k]) + \")\")\n",
    "                        distribution = distribution +1 #Then add 1 to the distribution counter\n",
    "                        #print(distribution)\n",
    "                PXY[i-1][j-1] = distribution/sizeOfVector\n",
    "\n",
    "        #Calculate Cumulative Entropy of X and Y (Note CE(X) = CE(Y) by symmetry)\n",
    "        CEXoY = 0\n",
    "        for i in range (b):\n",
    "            CEXoY = CEXoY - P[i]*numpy.log(P[i])\n",
    "\n",
    "        #Calculate CE(X,Y)\n",
    "        CEXY =0 \n",
    "        for i in range (1, b):\n",
    "            for j in range (1 ,b):\n",
    "                if (PXY[i][j] != 0):\n",
    "                    CEXY = CEXY - PXY[i][j]*numpy.log(PXY[i][j])\n",
    "\n",
    "        #Caculate Cumulative Mutual Information\n",
    "        CMI = (max(y) - numpy.mean(y))*CEXoY + (max(x)- numpy.mean(x))*CEXoY- CEXY\n",
    "\n",
    "        return CMI\n",
    "        \n",
    "        "
   ]
  },
  {
   "cell_type": "code",
   "execution_count": 11,
   "metadata": {
    "collapsed": false
   },
   "outputs": [],
   "source": [
    "#CMI smooth version 2 takes in two data vectors, and creates n_grid\n",
    "def CMI_smooth_v2(x,y,b):\n",
    "    if len(x) == len(y):\n",
    "        sizeOfVector = len(x)\n",
    "        x_o = numpy.sort(x)\n",
    "        y_o = numpy.sort(y)\n",
    "\n",
    "        #Distribution function in 1 Dimension\n",
    "        P = [1/(i+1) for i in range(sizeOfVector)]\n",
    "\n",
    "        #Intervals in x and y\n",
    "        xinterval =[(x_o[i+1] - x_o[i]) for i in range(sizeOfVector-1)]\n",
    "        yinterval =[(y_o[i+1] - y_o[i]) for i in range(sizeOfVector-1)]\n",
    "\n",
    "        #print(x_o)\n",
    "        #print(xinterval)\n",
    "\n",
    "        #Calculate Cumulative Entropy of X and Y\n",
    "        CEX = 0\n",
    "        CEY = 0\n",
    "        for i in range(len(xinterval)):\n",
    "            CEX = CEX - xinterval[i]*P[i]*numpy.log(P[i])\n",
    "            CEY = CEY - yinterval[i]*P[i]*numpy.log(P[i])\n",
    "\n",
    "        #print(CEX)\n",
    "        #print(CEY)\n",
    "\n",
    "\n",
    "        x_p = ((x-min(x))/(max(x)-min(x)))*b #Let x' be the vector x rescaled on the interval [0,b]\n",
    "        y_p = ((y-min(y))/(max(y)-min(y)))*b #Let y' be the vector y rescaled on the interval [0,b]\n",
    "\n",
    "        #Take the ceiling of x_p and y_p\n",
    "        for i in range(0,sizeOfVector):\n",
    "            x_p[i] = numpy.ceil(x_p[i])\n",
    "            y_p[i] = numpy.ceil(y_p[i])\n",
    "\n",
    "        #Cumulative Density function in 2D\n",
    "        PXY= [[0 for i in range(b)] for i in range(b)]\n",
    "\n",
    "        #Keep a counter of every point at every upper right corner\n",
    "        for j in range (1,b+1):\n",
    "            for i in range (1, b+1): #For every upper right corner\n",
    "                #print(\"(\" + str(i) + \",\" + str(j) + \")\") #print points      \n",
    "                distribution = 0\n",
    "                for k in range (0, sizeOfVector): #For every point data given\n",
    "                    if (x_p[k]== i) and (y_p[k] == j): #If the point of the data matches the upper right hand corner\n",
    "                        #print(\"(\" + str(x_p[k]) + \",\" + str(y_p[k]) + \")\")\n",
    "                        distribution = distribution +1 #Then add 1 to the distribution counter\n",
    "                        #print(distribution)\n",
    "                PXY[i-1][j-1] = distribution/sizeOfVector\n",
    "\n",
    "        #Calculate CE(X,Y)\n",
    "        CEXY =0 \n",
    "        for i in range (1, b):\n",
    "            for j in range (1 ,b):\n",
    "                if (PXY[i][j] != 0):\n",
    "                    CEXY = CEXY - PXY[i][j]*numpy.log(PXY[i][j])\n",
    "\n",
    "        #print(CEXY)\n",
    "\n",
    "        #Caculate Cumulative Mutual Information\n",
    "        CMI = (max(y) - numpy.mean(y))*CEX + (max(x)- numpy.mean(x))*CEY- CEXY\n",
    "\n",
    "        return(CMI)\n"
   ]
  },
  {
   "cell_type": "code",
   "execution_count": 12,
   "metadata": {
    "collapsed": true
   },
   "outputs": [],
   "source": [
    "#Generate two N-elment Gaussian random vectors with coorrelation rho\n",
    "def xy_cor(N,rho,truncate = True):\n",
    "    xx = numpy.array([0, 1])\n",
    "    yy = numpy.array([0, 1])\n",
    "    means = [0, 1]  \n",
    "    stds = [0.5, 0.5]\n",
    "    covs = [[stds[0]**2, stds[0]*stds[1]*rho], \n",
    "        [stds[0]*stds[1]*rho, stds[1]**2]] \n",
    "    m = numpy.random.multivariate_normal(means, covs, N).T\n",
    "    x = (m[0] - numpy.mean(m[0]))/numpy.std(m[0])\n",
    "    y = (m[1] - numpy.mean(m[1]))/numpy.std(m[1])\n",
    "    if (truncate == True):\n",
    "        x = (x - numpy.min(x))/(numpy.max(x) - numpy.min(x))\n",
    "        y = (y - numpy.min(y))/(numpy.max(y) - numpy.min(y))\n",
    "        thres = 3\n",
    "        for i in range(N):\n",
    "            if x[i] > thres:\n",
    "                x[i] = thres\n",
    "            if x[i] < -thres:\n",
    "                x[i] = -thres\n",
    "            if y[i] > thres:\n",
    "                y[i] = thres\n",
    "            if y[i] < -thres:\n",
    "                y[i] = -thres  \n",
    "    return (x, y)"
   ]
  },
  {
   "cell_type": "code",
   "execution_count": 13,
   "metadata": {
    "collapsed": false
   },
   "outputs": [],
   "source": [
    "#Generate correlated random data for incremental values of the correlation between x and y with grid size M by M\n",
    "\n",
    "N = 20 #Length of vector x and y\n",
    "M = 20 #Creating an M by M grid\n",
    "inst = 1\n",
    "\n",
    "corrs = numpy.arange(-1,1,0.05)\n",
    "T = len(corrs)\n",
    "CMI_1_aver =  numpy.zeros(T, dtype= \"float_\")\n",
    "CMI_2_aver = numpy.zeros(T, dtype= \"float_\")\n",
    "\n",
    "for t in range(T):\n",
    "    CMI_1_vals = numpy.zeros(inst, dtype = \"float_\")\n",
    "    CMI_2_vals = numpy.zeros(inst, dtype = \"float_\")\n",
    "    for k in range(inst):\n",
    "        (x,y) = xy_cor(N, corrs[t], truncate = False)\n",
    "        CMI_1_vals[k] = CMI_smooth_v1(x,y,M)\n",
    "        CMI_2_vals[k] = CMI_smooth_v2(x,y,M)    \n",
    "    CMI_1_aver[t] = numpy.mean(CMI_1_vals)\n",
    "    CMI_2_aver[t] = numpy.mean(CMI_2_vals)\n",
    "        "
   ]
  },
  {
   "cell_type": "code",
   "execution_count": 14,
   "metadata": {
    "collapsed": false
   },
   "outputs": [
    {
     "data": {
      "text/plain": [
       "[<matplotlib.lines.Line2D at 0x22e94bf3240>]"
      ]
     },
     "execution_count": 14,
     "metadata": {},
     "output_type": "execute_result"
    },
    {
     "data": {
      "image/png": "[encoded data removed]",
      "text/plain": [
       "<matplotlib.figure.Figure at 0x22e94877470>"
      ]
     },
     "metadata": {},
     "output_type": "display_data"
    }
   ],
   "source": [
    "#Graph CMI with first approach\n",
    "plt.plot(corrs, CMI_1_aver, 'bo-')"
   ]
  },
  {
   "cell_type": "code",
   "execution_count": 15,
   "metadata": {
    "collapsed": false
   },
   "outputs": [
    {
     "data": {
      "text/plain": [
       "[<matplotlib.lines.Line2D at 0x22e94c800b8>]"
      ]
     },
     "execution_count": 15,
     "metadata": {},
     "output_type": "execute_result"
    },
    {
     "data": {
      "image/png": "[encoded data removed]",
      "text/plain": [
       "<matplotlib.figure.Figure at 0x22e94877278>"
      ]
     },
     "metadata": {},
     "output_type": "display_data"
    }
   ],
   "source": [
    "#Graph CMI with second approach\n",
    "plt.plot(corrs, CMI_2_aver, 'bo-')"
   ]
  },
  {
   "cell_type": "code",
   "execution_count": null,
   "metadata": {
    "collapsed": true
   },
   "outputs": [],
   "source": []
  }
 ],
 "metadata": {
  "anaconda-cloud": {},
  "kernelspec": {
   "display_name": "Python [Root]",
   "language": "python",
   "name": "Python [Root]"
  },
  "language_info": {
   "codemirror_mode": {
    "name": "ipython",
    "version": 3
   },
   "file_extension": ".py",
   "mimetype": "text/x-python",
   "name": "python",
   "nbconvert_exporter": "python",
   "pygments_lexer": "ipython3",
   "version": "3.5.2"
  }
 },
 "nbformat": 4,
 "nbformat_minor": 0
}
