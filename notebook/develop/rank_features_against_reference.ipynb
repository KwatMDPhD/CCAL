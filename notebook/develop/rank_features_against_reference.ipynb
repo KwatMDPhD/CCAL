{
 "cells": [
  {
   "cell_type": "code",
   "execution_count": null,
   "metadata": {
    "collapsed": false
   },
   "outputs": [],
   "source": [
    "import sys\n",
    "sys.path.insert(0, '../../')\n",
    "import ccal\n",
    "%matplotlib inline\n",
    "%config InlineBackend.figure_formats = {'svg',}"
   ]
  },
  {
   "cell_type": "markdown",
   "metadata": {},
   "source": [
    "# Target test"
   ]
  },
  {
   "cell_type": "code",
   "execution_count": null,
   "metadata": {
    "collapsed": false
   },
   "outputs": [],
   "source": [
    "nrow, ncol = 2, 1000\n",
    "features = ccal.support.make_random_features(nrow, ncol)\n",
    "ref = ccal.support.make_random_features(1, ncol)\n",
    "ccal.analyze.rank_features_against_reference(features, ref,\n",
    "                                             nsampling=1,\n",
    "                                             nperm=2,\n",
    "                                             title='Title',\n",
    "                                             result_filename='/Users/Kwat/Desktop/result_dir/result.txt',\n",
    "                                             figure_filename='/Users/Kwat/Desktop/figure_dir/figure')"
   ]
  },
  {
   "cell_type": "markdown",
   "metadata": {},
   "source": [
    "# Loop test"
   ]
  },
  {
   "cell_type": "code",
   "execution_count": null,
   "metadata": {
    "collapsed": false
   },
   "outputs": [],
   "source": [
    "ccal.support.VERBOSE = False\n",
    "for r in range(1, 100, 25):\n",
    "    for c in range(1, 1000, 250):\n",
    "        features = ccal.support.make_random_features(r, c)\n",
    "        ref = ccal.support.make_random_features(1, c)\n",
    "        ccal.analyze.rank_features_against_reference(features, ref, nsampling=2,\n",
    "                                                     nperm=2, nfeatures=0, title='Continuous {} x {}'.format(r, c))\n",
    "        \n",
    "n_category = 10\n",
    "for r in range(1, 100, 25):\n",
    "    for c in range(1, 1000, 250):\n",
    "        features = ccal.support.make_random_features(r, c, n_category=n_category)\n",
    "        ref = ccal.support.make_random_features(1, c, n_category=n_category)\n",
    "        ccal.analyze.rank_features_against_reference(features, ref, ref_type='categorical',\n",
    "                                                     nsampling=2, nperm=2, nfeatures=0, title='Categorical {} x {}'.format(r, c))\n",
    "\n",
    "n_category = 2\n",
    "for r in range(1, 100, 25):\n",
    "    for c in range(1, 1000, 250):\n",
    "        features = ccal.support.make_random_features(r, c, n_category=n_category)\n",
    "        ref = ccal.support.make_random_features(1, c, n_category=n_category)\n",
    "        ccal.analyze.rank_features_against_reference(features, ref, ref_type='binary',\n",
    "                                                     nsampling=2, nperm=2, nfeatures=0, title='Binary {} x {}'.format(r, c))"
   ]
  }
 ],
 "metadata": {
  "kernelspec": {
   "display_name": "Python 3",
   "language": "python",
   "name": "python3"
  },
  "language_info": {
   "codemirror_mode": {
    "name": "ipython",
    "version": 3
   },
   "file_extension": ".py",
   "mimetype": "text/x-python",
   "name": "python",
   "nbconvert_exporter": "python",
   "pygments_lexer": "ipython3",
   "version": "3.5.1"
  }
 },
 "nbformat": 4,
 "nbformat_minor": 0
}
