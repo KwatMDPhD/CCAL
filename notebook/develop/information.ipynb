{
 "cells": [
  {
   "cell_type": "code",
   "execution_count": 1,
   "metadata": {
    "collapsed": false
   },
   "outputs": [
    {
     "name": "stdout",
     "output_type": "stream",
     "text": [
      "===============================================================================\n",
      "==================== Computational Cancer Analysis Library ====================\n",
      "===============================================================================\n",
      "<17:22:54> Checking dependencies ...\n",
      "<17:22:54> Using the following packages:\n",
      "<17:22:54> \tmatplotlib (v1.5.1)\n",
      "<17:22:54> \tnumpy (v1.10.4)\n",
      "<17:22:54> \tpandas (v0.18.0)\n",
      "<17:22:54> \trpy2 (v2.7.9)\n",
      "<17:22:54> \tscikit-learn (v0.17.1)\n",
      "<17:22:54> \tscipy (v0.17.0)\n",
      "<17:22:54> \tseaborn (v0.7.0)\n"
     ]
    }
   ],
   "source": [
    "import sys\n",
    "import cProfile\n",
    "import time\n",
    "import math\n",
    "\n",
    "import numpy as np\n",
    "from scipy.stats import pearsonr\n",
    "\n",
    "sys.path.insert(0, '../../')\n",
    "import ccal\n",
    "from ccal.support import drop_nan_columns, add_jitter\n",
    "\n",
    "%matplotlib inline\n",
    "%config InlineBackend.figure_formats = {'svg',}\n",
    "\n",
    "import rpy2.robjects as ro\n",
    "\n",
    "from rpy2.robjects.numpy2ri import numpy2ri\n",
    "ro.conversion.py2ri = numpy2ri\n"
   ]
  },
  {
   "cell_type": "code",
   "execution_count": 12,
   "metadata": {
    "collapsed": true
   },
   "outputs": [],
   "source": [
    "n = 1\n",
    "size = 1000\n",
    "x = np.random.random_sample(size)\n",
    "y = np.random.random_sample(size)"
   ]
  },
  {
   "cell_type": "markdown",
   "metadata": {},
   "source": [
    "# Time KDE functions"
   ]
  },
  {
   "cell_type": "code",
   "execution_count": 3,
   "metadata": {
    "collapsed": false
   },
   "outputs": [
    {
     "data": {
      "text/plain": [
       "0.022496938705444336"
      ]
     },
     "execution_count": 3,
     "metadata": {},
     "output_type": "execute_result"
    }
   ],
   "source": [
    "from rpy2.robjects.packages import importr\n",
    "mass = importr('MASS')\n",
    "\n",
    "t0 = time.time()\n",
    "for i in range(n):\n",
    "    x = np.random.random_sample(size)\n",
    "    y = np.random.random_sample(size)\n",
    "    kde = mass.kde2d(x, y, np.array([0.1, 0.1]), n=np.array([25]))\n",
    "    kde[2]\n",
    "time.time() - t0"
   ]
  },
  {
   "cell_type": "code",
   "execution_count": 4,
   "metadata": {
    "collapsed": false
   },
   "outputs": [
    {
     "data": {
      "text/plain": [
       "0.07916998863220215"
      ]
     },
     "execution_count": 4,
     "metadata": {},
     "output_type": "execute_result"
    }
   ],
   "source": [
    "from statsmodels.nonparametric.kernel_density import KDEMultivariate\n",
    "\n",
    "t0 = time.time()\n",
    "for i in range(n):\n",
    "    x = np.random.random_sample(size)\n",
    "    y = np.random.random_sample(size)\n",
    "    kde = KDEMultivariate([x, y], var_type='cc', bw=[0.1, 0.1])\n",
    "    kde.pdf()\n",
    "time.time() - t0"
   ]
  },
  {
   "cell_type": "code",
   "execution_count": 5,
   "metadata": {
    "collapsed": false
   },
   "outputs": [
    {
     "data": {
      "text/plain": [
       "0.046447038650512695"
      ]
     },
     "execution_count": 5,
     "metadata": {},
     "output_type": "execute_result"
    }
   ],
   "source": [
    "from scipy.stats import gaussian_kde\n",
    "\n",
    "t0 = time.time()\n",
    "for i in range(n):\n",
    "    x = np.random.random_sample(size)\n",
    "    y = np.random.random_sample(size)\n",
    "    kde = gaussian_kde([x, y], bw_method='silverman')\n",
    "    kde.pdf(np.random.random_sample((2, 25)))\n",
    "time.time() - t0"
   ]
  },
  {
   "cell_type": "markdown",
   "metadata": {},
   "source": [
    "from fastkde import fastKDE\n",
    "t0 = time.time()\n",
    "for i in range(n):\n",
    "    x = np.random.random_sample(size)\n",
    "    y = np.random.random_sample(size)\n",
    "    pdf, axes = fastKDE.pdf(x, y)\n",
    "time.time() - t0"
   ]
  },
  {
   "cell_type": "markdown",
   "metadata": {},
   "source": [
    "\n",
    "# Time information_coefficient functions"
   ]
  },
  {
   "cell_type": "code",
   "execution_count": 43,
   "metadata": {
    "collapsed": false
   },
   "outputs": [
    {
     "name": "stdout",
     "output_type": "stream",
     "text": [
      "[1]\n",
      " 0.1441506\n",
      "\n",
      "\n",
      "[1]\n",
      " 0.1441506\n",
      "\n",
      "\n"
     ]
    },
    {
     "data": {
      "text/plain": [
       "0.00895380973815918"
      ]
     },
     "execution_count": 43,
     "metadata": {},
     "output_type": "execute_result"
    }
   ],
   "source": [
    "from rpy2.robjects.packages import SignatureTranslatedAnonymousPackage\n",
    "r ='''\n",
    "information_coefficient <-  function(x, y, n.grid=25)\n",
    "{\n",
    "    x.set <- !is.na(x)\n",
    "    y.set <- !is.na(y)\n",
    "    overlap <- x.set & y.set\n",
    "\n",
    "    x <- x[overlap] +  0.000000001*runif(length(overlap))\n",
    "    y <- y[overlap] +  0.000000001*runif(length(overlap))\n",
    "\n",
    "    if (length(x) > 2) {\n",
    "        delta = c(bcv(x), bcv(y))\n",
    "        rho <- cor(x, y)\n",
    "        delta <- delta*(1 + (-0.75)*abs(rho))\n",
    "        \n",
    "        kde2d.xy <- kde2d(x, y, n = n.grid, h = delta)\n",
    "        FXY <- kde2d.xy$z + .Machine$double.eps\n",
    "        dx <- kde2d.xy$x[2] - kde2d.xy$x[1]\n",
    "        dy <- kde2d.xy$y[2] - kde2d.xy$y[1]\n",
    "        \n",
    "        PXY <- FXY/(sum(FXY)*dx*dy)\n",
    "        PX <- rowSums(PXY)*dy\n",
    "        PY <- colSums(PXY)*dx\n",
    "        \n",
    "        HXY <- -sum(PXY * log(PXY))*dx*dy\n",
    "        HX <- -sum(PX * log(PX))*dx\n",
    "        HY <- -sum(PY * log(PY))*dy\n",
    "        \n",
    "        PX <- matrix(PX, nrow=n.grid, ncol=n.grid)\n",
    "        PY <- matrix(PY, byrow = TRUE, nrow=n.grid, ncol=n.grid)\n",
    "        \n",
    "        MI <- HX + HY - HXY\n",
    "        print(sign(rho) * sqrt(1 - exp(- 2 * MI)))\n",
    "        \n",
    "        MI <- sum(PXY * log(PXY/(PX*PY)))*dx*dy\n",
    "        print(sign(rho) * sqrt(1 - exp(- 2 * MI)))\n",
    "        IC = 9\n",
    "        if (is.na(IC)) {\n",
    "            IC <- 0\n",
    "        }\n",
    "    }\n",
    "    else {\n",
    "        IC <- 0\n",
    "    }\n",
    "    return(IC)\n",
    "}\n",
    "'''\n",
    "r = SignatureTranslatedAnonymousPackage(r, 'r')\n",
    "\n",
    "t0 = time.time()\n",
    "for i in range(n):\n",
    "    x = np.random.random_sample(size)\n",
    "    y = np.random.random_sample(size)\n",
    "    r.information_coefficient(x, y)\n",
    "time.time() - t0"
   ]
  },
  {
   "cell_type": "markdown",
   "metadata": {},
   "source": [
    "def information_coefficient(x, y, z=None, n_grid=25, vector_data_types=None, n_perm=0, adaptive=True, alpha=0.05,\n",
    "                            perm_alpha=0.05):\n",
    "    x, y = add_jitter(drop_nan_columns([x, y]))\n",
    "\n",
    "    if len(x) <= len(vector_data_types):\n",
    "        return 0\n",
    "\n",
    "    rho, p = pearsonr(x, y)\n",
    "    bandwidth_scaling = 1 + (-0.75) * abs(rho)\n",
    "\n",
    "    vectors = [x, y]\n",
    "    grids = [np.linspace(v.min(), v.max(), n_grid) for v in vectors]\n",
    "    mesh_grids = np.meshgrid(*grids)\n",
    "    grid_shape = tuple([n_grid] * len(vectors))\n",
    "    grid = np.vstack([mesh_grid.flatten() for mesh_grid in mesh_grids])\n",
    "    delta = np.array([rbcv(q) for q in vectors]).reshape((len(vectors),)) / 4\n",
    "    if bandwidth_scaling:\n",
    "        delta *= bandwidth_scaling\n",
    "    kde = KDEMultivariate(vectors, bw=delta, var_type=vector_data_types)\n",
    "    pxy = kde.pdf(grid).reshape(grid_shape) + np.finfo(float).eps\n",
    "    ds = [grid[1] - grid[0] for grid in grids]\n",
    "    ds_prod = np.prod(ds)\n",
    "    pxy /= (pxy.sum() * ds_prod)\n",
    "    h_joint = - np.sum(pxy * np.log(pxy)) * ds_prod\n",
    "    dx = ds[0]\n",
    "    dy = ds[1]\n",
    "    dx = ds[0]\n",
    "    dy = ds[1]\n",
    "    px = pxy.sum(axis=1) * dy\n",
    "    py = pxy.sum(axis=0) * dx\n",
    "    hx = -np.sum(px * np.log(px)) * dx\n",
    "    hy = -np.sum(py * np.log(py)) * dy\n",
    "    mi = hx + hy - h_joint\n",
    "\n",
    "    ic_sign = np.sign(rho)\n",
    "    ic = ic_sign * np.sqrt(1 - np.exp(- 2 * mi))\n",
    "    return ic\n",
    "\n",
    "\n",
    "def rbcv(x):\n",
    "    bandwidth = np.array(mass.bcv(x))[0]\n",
    "    return bandwidth\n",
    "\n",
    "\n",
    "t0 = time.time()\n",
    "for i in range(n):\n",
    "    x = np.random.random_sample(size)\n",
    "    y = np.random.random_sample(size)\n",
    "    information_coefficient(x, y, vector_data_types='cc')\n",
    "time.time() - t0"
   ]
  },
  {
   "cell_type": "code",
   "execution_count": 45,
   "metadata": {
    "collapsed": false
   },
   "outputs": [
    {
     "data": {
      "text/plain": [
       "0.05499100685119629"
      ]
     },
     "execution_count": 45,
     "metadata": {},
     "output_type": "execute_result"
    }
   ],
   "source": [
    "def information_coefficient2(x, y, data_types, ngrid=25):\n",
    "    # Filter columsn and add jitter\n",
    "    x, y = add_jitter(drop_nan_columns([x, y]))\n",
    "\n",
    "    # Can't calculate MI if length of a vector is smaller than or equal to the number of vectors\n",
    "    if len(x) <= 2:\n",
    "        return 0\n",
    "\n",
    "    cor, p = pearsonr(x, y)    \n",
    "    \n",
    "    bandwidth_x = np.asarray(mass.bcv(x)[0]) / 4 * (1 + (-0.75) * abs(cor))\n",
    "    bandwidth_y = np.asarray(mass.bcv(y)[0]) / 4 * (1 + (-0.75) * abs(cor))\n",
    "    \n",
    "    kde = KDEMultivariate([x, y], bw=[bandwidth_x, bandwidth_y], var_type=data_types)\n",
    "    grid_x = np.linspace(x.min(), x.max(), ngrid)\n",
    "    grid_y = np.linspace(y.min(), y.max(), ngrid)\n",
    "    dx = grid_x[1] - grid_x[0]\n",
    "    dy = grid_y[1] - grid_y[0]\n",
    "    meshgrid_x, meshgrid_y = np.meshgrid(grid_x, grid_y)\n",
    "    pxy = kde.pdf(np.vstack([meshgrid_x.flatten(), meshgrid_y.flatten()])).reshape((ngrid, ngrid)) + np.finfo(float).eps\n",
    "\n",
    "    pxy /= (pxy.sum() * dx * dy)\n",
    "    px = pxy.sum(axis=1) * dy\n",
    "    py = pxy.sum(axis=0) * dx   \n",
    "    return px\n",
    "    hxy = - np.sum(pxy * np.log(pxy)) * dx * dy\n",
    "    hx = -np.sum(px * np.log(px)) * dx\n",
    "    hy = -np.sum(py * np.log(py)) * dy\n",
    "    \n",
    "    mi = hx + hy - hxy\n",
    "    ic_sign = np.sign(cor)\n",
    "    ic = ic_sign * np.sqrt(1 - np.exp(- 2 * mi))\n",
    "    print('H', ic)\n",
    "    \n",
    "    mi = np.sum(pxy * np.log(pxy/(px * py))) * dx * dy\n",
    "    ic_sign = np.sign(cor)\n",
    "    ic = ic_sign * np.sqrt(1 - np.exp(- 2 * mi))\n",
    "    print('P', ic)\n",
    "\n",
    "\n",
    "t0 = time.time()\n",
    "for i in range(n):\n",
    "    x = np.random.random_sample(size)\n",
    "    y = np.random.random_sample(size)\n",
    "    information_coefficient2(x, y, data_types='cc')\n",
    "time.time() - t0"
   ]
  },
  {
   "cell_type": "code",
   "execution_count": 46,
   "metadata": {
    "collapsed": false
   },
   "outputs": [],
   "source": [
    "x = np.random.random_sample(size)\n",
    "y = np.random.random_sample(size)\n",
    "a = information_coefficient2(x, y, data_types='cc')"
   ]
  },
  {
   "cell_type": "code",
   "execution_count": 48,
   "metadata": {
    "collapsed": false
   },
   "outputs": [
    {
     "data": {
      "text/plain": [
       "array([ 0.19513879,  0.4959941 ,  0.80329806,  0.99249291,  1.0679133 ,\n",
       "        1.06451103,  1.00593402,  0.94158745,  0.9042184 ,  0.88999245,\n",
       "        0.91667045,  0.99322138,  1.06693336,  1.11371109,  1.17043999,\n",
       "        1.21304707,  1.21374143,  1.1924651 ,  1.13442087,  1.05372987,\n",
       "        1.02316613,  1.05582141,  1.0381755 ,  0.78191404,  0.34980949])"
      ]
     },
     "execution_count": 48,
     "metadata": {},
     "output_type": "execute_result"
    }
   ],
   "source": [
    "a * a"
   ]
  },
  {
   "cell_type": "code",
   "execution_count": 13,
   "metadata": {
    "collapsed": false
   },
   "outputs": [
    {
     "name": "stdout",
     "output_type": "stream",
     "text": [
      "[1] -0.09795917\n",
      "\n",
      "H -0.0979591679704\n",
      "P -0.118486260171\n",
      "None\n"
     ]
    }
   ],
   "source": [
    "#print(information_coefficient(x, y, vector_data_types='cc'))\n",
    "print(r.information_coefficient(x, y))\n",
    "print(information_coefficient2(x, y, 'cc'))"
   ]
  },
  {
   "cell_type": "code",
   "execution_count": null,
   "metadata": {
    "collapsed": false,
    "scrolled": false
   },
   "outputs": [],
   "source": [
    "def information_coefficient_clean(x, y, data_types, ngrid=25):\n",
    "    # Filter columsn and add jitter\n",
    "    x, y = add_jitter(drop_nan_columns([x, y]))\n",
    "\n",
    "    # Can't calculate MI if length of a vector is smaller than or equal to the number of vectors\n",
    "    if len(x) <= 2:\n",
    "        return 0\n",
    "\n",
    "    # Get bandwidths\n",
    "    cor, p = pearsonr(x, y)\n",
    "\n",
    "    bandwidth_x = np.asarray(mass.bcv(x)[0]) / 4 * (1 + (-0.75) * abs(cor))\n",
    "    bandwidth_y = np.asarray(mass.bcv(y)[0]) / 4 * (1 + (-0.75) * abs(cor))\n",
    "\n",
    "    # Kernel density estimate\n",
    "    kde = KDEMultivariate([x, y], data_types, bw=[bandwidth_x, bandwidth_y])\n",
    "    grid_x = np.linspace(x.min(), x.max(), ngrid)\n",
    "    grid_y = np.linspace(y.min(), y.max(), ngrid)\n",
    "    dx = grid_x[1] - grid_x[0]\n",
    "    dy = grid_y[1] - grid_y[0]\n",
    "    meshgrid_x, meshgrid_y = np.meshgrid(grid_x, grid_y)\n",
    "    pxy = kde.pdf(data_predict=np.vstack((meshgrid_x.flatten(), meshgrid_y.flatten()))).reshape((ngrid, ngrid)) + np.finfo(float).eps\n",
    "    pxy /= (np.sum(pxy) * dx * dy)\n",
    "    px = pxy.sum(axis=1) * dy\n",
    "    py = pxy.sum(axis=0) * dx\n",
    "    hx = - np.sum(px * np.log(px)) * dx\n",
    "    hy = - np.sum(py * np.log(py)) * dy\n",
    "    hxy = - np.sum(pxy * np.log(pxy)) * dx * dy\n",
    "    mi = np.sum(pxy * np.log(pxy/(px * py))) * dx * dy\n",
    "    mi = hx + hy - hxy\n",
    "    \n",
    "    ic = np.sign(cor) * np.sqrt(1 - np.exp(- 2 * mi))\n",
    "    return ic\n",
    "\n",
    "t0 = time.time()\n",
    "for i in range(n):\n",
    "    x = np.random.random_sample(size)\n",
    "    y = np.random.random_sample(size)\n",
    "    information_coefficient_clean(x, y, 'cc')\n",
    "time.time() - t0"
   ]
  },
  {
   "cell_type": "code",
   "execution_count": null,
   "metadata": {
    "collapsed": false
   },
   "outputs": [],
   "source": [
    "def information_coefficient_scipy(x, y, data_types, ngrid=25):\n",
    "    # Filter columsn and add jitter\n",
    "    x, y = add_jitter(drop_nan_columns([x, y]))\n",
    "\n",
    "    # Can't calcualte MI if length of a vector is smaller than or equal to the number of vectors\n",
    "    if len(x) <= 2:\n",
    "        return 0\n",
    "    \n",
    "    # Get bandwidths\n",
    "    cor, p = pearsonr(x, y)\n",
    "\n",
    "    bandwidth_x = np.asarray(mass.bcv(x)[0]) / 4 * (1 + (-0.75) * abs(cor))\n",
    "    bandwidth_y = np.asarray(mass.bcv(y)[0]) / 4 * (1 + (-0.75) * abs(cor))\n",
    "\n",
    "    # Kernel density estimate\n",
    "    kde = gaussian_kde([x, y], bw_method='silverman')\n",
    "    grid_x = np.linspace(x.min(), x.max(), ngrid)\n",
    "    grid_y = np.linspace(y.min(), y.max(), ngrid)\n",
    "    dx = grid_x[1] - grid_x[0]\n",
    "    dy = grid_y[1] - grid_y[0]\n",
    "    meshgrid_x, meshgrid_y = np.meshgrid(grid_x, grid_y)\n",
    "    pxy = kde.pdf(np.vstack((meshgrid_x.flatten(), meshgrid_y.flatten()))).reshape((ngrid, ngrid)) + np.finfo(float).eps\n",
    "\n",
    "    px = pxy.sum(axis=1) * dy\n",
    "    py = pxy.sum(axis=0) * dx\n",
    "    mi = np.sum(pxy * np.log(pxy/(px * py))) * dx * dy\n",
    "    ic = np.sign(cor) * np.sqrt(1 - np.exp(- 2 * mi))\n",
    "    return ic\n",
    "\n",
    "t0 = time.time()\n",
    "for i in range(n):\n",
    "    x = np.random.random_sample(size)\n",
    "    y = np.random.random_sample(size)\n",
    "    information_coefficient_scipy(x, y, 'cc')\n",
    "time.time() - t0"
   ]
  },
  {
   "cell_type": "code",
   "execution_count": null,
   "metadata": {
    "collapsed": false
   },
   "outputs": [],
   "source": [
    "def information_coefficient_kde2d(x, y, ngrid=25):\n",
    "    # Filter columsn and add jitter\n",
    "    x, y = add_jitter(drop_nan_columns([x, y]))\n",
    "\n",
    "    # Can't calcualte MI if length of a vector is smaller than or equal to the number of vectors\n",
    "    if len(x) <= 2:\n",
    "        return 0\n",
    "    \n",
    "    # Get bandwidth scalar\n",
    "    bandwidth = np.array([mass.bcv(v)[0] for v in [x, y]]) / 4\n",
    "    cor, p = pearsonr(x, y)\n",
    "    bandwidth_scaling = 1 + (-0.75) * abs(cor)\n",
    "    if bandwidth_scaling:\n",
    "        bandwidth *= bandwidth_scaling\n",
    "        \n",
    "    # KDE\n",
    "    grid_x, grid_y, density = [np.asarray(i) for i in mass.kde2d(x, y, bandwidth, n=np.array([ngrid]))]\n",
    "    density += np.finfo(float).eps\n",
    "\n",
    "    dx = grid_x[1] = grid_x[0]\n",
    "    dy = grid_y[1] = grid_y[0]\n",
    "    \n",
    "    pxy = density / (density.sum() * dx * dy)\n",
    "    \n",
    "    px = pxy.sum(axis=1) * dy\n",
    "    py = pxy.sum(axis=0) * dx\n",
    "    \n",
    "    hxy = - (pxy * np.log(pxy)).sum() * dx * dy\n",
    "    hx = -np.sum(px * np.log(px)) * dx\n",
    "    hy = -np.sum(py * np.log(py)) * dy\n",
    "    \n",
    "    mi = hx + hy - hxy\n",
    "    ic = np.sign(cor) * np.sqrt(1 - np.exp(- 2 * mi))\n",
    "    \n",
    "    return ic\n",
    "\n",
    "t0 = time.time()\n",
    "for i in range(n):\n",
    "    x = np.random.random_sample(size)\n",
    "    y = np.random.random_sample(size)\n",
    "    information_coefficient_kde2d(x, y)\n",
    "time.time() - t0"
   ]
  },
  {
   "cell_type": "code",
   "execution_count": null,
   "metadata": {
    "collapsed": false
   },
   "outputs": [],
   "source": [
    "def information_coefficient_kde2d_clean(x, y, data_types, ngrid=25):\n",
    "    # Filter columsn and add jitter\n",
    "    x, y = add_jitter(drop_nan_columns([x, y]))\n",
    "\n",
    "    # Can't calcualte MI if length of a vector is smaller than or equal to the number of vectors\n",
    "    if len(x) <= 2:\n",
    "        return 0\n",
    "\n",
    "    # Get bandwidths\n",
    "    cor, p = pearsonr(x, y)\n",
    "\n",
    "    bandwidth_x = np.asarray(mass.bcv(x)[0]) / 4 * (1 + (-0.75) * abs(cor))\n",
    "    bandwidth_y = np.asarray(mass.bcv(y)[0]) / 4 * (1 + (-0.75) * abs(cor))\n",
    "\n",
    "    # Kernel density estimate\n",
    "    grid_x, grid_y, density = [np.asarray(i) for i in mass.kde2d(x, y, np.array([bandwidth_x, bandwidth_y]), n=np.array([ngrid]))]\n",
    "    dx = grid_x[1] - grid_x[0]\n",
    "    dy = grid_y[1] - grid_y[0]\n",
    "    density += np.finfo(float).eps\n",
    "    pxy = density / (density.sum() * dx * dy)\n",
    "\n",
    "    px = pxy.sum(axis=1) * dy\n",
    "    py = pxy.sum(axis=0) * dx\n",
    "    mi = np.sum(pxy * np.log(pxy/(px * py))) * dx * dy\n",
    "    ic = np.sign(cor) * np.sqrt(1 - np.exp(- 2 * mi))\n",
    "    return ic\n",
    "\n",
    "t0 = time.time()\n",
    "for i in range(n):\n",
    "    x = np.random.random_sample(size)\n",
    "    y = np.random.random_sample(size)\n",
    "    information_coefficient_kde2d_clean(x, y, 'cc')\n",
    "time.time() - t0"
   ]
  },
  {
   "cell_type": "code",
   "execution_count": null,
   "metadata": {
    "collapsed": false
   },
   "outputs": [],
   "source": [
    "print(information_coefficient(x, y, vector_data_types='cc'))\n",
    "print(information_coefficient_clean(x, y, 'cc'))\n",
    "print(information_coefficient_scipy(x, y, 'cc'))\n",
    "print(r.information_coefficient(x, y))\n",
    "print(information_coefficient_kde2d(x, y))\n",
    "print(information_coefficient_kde2d_clean(x, y, 'cc'))"
   ]
  },
  {
   "cell_type": "markdown",
   "metadata": {},
   "source": [
    "# Test data type cases\n",
    "\n",
    "x = np.random.random_sample(10)\n",
    "y = np.random.random_sample(10)\n",
    "print(ccal.information.information_coefficient(x, y))\n",
    "\n",
    "x = np.random.random_sample(10)\n",
    "y = np.random.random_sample(11)\n",
    "try:\n",
    "    ccal.information.information_coefficient(x, y)\n",
    "except ValueError as e:\n",
    "    print(e)\n",
    "\n",
    "x = np.random.random_sample(10)\n",
    "x[1] = None\n",
    "y = np.random.random_sample(10)\n",
    "y[2] = None\n",
    "print(ccal.information.information_coefficient(x, y))\n",
    "\n",
    "x = np.random.random_sample(10)\n",
    "x[1] = None\n",
    "y = np.random.random_sample(10)\n",
    "y[2] = None\n",
    "y[6] = None\n",
    "print(ccal.information.information_coefficient(x, y))\n",
    "\n",
    "x = np.random.random_sample(10)\n",
    "x[1] = None\n",
    "x[3] = None\n",
    "x[5] = None\n",
    "y = np.random.random_sample(10)\n",
    "y[2] = None\n",
    "y[4] = None\n",
    "print(ccal.information.information_coefficient(x, y))\n",
    "\n",
    "x = np.array([12.517, 14.706, np.nan, 14.12, np.nan, np.nan, np.nan, 12.255])\n",
    "y = np.array([0.98246356, 0.97525171, 0.77744759, 0.64084311, 0.4405853, 0.43827196, 0.12447757, 0.08116039])\n",
    "print(ccal.information.information_coefficient(x, y))"
   ]
  }
 ],
 "metadata": {
  "kernelspec": {
   "display_name": "Python 3",
   "language": "python",
   "name": "python3"
  },
  "language_info": {
   "codemirror_mode": {
    "name": "ipython",
    "version": 3
   },
   "file_extension": ".py",
   "mimetype": "text/x-python",
   "name": "python",
   "nbconvert_exporter": "python",
   "pygments_lexer": "ipython3",
   "version": "3.5.1"
  }
 },
 "nbformat": 4,
 "nbformat_minor": 0
}
