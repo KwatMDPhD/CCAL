{
 "cells": [
  {
   "cell_type": "code",
   "execution_count": 10,
   "metadata": {
    "collapsed": false
   },
   "outputs": [],
   "source": [
    "import sys\n",
    "import cProfile\n",
    "import math\n",
    "import time\n",
    "\n",
    "import numpy as np\n",
    "from scipy.stats import pearsonr\n",
    "\n",
    "sys.path.insert(0, '../../')\n",
    "import ccal\n",
    "from ccal.support import drop_nan_columns, add_jitter\n",
    "\n",
    "%matplotlib inline\n",
    "%config InlineBackend.figure_formats = {'svg',}\n",
    "\n",
    "import rpy2.robjects as ro\n",
    "\n",
    "from rpy2.robjects.numpy2ri import numpy2ri\n",
    "ro.conversion.py2ri = numpy2ri\n",
    "from rpy2.robjects.packages import importr\n",
    "mass = importr('MASS')"
   ]
  },
  {
   "cell_type": "markdown",
   "metadata": {},
   "source": [
    "# Functions"
   ]
  },
  {
   "cell_type": "code",
   "execution_count": 5,
   "metadata": {
    "collapsed": true
   },
   "outputs": [],
   "source": [
    "from rpy2.robjects.packages import SignatureTranslatedAnonymousPackage"
   ]
  },
  {
   "cell_type": "code",
   "execution_count": 15,
   "metadata": {
    "collapsed": false
   },
   "outputs": [],
   "source": [
    "r ='''\n",
    "information_coefficient <-  function(x, y, n.grid=25)\n",
    "{\n",
    "    x.set <- !is.na(x)\n",
    "    y.set <- !is.na(y)\n",
    "    overlap <- x.set & y.set\n",
    "\n",
    "    x <- x[overlap] +  0.000000001*runif(length(overlap))\n",
    "    y <- y[overlap] +  0.000000001*runif(length(overlap))\n",
    "\n",
    "    if (length(x) > 2) {\n",
    "        delta = c(bcv(x), bcv(y))\n",
    "        rho <- cor(x, y)\n",
    "        delta <- delta*(1 + (-0.75)*abs(rho))\n",
    "\n",
    "        kde2d.xy <- kde2d(x, y, n = n.grid, h = delta)\n",
    "\n",
    "        FXY <- kde2d.xy$z + .Machine$double.eps\n",
    "\n",
    "        dx <- kde2d.xy$x[2] - kde2d.xy$x[1]\n",
    "        dy <- kde2d.xy$y[2] - kde2d.xy$y[1]\n",
    "        PXY <- FXY/(sum(FXY)*dx*dy)\n",
    "        PX <- rowSums(PXY)*dy\n",
    "        PY <- colSums(PXY)*dx\n",
    "        HXY <- -sum(PXY * log(PXY))*dx*dy\n",
    "        HX <- -sum(PX * log(PX))*dx\n",
    "        HY <- -sum(PY * log(PY))*dy\n",
    "        PX <- matrix(PX, nrow=n.grid, ncol=n.grid)\n",
    "        PY <- matrix(PY, byrow = TRUE, nrow=n.grid, ncol=n.grid)\n",
    "        MI <- sum(PXY * log(PXY/(PX*PY)))*dx*dy\n",
    "        IC <- sign(rho) * sqrt(1 - exp(- 2 * MI))\n",
    "        if (is.na(IC)) IC <- 0\n",
    "    } else {\n",
    "        IC <- 0\n",
    "    }\n",
    "    return(IC)\n",
    "}\n",
    "'''\n",
    "r = SignatureTranslatedAnonymousPackage(r, 'r')"
   ]
  },
  {
   "cell_type": "code",
   "execution_count": 16,
   "metadata": {
    "collapsed": false
   },
   "outputs": [
    {
     "data": {
      "text/plain": [
       "<FloatVector - Python:0x11d7cd888 / R:0x10163aa08>\n",
       "[0.994638]"
      ]
     },
     "execution_count": 16,
     "metadata": {},
     "output_type": "execute_result"
    }
   ],
   "source": [
    "r.information_coefficient(x, x)"
   ]
  },
  {
   "cell_type": "code",
   "execution_count": null,
   "metadata": {
    "collapsed": true
   },
   "outputs": [],
   "source": [
    "information_coefficient_r.ic(x, y)"
   ]
  },
  {
   "cell_type": "code",
   "execution_count": 19,
   "metadata": {
    "collapsed": false
   },
   "outputs": [],
   "source": [
    "def information_coefficient(x, y, data_types, ngrid=25):\n",
    "    # Filter columsn and add jitter\n",
    "    x, y = add_jitter(drop_nan_columns([x, y]))\n",
    "\n",
    "    # Can't calcualte MI if length of a vector is smaller than or equal to the number of vectors\n",
    "    if len(x) <= 2:\n",
    "        return 0\n",
    "    \n",
    "    # Get bandwidth scalar\n",
    "    bandwidth = np.array([mass.bcv(v)[0] for v in [x, y]]) / 4\n",
    "    cor, p = pearsonr(x, y)\n",
    "    bandwidth_scaling = 1 + (-0.75) * abs(cor)\n",
    "    if bandwidth_scaling:\n",
    "        bandwidth *= bandwidth_scaling\n",
    "        \n",
    "    # Get bandwidth and kernel density estimate\n",
    "    kde = bcv_KDEMultivariate(x, y, data_types, bandwidth)\n",
    "\n",
    "    # Grid\n",
    "    meshgrids = np.meshgrid(np.linspace(x.min(), x.max(), ngrid),\n",
    "                            np.linspace(y.min(), y.max(), ngrid))\n",
    "    p_joint = kde.pdf(data_predict=np.vstack([meshgrids[0].flatten(),\n",
    "                                              meshgrids[1].flatten()])).reshape((ngrid, ngrid)) + np.finfo(float).eps\n",
    "    grids = [np.linspace(v.min(), v.max(), ngrid) for v in [x, y]]\n",
    "    ds = [grid[1] - grid[0] for grid in grids]\n",
    "    dx = ds[0]\n",
    "    dy = ds[1]\n",
    "    \n",
    "    ds_prod = np.prod(ds)\n",
    "    p_joint /= p_joint.sum() * ds_prod\n",
    "    h_joint = - np.sum(p_joint * np.log(p_joint)) * ds_prod\n",
    "\n",
    "    px = p_joint.sum(axis=1) * dy\n",
    "    py = p_joint.sum(axis=0) * dx\n",
    "    hx = -np.sum(px * np.log(px)) * dx\n",
    "    hy = -np.sum(py * np.log(py)) * dy\n",
    "    mi = hx + hy - h_joint\n",
    "    ic = np.sign(cor) * np.sqrt(1 - np.exp(- 2 * mi))\n",
    "    return ic\n",
    "\n",
    "\n",
    "\n",
    "def information_coefficient_2(x, y, ngrid=25):\n",
    "    x, y = add_jitter(drop_nan_columns([x, y]))\n",
    "    \n",
    "    # Can't calcualte MI if length of a vector is smaller than or equal to the number of vectors\n",
    "    if len(x) <= 2:\n",
    "        return 0\n",
    "\n",
    "    # Get bandwidth scalar\n",
    "    bandwidth = np.array([mass.bcv(v)[0] for v in [x, y]]) / 4\n",
    "    cor, p = pearsonr(x, y)\n",
    "    bandwidth_scaling = 1 + (-0.75) * abs(cor)\n",
    "    if bandwidth_scaling:\n",
    "        bandwidth *= bandwidth_scaling\n",
    "    \n",
    "    # KDE\n",
    "    grid_x, grid_y, density = [np.asarray(i) for i in mass.kde2d(x, y, bandwidth, n=np.array([ngrid]))]\n",
    "    density += np.finfo(float).eps\n",
    "\n",
    "    dx = grid_x[1] = grid_x[0]\n",
    "    dy = grid_y[1] = grid_y[0]\n",
    "    \n",
    "    pxy = density / (density.sum() * dx * dy)\n",
    "    \n",
    "    px = pxy.sum(axis=1) * dy\n",
    "    py = pxy.sum(axis=0) * dx\n",
    "    \n",
    "    hxy = - (pxy * np.log(pxy)).sum() * dx * dy\n",
    "    hx = -np.sum(px * np.log(px)) * dx\n",
    "    hy = -np.sum(py * np.log(py)) * dy\n",
    "    \n",
    "    mi = hx + hy - hxy\n",
    "    ic = np.sign(cor) * np.sqrt(1 - np.exp(- 2 * mi))\n",
    "    \n",
    "    return ic"
   ]
  },
  {
   "cell_type": "code",
   "execution_count": 12,
   "metadata": {
    "collapsed": false
   },
   "outputs": [],
   "source": [
    "x = np.random.random_sample(700)\n",
    "y = np.random.random_sample(700)"
   ]
  },
  {
   "cell_type": "code",
   "execution_count": 22,
   "metadata": {
    "collapsed": false
   },
   "outputs": [
    {
     "data": {
      "text/plain": [
       "4.07443380355835"
      ]
     },
     "execution_count": 22,
     "metadata": {},
     "output_type": "execute_result"
    }
   ],
   "source": [
    "n = 100\n",
    "size = 700\n",
    "t0 = time.time()\n",
    "for i in range(n):\n",
    "    x = np.random.random_sample(size)\n",
    "    y = np.random.random_sample(size)\n",
    "    ccal.information.information_coefficient(x, y)\n",
    "time.time() - t0"
   ]
  },
  {
   "cell_type": "code",
   "execution_count": 20,
   "metadata": {
    "collapsed": false
   },
   "outputs": [
    {
     "data": {
      "text/plain": [
       "0.6577270030975342"
      ]
     },
     "execution_count": 20,
     "metadata": {},
     "output_type": "execute_result"
    }
   ],
   "source": [
    "n = 100\n",
    "size = 700\n",
    "t0 = time.time()\n",
    "for i in range(n):\n",
    "    x = np.random.random_sample(size)\n",
    "    y = np.random.random_sample(size)\n",
    "    information_coefficient_2(x, y)\n",
    "time.time() - t0"
   ]
  },
  {
   "cell_type": "code",
   "execution_count": 21,
   "metadata": {
    "collapsed": false
   },
   "outputs": [
    {
     "data": {
      "text/plain": [
       "0.5450620651245117"
      ]
     },
     "execution_count": 21,
     "metadata": {},
     "output_type": "execute_result"
    }
   ],
   "source": [
    "n = 100\n",
    "size = 700\n",
    "t0 = time.time()\n",
    "for i in range(n):\n",
    "    x = np.random.random_sample(size)\n",
    "    y = np.random.random_sample(size)\n",
    "    r.information_coefficient(x, y)\n",
    "time.time() - t0"
   ]
  },
  {
   "cell_type": "code",
   "execution_count": null,
   "metadata": {
    "collapsed": false
   },
   "outputs": [],
   "source": [
    "def bcv(x, y):\n",
    "    # Get bandwidth scalar\n",
    "    bandwidth = np.array([mass.bcv(v)[0] for v in [x, y]]) / 4\n",
    "    cor, p = pearsonr(x, y)\n",
    "    bandwidth_scaling = 1 + (-0.75) * abs(cor)\n",
    "    if bandwidth_scaling:\n",
    "        bandwidth *= bandwidth_scaling\n",
    "    return bandwidth\n",
    "\n",
    "from statsmodels.nonparametric.kernel_density import KDEMultivariate\n",
    "def kde_KDEMultivariate(x, y, data_types, bandwidth):\n",
    "    return KDEMultivariate([x, y], var_type=data_types, bw=bandwidth)"
   ]
  },
  {
   "cell_type": "markdown",
   "metadata": {},
   "source": [
    "# Test data type cases"
   ]
  },
  {
   "cell_type": "code",
   "execution_count": null,
   "metadata": {
    "collapsed": true
   },
   "outputs": [],
   "source": [
    "x = np.random.random_sample(10)\n",
    "y = np.random.random_sample(10)\n",
    "print(ccal.information.information_coefficient(x, y))\n",
    "\n",
    "x = np.random.random_sample(10)\n",
    "y = np.random.random_sample(11)\n",
    "try:\n",
    "    ccal.information.information_coefficient(x, y)\n",
    "except ValueError as e:\n",
    "    print(e)\n",
    "\n",
    "x = np.random.random_sample(10)\n",
    "x[1] = None\n",
    "y = np.random.random_sample(10)\n",
    "y[2] = None\n",
    "print(ccal.information.information_coefficient(x, y))\n",
    "\n",
    "x = np.random.random_sample(10)\n",
    "x[1] = None\n",
    "y = np.random.random_sample(10)\n",
    "y[2] = None\n",
    "y[6] = None\n",
    "print(ccal.information.information_coefficient(x, y))\n",
    "\n",
    "x = np.random.random_sample(10)\n",
    "x[1] = None\n",
    "x[3] = None\n",
    "x[5] = None\n",
    "y = np.random.random_sample(10)\n",
    "y[2] = None\n",
    "y[4] = None\n",
    "print(ccal.information.information_coefficient(x, y))\n",
    "\n",
    "x = np.array([12.517, 14.706, np.nan, 14.12, np.nan, np.nan, np.nan, 12.255])\n",
    "y = np.array([0.98246356, 0.97525171, 0.77744759, 0.64084311, 0.4405853, 0.43827196, 0.12447757, 0.08116039])\n",
    "print(ccal.information.information_coefficient(x, y))"
   ]
  }
 ],
 "metadata": {
  "kernelspec": {
   "display_name": "Python 3",
   "language": "python",
   "name": "python3"
  },
  "language_info": {
   "codemirror_mode": {
    "name": "ipython",
    "version": 3
   },
   "file_extension": ".py",
   "mimetype": "text/x-python",
   "name": "python",
   "nbconvert_exporter": "python",
   "pygments_lexer": "ipython3",
   "version": "3.5.1"
  }
 },
 "nbformat": 4,
 "nbformat_minor": 0
}
