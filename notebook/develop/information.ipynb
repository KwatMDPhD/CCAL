{
 "cells": [
  {
   "cell_type": "code",
   "execution_count": 1,
   "metadata": {
    "collapsed": false
   },
   "outputs": [
    {
     "name": "stdout",
     "output_type": "stream",
     "text": [
      "===============================================================================\n",
      "==================== Computational Cancer Analysis Library ====================\n",
      "===============================================================================\n",
      "<17:10:30> Checking dependencies ...\n",
      "<17:10:30> Using the following packages:\n",
      "<17:10:30> \tmatplotlib (v1.5.1)\n",
      "<17:10:30> \tnumpy (v1.10.4)\n",
      "<17:10:30> \tpandas (v0.18.0)\n",
      "<17:10:30> \trpy2 (v2.7.9)\n",
      "<17:10:30> \tscikit-learn (v0.17.1)\n",
      "<17:10:30> \tscipy (v0.17.0)\n",
      "<17:10:30> \tseaborn (v0.7.0)\n"
     ]
    }
   ],
   "source": [
    "import sys\n",
    "sys.path.insert(0, '../../')\n",
    "import ccal\n",
    "%matplotlib inline\n",
    "%config InlineBackend.figure_formats = {'svg',}"
   ]
  },
  {
   "cell_type": "code",
   "execution_count": 2,
   "metadata": {
    "collapsed": false
   },
   "outputs": [],
   "source": [
    "import cProfile\n",
    "import math\n",
    "\n",
    "import numpy as np\n",
    "from scipy.stats import pearsonr\n",
    "from statsmodels.nonparametric.kernel_density import KDEMultivariate\n",
    "from scipy.stats import binom_test\n",
    "\n",
    "# TODO pythonize bcv\n",
    "import rpy2.robjects as ro\n",
    "from rpy2.robjects.numpy2ri import numpy2ri\n",
    "\n",
    "ro.conversion.py2ri = numpy2ri\n",
    "from rpy2.robjects.packages import importr\n",
    "\n",
    "mass = importr('MASS')\n",
    "\n",
    "from ccal.support import drop_nan_columns, add_jitter"
   ]
  },
  {
   "cell_type": "code",
   "execution_count": 25,
   "metadata": {
    "collapsed": false
   },
   "outputs": [],
   "source": [
    "def information_coefficient(x, y, data_types, ngrid=25):\n",
    "    # Filter columsn and add jitter\n",
    "    x, y = add_jitter(drop_nan_columns([x, y]))\n",
    "\n",
    "    # Can't calcualte MI if length of a vector is smaller than or equal to the number of vectors\n",
    "    if len(x) <= 2:\n",
    "        return 0\n",
    "\n",
    "    #def get_kde_bandwidth(x, y):\n",
    "    # Get bandwidth\n",
    "    bandwidth = np.array([rbcv(v) for v in [x, y]]) / 4\n",
    "    cor, p = pearsonr(x, y)\n",
    "    bandwidth_scaling = 1 + (-0.75) * abs(cor)\n",
    "    if bandwidth_scaling:\n",
    "        bandwidth *= bandwidth_scaling\n",
    "\n",
    "    # Kernel density estimate\n",
    "    kde = KDEMultivariate([x, y], var_type=data_types, bw=bandwidth)\n",
    "\n",
    "    # Grid\n",
    "    meshgrids = np.meshgrid(np.linspace(x.min(), x.max(), ngrid),\n",
    "                             np.linspace(y.min(), y.max(), ngrid))\n",
    "    p_joint = kde.pdf(data_predict=np.vstack([meshgrids[0].flatten(),\n",
    "                                              meshgrids[1].flatten()])).reshape((ngrid, ngrid)) + np.finfo(float).eps\n",
    "    grids = [np.linspace(v.min(), v.max(), ngrid) for v in [x, y]]\n",
    "    ds = [grid[1] - grid[0] for grid in grids]\n",
    "    ds_prod = np.prod(ds)\n",
    "    p_joint /= p_joint.sum() * ds_prod\n",
    "    h_joint = - np.sum(p_joint * np.log(p_joint)) * ds_prod\n",
    "    dx = ds[0]\n",
    "    dy = ds[1]\n",
    "    dx = ds[0]\n",
    "    dy = ds[1]\n",
    "    px = p_joint.sum(axis=1) * dy\n",
    "    py = p_joint.sum(axis=0) * dx\n",
    "    hx = -np.sum(px * np.log(px)) * dx\n",
    "    hy = -np.sum(py * np.log(py)) * dy\n",
    "    mi = hx + hy - h_joint\n",
    "    ic = np.sign(cor) * np.sqrt(1 - np.exp(- 2 * mi))\n",
    "    return ic\n",
    "\n",
    "\n",
    "def rbcv(x):\n",
    "    bandwidth = np.array(mass.bcv(x))[0]\n",
    "    return bandwidth"
   ]
  },
  {
   "cell_type": "code",
   "execution_count": 22,
   "metadata": {
    "collapsed": false
   },
   "outputs": [
    {
     "data": {
      "text/plain": [
       "4.179605007171631"
      ]
     },
     "execution_count": 22,
     "metadata": {},
     "output_type": "execute_result"
    }
   ],
   "source": [
    "import time\n",
    "t0 = time.time()\n",
    "for i in range(100):\n",
    "    x = np.random.random_sample(700)\n",
    "    y = np.random.random_sample(700)\n",
    "    ccal.information.information_coefficient(x, y)\n",
    "time.time() - t0"
   ]
  },
  {
   "cell_type": "code",
   "execution_count": 32,
   "metadata": {
    "collapsed": false,
    "scrolled": true
   },
   "outputs": [
    {
     "name": "stdout",
     "output_type": "stream",
     "text": [
      "         10253 function calls in 0.051 seconds\n",
      "\n",
      "   Ordered by: internal time\n",
      "\n",
      "   ncalls  tottime  percall  cumtime  percall filename:lineno(function)\n",
      "     1250    0.021    0.000    0.021    0.000 kernels.py:109(gaussian)\n",
      "     1895    0.010    0.000    0.010    0.000 {method 'reduce' of 'numpy.ufunc' objects}\n",
      "      625    0.009    0.000    0.044    0.000 _kernel_base.py:456(gpke)\n",
      "        2    0.003    0.001    0.003    0.002 functions.py:101(__call__)\n",
      "        1    0.002    0.002    0.046    0.046 kernel_density.py:165(pdf)\n",
      "      643    0.001    0.000    0.001    0.000 {built-in method numpy.core.multiarray.array}\n",
      "      626    0.001    0.000    0.002    0.000 fromnumeric.py:2390(prod)\n",
      "        1    0.000    0.000    0.001    0.001 support.py:49(drop_nan_columns)\n",
      "      627    0.000    0.000    0.000    0.000 {built-in method numpy.core.multiarray.empty}\n",
      "     1251    0.000    0.000    0.009    0.000 _methods.py:34(_prod)\n",
      "      625    0.000    0.000    0.008    0.000 {method 'prod' of 'numpy.ndarray' objects}\n",
      "      625    0.000    0.000    0.000    0.000 _kernel_base.py:513(<listcomp>)\n",
      "      628    0.000    0.000    0.002    0.000 {method 'sum' of 'numpy.ndarray' objects}\n",
      "      633    0.000    0.000    0.002    0.000 _methods.py:31(_sum)\n",
      "        2    0.000    0.000    0.000    0.000 numpy2ri.py:45(numpy2ri)\n",
      "        1    0.000    0.000    0.051    0.051 <ipython-input-25-7b3ad9bcfcd1>:1(information_coefficient)\n",
      "        2    0.000    0.000    0.000    0.000 {method 'random_sample' of 'mtrand.RandomState' objects}\n",
      "      631    0.000    0.000    0.000    0.000 {method 'append' of 'list' objects}\n",
      "        1    0.000    0.000    0.000    0.000 stats.py:2959(pearsonr)\n",
      "        1    0.000    0.000    0.000    0.000 support.py:69(add_jitter)\n",
      "        4    0.000    0.000    0.000    0.000 function_base.py:9(linspace)\n",
      "        2    0.000    0.000    0.000    0.000 __init__.py:86(sexpvector_to_ro)\n",
      "        1    0.000    0.000    0.051    0.051 {built-in method builtins.exec}\n",
      "        1    0.000    0.000    0.000    0.000 stats.py:5039(_betai)\n",
      "        2    0.000    0.000    0.000    0.000 _methods.py:53(_mean)\n",
      "        2    0.000    0.000    0.000    0.000 {built-in method numpy.core.multiarray.copyto}\n",
      "        2    0.000    0.000    0.000    0.000 vectors.py:239(__init__)\n",
      "        1    0.000    0.000    0.000    0.000 function_base.py:3545(meshgrid)\n",
      "        1    0.000    0.000    0.000    0.000 function_base.py:3682(<listcomp>)\n",
      "        2    0.000    0.000    0.003    0.002 functions.py:171(__call__)\n",
      "        4    0.000    0.000    0.000    0.000 {built-in method numpy.core.multiarray.arange}\n",
      "        4    0.000    0.000    0.000    0.000 {method 'min' of 'numpy.ndarray' objects}\n",
      "        5    0.000    0.000    0.000    0.000 fromnumeric.py:1737(sum)\n",
      "        1    0.000    0.000    0.000    0.000 fromnumeric.py:43(_wrapit)\n",
      "        2    0.000    0.000    0.003    0.002 <ipython-input-25-7b3ad9bcfcd1>:43(rbcv)\n",
      "        2    0.000    0.000    0.000    0.000 _kernel_base.py:437(_adjust_shape)\n",
      "        2    0.000    0.000    0.000    0.000 _methods.py:43(_count_reduce_items)\n",
      "        2    0.000    0.000    0.000    0.000 shape_base.py:61(atleast_2d)\n",
      "        9    0.000    0.000    0.000    0.000 numeric.py:406(asarray)\n",
      "        2    0.000    0.000    0.000    0.000 stats.py:5179(_sum_of_squares)\n",
      "        1    0.000    0.000    0.000    0.000 kernel_density.py:104(__init__)\n",
      "        2    0.000    0.000    0.000    0.000 numeric.py:141(ones)\n",
      "        1    0.000    0.000    0.051    0.051 <string>:1(<module>)\n",
      "        5    0.000    0.000    0.000    0.000 {method 'reshape' of 'numpy.ndarray' objects}\n",
      "        1    0.000    0.000    0.000    0.000 <ipython-input-25-7b3ad9bcfcd1>:25(<listcomp>)\n",
      "        1    0.000    0.000    0.000    0.000 getlimits.py:94(__new__)\n",
      "        4    0.000    0.000    0.000    0.000 {built-in method numpy.core.multiarray.result_type}\n",
      "        1    0.000    0.000    0.000    0.000 fromnumeric.py:1156(squeeze)\n",
      "        2    0.000    0.000    0.000    0.000 functools.py:704(dispatch)\n",
      "        1    0.000    0.000    0.000    0.000 _kernel_base.py:104(_compute_bw)\n",
      "        4    0.000    0.000    0.000    0.000 {method 'astype' of 'numpy.ndarray' objects}\n",
      "        6    0.000    0.000    0.000    0.000 numeric.py:476(asanyarray)\n",
      "       15    0.000    0.000    0.000    0.000 {built-in method builtins.len}\n",
      "        2    0.000    0.000    0.000    0.000 fromnumeric.py:128(reshape)\n",
      "        2    0.000    0.000    0.000    0.000 functions.py:102(<listcomp>)\n",
      "        1    0.000    0.000    0.000    0.000 function_base.py:3662(<listcomp>)\n",
      "        1    0.000    0.000    0.000    0.000 {built-in method numpy.core.multiarray.concatenate}\n",
      "        2    0.000    0.000    0.000    0.000 functools.py:742(wrapper)\n",
      "        2    0.000    0.000    0.000    0.000 vectors.py:455(__init__)\n",
      "        1    0.000    0.000    0.000    0.000 {built-in method numpy.core.multiarray.where}\n",
      "        2    0.000    0.000    0.000    0.000 {method 'flatten' of 'numpy.ndarray' objects}\n",
      "        2    0.000    0.000    0.000    0.000 weakref.py:364(__getitem__)\n",
      "        1    0.000    0.000    0.000    0.000 _kernel_base.py:239(_set_defaults)\n",
      "        4    0.000    0.000    0.000    0.000 {method 'do_slot' of 'rpy2.rinterface.Sexp' objects}\n",
      "        2    0.000    0.000    0.000    0.000 {method 'mean' of 'numpy.ndarray' objects}\n",
      "        4    0.000    0.000    0.000    0.000 _methods.py:28(_amin)\n",
      "        1    0.000    0.000    0.000    0.000 shape_base.py:180(vstack)\n",
      "        2    0.000    0.000    0.000    0.000 {method 'ravel' of 'numpy.ndarray' objects}\n",
      "        2    0.000    0.000    0.000    0.000 stats.py:209(_chk_asarray)\n",
      "        1    0.000    0.000    0.003    0.003 <ipython-input-25-7b3ad9bcfcd1>:11(<listcomp>)\n",
      "        2    0.000    0.000    0.000    0.000 {method 'keys' of 'dict' objects}\n",
      "        2    0.000    0.000    0.000    0.000 {built-in method builtins.hasattr}\n",
      "        2    0.000    0.000    0.000    0.000 vectors.py:141(__init__)\n",
      "        4    0.000    0.000    0.000    0.000 _methods.py:25(_amax)\n",
      "        4    0.000    0.000    0.000    0.000 {method 'max' of 'numpy.ndarray' objects}\n",
      "       12    0.000    0.000    0.000    0.000 {built-in method builtins.isinstance}\n",
      "        8    0.000    0.000    0.000    0.000 fromnumeric.py:1568(shape)\n",
      "        1    0.000    0.000    0.000    0.000 shape_base.py:230(<listcomp>)\n",
      "        1    0.000    0.000    0.000    0.000 {built-in method builtins.getattr}\n",
      "        1    0.000    0.000    0.000    0.000 {method 'disable' of '_lsprof.Profiler' objects}\n",
      "        1    0.000    0.000    0.000    0.000 function_base.py:3665(<listcomp>)\n",
      "        1    0.000    0.000    0.000    0.000 {built-in method builtins.min}\n",
      "        1    0.000    0.000    0.000    0.000 {method 'get' of 'dict' objects}\n",
      "        2    0.000    0.000    0.000    0.000 {built-in method builtins.issubclass}\n",
      "        2    0.000    0.000    0.000    0.000 {built-in method builtins.abs}\n",
      "        1    0.000    0.000    0.000    0.000 <ipython-input-25-7b3ad9bcfcd1>:26(<listcomp>)\n",
      "        1    0.000    0.000    0.000    0.000 {method 'squeeze' of 'numpy.ndarray' objects}\n",
      "        2    0.000    0.000    0.000    0.000 {method 'items' of 'dict' objects}\n",
      "        3    0.000    0.000    0.000    0.000 {method 'pop' of 'dict' objects}\n",
      "        4    0.000    0.000    0.000    0.000 vectors.py:42(__init__)\n",
      "        1    0.000    0.000    0.000    0.000 {built-in method builtins.max}\n",
      "\n",
      "\n"
     ]
    }
   ],
   "source": [
    "cProfile.run(\"information_coefficient(x, y, 'cc')\", sort=1)"
   ]
  },
  {
   "cell_type": "markdown",
   "metadata": {},
   "source": [
    "# Test data type cases"
   ]
  },
  {
   "cell_type": "code",
   "execution_count": null,
   "metadata": {
    "collapsed": true
   },
   "outputs": [],
   "source": [
    "x = np.random.random_sample(10)\n",
    "y = np.random.random_sample(10)\n",
    "print(ccal.information.information_coefficient(x, y))\n",
    "\n",
    "x = np.random.random_sample(10)\n",
    "y = np.random.random_sample(11)\n",
    "try:\n",
    "    ccal.information.information_coefficient(x, y)\n",
    "except ValueError as e:\n",
    "    print(e)\n",
    "\n",
    "x = np.random.random_sample(10)\n",
    "x[1] = None\n",
    "y = np.random.random_sample(10)\n",
    "y[2] = None\n",
    "print(ccal.information.information_coefficient(x, y))\n",
    "\n",
    "x = np.random.random_sample(10)\n",
    "x[1] = None\n",
    "y = np.random.random_sample(10)\n",
    "y[2] = None\n",
    "y[6] = None\n",
    "print(ccal.information.information_coefficient(x, y))\n",
    "\n",
    "x = np.random.random_sample(10)\n",
    "x[1] = None\n",
    "x[3] = None\n",
    "x[5] = None\n",
    "y = np.random.random_sample(10)\n",
    "y[2] = None\n",
    "y[4] = None\n",
    "print(ccal.information.information_coefficient(x, y))\n",
    "\n",
    "x = np.array([12.517, 14.706, np.nan, 14.12, np.nan, np.nan, np.nan, 12.255])\n",
    "y = np.array([0.98246356, 0.97525171, 0.77744759, 0.64084311, 0.4405853, 0.43827196, 0.12447757, 0.08116039])\n",
    "print(ccal.information.information_coefficient(x, y))"
   ]
  }
 ],
 "metadata": {
  "kernelspec": {
   "display_name": "Python 3",
   "language": "python",
   "name": "python3"
  },
  "language_info": {
   "codemirror_mode": {
    "name": "ipython",
    "version": 3
   },
   "file_extension": ".py",
   "mimetype": "text/x-python",
   "name": "python",
   "nbconvert_exporter": "python",
   "pygments_lexer": "ipython3",
   "version": "3.5.1"
  }
 },
 "nbformat": 4,
 "nbformat_minor": 0
}
