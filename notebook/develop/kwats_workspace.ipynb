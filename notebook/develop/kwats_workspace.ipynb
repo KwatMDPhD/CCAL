{
 "cells": [
  {
   "cell_type": "code",
   "execution_count": null,
   "metadata": {
    "collapsed": false
   },
   "outputs": [],
   "source": [
    "import sys\n",
    "import os\n",
    "\n",
    "import numpy as np\n",
    "import pandas as pd\n",
    "import matplotlib.pyplot as plt\n",
    "import matplotlib as mpl\n",
    "import seaborn as sns\n",
    "\n",
    "sys.path.insert(0, '../../')\n",
    "import ccal\n",
    "%matplotlib inline"
   ]
  },
  {
   "cell_type": "code",
   "execution_count": null,
   "metadata": {
    "collapsed": false
   },
   "outputs": [],
   "source": [
    "nelement = 5\n",
    "features = ccal.support.make_random_features(10, nelement)\n",
    "ref = ccal.support.make_random_features(1, nelement)"
   ]
  },
  {
   "cell_type": "code",
   "execution_count": null,
   "metadata": {
    "collapsed": true
   },
   "outputs": [],
   "source": [
    "information_coefficient = ccal.information.information_coefficient"
   ]
  },
  {
   "cell_type": "code",
   "execution_count": null,
   "metadata": {
    "collapsed": false
   },
   "outputs": [],
   "source": [
    "import math\n",
    "\n",
    "from numpy.random import choice\n",
    "import scipy.stats as stats\n",
    "\n",
    "\n",
    "nsampling = 10\n",
    "\n",
    "features_nrow, features_ncol = features.shape\n",
    "\n",
    "nsample = int(0.632 * features_ncol)\n",
    "\n",
    "sampled_scores = np.empty((features_nrow, nsampling))\n",
    "for i in range(nsampling):\n",
    "    sample_indices = choice(features.columns.tolist(), nsample).tolist()\n",
    "    sample_features = features.ix[:, sample_indices]\n",
    "    sample_ref = ref.ix[sample_indices]\n",
    "    for j, (idx, s) in enumerate(sample_features.iterrows()):\n",
    "        sampled_scores[j, i] = information_coefficient(s, sample_ref)\n",
    "\n",
    "confidence_intervals = pd.DataFrame(index=features.index, columns=['0.05', '0.5', '0.95'])\n",
    "z_critical = stats.norm.ppf(q=0.95)\n",
    "for i, feature in enumerate(sampled_scores):\n",
    "    mean = feature.mean()\n",
    "    stdev = feature.std()\n",
    "    moe = z_critical * (stdev/math.sqrt(feature.size))\n",
    "    confidence_intervals.iloc[i] = mean - moe, mean, mean + moe"
   ]
  },
  {
   "cell_type": "code",
   "execution_count": null,
   "metadata": {
    "collapsed": false
   },
   "outputs": [],
   "source": [
    "scores = ccal.analyze.compute_against_reference(features, ref)\n",
    "scores"
   ]
  },
  {
   "cell_type": "code",
   "execution_count": null,
   "metadata": {
    "collapsed": false
   },
   "outputs": [],
   "source": [
    "nperm = 5\n",
    "permutation_scores = np.empty((features_nrow, nperm))\n",
    "shuffled_ref = np.array(ref)\n",
    "for i in range(nperm):\n",
    "    np.random.shuffle(shuffled_ref)\n",
    "    for j, (idx, s) in enumerate(features.iterrows()):\n",
    "        permutation_scores[j, i] = information_coefficient(s, shuffled_ref)\n",
    "permutation_scores\n",
    "\n",
    "permutation_pval = \n",
    "for i, feature in enumerate(permutation_scores):\n",
    "    sum(feature > float(scores.iloc[i])) / nperm"
   ]
  }
 ],
 "metadata": {
  "kernelspec": {
   "display_name": "Python 3",
   "language": "python",
   "name": "python3"
  },
  "language_info": {
   "codemirror_mode": {
    "name": "ipython",
    "version": 3
   },
   "file_extension": ".py",
   "mimetype": "text/x-python",
   "name": "python",
   "nbconvert_exporter": "python",
   "pygments_lexer": "ipython3",
   "version": "3.5.1"
  }
 },
 "nbformat": 4,
 "nbformat_minor": 0
}
