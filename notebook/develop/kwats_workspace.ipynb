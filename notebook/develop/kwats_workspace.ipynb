{
 "cells": [
  {
   "cell_type": "code",
   "execution_count": 1,
   "metadata": {
    "collapsed": false
   },
   "outputs": [
    {
     "name": "stdout",
     "output_type": "stream",
     "text": [
      "===============================================================================\n",
      "==================== Computational Cancer Analysis Library ====================\n",
      "===============================================================================\n",
      "\n",
      "<21:06:54.947488> Checking dependencies ...\n",
      "<21:06:54.949794> Using the following packages:\n",
      "<21:06:54.951510> \tmatplotlib (v1.5.1)\n",
      "<21:06:54.951528> \tnumpy (v1.10.4)\n",
      "<21:06:54.951537> \tpandas (v0.18.0)\n",
      "<21:06:54.951558> \trpy2 (v2.7.9)\n",
      "<21:06:54.951566> \tscikit-learn (v0.17.1)\n",
      "<21:06:54.951573> \tscipy (v0.17.0)\n",
      "<21:06:54.951581> \tseaborn (v0.7.0)\n"
     ]
    }
   ],
   "source": [
    "import sys\n",
    "import os\n",
    "\n",
    "import numpy as nplk\n",
    "import pandas as pd\n",
    "import matplotlib.pyplot as plt\n",
    "import matplotlib as mpl\n",
    "import seaborn as sns\n",
    "\n",
    "sys.path.insert(0, '../../')\n",
    "import ccal\n",
    "%matplotlib inline\n",
    "%config InlineBackend.figure_formats = {'svg',}"
   ]
  }
 ],
 "metadata": {
  "kernelspec": {
   "display_name": "Python 3",
   "language": "python",
   "name": "python3"
  },
  "language_info": {
   "codemirror_mode": {
    "name": "ipython",
    "version": 3
   },
   "file_extension": ".py",
   "mimetype": "text/x-python",
   "name": "python",
   "nbconvert_exporter": "python",
   "pygments_lexer": "ipython3",
   "version": "3.5.1"
  }
 },
 "nbformat": 4,
 "nbformat_minor": 0
}
