{
 "cells": [
  {
   "cell_type": "code",
   "execution_count": null,
   "metadata": {
    "collapsed": false
   },
   "outputs": [],
   "source": [
    "import os\n",
    "import sys\n",
    "import math\n",
    "import random\n",
    "\n",
    "import numpy as np\n",
    "import pandas as pd\n",
    "import scipy.stats as stats\n",
    "from statsmodels.sandbox.stats.multicomp import multipletests\n",
    "from scipy.spatial import distance\n",
    "from scipy.spatial.distance import pdist\n",
    "from scipy.cluster.hierarchy import linkage, cophenet\n",
    "from sklearn.decomposition import NMF\n",
    "import matplotlib.pyplot as plt\n",
    "import seaborn as sns\n",
    "\n",
    "sys.path.insert(0, '../../')\n",
    "import ccal\n",
    "%matplotlib inline\n",
    "#%config InlineBackend.figure_formats = {'svg',}"
   ]
  },
  {
   "cell_type": "code",
   "execution_count": null,
   "metadata": {
    "collapsed": false,
    "scrolled": true
   },
   "outputs": [],
   "source": [
    "for r in range(2, 500, 100):\n",
    "    for c in range(1, 500, 100):\n",
    "        print(r, c)\n",
    "        features_random = ccal.support.make_random_features(r, c)\n",
    "        ref_random = ccal.support.make_random_features(1, c)\n",
    "        ccal.analyze.rank_features_against_reference(features_random, ref_random, n_sampling=2, n_perm=2, n_features=0, title='Title')"
   ]
  },
  {
   "cell_type": "code",
   "execution_count": null,
   "metadata": {
    "collapsed": false,
    "scrolled": false
   },
   "outputs": [],
   "source": [
    "features = ccal.support.read_gct('/Users/Kwat/Downloads/v22_pub.gct')\n",
    "component_x_cellline = ccal.support.read_gct('/Users/Kwat/Downloads/CCLE.rpkm.v2.SELECTED_SIGNATURES.v2.gct')\n",
    "ref = component_x_cellline.ix['KRAS_SALE_Late_Comp_C1_9', :]\n",
    "ccal.analyze.rank_features_against_reference(features, ref, n_sampling=1, n_perm=1)"
   ]
  },
  {
   "cell_type": "markdown",
   "metadata": {},
   "source": [
    "gridspec=plt.GridSpec(features.shape[0], features.shape[1])\n",
    "plt.subplot(gridspec.new_subplotspec((0, 0), colspan=8))\n",
    "plt.subplot(gridspec.new_subplotspec((1, 0), rowspan=features.shape[0] - 1, colspan=8))\n",
    "plt.subplot(gridspec.new_subplotspec((0, 8), rowspan=features.shape[0], colspan=2))"
   ]
  },
  {
   "cell_type": "code",
   "execution_count": null,
   "metadata": {
    "collapsed": true
   },
   "outputs": [],
   "source": [
    "# Test IC\n",
    "x = np.random.random_sample(10)\n",
    "y = np.random.random_sample(10)\n",
    "print(ccal.information.information_coefficient(x, y))\n",
    "\n",
    "x = np.random.random_sample(10)\n",
    "y = np.random.random_sample(11)\n",
    "try:\n",
    "    ccal.information.information_coefficient(x, y)\n",
    "except ValueError as e:\n",
    "    print(e)\n",
    "\n",
    "x = np.random.random_sample(10)\n",
    "x[1] = None\n",
    "y = np.random.random_sample(10)\n",
    "y[2] = None\n",
    "print(ccal.information.information_coefficient(x, y))\n",
    "\n",
    "x = np.random.random_sample(10)\n",
    "x[1] = None\n",
    "y = np.random.random_sample(10)\n",
    "y[2] = None\n",
    "y[6] = None\n",
    "print(ccal.information.information_coefficient(x, y))\n",
    "\n",
    "x = np.random.random_sample(10)\n",
    "x[1] = None\n",
    "x[3] = None\n",
    "x[5] = None\n",
    "y = np.random.random_sample(10)\n",
    "y[2] = None\n",
    "y[4] = None\n",
    "print(ccal.information.information_coefficient(x, y))\n",
    "\n",
    "x = np.array([12.517, 14.706, np.nan, 14.12, np.nan, np.nan, np.nan, 12.255])\n",
    "y = np.array([0.98246356, 0.97525171, 0.77744759, 0.64084311, 0.4405853, 0.43827196, 0.12447757, 0.08116039])\n",
    "print(ccal.information.information_coefficient(x, y))"
   ]
  }
 ],
 "metadata": {
  "kernelspec": {
   "display_name": "Python 3",
   "language": "python",
   "name": "python3"
  },
  "language_info": {
   "codemirror_mode": {
    "name": "ipython",
    "version": 3
   },
   "file_extension": ".py",
   "mimetype": "text/x-python",
   "name": "python",
   "nbconvert_exporter": "python",
   "pygments_lexer": "ipython3",
   "version": "3.5.1"
  }
 },
 "nbformat": 4,
 "nbformat_minor": 0
}
