{
 "cells": [
  {
   "cell_type": "code",
   "execution_count": 1,
   "metadata": {
    "collapsed": false
   },
   "outputs": [
    {
     "name": "stdout",
     "output_type": "stream",
     "text": [
      "===============================================================================\n",
      "==================== Computational Cancer Analysis Library ====================\n",
      "===============================================================================\n",
      "\n",
      "<11:06:25.635247> Checking dependencies ...\n",
      "<11:06:25.637456> Using the following packages:\n",
      "<11:06:25.639227> \tmatplotlib (v1.5.1)\n",
      "<11:06:25.639245> \tnumpy (v1.10.4)\n",
      "<11:06:25.639254> \tpandas (v0.18.0)\n",
      "<11:06:25.639274> \trpy2 (v2.7.9)\n",
      "<11:06:25.639282> \tscikit-learn (v0.17.1)\n",
      "<11:06:25.639289> \tscipy (v0.17.0)\n",
      "<11:06:25.639296> \tseaborn (v0.7.0)\n"
     ]
    }
   ],
   "source": [
    "import sys\n",
    "import os\n",
    "\n",
    "import numpy as nplk\n",
    "import pandas as pd\n",
    "import matplotlib.pyplot as plt\n",
    "import matplotlib as mpl\n",
    "import seaborn as sns\n",
    "\n",
    "sys.path.insert(0, '../../')\n",
    "import ccal\n",
    "%matplotlib inline\n",
    "%config InlineBackend.figure_formats = {'svg',}"
   ]
  },
  {
   "cell_type": "code",
   "execution_count": 2,
   "metadata": {
    "collapsed": false
   },
   "outputs": [
    {
     "name": "stdout",
     "output_type": "stream",
     "text": [
      "<11:06:26.063850> Computing features vs. Feature 0 using ic metric ...\n",
      "<11:06:26.063933> Using 1 intersecting columns from features and ref, which have 1 and 1 columns respectively ...\n",
      "Bootstrapping to get 0.95 confidence interval ...\n",
      "[ nan  nan  nan]\n",
      "[ nan  nan  nan]\n",
      "Performing permutation test with 3 permutations ...\n"
     ]
    }
   ],
   "source": [
    "nfeatures = 2\n",
    "nelement = 1\n",
    "features = ccal.support.make_random_features(nfeatures, nelement)\n",
    "ref = ccal.support.make_random_features(1, nelement)\n",
    "scores = ccal.analyze.rank_features_against_reference(features, ref)"
   ]
  },
  {
   "cell_type": "code",
   "execution_count": 3,
   "metadata": {
    "collapsed": false
   },
   "outputs": [
    {
     "data": {
      "text/html": [
       "<div>\n",
       "<table border=\"1\" class=\"dataframe\">\n",
       "  <thead>\n",
       "    <tr style=\"text-align: right;\">\n",
       "      <th></th>\n",
       "      <th>ic</th>\n",
       "      <th>0.95 CI</th>\n",
       "      <th>Local P-Value</th>\n",
       "      <th>Global P-Value</th>\n",
       "      <th>FDR (BH)</th>\n",
       "    </tr>\n",
       "  </thead>\n",
       "  <tbody>\n",
       "    <tr>\n",
       "      <th>Feature 0</th>\n",
       "      <td>NaN</td>\n",
       "      <td>&lt;nan, nan&gt;</td>\n",
       "      <td>0.333333</td>\n",
       "      <td>0.166667</td>\n",
       "      <td>0.166667</td>\n",
       "    </tr>\n",
       "    <tr>\n",
       "      <th>Feature 1</th>\n",
       "      <td>NaN</td>\n",
       "      <td>&lt;nan, nan&gt;</td>\n",
       "      <td>0.333333</td>\n",
       "      <td>0.166667</td>\n",
       "      <td>0.166667</td>\n",
       "    </tr>\n",
       "  </tbody>\n",
       "</table>\n",
       "</div>"
      ],
      "text/plain": [
       "           ic     0.95 CI Local P-Value Global P-Value  FDR (BH)\n",
       "Feature 0 NaN  <nan, nan>      0.333333       0.166667  0.166667\n",
       "Feature 1 NaN  <nan, nan>      0.333333       0.166667  0.166667"
      ]
     },
     "execution_count": 3,
     "metadata": {},
     "output_type": "execute_result"
    }
   ],
   "source": [
    "scores"
   ]
  },
  {
   "cell_type": "code",
   "execution_count": null,
   "metadata": {
    "collapsed": true
   },
   "outputs": [],
   "source": [
    "import os\n",
    "import math\n",
    "\n",
    "import numpy as np\n",
    "import pandas as pd\n",
    "import scipy.stats as stats\n",
    "from statsmodels.sandbox.stats.multicomp import multipletests\n",
    "from scipy.spatial import distance\n",
    "from scipy.spatial.distance import pdist\n",
    "from scipy.cluster.hierarchy import linkage, cophenet\n",
    "from sklearn.decomposition import NMF\n",
    "import matplotlib.pyplot as plt\n",
    "import seaborn as sns\n",
    "\n",
    "from ccal.visualize import CMAP_CONTINUOUS, plot_nmf_result, plot_features_and_reference, FONT16_BOLD, FONT12_BOLD, FONT20_BOLD, BLACK\n",
    "from ccal.information import information_coefficient, cmi_diff, cmi_ratio\n",
    "from ccal.support import verbose_print, establish_path"
   ]
  }
 ],
 "metadata": {
  "kernelspec": {
   "display_name": "Python 3",
   "language": "python",
   "name": "python3"
  },
  "language_info": {
   "codemirror_mode": {
    "name": "ipython",
    "version": 3
   },
   "file_extension": ".py",
   "mimetype": "text/x-python",
   "name": "python",
   "nbconvert_exporter": "python",
   "pygments_lexer": "ipython3",
   "version": "3.5.1"
  }
 },
 "nbformat": 4,
 "nbformat_minor": 0
}
