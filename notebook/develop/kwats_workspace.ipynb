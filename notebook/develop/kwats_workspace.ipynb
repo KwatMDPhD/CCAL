{
 "cells": [
  {
   "cell_type": "code",
   "execution_count": 1,
   "metadata": {
    "collapsed": false
   },
   "outputs": [
    {
     "name": "stdout",
     "output_type": "stream",
     "text": [
      "===============================================================================\n",
      "==================== Computational Cancer Analysis Library ====================\n",
      "===============================================================================\n",
      "\n",
      "<13:30:03.486418> Checking dependencies ...\n",
      "<13:30:03.488519> Using the following packages:\n",
      "<13:30:03.490248> \tmatplotlib (v1.5.1)\n",
      "<13:30:03.490283> \tnumpy (v1.10.4)\n",
      "<13:30:03.490305> \tpandas (v0.18.0)\n",
      "<13:30:03.490327> \trpy2 (v2.7.9)\n",
      "<13:30:03.490335> \tscikit-learn (v0.17.1)\n",
      "<13:30:03.490359> \tscipy (v0.17.0)\n",
      "<13:30:03.490367> \tseaborn (v0.7.0)\n"
     ]
    }
   ],
   "source": [
    "import sys\n",
    "import os\n",
    "\n",
    "import numpy as np\n",
    "import pandas as pd\n",
    "import matplotlib.pyplot as plt\n",
    "import matplotlib as mpl\n",
    "import seaborn as sns\n",
    "\n",
    "sys.path.insert(0, '../../')\n",
    "import ccal\n",
    "%matplotlib inline"
   ]
  },
  {
   "cell_type": "code",
   "execution_count": 2,
   "metadata": {
    "collapsed": false
   },
   "outputs": [],
   "source": [
    "nelement = 5\n",
    "features = ccal.support.make_random_features(10, nelement)\n",
    "ref = ccal.support.make_random_features(1, nelement)"
   ]
  },
  {
   "cell_type": "code",
   "execution_count": 10,
   "metadata": {
    "collapsed": true
   },
   "outputs": [],
   "source": [
    "import math\n",
    "from numpy.random import choice\n",
    "import scipy.stats as stats\n",
    "from statsmodels.sandbox.stats.multicomp import multipletests\n",
    "information_coefficient = ccal.information.information_coefficient\n",
    "confidence = 0.95\n",
    "nperm = 3"
   ]
  },
  {
   "cell_type": "code",
   "execution_count": 7,
   "metadata": {
    "collapsed": false
   },
   "outputs": [
    {
     "data": {
      "text/html": [
       "<div>\n",
       "<table border=\"1\" class=\"dataframe\">\n",
       "  <thead>\n",
       "    <tr style=\"text-align: right;\">\n",
       "      <th></th>\n",
       "      <th>IC</th>\n",
       "    </tr>\n",
       "  </thead>\n",
       "  <tbody>\n",
       "    <tr>\n",
       "      <th>Feature 0</th>\n",
       "      <td>0.209236</td>\n",
       "    </tr>\n",
       "    <tr>\n",
       "      <th>Feature 1</th>\n",
       "      <td>0.432830</td>\n",
       "    </tr>\n",
       "    <tr>\n",
       "      <th>Feature 2</th>\n",
       "      <td>-0.274587</td>\n",
       "    </tr>\n",
       "    <tr>\n",
       "      <th>Feature 3</th>\n",
       "      <td>-0.511382</td>\n",
       "    </tr>\n",
       "    <tr>\n",
       "      <th>Feature 4</th>\n",
       "      <td>-0.068896</td>\n",
       "    </tr>\n",
       "    <tr>\n",
       "      <th>Feature 5</th>\n",
       "      <td>-0.323407</td>\n",
       "    </tr>\n",
       "    <tr>\n",
       "      <th>Feature 6</th>\n",
       "      <td>0.408133</td>\n",
       "    </tr>\n",
       "    <tr>\n",
       "      <th>Feature 7</th>\n",
       "      <td>-0.192110</td>\n",
       "    </tr>\n",
       "    <tr>\n",
       "      <th>Feature 8</th>\n",
       "      <td>0.068516</td>\n",
       "    </tr>\n",
       "    <tr>\n",
       "      <th>Feature 9</th>\n",
       "      <td>-0.603373</td>\n",
       "    </tr>\n",
       "  </tbody>\n",
       "</table>\n",
       "</div>"
      ],
      "text/plain": [
       "                 IC\n",
       "Feature 0  0.209236\n",
       "Feature 1  0.432830\n",
       "Feature 2 -0.274587\n",
       "Feature 3 -0.511382\n",
       "Feature 4 -0.068896\n",
       "Feature 5 -0.323407\n",
       "Feature 6  0.408133\n",
       "Feature 7 -0.192110\n",
       "Feature 8  0.068516\n",
       "Feature 9 -0.603373"
      ]
     },
     "execution_count": 7,
     "metadata": {},
     "output_type": "execute_result"
    }
   ],
   "source": [
    "scores = ccal.analyze.compute_against_reference(features, ref)\n",
    "scores"
   ]
  },
  {
   "cell_type": "code",
   "execution_count": 21,
   "metadata": {
    "collapsed": false
   },
   "outputs": [
    {
     "name": "stdout",
     "output_type": "stream",
     "text": [
      "Bootstrapping to get 0.95 confidence interval ...\n"
     ]
    }
   ],
   "source": [
    "print('Bootstrapping to get {} confidence interval ...'.format(confidence))\n",
    "nsampling = 10\n",
    "confidence = 0.95\n",
    "features_nrow, features_ncol = features.shape\n",
    "\n",
    "# Bootstrap to get CI\n",
    "nsample = math.ceil(0.632 * features_ncol)\n",
    "\n",
    "# Sample\n",
    "sampled_scores = np.empty((features_nrow, nsampling))\n",
    "for i in range(nsampling):\n",
    "    sample_indices = choice(features.columns.tolist(), nsample).tolist()\n",
    "    sampled_features = features.ix[:, sample_indices]\n",
    "    sampled_ref = ref.ix[sample_indices]    \n",
    "    for j, (idx, s) in enumerate(sampled_features.iterrows()):\n",
    "        sampled_scores[j, i] = information_coefficient(s, sampled_ref)\n",
    "\n",
    "# Get confidence interval\n",
    "confidence_intervals = pd.DataFrame(index=features.index, columns=['{0:.2f} Quantile'.format(1 - confidence), '{0:.2f} Qualtile'.format(confidence)])\n",
    "z_critical = stats.norm.ppf(q=confidence)\n",
    "for i, f in enumerate(sampled_scores):\n",
    "    mean = f.mean()\n",
    "    stdev = f.std()\n",
    "    moe = z_critical * (stdev / math.sqrt(f.size))\n",
    "    confidence_intervals.iloc[i] = mean - moe, mean + moe"
   ]
  },
  {
   "cell_type": "code",
   "execution_count": 22,
   "metadata": {
    "collapsed": false
   },
   "outputs": [
    {
     "name": "stdout",
     "output_type": "stream",
     "text": [
      "Performing permutation test with 3 permutations ...\n"
     ]
    },
    {
     "name": "stderr",
     "output_type": "stream",
     "text": [
      "../../ccal/information.py:84: FutureWarning: in the future, boolean array-likes will be handled as a boolean array index\n",
      "  v = v[overlap] + jitters[i]\n"
     ]
    }
   ],
   "source": [
    "print('Performing permutation test with {} permutations ...'.format(nperm))\n",
    "permutation_scores = np.empty((features_nrow, nperm))\n",
    "shuffled_ref = np.array(ref)\n",
    "for i in range(nperm):\n",
    "    np.random.shuffle(shuffled_ref)\n",
    "    for j, (idx, s) in enumerate(features.iterrows()):\n",
    "        permutation_scores[j, i] = information_coefficient(s, shuffled_ref)\n",
    "\n",
    "permutation_pvals = pd.DataFrame(index=features.index, columns=['Local P-Value', 'Global P-Value'])\n",
    "all_permutation_scores = permutation_scores.flatten()\n",
    "for i, feature in enumerate(permutation_scores):\n",
    "    # Local P-Value\n",
    "    local_pval = float(sum(feature > float(scores.iloc[i])) / nperm)\n",
    "    if not local_pval:\n",
    "        loval_pval = float(1 / nperm)\n",
    "    permutation_pvals.ix[i, 'Local P-Value'] = local_pval\n",
    "        \n",
    "    # Global P-Value\n",
    "    global_pval = float(sum(feature > float(scores.iloc[i])) / (nperm * features_nrow))\n",
    "    if not global_pval:\n",
    "        global_pval = float(1 / (nperm * features_nrow))\n",
    "    permutation_pvals.ix[i, 'Global P-Value'] = global_pval"
   ]
  },
  {
   "cell_type": "code",
   "execution_count": 23,
   "metadata": {
    "collapsed": false
   },
   "outputs": [],
   "source": [
    "fdrs = pd.DataFrame(multipletests(permutation_pvals.ix[:, 'Global P-Value'], method='fdr_bh')[1],\n",
    "                    index=features.index, columns=['FDR (BH)'])"
   ]
  },
  {
   "cell_type": "code",
   "execution_count": 24,
   "metadata": {
    "collapsed": false
   },
   "outputs": [
    {
     "data": {
      "text/html": [
       "<div>\n",
       "<table border=\"1\" class=\"dataframe\">\n",
       "  <thead>\n",
       "    <tr style=\"text-align: right;\">\n",
       "      <th></th>\n",
       "      <th>0.05</th>\n",
       "      <th>0.95</th>\n",
       "      <th>Local P-Value</th>\n",
       "      <th>Global P-Value</th>\n",
       "      <th>FDR (BH)</th>\n",
       "    </tr>\n",
       "  </thead>\n",
       "  <tbody>\n",
       "    <tr>\n",
       "      <th>Feature 0</th>\n",
       "      <td>0.156929</td>\n",
       "      <td>0.680053</td>\n",
       "      <td>0</td>\n",
       "      <td>0.0333333</td>\n",
       "      <td>0.0666667</td>\n",
       "    </tr>\n",
       "    <tr>\n",
       "      <th>Feature 1</th>\n",
       "      <td>0.227398</td>\n",
       "      <td>0.73092</td>\n",
       "      <td>0.666667</td>\n",
       "      <td>0.0666667</td>\n",
       "      <td>0.0833333</td>\n",
       "    </tr>\n",
       "    <tr>\n",
       "      <th>Feature 2</th>\n",
       "      <td>-0.711176</td>\n",
       "      <td>-0.183365</td>\n",
       "      <td>1</td>\n",
       "      <td>0.1</td>\n",
       "      <td>0.1</td>\n",
       "    </tr>\n",
       "    <tr>\n",
       "      <th>Feature 3</th>\n",
       "      <td>-0.821584</td>\n",
       "      <td>-0.614619</td>\n",
       "      <td>1</td>\n",
       "      <td>0.1</td>\n",
       "      <td>0.1</td>\n",
       "    </tr>\n",
       "    <tr>\n",
       "      <th>Feature 4</th>\n",
       "      <td>-0.492775</td>\n",
       "      <td>0.163776</td>\n",
       "      <td>0.333333</td>\n",
       "      <td>0.0333333</td>\n",
       "      <td>0.0666667</td>\n",
       "    </tr>\n",
       "    <tr>\n",
       "      <th>Feature 5</th>\n",
       "      <td>-0.587211</td>\n",
       "      <td>0.0476509</td>\n",
       "      <td>0</td>\n",
       "      <td>0.0333333</td>\n",
       "      <td>0.0666667</td>\n",
       "    </tr>\n",
       "    <tr>\n",
       "      <th>Feature 6</th>\n",
       "      <td>0.174126</td>\n",
       "      <td>0.67741</td>\n",
       "      <td>0</td>\n",
       "      <td>0.0333333</td>\n",
       "      <td>0.0666667</td>\n",
       "    </tr>\n",
       "    <tr>\n",
       "      <th>Feature 7</th>\n",
       "      <td>-0.35923</td>\n",
       "      <td>0.370021</td>\n",
       "      <td>0</td>\n",
       "      <td>0.0333333</td>\n",
       "      <td>0.0666667</td>\n",
       "    </tr>\n",
       "    <tr>\n",
       "      <th>Feature 8</th>\n",
       "      <td>-0.16808</td>\n",
       "      <td>0.48267</td>\n",
       "      <td>0.666667</td>\n",
       "      <td>0.0666667</td>\n",
       "      <td>0.0833333</td>\n",
       "    </tr>\n",
       "    <tr>\n",
       "      <th>Feature 9</th>\n",
       "      <td>-0.627633</td>\n",
       "      <td>0.0305804</td>\n",
       "      <td>0.666667</td>\n",
       "      <td>0.0666667</td>\n",
       "      <td>0.0833333</td>\n",
       "    </tr>\n",
       "  </tbody>\n",
       "</table>\n",
       "</div>"
      ],
      "text/plain": [
       "               0.05       0.95 Local P-Value Global P-Value   FDR (BH)\n",
       "Feature 0  0.156929   0.680053             0      0.0333333  0.0666667\n",
       "Feature 1  0.227398    0.73092      0.666667      0.0666667  0.0833333\n",
       "Feature 2 -0.711176  -0.183365             1            0.1        0.1\n",
       "Feature 3 -0.821584  -0.614619             1            0.1        0.1\n",
       "Feature 4 -0.492775   0.163776      0.333333      0.0333333  0.0666667\n",
       "Feature 5 -0.587211  0.0476509             0      0.0333333  0.0666667\n",
       "Feature 6  0.174126    0.67741             0      0.0333333  0.0666667\n",
       "Feature 7  -0.35923   0.370021             0      0.0333333  0.0666667\n",
       "Feature 8  -0.16808    0.48267      0.666667      0.0666667  0.0833333\n",
       "Feature 9 -0.627633  0.0305804      0.666667      0.0666667  0.0833333"
      ]
     },
     "execution_count": 24,
     "metadata": {},
     "output_type": "execute_result"
    }
   ],
   "source": [
    "pd.concat([confidence_intervals, permutation_pvals, fdrs], axis=1)"
   ]
  }
 ],
 "metadata": {
  "kernelspec": {
   "display_name": "Python 3",
   "language": "python",
   "name": "python3"
  },
  "language_info": {
   "codemirror_mode": {
    "name": "ipython",
    "version": 3
   },
   "file_extension": ".py",
   "mimetype": "text/x-python",
   "name": "python",
   "nbconvert_exporter": "python",
   "pygments_lexer": "ipython3",
   "version": "3.5.1"
  }
 },
 "nbformat": 4,
 "nbformat_minor": 0
}
