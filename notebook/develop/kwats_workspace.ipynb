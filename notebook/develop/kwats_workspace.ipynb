{
 "cells": [
  {
   "cell_type": "code",
   "execution_count": 1,
   "metadata": {
    "collapsed": false
   },
   "outputs": [
    {
     "name": "stdout",
     "output_type": "stream",
     "text": [
      "===============================================================================\n",
      "==================== Computational Cancer Analysis Library ====================\n",
      "===============================================================================\n",
      "\n",
      "<10:13:13.705585> Checking dependencies ...\n",
      "<10:13:13.707704> Using the following packages:\n",
      "<10:13:13.709408> \tmatplotlib (v1.5.1)\n",
      "<10:13:13.709426> \tnumpy (v1.10.4)\n",
      "<10:13:13.709435> \tpandas (v0.18.0)\n",
      "<10:13:13.709455> \trpy2 (v2.7.9)\n",
      "<10:13:13.709463> \tscikit-learn (v0.17.1)\n",
      "<10:13:13.709470> \tscipy (v0.17.0)\n",
      "<10:13:13.709477> \tseaborn (v0.7.0)\n"
     ]
    }
   ],
   "source": [
    "import sys\n",
    "import os\n",
    "\n",
    "import numpy as np\n",
    "import pandas as pd\n",
    "import matplotlib.pyplot as plt\n",
    "import matplotlib as mpl\n",
    "import seaborn as sns\n",
    "\n",
    "sys.path.insert(0, '../../')\n",
    "import ccal\n",
    "%matplotlib inline"
   ]
  },
  {
   "cell_type": "code",
   "execution_count": 2,
   "metadata": {
    "collapsed": false
   },
   "outputs": [],
   "source": [
    "nelement = 5\n",
    "features = ccal.support.make_random_features(10, nelement)\n",
    "ref = ccal.support.make_random_features(1, nelement)"
   ]
  },
  {
   "cell_type": "code",
   "execution_count": 11,
   "metadata": {
    "collapsed": true
   },
   "outputs": [],
   "source": [
    "information_coefficient = ccal.information.information_coefficient\n",
    "import math\n",
    "from numpy.random import choice\n",
    "import scipy.stats as stats\n",
    "from statsmodels.sandbox.stats.multicomp import multipletests\n",
    "nsampling = 10"
   ]
  },
  {
   "cell_type": "code",
   "execution_count": 5,
   "metadata": {
    "collapsed": false
   },
   "outputs": [],
   "source": [
    "features_nrow, features_ncol = features.shape\n",
    "\n",
    "nsample = int(0.632 * features_ncol)\n",
    "\n",
    "sampled_scores = np.empty((features_nrow, nsampling))\n",
    "for i in range(nsampling):\n",
    "    sample_indices = choice(features.columns.tolist(), nsample).tolist()\n",
    "    sample_features = features.ix[:, sample_indices]\n",
    "    sample_ref = ref.ix[sample_indices]\n",
    "    for j, (idx, s) in enumerate(sample_features.iterrows()):\n",
    "        sampled_scores[j, i] = information_coefficient(s, sample_ref)\n",
    "\n",
    "confidence_intervals = pd.DataFrame(index=features.index, columns=['0.05', '0.5', '0.95'])\n",
    "z_critical = stats.norm.ppf(q=0.95)\n",
    "for i, feature in enumerate(sampled_scores):\n",
    "    mean = feature.mean()\n",
    "    stdev = feature.std()\n",
    "    moe = z_critical * (stdev/math.sqrt(feature.size))\n",
    "    confidence_intervals.iloc[i] = mean - moe, mean, mean + moe"
   ]
  },
  {
   "cell_type": "code",
   "execution_count": 7,
   "metadata": {
    "collapsed": false
   },
   "outputs": [
    {
     "data": {
      "text/html": [
       "<div>\n",
       "<table border=\"1\" class=\"dataframe\">\n",
       "  <thead>\n",
       "    <tr style=\"text-align: right;\">\n",
       "      <th></th>\n",
       "      <th>Information Coef</th>\n",
       "    </tr>\n",
       "  </thead>\n",
       "  <tbody>\n",
       "    <tr>\n",
       "      <th>Feature 0</th>\n",
       "      <td>-0.402883</td>\n",
       "    </tr>\n",
       "    <tr>\n",
       "      <th>Feature 1</th>\n",
       "      <td>0.199355</td>\n",
       "    </tr>\n",
       "    <tr>\n",
       "      <th>Feature 2</th>\n",
       "      <td>0.491121</td>\n",
       "    </tr>\n",
       "    <tr>\n",
       "      <th>Feature 3</th>\n",
       "      <td>0.314563</td>\n",
       "    </tr>\n",
       "    <tr>\n",
       "      <th>Feature 4</th>\n",
       "      <td>-0.580565</td>\n",
       "    </tr>\n",
       "    <tr>\n",
       "      <th>Feature 5</th>\n",
       "      <td>-0.351007</td>\n",
       "    </tr>\n",
       "    <tr>\n",
       "      <th>Feature 6</th>\n",
       "      <td>-0.521534</td>\n",
       "    </tr>\n",
       "    <tr>\n",
       "      <th>Feature 7</th>\n",
       "      <td>0.101534</td>\n",
       "    </tr>\n",
       "    <tr>\n",
       "      <th>Feature 8</th>\n",
       "      <td>-0.688293</td>\n",
       "    </tr>\n",
       "    <tr>\n",
       "      <th>Feature 9</th>\n",
       "      <td>0.446230</td>\n",
       "    </tr>\n",
       "  </tbody>\n",
       "</table>\n",
       "</div>"
      ],
      "text/plain": [
       "           Information Coef\n",
       "Feature 0         -0.402883\n",
       "Feature 1          0.199355\n",
       "Feature 2          0.491121\n",
       "Feature 3          0.314563\n",
       "Feature 4         -0.580565\n",
       "Feature 5         -0.351007\n",
       "Feature 6         -0.521534\n",
       "Feature 7          0.101534\n",
       "Feature 8         -0.688293\n",
       "Feature 9          0.446230"
      ]
     },
     "execution_count": 7,
     "metadata": {},
     "output_type": "execute_result"
    }
   ],
   "source": [
    "scores = ccal.analyze.compute_against_reference(features, ref)\n",
    "scores"
   ]
  },
  {
   "cell_type": "code",
   "execution_count": 10,
   "metadata": {
    "collapsed": false
   },
   "outputs": [
    {
     "name": "stderr",
     "output_type": "stream",
     "text": [
      "../../ccal/information.py:84: FutureWarning: in the future, boolean array-likes will be handled as a boolean array index\n",
      "  v = v[overlap] + jitters[i]\n"
     ]
    },
    {
     "data": {
      "text/plain": [
       "array([ 0.8,  0.2,  0.2,  0.4,  1. ,  1. ,  0.8,  0.4,  1. ,  0.2])"
      ]
     },
     "execution_count": 10,
     "metadata": {},
     "output_type": "execute_result"
    }
   ],
   "source": [
    "nperm = 5\n",
    "permutation_scores = np.empty((features_nrow, nperm))\n",
    "shuffled_ref = np.array(ref)\n",
    "for i in range(nperm):\n",
    "    np.random.shuffle(shuffled_ref)\n",
    "    for j, (idx, s) in enumerate(features.iterrows()):\n",
    "        permutation_scores[j, i] = information_coefficient(s, shuffled_ref)\n",
    "permutation_scores\n",
    "\n",
    "permutation_pval = np.empty(features_nrow)\n",
    "for i, feature in enumerate(permutation_scores):\n",
    "    pval = sum(feature > float(scores.iloc[i])) / nperm\n",
    "    if pval:\n",
    "        permutation_pval[i] = sum(feature > float(scores.iloc[i])) / nperm\n",
    "    else:\n",
    "        permutation_pval[i] = 1/nperm\n",
    "permutation_pval"
   ]
  },
  {
   "cell_type": "code",
   "execution_count": 12,
   "metadata": {
    "collapsed": false
   },
   "outputs": [
    {
     "data": {
      "text/plain": [
       "(array([False, False, False, False, False, False, False, False, False, False], dtype=bool),\n",
       " array([ 1.        ,  0.66666667,  0.66666667,  0.8       ,  1.        ,\n",
       "         1.        ,  1.        ,  0.8       ,  1.        ,  0.66666667]),\n",
       " 0.0051161968918237433,\n",
       " 0.005)"
      ]
     },
     "execution_count": 12,
     "metadata": {},
     "output_type": "execute_result"
    }
   ],
   "source": [
    "multipletests(permutation_pval, method='fdr_bh')"
   ]
  },
  {
   "cell_type": "code",
   "execution_count": null,
   "metadata": {
    "collapsed": true
   },
   "outputs": [],
   "source": []
  }
 ],
 "metadata": {
  "kernelspec": {
   "display_name": "Python 3",
   "language": "python",
   "name": "python3"
  },
  "language_info": {
   "codemirror_mode": {
    "name": "ipython",
    "version": 3
   },
   "file_extension": ".py",
   "mimetype": "text/x-python",
   "name": "python",
   "nbconvert_exporter": "python",
   "pygments_lexer": "ipython3",
   "version": "3.5.1"
  }
 },
 "nbformat": 4,
 "nbformat_minor": 0
}
