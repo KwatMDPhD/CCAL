{
 "cells": [
  {
   "cell_type": "code",
   "execution_count": 1,
   "metadata": {
    "collapsed": false
   },
   "outputs": [
    {
     "name": "stdout",
     "output_type": "stream",
     "text": [
      "===============================================================================\n",
      "================ Computational Cancer Biology Analysis Library ================\n",
      "===============================================================================\n",
      "\n",
      "<16:35:44.163552> Checking dependencies ...\n",
      "<16:35:44.166474> Using the following packages:\n",
      "<16:35:44.168738> \tmatplotlib v1.5.1\n",
      "<16:35:44.168763> \tnumpy v1.10.4\n",
      "<16:35:44.168774> \tpandas v0.18.0\n",
      "<16:35:44.168801> \trpy2 v2.7.9\n",
      "<16:35:44.168812> \tscikit-learn v0.17.1\n",
      "<16:35:44.168822> \tscipy v0.17.0\n",
      "<16:35:44.168832> \tseaborn v0.7.0\n"
     ]
    }
   ],
   "source": [
    "import sys\n",
    "\n",
    "import numpy as np\n",
    "import pandas as pd\n",
    "import matplotlib.pyplot as plt\n",
    "import matplotlib as mpl\n",
    "import seaborn as sns\n",
    "\n",
    "sys.path.insert(0, '/Users/Kwat/binf/cca')\n",
    "import ccal\n",
    "\n",
    "%matplotlib inline"
   ]
  },
  {
   "cell_type": "markdown",
   "metadata": {},
   "source": [
    "# Make test data"
   ]
  },
  {
   "cell_type": "code",
   "execution_count": 15,
   "metadata": {
    "collapsed": true
   },
   "outputs": [],
   "source": [
    "nrow = 10\n",
    "ncol = 10\n",
    "row_names = ['feature {}'.format(i) for i in range(nrow)]\n",
    "col_names = ['elemenet {}'.format(i) for i in range(ncol)]\n",
    "\n",
    "features = pd.DataFrame(np.random.random((nrow, ncol)),\n",
    "                        index=row_names,\n",
    "                        columns=col_names)\n",
    "\n",
    "scores = pd.DataFrame(np.random.rand(nrow), index=row_names, columns=['p-value'])\n",
    "\n",
    "ref_type = 'categorical'\n",
    "if ref_type == 'continuous':\n",
    "    ref = pd.DataFrame(np.random.rand(ncol), index=col_names, columns=['Reference']).T\n",
    "else:\n",
    "    if ref_type == 'categorical':\n",
    "        n_category = 6\n",
    "    elif ref_type == 'binary':\n",
    "        n_category = 1\n",
    "    ref = pd.DataFrame(np.random.random_integers(0, n_category, ncol), index=col_names, columns=['Reference']).T"
   ]
  },
  {
   "cell_type": "code",
   "execution_count": 16,
   "metadata": {
    "collapsed": false
   },
   "outputs": [
    {
     "name": "stdout",
     "output_type": "stream",
     "text": [
      "<16:37:27.762798> boundaries: [0, 2, 3, 6, 9, 10]\n",
      "<16:37:27.762868> label_horizontal_positions: [1.0, 2.5, 4.5, 7.5, 9.5]\n"
     ]
    },
    {
     "data": {
      "image/png": "[encoded data removed]",
      "text/plain": [
       "<matplotlib.figure.Figure at 0x120e36b38>"
      ]
     },
     "metadata": {},
     "output_type": "display_data"
    },
    {
     "name": "stdout",
     "output_type": "stream",
     "text": [
      "<16:37:28.024382> Saving the figure as figure.pdf ...\n"
     ]
    }
   ],
   "source": [
    "ccal.visualize.plot_heatmap_panel(ref, features, scores, ref_type=ref_type, title='Title', filename='figure')"
   ]
  },
  {
   "cell_type": "markdown",
   "metadata": {},
   "source": [
    "# NMF"
   ]
  },
  {
   "cell_type": "code",
   "execution_count": null,
   "metadata": {
    "collapsed": false
   },
   "outputs": [],
   "source": [
    "nmf_result = ccbal.analyze.nmf(features, [3], plot=True)"
   ]
  },
  {
   "cell_type": "code",
   "execution_count": null,
   "metadata": {
    "collapsed": false
   },
   "outputs": [],
   "source": [
    "ns, runtimes = ccbal.support.runtime(ccbal.information.information_coefficient, n_range=range(10))"
   ]
  },
  {
   "cell_type": "code",
   "execution_count": null,
   "metadata": {
    "collapsed": false
   },
   "outputs": [],
   "source": [
    "from scipy.stats import pearsonr\n",
    "ns, runtimes = ccbal.support.runtime(pearsonr, n_range=range(10))"
   ]
  },
  {
   "cell_type": "code",
   "execution_count": null,
   "metadata": {
    "collapsed": false
   },
   "outputs": [],
   "source": [
    "# make_heatmap_panel is in the ccba/library/ccba.py\n",
    "# make_heatmap_panel calls plot_heatmap_panel, which is in the ccba/library/visualize.py\n",
    "# make_heatmap_panel computes IC of each features's row and the ref (target).\n",
    "# In the future, we can add other computation within this function so it can compute P-Val and FDR as well.\n",
    "make_heatmap_panel(features, ref, ['IC', 'P-Val'])"
   ]
  },
  {
   "cell_type": "markdown",
   "metadata": {},
   "source": [
    "# XXX"
   ]
  },
  {
   "cell_type": "code",
   "execution_count": null,
   "metadata": {
    "collapsed": true
   },
   "outputs": [],
   "source": [
    "# Feature selection test with real data for IC, CMI diff, and CMI ratio association metrics\n",
    "## Ranking 60 genes + target profile with respect to the activation profile of KRAS component 6 (BRAF/MAPK)\n",
    "\n",
    "\n",
    "\n",
    "## Feature selection using Information Coefficient\n",
    "\n",
    "start_time = time.time()\n",
    "\n",
    "gct1 = read_gct('/Users/tamayo/UCSD_2015/signatures/paper2/analysis/top_hits.gct', fill_na=0)\n",
    "gct2 = read_gct('/Users/tamayo/UCSD_2015/signatures/Onco-GPS/CCLE_RNAseq_KRAS_SALE_Late.No_HAEM.k_9.H.v1.gct', fill_na=0)\n",
    "\n",
    "common_cols = list(set(gct1.columns) & set(gct2.columns))\n",
    "A = gct1[common_cols]\n",
    "B = gct2[common_cols]\n",
    "target = pd.DataFrame(B.loc['KRAS_SALE_Late_Comp_C6_9'])\n",
    "target = target.T\n",
    "\n",
    "IC = np.zeros(A.shape[0])\n",
    "for i in range(A.shape[0]):\n",
    "    IC[i] = round(compute_information_coefficient(x=target.iloc[0,:], y=A.iloc[i,:]), 3)  \n",
    "                \n",
    "IC_order = list(np.argsort(IC, kind='quicksort'))\n",
    "IC = IC[IC_order]\n",
    "A_sorted = A.reindex(A.index[IC_order]) \n",
    "\n",
    "end_time = time.time() \n",
    "print(\"Feature selection time %s seconds \" % (end_time - start_time))\n",
    "\n",
    "IC_val = pd.Series(IC[:A.shape[0]], name = \"IC\")\n",
    "features = A_sorted.head(A.shape[0])\n",
    "plot_heatmap_panel_v2(target, features, IC_val, \"KRAS component 6 (BRAF/MAPK) co-essential genes\")\n",
    "\n",
    "## Feature selection using CMI diff\n",
    "\n",
    "start_time = time.time()\n",
    "\n",
    "gct1 = read_gct('/Users/tamayo/UCSD_2015/signatures/paper2/analysis/top_hits.gct', fill_na=0)\n",
    "gct2 = read_gct('/Users/tamayo/UCSD_2015/signatures/Onco-GPS/CCLE_RNAseq_KRAS_SALE_Late.No_HAEM.k_9.H.v1.gct', fill_na=0)\n",
    "\n",
    "common_cols = list(set(gct1.columns) & set(gct2.columns))\n",
    "A = gct1[common_cols]\n",
    "B = gct2[common_cols]\n",
    "target = pd.DataFrame(B.loc['KRAS_SALE_Late_Comp_C6_9'])\n",
    "target = target.T\n",
    "\n",
    "CMI_diff_vals = np.zeros(A.shape[0])\n",
    "for i in range(A.shape[0]):\n",
    "    CMI_diff_vals[i] = round(CMI_diff(x=target.iloc[0,:], y=A.iloc[i,:]), 3)  \n",
    "                \n",
    "CMI_order = list(np.argsort(CMI_diff_vals, kind='quicksort'))\n",
    "CMI_diff_vals = CMI_diff_vals[CMI_order]\n",
    "A_sorted = A.reindex(A.index[CMI_order]) \n",
    "\n",
    "end_time = time.time() \n",
    "print(\"Feature selection time %s seconds \" % (end_time - start_time))\n",
    "\n",
    "CMI_val = pd.Series(CMI_diff_vals[:A.shape[0]], name = \"CMI diff\")\n",
    "features = A_sorted.head(A.shape[0])\n",
    "plot_heatmap_panel_v2(target, features, CMI_val, \"KRAS component 6 (BRAF/MAPK) co-essential genes\")\n",
    "\n",
    "## Feature selection using CMI ratio\n",
    "\n",
    "start_time = time.time()\n",
    "\n",
    "\n",
    "gct1 = read_gct('/Users/tamayo/UCSD_2015/signatures/paper2/analysis/top_hits.gct', fill_na=0)\n",
    "gct2 = read_gct('/Users/tamayo/UCSD_2015/signatures/Onco-GPS/CCLE_RNAseq_KRAS_SALE_Late.No_HAEM.k_9.H.v1.gct', fill_na=0)\n",
    "\n",
    "common_cols = list(set(gct1.columns) & set(gct2.columns))\n",
    "A = gct1[common_cols]\n",
    "B = gct2[common_cols]\n",
    "target = pd.DataFrame(B.loc['KRAS_SALE_Late_Comp_C6_9'])\n",
    "target = target.T\n",
    "\n",
    "CMI_ratio_vals = np.zeros(A.shape[0])\n",
    "for i in range(A.shape[0]):\n",
    "    CMI_ratio_vals[i] = round(CMI_ratio(x=target.iloc[0,:], y=A.iloc[i,:]), 3)  \n",
    "                \n",
    "CMI_order = list(np.argsort(CMI_ratio_vals, kind='quicksort'))\n",
    "CMI_ratio_vals = CMI_ratio_vals[CMI_order]\n",
    "A_sorted = A.reindex(A.index[CMI_order]) \n",
    "\n",
    "end_time = time.time() \n",
    "print(\"Feature selection time %s seconds \" % (end_time - start_time))\n",
    "\n",
    "CMI_val = pd.Series(CMI_ratio_vals[:A.shape[0]], name = \"CMI ratio\")\n",
    "features = A_sorted.head(A.shape[0])\n",
    "\n",
    "plot_heatmap_panel_v2(target, features, CMI_val, \"KRAS component 6 (BRAF/MAPK) co-essential genes\")"
   ]
  }
 ],
 "metadata": {
  "kernelspec": {
   "display_name": "Python 3",
   "language": "python",
   "name": "python3"
  },
  "language_info": {
   "codemirror_mode": {
    "name": "ipython",
    "version": 3
   },
   "file_extension": ".py",
   "mimetype": "text/x-python",
   "name": "python",
   "nbconvert_exporter": "python",
   "pygments_lexer": "ipython3",
   "version": "3.5.1"
  }
 },
 "nbformat": 4,
 "nbformat_minor": 0
}
