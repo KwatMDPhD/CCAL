{
 "cells": [
  {
   "cell_type": "code",
   "execution_count": 1,
   "metadata": {
    "collapsed": false
   },
   "outputs": [
    {
     "name": "stdout",
     "output_type": "stream",
     "text": [
      "===============================================================================\n",
      "==================== Computational Cancer Analysis Library ====================\n",
      "===============================================================================\n",
      "\n",
      "<13:30:50.080581> Checking dependencies ...\n",
      "<13:30:50.082700> Using the following packages:\n",
      "<13:30:50.084362> \tmatplotlib (v1.5.1)\n",
      "<13:30:50.084380> \tnumpy (v1.10.4)\n",
      "<13:30:50.084388> \tpandas (v0.18.0)\n",
      "<13:30:50.084409> \trpy2 (v2.7.9)\n",
      "<13:30:50.084416> \tscikit-learn (v0.17.1)\n",
      "<13:30:50.084423> \tscipy (v0.17.0)\n",
      "<13:30:50.084430> \tseaborn (v0.7.0)\n"
     ]
    }
   ],
   "source": [
    "import sys\n",
    "import os\n",
    "\n",
    "import numpy as np\n",
    "import pandas as pd\n",
    "import matplotlib.pyplot as plt\n",
    "import matplotlib as mpl\n",
    "import seaborn as sns\n",
    "\n",
    "sys.path.insert(0, '/Users/Kwat/binf/cca')\n",
    "import ccal\n",
    "\n",
    "%matplotlib inline"
   ]
  },
  {
   "cell_type": "markdown",
   "metadata": {},
   "source": [
    "# Make test data"
   ]
  },
  {
   "cell_type": "code",
   "execution_count": 2,
   "metadata": {
    "collapsed": false
   },
   "outputs": [],
   "source": [
    "nrow = 50\n",
    "nrow_2 = nrow + 30\n",
    "ncol = 200\n",
    "ncol_2 = ncol + 30\n",
    "\n",
    "row_names = ['feature {}'.format(i) for i in range(nrow)]\n",
    "row_names_2 = ['feature {}'.format(i) for i in range(nrow_2)]\n",
    "col_names = ['elemenet {}'.format(i) for i in range(ncol)]\n",
    "col_names_2 = ['elemenet {}'.format(i) for i in range(ncol_2)]\n",
    "\n",
    "features = pd.DataFrame(np.random.random((nrow_2, ncol_2)),\n",
    "                        index=row_names_2,\n",
    "                        columns=col_names_2)\n",
    "scores = pd.DataFrame(np.random.rand(nrow), index=row_names, columns=['p-value'])\n",
    "\n",
    "ref_type = 'categorical'\n",
    "if ref_type == 'continuous':\n",
    "    ref = pd.DataFrame(np.random.rand(ncol), index=col_names, columns=['Reference']).T\n",
    "else:\n",
    "    if ref_type == 'categorical':\n",
    "        n_category = 6\n",
    "    elif ref_type == 'binary':\n",
    "        n_category = 1\n",
    "    ref = pd.DataFrame(np.random.random_integers(0, n_category, ncol), index=col_names, columns=['Reference']).T"
   ]
  },
  {
   "cell_type": "markdown",
   "metadata": {},
   "source": [
    "# Load data"
   ]
  },
  {
   "cell_type": "code",
   "execution_count": 3,
   "metadata": {
    "collapsed": false
   },
   "outputs": [],
   "source": [
    "features = ccal.support.read_gct('../../data/test/HNSCC_PATHWAYS.v2.gct')\n",
    "refs = ccal.support.read_gct('../../data/test/additional_YAP_signatures.gct')"
   ]
  },
  {
   "cell_type": "markdown",
   "metadata": {},
   "source": [
    "# Make functions"
   ]
  },
  {
   "cell_type": "code",
   "execution_count": 4,
   "metadata": {
    "collapsed": false
   },
   "outputs": [],
   "source": [
    "verbose_print = ccal.support.verbose_print\n",
    "information_coefficient = ccal.information.information_coefficient\n",
    "establish_path = ccal.support.establish_path\n",
    "\n",
    "CMAP_CONTINUOUS = ccal.visualize.CMAP_CONTINUOUS\n",
    "CMAP_CATEGORICAL = ccal.visualize.CMAP_CATEGORICAL\n",
    "FONT20_BOLD = ccal.visualize.FONT20_BOLD\n",
    "FONT16_BOLD = ccal.visualize.FONT16_BOLD\n",
    "FONT12_BOLD = ccal.visualize.FONT12_BOLD\n",
    "FONT12 = ccal.visualize.FONT12\n",
    "BLACK = ccal.visualize.BLACK\n",
    "ref_type = 'continuous'\n",
    "output_directory = '../../data/features'"
   ]
  },
  {
   "cell_type": "code",
   "execution_count": 5,
   "metadata": {
    "collapsed": false
   },
   "outputs": [],
   "source": [
    "def rank_features_against_references(features, refs, metric, ref_type='continuous', relationship='direct',\n",
    "                                     sort_ref=True, n_features_to_plot=50, output_directory=None):\n",
    "    \"\"\"\n",
    "    Compute features vs. each ref in `refs`.\n",
    "    :param features: pandas DataFrame (n_features, m_elements), must have indices and columns\n",
    "    :param refs: pandas DataFrame (n_features, m_elements), must have indices and columns, which must match 'features`'s\n",
    "    :param metric: str, {information}\n",
    "    :param relationship: str, {direct, inverse}\n",
    "    :param ref_type: str, {continuous, categorical, binary}\n",
    "    :param sort_ref: bool, sort each ref or not\n",
    "    :param n_features_to_plot: int, number of top features to plot\n",
    "    :param output_directory: str, directory path to save the result (.txt) and figure (.TODO)\n",
    "    :return: None\n",
    "    \"\"\"\n",
    "    if output_directory:\n",
    "        establish_path(os.path.abspath(output_directory))\n",
    "\n",
    "    for i, (idx, ref) in enumerate(refs.iterrows()):\n",
    "        verbose_print('features vs. {} ({}/{}) ...'.format(idx, i + 1, refs.shape[0]))\n",
    "\n",
    "        # Use only the intersecting columns\n",
    "        col_intersection = set(features.columns) & set(ref.index)\n",
    "        verbose_print(\n",
    "            'Using {} intersecting columns from features and ref, which have {} and {} columns respectively ...'.format(\n",
    "                len(col_intersection), features.shape[1], ref.size))\n",
    "        features = features.ix[:, col_intersection]\n",
    "        ref = ref.ix[col_intersection]\n",
    "\n",
    "        # Sort ref and features\n",
    "        # TODO: check the relationship logic\n",
    "        if sort_ref:\n",
    "            ref = ref.sort_values(ascending=(relationship == 'inverse'))\n",
    "        features = features.reindex_axis(ref.index, axis=1)\n",
    "\n",
    "        # Compute scores, join them in features, and rank features based on scores\n",
    "        scores = compute_against_reference(features, ref, metric)\n",
    "        features = features.join(scores)\n",
    "        # TODO: decide what metric to sort by\n",
    "        features.sort_values(features.columns[-1], ascending=False, inplace=True)\n",
    "\n",
    "        # Plot features panel\n",
    "        verbose_print('Plotting top {} features vs. ref ...'.format(n_features_to_plot))\n",
    "        plot_features_and_reference(pd.DataFrame(features.ix[:n_features_to_plot, features.columns[:-1]]),\n",
    "                                    ref,\n",
    "                                    pd.DataFrame(features.ix[:n_features_to_plot, features.columns[-1]]),\n",
    "                                    ref_type=ref_type, output_directory=output_directory)\n",
    "        if output_directory:\n",
    "            features.to_csv(os.path.join(output_directory, '{}.txt'.format(ref.name)), sep='\\t')\n",
    "\n",
    "\n",
    "def compute_against_reference(features, ref, metric):\n",
    "    \"\"\"\n",
    "    Compute scores[i] = `features`[i] vs. `ref` with computation using `metric`.\n",
    "    :param features: pandas DataFrame (n_features, m_elements), must have indices and columns\n",
    "    :param ref: pandas Series (m_elements), must have indices, which must match 'features`'s columns\n",
    "    :param metric: str, {information}\n",
    "    :return: pandas DataFrame (n_features, 1),\n",
    "    \"\"\"\n",
    "    # Compute score[i] = <features>[i] vs. <ref>\n",
    "    if 'information' in metric:\n",
    "        # TODO: return Series\n",
    "        return pd.DataFrame([information_coefficient(ref, row[1]) for row in features.iterrows()],\n",
    "                            index=features.index, columns=['information'])\n",
    "    else:\n",
    "        raise ValueError('Unknown metric {}.'.format(metric))\n",
    "\n",
    "def plot_features_and_reference(features, ref, scores, ref_type='continuous', output_directory=None):\n",
    "    \"\"\"\n",
    "    Plot a heatmap panel.\n",
    "    :param features: pandas DataFrame (n_features, m_elements), must have indices and columns\n",
    "    :param ref: pandas Series (m_elements), must have indices, which must match 'features`'s columns\n",
    "    :param scores:  pandas DataFrame (n_features, 1), must have the same index and columns\n",
    "    :param ref_type: str, {continuous, categorical, binary}\n",
    "    :param output_directory: str, directory path to save the figure\n",
    "    :return: None\n",
    "    \"\"\"\n",
    "    features_nrow, features_ncol = features.shape\n",
    "\n",
    "    # Initialize figure\n",
    "    if features_ncol > 30 or features_nrow > 50:\n",
    "        fig_width, fig_height = 9, 16\n",
    "    else:\n",
    "        fig_width, fig_height = 5, 10\n",
    "    fig = plt.figure(figsize=(fig_width, fig_height), dpi=900)\n",
    "    text_margin = 0.2\n",
    "\n",
    "    # Set heatmap parameters for ref\n",
    "    if ref_type == 'binary':\n",
    "        ref_cmap = CMAP_BINARY\n",
    "        ref_min, ref_max = 0, 1\n",
    "    elif ref_type == 'categorical':\n",
    "        ref_cmap = CMAP_CATEGORICAL\n",
    "        ref_min, ref_max = 0, np.unique(ref.values).size\n",
    "    elif ref_type == 'continuous':\n",
    "        ref_cmap = CMAP_CONTINUOUS\n",
    "        ref_min, ref_max = -2.5, 2.5\n",
    "        # Normalize continuous values\n",
    "        ref = (ref - np.mean(ref.ix[0, :])) / np.std(ref.ix[0, :])\n",
    "    else:\n",
    "        raise ValueError('Unknown ref_type {}.'.format(ref_type))\n",
    "\n",
    "    # Set heatmap parameters for features and normalize features\n",
    "    if np.unique(features).size == 2:\n",
    "        features_cmap = CMAP_BINARY\n",
    "        features_min, features_max = 0, 1\n",
    "        # TODO:\n",
    "        features += 0.1\n",
    "    else:\n",
    "        features_cmap = CMAP_CONTINUOUS\n",
    "        features_min, features_max = -2.5, 2.5\n",
    "        # Normalize continuous values\n",
    "        for i, (idx, s) in enumerate(features.iterrows()):\n",
    "            mean = s.mean()\n",
    "            std = s.std()\n",
    "            for j, v in enumerate(s):\n",
    "                features.iloc[i, j] = (v - mean) / std\n",
    "\n",
    "    # Plot ref\n",
    "    ref_ax = plt.subplot2grid((features_nrow, 1), (0, 0))\n",
    "    ref_ax.text(features_ncol / 2, 3, ref.name, horizontalalignment='center', verticalalignment='bottom',\n",
    "                **FONT20_BOLD)\n",
    "    sns.heatmap(pd.DataFrame(ref).T, vmin=ref_min, vmax=ref_max, robust=True, center=None, mask=None,\n",
    "                square=False, cmap=ref_cmap, linewidth=0, linecolor=BLACK,\n",
    "                annot=False, fmt=None, annot_kws={}, xticklabels=False,\n",
    "                yticklabels=False, cbar=False)\n",
    "    # Add ref texts\n",
    "    ref_ax.text(-text_margin, 0.5, ref.index[0],\n",
    "                horizontalalignment='right', verticalalignment='center',\n",
    "                **FONT12_BOLD)\n",
    "    ref_ax.text(features_ncol + text_margin, 0.5, scores.columns[0],\n",
    "                horizontalalignment='left', verticalalignment='center',\n",
    "                **FONT12_BOLD)\n",
    "    if ref_type in ('binary', 'categorical'):\n",
    "\n",
    "        # Get boundaries\n",
    "        boundaries = [0]\n",
    "        prev_v = ref.iloc[0, 0]\n",
    "        for i, v in enumerate(ref.iloc[0, 1:]):\n",
    "            if prev_v != v:\n",
    "                boundaries.append(i + 1)\n",
    "            prev_v = v\n",
    "        boundaries.append(features_ncol)\n",
    "        verbose_print('boundaries: {}'.format(boundaries))\n",
    "\n",
    "        # Get label horizontal positions\n",
    "        label_horizontal_positions = []\n",
    "        prev_b = 0\n",
    "        for b in boundaries[1:]:\n",
    "            label_horizontal_positions.append(b - (b - prev_b) / 2)\n",
    "            prev_b = b\n",
    "        verbose_print('label_horizontal_positions: {}'.format(label_horizontal_positions))\n",
    "        unique_ref_labels = np.unique(ref.values)[::-1]\n",
    "\n",
    "        # Add categories\n",
    "        for i, pos in enumerate(label_horizontal_positions):\n",
    "            ref_ax.text(pos, 1, unique_ref_labels[i], horizontalalignment='center', verticalalignment='bottom',\n",
    "                        **FONT16_BOLD)\n",
    "\n",
    "    # Plot features\n",
    "    features_ax = plt.subplot2grid((features_nrow, 1), (0, 1), rowspan=features_nrow)\n",
    "    sns.heatmap(features, vmin=features_min, vmax=features_max, robust=True, center=None, mask=None,\n",
    "                square=False, cmap=features_cmap, linewidth=0, linecolor=BLACK,\n",
    "                annot=False, fmt=None, annot_kws={}, xticklabels=False,\n",
    "                yticklabels=False, cbar=False)\n",
    "\n",
    "    for i, idx in enumerate(features.index):\n",
    "        features_ax.text(-text_margin, features_nrow - i - 0.5, idx, horizontalalignment='right',\n",
    "                         verticalalignment='center', **FONT12)\n",
    "        features_ax.text(features_ncol + text_margin, features_nrow - i - 0.5, '{:.3e}'.format(scores.iloc[i, 0]),\n",
    "                         horizontalalignment='left', verticalalignment='center', **FONT12)\n",
    "\n",
    "    fig.tight_layout()\n",
    "    plt.show(fig)\n",
    "\n",
    "    if output_directory:\n",
    "        fig.savefig(os.path.join(output_directory, '{}.pdf'.format(ref.name)))"
   ]
  },
  {
   "cell_type": "code",
   "execution_count": 6,
   "metadata": {
    "collapsed": false
   },
   "outputs": [
    {
     "name": "stdout",
     "output_type": "stream",
     "text": [
      "<13:30:58.554677> features vs. siTAZ_DN (1/14) ...\n",
      "<13:30:58.554903> Using 566 intersecting columns from features and ref, which have 566 and 566 columns respectively ...\n",
      "<13:31:01.380688> Plotting top 50 features vs. ref ...\n"
     ]
    },
    {
     "ename": "IndexingError",
     "evalue": "Too many indexers",
     "output_type": "error",
     "traceback": [
      "\u001b[0;31m---------------------------------------------------------------------------\u001b[0m",
      "\u001b[0;31mIndexingError\u001b[0m                             Traceback (most recent call last)",
      "\u001b[0;32m<ipython-input-6-3af6af31cc0e>\u001b[0m in \u001b[0;36m<module>\u001b[0;34m()\u001b[0m\n\u001b[0;32m----> 1\u001b[0;31m \u001b[0mrank_features_against_references\u001b[0m\u001b[0;34m(\u001b[0m\u001b[0mfeatures\u001b[0m\u001b[0;34m,\u001b[0m \u001b[0mrefs\u001b[0m\u001b[0;34m,\u001b[0m \u001b[0;34m'information'\u001b[0m\u001b[0;34m,\u001b[0m \u001b[0mref_type\u001b[0m\u001b[0;34m=\u001b[0m\u001b[0;34m'categorical'\u001b[0m\u001b[0;34m,\u001b[0m \u001b[0moutput_directory\u001b[0m\u001b[0;34m=\u001b[0m\u001b[0moutput_directory\u001b[0m\u001b[0;34m)\u001b[0m\u001b[0;34m\u001b[0m\u001b[0m\n\u001b[0m",
      "\u001b[0;32m<ipython-input-5-f0b6d7423b04>\u001b[0m in \u001b[0;36mrank_features_against_references\u001b[0;34m(features, refs, metric, ref_type, relationship, sort_ref, n_features_to_plot, output_directory)\u001b[0m\n\u001b[1;32m     44\u001b[0m                                     \u001b[0mref\u001b[0m\u001b[0;34m,\u001b[0m\u001b[0;34m\u001b[0m\u001b[0m\n\u001b[1;32m     45\u001b[0m                                     \u001b[0mpd\u001b[0m\u001b[0;34m.\u001b[0m\u001b[0mDataFrame\u001b[0m\u001b[0;34m(\u001b[0m\u001b[0mfeatures\u001b[0m\u001b[0;34m.\u001b[0m\u001b[0mix\u001b[0m\u001b[0;34m[\u001b[0m\u001b[0;34m:\u001b[0m\u001b[0mn_features_to_plot\u001b[0m\u001b[0;34m,\u001b[0m \u001b[0mfeatures\u001b[0m\u001b[0;34m.\u001b[0m\u001b[0mcolumns\u001b[0m\u001b[0;34m[\u001b[0m\u001b[0;34m-\u001b[0m\u001b[0;36m1\u001b[0m\u001b[0;34m]\u001b[0m\u001b[0;34m]\u001b[0m\u001b[0;34m)\u001b[0m\u001b[0;34m,\u001b[0m\u001b[0;34m\u001b[0m\u001b[0m\n\u001b[0;32m---> 46\u001b[0;31m                                     ref_type=ref_type, output_directory=output_directory)\n\u001b[0m\u001b[1;32m     47\u001b[0m         \u001b[0;32mif\u001b[0m \u001b[0moutput_directory\u001b[0m\u001b[0;34m:\u001b[0m\u001b[0;34m\u001b[0m\u001b[0m\n\u001b[1;32m     48\u001b[0m             \u001b[0mfeatures\u001b[0m\u001b[0;34m.\u001b[0m\u001b[0mto_csv\u001b[0m\u001b[0;34m(\u001b[0m\u001b[0mos\u001b[0m\u001b[0;34m.\u001b[0m\u001b[0mpath\u001b[0m\u001b[0;34m.\u001b[0m\u001b[0mjoin\u001b[0m\u001b[0;34m(\u001b[0m\u001b[0moutput_directory\u001b[0m\u001b[0;34m,\u001b[0m \u001b[0;34m'{}.txt'\u001b[0m\u001b[0;34m.\u001b[0m\u001b[0mformat\u001b[0m\u001b[0;34m(\u001b[0m\u001b[0mref\u001b[0m\u001b[0;34m.\u001b[0m\u001b[0mname\u001b[0m\u001b[0;34m)\u001b[0m\u001b[0;34m)\u001b[0m\u001b[0;34m,\u001b[0m \u001b[0msep\u001b[0m\u001b[0;34m=\u001b[0m\u001b[0;34m'\\t'\u001b[0m\u001b[0;34m)\u001b[0m\u001b[0;34m\u001b[0m\u001b[0m\n",
      "\u001b[0;32m<ipython-input-5-f0b6d7423b04>\u001b[0m in \u001b[0;36mplot_features_and_reference\u001b[0;34m(features, ref, scores, ref_type, output_directory)\u001b[0m\n\u001b[1;32m    135\u001b[0m         \u001b[0;31m# Get boundaries\u001b[0m\u001b[0;34m\u001b[0m\u001b[0;34m\u001b[0m\u001b[0m\n\u001b[1;32m    136\u001b[0m         \u001b[0mboundaries\u001b[0m \u001b[0;34m=\u001b[0m \u001b[0;34m[\u001b[0m\u001b[0;36m0\u001b[0m\u001b[0;34m]\u001b[0m\u001b[0;34m\u001b[0m\u001b[0m\n\u001b[0;32m--> 137\u001b[0;31m         \u001b[0mprev_v\u001b[0m \u001b[0;34m=\u001b[0m \u001b[0mref\u001b[0m\u001b[0;34m.\u001b[0m\u001b[0miloc\u001b[0m\u001b[0;34m[\u001b[0m\u001b[0;36m0\u001b[0m\u001b[0;34m,\u001b[0m \u001b[0;36m0\u001b[0m\u001b[0;34m]\u001b[0m\u001b[0;34m\u001b[0m\u001b[0m\n\u001b[0m\u001b[1;32m    138\u001b[0m         \u001b[0;32mfor\u001b[0m \u001b[0mi\u001b[0m\u001b[0;34m,\u001b[0m \u001b[0mv\u001b[0m \u001b[0;32min\u001b[0m \u001b[0menumerate\u001b[0m\u001b[0;34m(\u001b[0m\u001b[0mref\u001b[0m\u001b[0;34m.\u001b[0m\u001b[0miloc\u001b[0m\u001b[0;34m[\u001b[0m\u001b[0;36m0\u001b[0m\u001b[0;34m,\u001b[0m \u001b[0;36m1\u001b[0m\u001b[0;34m:\u001b[0m\u001b[0;34m]\u001b[0m\u001b[0;34m)\u001b[0m\u001b[0;34m:\u001b[0m\u001b[0;34m\u001b[0m\u001b[0m\n\u001b[1;32m    139\u001b[0m             \u001b[0;32mif\u001b[0m \u001b[0mprev_v\u001b[0m \u001b[0;34m!=\u001b[0m \u001b[0mv\u001b[0m\u001b[0;34m:\u001b[0m\u001b[0;34m\u001b[0m\u001b[0m\n",
      "\u001b[0;32m/Applications/anaconda3/lib/python3.5/site-packages/pandas/core/indexing.py\u001b[0m in \u001b[0;36m__getitem__\u001b[0;34m(self, key)\u001b[0m\n\u001b[1;32m   1282\u001b[0m     \u001b[0;32mdef\u001b[0m \u001b[0m__getitem__\u001b[0m\u001b[0;34m(\u001b[0m\u001b[0mself\u001b[0m\u001b[0;34m,\u001b[0m \u001b[0mkey\u001b[0m\u001b[0;34m)\u001b[0m\u001b[0;34m:\u001b[0m\u001b[0;34m\u001b[0m\u001b[0m\n\u001b[1;32m   1283\u001b[0m         \u001b[0;32mif\u001b[0m \u001b[0mtype\u001b[0m\u001b[0;34m(\u001b[0m\u001b[0mkey\u001b[0m\u001b[0;34m)\u001b[0m \u001b[0;32mis\u001b[0m \u001b[0mtuple\u001b[0m\u001b[0;34m:\u001b[0m\u001b[0;34m\u001b[0m\u001b[0m\n\u001b[0;32m-> 1284\u001b[0;31m             \u001b[0;32mreturn\u001b[0m \u001b[0mself\u001b[0m\u001b[0;34m.\u001b[0m\u001b[0m_getitem_tuple\u001b[0m\u001b[0;34m(\u001b[0m\u001b[0mkey\u001b[0m\u001b[0;34m)\u001b[0m\u001b[0;34m\u001b[0m\u001b[0m\n\u001b[0m\u001b[1;32m   1285\u001b[0m         \u001b[0;32melse\u001b[0m\u001b[0;34m:\u001b[0m\u001b[0;34m\u001b[0m\u001b[0m\n\u001b[1;32m   1286\u001b[0m             \u001b[0;32mreturn\u001b[0m \u001b[0mself\u001b[0m\u001b[0;34m.\u001b[0m\u001b[0m_getitem_axis\u001b[0m\u001b[0;34m(\u001b[0m\u001b[0mkey\u001b[0m\u001b[0;34m,\u001b[0m \u001b[0maxis\u001b[0m\u001b[0;34m=\u001b[0m\u001b[0;36m0\u001b[0m\u001b[0;34m)\u001b[0m\u001b[0;34m\u001b[0m\u001b[0m\n",
      "\u001b[0;32m/Applications/anaconda3/lib/python3.5/site-packages/pandas/core/indexing.py\u001b[0m in \u001b[0;36m_getitem_tuple\u001b[0;34m(self, tup)\u001b[0m\n\u001b[1;32m   1503\u001b[0m     \u001b[0;32mdef\u001b[0m \u001b[0m_getitem_tuple\u001b[0m\u001b[0;34m(\u001b[0m\u001b[0mself\u001b[0m\u001b[0;34m,\u001b[0m \u001b[0mtup\u001b[0m\u001b[0;34m)\u001b[0m\u001b[0;34m:\u001b[0m\u001b[0;34m\u001b[0m\u001b[0m\n\u001b[1;32m   1504\u001b[0m \u001b[0;34m\u001b[0m\u001b[0m\n\u001b[0;32m-> 1505\u001b[0;31m         \u001b[0mself\u001b[0m\u001b[0;34m.\u001b[0m\u001b[0m_has_valid_tuple\u001b[0m\u001b[0;34m(\u001b[0m\u001b[0mtup\u001b[0m\u001b[0;34m)\u001b[0m\u001b[0;34m\u001b[0m\u001b[0m\n\u001b[0m\u001b[1;32m   1506\u001b[0m         \u001b[0;32mtry\u001b[0m\u001b[0;34m:\u001b[0m\u001b[0;34m\u001b[0m\u001b[0m\n\u001b[1;32m   1507\u001b[0m             \u001b[0;32mreturn\u001b[0m \u001b[0mself\u001b[0m\u001b[0;34m.\u001b[0m\u001b[0m_getitem_lowerdim\u001b[0m\u001b[0;34m(\u001b[0m\u001b[0mtup\u001b[0m\u001b[0;34m)\u001b[0m\u001b[0;34m\u001b[0m\u001b[0m\n",
      "\u001b[0;32m/Applications/anaconda3/lib/python3.5/site-packages/pandas/core/indexing.py\u001b[0m in \u001b[0;36m_has_valid_tuple\u001b[0;34m(self, key)\u001b[0m\n\u001b[1;32m    135\u001b[0m         \u001b[0;32mfor\u001b[0m \u001b[0mi\u001b[0m\u001b[0;34m,\u001b[0m \u001b[0mk\u001b[0m \u001b[0;32min\u001b[0m \u001b[0menumerate\u001b[0m\u001b[0;34m(\u001b[0m\u001b[0mkey\u001b[0m\u001b[0;34m)\u001b[0m\u001b[0;34m:\u001b[0m\u001b[0;34m\u001b[0m\u001b[0m\n\u001b[1;32m    136\u001b[0m             \u001b[0;32mif\u001b[0m \u001b[0mi\u001b[0m \u001b[0;34m>=\u001b[0m \u001b[0mself\u001b[0m\u001b[0;34m.\u001b[0m\u001b[0mobj\u001b[0m\u001b[0;34m.\u001b[0m\u001b[0mndim\u001b[0m\u001b[0;34m:\u001b[0m\u001b[0;34m\u001b[0m\u001b[0m\n\u001b[0;32m--> 137\u001b[0;31m                 \u001b[0;32mraise\u001b[0m \u001b[0mIndexingError\u001b[0m\u001b[0;34m(\u001b[0m\u001b[0;34m'Too many indexers'\u001b[0m\u001b[0;34m)\u001b[0m\u001b[0;34m\u001b[0m\u001b[0m\n\u001b[0m\u001b[1;32m    138\u001b[0m             \u001b[0;32mif\u001b[0m \u001b[0;32mnot\u001b[0m \u001b[0mself\u001b[0m\u001b[0;34m.\u001b[0m\u001b[0m_has_valid_type\u001b[0m\u001b[0;34m(\u001b[0m\u001b[0mk\u001b[0m\u001b[0;34m,\u001b[0m \u001b[0mi\u001b[0m\u001b[0;34m)\u001b[0m\u001b[0;34m:\u001b[0m\u001b[0;34m\u001b[0m\u001b[0m\n\u001b[1;32m    139\u001b[0m                 raise ValueError(\"Location based indexing can only have [%s] \"\n",
      "\u001b[0;31mIndexingError\u001b[0m: Too many indexers"
     ]
    },
    {
     "data": {
      "image/png": "[encoded data removed]",
      "text/plain": [
       "<matplotlib.figure.Figure at 0x10acbd6a0>"
      ]
     },
     "metadata": {},
     "output_type": "display_data"
    }
   ],
   "source": [
    "rank_features_against_references(features, refs, 'information', ref_type='categorical', output_directory=output_directory)"
   ]
  },
  {
   "cell_type": "markdown",
   "metadata": {},
   "source": [
    "# NMF"
   ]
  },
  {
   "cell_type": "code",
   "execution_count": null,
   "metadata": {
    "collapsed": false
   },
   "outputs": [],
   "source": [
    "nmf_result = ccbal.analyze.nmf(features, [3], plot=True)"
   ]
  },
  {
   "cell_type": "code",
   "execution_count": null,
   "metadata": {
    "collapsed": false
   },
   "outputs": [],
   "source": [
    "ns, runtimes = ccbal.support.runtime(ccbal.information.information_coefficient, n_range=range(10))"
   ]
  },
  {
   "cell_type": "code",
   "execution_count": null,
   "metadata": {
    "collapsed": false
   },
   "outputs": [],
   "source": [
    "from scipy.stats import pearsonr\n",
    "ns, runtimes = ccbal.support.runtime(pearsonr, n_range=range(10))"
   ]
  },
  {
   "cell_type": "code",
   "execution_count": null,
   "metadata": {
    "collapsed": false
   },
   "outputs": [],
   "source": [
    "# make_heatmap_panel is in the ccba/library/ccba.py\n",
    "# make_heatmap_panel calls plot_heatmap_panel, which is in the ccba/library/visualize.py\n",
    "# make_heatmap_panel computes IC of each features's row and the ref (target).\n",
    "# In the future, we can add other computation within this function so it can compute P-Val and FDR as well.\n",
    "make_heatmap_panel(features, ref, ['IC', 'P-Val'])"
   ]
  },
  {
   "cell_type": "markdown",
   "metadata": {},
   "source": [
    "# XXX"
   ]
  },
  {
   "cell_type": "code",
   "execution_count": null,
   "metadata": {
    "collapsed": true
   },
   "outputs": [],
   "source": [
    "# Feature selection test with real data for IC, CMI diff, and CMI ratio association metrics\n",
    "## Ranking 60 genes + target profile with respect to the activation profile of KRAS component 6 (BRAF/MAPK)\n",
    "\n",
    "\n",
    "\n",
    "## Feature selection using Information Coefficient\n",
    "\n",
    "start_time = time.time()\n",
    "\n",
    "gct1 = read_gct('/Users/tamayo/UCSD_2015/signatures/paper2/analysis/top_hits.gct', fill_na=0)\n",
    "gct2 = read_gct('/Users/tamayo/UCSD_2015/signatures/Onco-GPS/CCLE_RNAseq_KRAS_SALE_Late.No_HAEM.k_9.H.v1.gct', fill_na=0)\n",
    "\n",
    "common_cols = list(set(gct1.columns) & set(gct2.columns))\n",
    "A = gct1[common_cols]\n",
    "B = gct2[common_cols]\n",
    "target = pd.DataFrame(B.loc['KRAS_SALE_Late_Comp_C6_9'])\n",
    "target = target.T\n",
    "\n",
    "IC = np.zeros(A.shape[0])\n",
    "for i in range(A.shape[0]):\n",
    "    IC[i] = round(compute_information_coefficient(x=target.iloc[0,:], y=A.iloc[i,:]), 3)  \n",
    "                \n",
    "IC_order = list(np.argsort(IC, kind='quicksort'))\n",
    "IC = IC[IC_order]\n",
    "A_sorted = A.reindex(A.index[IC_order]) \n",
    "\n",
    "end_time = time.time() \n",
    "print(\"Feature selection time %s seconds \" % (end_time - start_time))\n",
    "\n",
    "IC_val = pd.Series(IC[:A.shape[0]], name = \"IC\")\n",
    "features = A_sorted.head(A.shape[0])\n",
    "plot_heatmap_panel_v2(target, features, IC_val, \"KRAS component 6 (BRAF/MAPK) co-essential genes\")\n",
    "\n",
    "## Feature selection using CMI diff\n",
    "\n",
    "start_time = time.time()\n",
    "\n",
    "gct1 = read_gct('/Users/tamayo/UCSD_2015/signatures/paper2/analysis/top_hits.gct', fill_na=0)\n",
    "gct2 = read_gct('/Users/tamayo/UCSD_2015/signatures/Onco-GPS/CCLE_RNAseq_KRAS_SALE_Late.No_HAEM.k_9.H.v1.gct', fill_na=0)\n",
    "\n",
    "common_cols = list(set(gct1.columns) & set(gct2.columns))\n",
    "A = gct1[common_cols]\n",
    "B = gct2[common_cols]\n",
    "target = pd.DataFrame(B.loc['KRAS_SALE_Late_Comp_C6_9'])\n",
    "target = target.T\n",
    "\n",
    "CMI_diff_vals = np.zeros(A.shape[0])\n",
    "for i in range(A.shape[0]):\n",
    "    CMI_diff_vals[i] = round(CMI_diff(x=target.iloc[0,:], y=A.iloc[i,:]), 3)  \n",
    "                \n",
    "CMI_order = list(np.argsort(CMI_diff_vals, kind='quicksort'))\n",
    "CMI_diff_vals = CMI_diff_vals[CMI_order]\n",
    "A_sorted = A.reindex(A.index[CMI_order]) \n",
    "\n",
    "end_time = time.time() \n",
    "print(\"Feature selection time %s seconds \" % (end_time - start_time))\n",
    "\n",
    "CMI_val = pd.Series(CMI_diff_vals[:A.shape[0]], name = \"CMI diff\")\n",
    "features = A_sorted.head(A.shape[0])\n",
    "plot_heatmap_panel_v2(target, features, CMI_val, \"KRAS component 6 (BRAF/MAPK) co-essential genes\")\n",
    "\n",
    "## Feature selection using CMI ratio\n",
    "\n",
    "start_time = time.time()\n",
    "\n",
    "\n",
    "gct1 = read_gct('/Users/tamayo/UCSD_2015/signatures/paper2/analysis/top_hits.gct', fill_na=0)\n",
    "gct2 = read_gct('/Users/tamayo/UCSD_2015/signatures/Onco-GPS/CCLE_RNAseq_KRAS_SALE_Late.No_HAEM.k_9.H.v1.gct', fill_na=0)\n",
    "\n",
    "common_cols = list(set(gct1.columns) & set(gct2.columns))\n",
    "A = gct1[common_cols]\n",
    "B = gct2[common_cols]\n",
    "target = pd.DataFrame(B.loc['KRAS_SALE_Late_Comp_C6_9'])\n",
    "target = target.T\n",
    "\n",
    "CMI_ratio_vals = np.zeros(A.shape[0])\n",
    "for i in range(A.shape[0]):\n",
    "    CMI_ratio_vals[i] = round(CMI_ratio(x=target.iloc[0,:], y=A.iloc[i,:]), 3)  \n",
    "                \n",
    "CMI_order = list(np.argsort(CMI_ratio_vals, kind='quicksort'))\n",
    "CMI_ratio_vals = CMI_ratio_vals[CMI_order]\n",
    "A_sorted = A.reindex(A.index[CMI_order]) \n",
    "\n",
    "end_time = time.time() \n",
    "print(\"Feature selection time %s seconds \" % (end_time - start_time))\n",
    "\n",
    "CMI_val = pd.Series(CMI_ratio_vals[:A.shape[0]], name = \"CMI ratio\")\n",
    "features = A_sorted.head(A.shape[0])\n",
    "\n",
    "plot_heatmap_panel_v2(target, features, CMI_val, \"KRAS component 6 (BRAF/MAPK) co-essential genes\")"
   ]
  }
 ],
 "metadata": {
  "kernelspec": {
   "display_name": "Python 3",
   "language": "python",
   "name": "python3"
  },
  "language_info": {
   "codemirror_mode": {
    "name": "ipython",
    "version": 3
   },
   "file_extension": ".py",
   "mimetype": "text/x-python",
   "name": "python",
   "nbconvert_exporter": "python",
   "pygments_lexer": "ipython3",
   "version": "3.5.1"
  }
 },
 "nbformat": 4,
 "nbformat_minor": 0
}
