{
 "cells": [
  {
   "cell_type": "code",
   "execution_count": 1,
   "metadata": {
    "collapsed": false
   },
   "outputs": [
    {
     "name": "stdout",
     "output_type": "stream",
     "text": [
      "===============================================================================\n",
      "==================== Computational Cancer Analysis Library ====================\n",
      "===============================================================================\n",
      "\n",
      "<19:56:38.775753> Checking dependencies ...\n",
      "<19:56:38.778067> Using the following packages:\n",
      "<19:56:38.779748> \tmatplotlib (v1.5.1)\n",
      "<19:56:38.779766> \tnumpy (v1.10.4)\n",
      "<19:56:38.779774> \tpandas (v0.18.0)\n",
      "<19:56:38.779795> \trpy2 (v2.7.9)\n",
      "<19:56:38.779803> \tscikit-learn (v0.17.1)\n",
      "<19:56:38.779810> \tscipy (v0.17.0)\n",
      "<19:56:38.779817> \tseaborn (v0.7.0)\n"
     ]
    }
   ],
   "source": [
    "import sys\n",
    "import os\n",
    "\n",
    "import numpy as np\n",
    "import pandas as pd\n",
    "import matplotlib.pyplot as plt\n",
    "import matplotlib as mpl\n",
    "import seaborn as sns\n",
    "\n",
    "sys.path.insert(0, '/Users/Kwat/binf/cca')\n",
    "import ccal\n",
    "%matplotlib inline"
   ]
  },
  {
   "cell_type": "markdown",
   "metadata": {},
   "source": [
    "# Make data"
   ]
  },
  {
   "cell_type": "code",
   "execution_count": 8,
   "metadata": {
    "collapsed": false
   },
   "outputs": [],
   "source": [
    "random_features_1 = ccal.support.make_random_features_and_refs(5, 5)\n",
    "random_features_2 = ccal.support.make_random_features_and_refs(5, 5)"
   ]
  }
 ],
 "metadata": {
  "kernelspec": {
   "display_name": "Python 3",
   "language": "python",
   "name": "python3"
  },
  "language_info": {
   "codemirror_mode": {
    "name": "ipython",
    "version": 3
   },
   "file_extension": ".py",
   "mimetype": "text/x-python",
   "name": "python",
   "nbconvert_exporter": "python",
   "pygments_lexer": "ipython3",
   "version": "3.5.1"
  }
 },
 "nbformat": 4,
 "nbformat_minor": 0
}
