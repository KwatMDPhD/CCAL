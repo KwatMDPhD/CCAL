{
 "cells": [
  {
   "cell_type": "code",
   "execution_count": 1,
   "metadata": {
    "collapsed": false
   },
   "outputs": [
    {
     "name": "stdout",
     "output_type": "stream",
     "text": [
      "===============================================================================\n",
      "==================== Computational Cancer Analysis Library ====================\n",
      "===============================================================================\n",
      "\n",
      "<11:08:06.328329> Checking dependencies ...\n",
      "<11:08:06.330501> Using the following packages:\n",
      "<11:08:06.332240> \tmatplotlib (v1.5.1)\n",
      "<11:08:06.332259> \tnumpy (v1.10.4)\n",
      "<11:08:06.332268> \tpandas (v0.18.0)\n",
      "<11:08:06.332289> \trpy2 (v2.7.9)\n",
      "<11:08:06.332297> \tscikit-learn (v0.17.1)\n",
      "<11:08:06.332304> \tscipy (v0.17.0)\n",
      "<11:08:06.332312> \tseaborn (v0.7.0)\n"
     ]
    }
   ],
   "source": [
    "import sys\n",
    "import os\n",
    "\n",
    "import numpy as nplk\n",
    "import pandas as pd\n",
    "import matplotlib.pyplot as plt\n",
    "import matplotlib as mpl\n",
    "import seaborn as sns\n",
    "\n",
    "sys.path.insert(0, '../../')\n",
    "import ccal\n",
    "%matplotlib inline\n",
    "%config InlineBackend.figure_formats = {'svg',}"
   ]
  },
  {
   "cell_type": "code",
   "execution_count": 3,
   "metadata": {
    "collapsed": false
   },
   "outputs": [
    {
     "name": "stdout",
     "output_type": "stream",
     "text": [
      "<11:08:40.310500> Computing features vs. Feature 0 using ic metric ...\n",
      "<11:08:40.310565> Using 4 intersecting columns from features and ref, which have 4 and 4 columns respectively ...\n",
      "Bootstrapping to get 0.95 confidence interval ...\n",
      "Element 1    0.419045\n",
      "Element 1    0.419045\n",
      "Element 0    0.215470\n",
      "Name: Feature 0, dtype: float64\n",
      "Element 1    0.780077\n",
      "Element 1    0.780077\n",
      "Element 0    0.393359\n",
      "Name: Feature 0, dtype: float64\n",
      "0.848292014093\n",
      "Element 1    0.356024\n",
      "Element 1    0.356024\n",
      "Element 0    0.948898\n",
      "Name: Feature 1, dtype: float64\n",
      "Element 1    0.780077\n",
      "Element 1    0.780077\n",
      "Element 0    0.393359\n",
      "Name: Feature 0, dtype: float64\n",
      "-0.848292014093\n",
      "Element 1    0.077841\n",
      "Element 1    0.077841\n",
      "Element 0    0.017757\n",
      "Name: Feature 2, dtype: float64\n",
      "Element 1    0.780077\n",
      "Element 1    0.780077\n",
      "Element 0    0.393359\n",
      "Name: Feature 0, dtype: float64\n",
      "0.848292014093\n",
      "Element 1    0.891892\n",
      "Element 1    0.891892\n",
      "Element 0    0.825346\n",
      "Name: Feature 3, dtype: float64\n",
      "Element 1    0.780077\n",
      "Element 1    0.780077\n",
      "Element 0    0.393359\n",
      "Name: Feature 0, dtype: float64\n",
      "0.848292014093\n",
      "Element 0    0.215470\n",
      "Element 0    0.215470\n",
      "Element 1    0.419045\n",
      "Name: Feature 0, dtype: float64\n",
      "Element 0    0.393359\n",
      "Element 0    0.393359\n",
      "Element 1    0.780077\n",
      "Name: Feature 0, dtype: float64\n",
      "0.848292014093\n",
      "Element 0    0.948898\n",
      "Element 0    0.948898\n",
      "Element 1    0.356024\n",
      "Name: Feature 1, dtype: float64\n",
      "Element 0    0.393359\n",
      "Element 0    0.393359\n",
      "Element 1    0.780077\n",
      "Name: Feature 0, dtype: float64\n",
      "-0.848292014093\n",
      "Element 0    0.017757\n",
      "Element 0    0.017757\n",
      "Element 1    0.077841\n",
      "Name: Feature 2, dtype: float64\n",
      "Element 0    0.393359\n",
      "Element 0    0.393359\n",
      "Element 1    0.780077\n",
      "Name: Feature 0, dtype: float64\n",
      "0.848292014093\n",
      "Element 0    0.825346\n",
      "Element 0    0.825346\n",
      "Element 1    0.891892\n",
      "Name: Feature 3, dtype: float64\n",
      "Element 0    0.393359\n",
      "Element 0    0.393359\n",
      "Element 1    0.780077\n",
      "Name: Feature 0, dtype: float64\n",
      "0.848292014093\n",
      "Element 2    0.69681\n",
      "Element 0    0.21547\n",
      "Element 0    0.21547\n",
      "Name: Feature 0, dtype: float64\n",
      "Element 2    0.326545\n",
      "Element 0    0.393359\n",
      "Element 0    0.393359\n",
      "Name: Feature 0, dtype: float64\n",
      "-0.848292014093\n",
      "Element 2    0.933150\n",
      "Element 0    0.948898\n",
      "Element 0    0.948898\n",
      "Name: Feature 1, dtype: float64\n",
      "Element 2    0.326545\n",
      "Element 0    0.393359\n",
      "Element 0    0.393359\n",
      "Name: Feature 0, dtype: float64\n",
      "0.848292014093\n",
      "Element 2    0.585409\n",
      "Element 0    0.017757\n",
      "Element 0    0.017757\n",
      "Name: Feature 2, dtype: float64\n",
      "Element 2    0.326545\n",
      "Element 0    0.393359\n",
      "Element 0    0.393359\n",
      "Name: Feature 0, dtype: float64\n",
      "-0.848292014093\n",
      "Element 2    0.483203\n",
      "Element 0    0.825346\n",
      "Element 0    0.825346\n",
      "Name: Feature 3, dtype: float64\n",
      "Element 2    0.326545\n",
      "Element 0    0.393359\n",
      "Element 0    0.393359\n",
      "Name: Feature 0, dtype: float64\n",
      "0.848292014093\n",
      "Performing permutation test with 3 permutations ...\n"
     ]
    },
    {
     "name": "stderr",
     "output_type": "stream",
     "text": [
      "../../ccal/information.py:84: FutureWarning: in the future, boolean array-likes will be handled as a boolean array index\n",
      "  v = v[overlap] + jitters[i]\n"
     ]
    }
   ],
   "source": [
    "nfeatures = 4\n",
    "nelement = 4\n",
    "features = ccal.support.make_random_features(nfeatures, nelement)\n",
    "ref = ccal.support.make_random_features(1, nelement)\n",
    "scores = ccal.analyze.rank_features_against_reference(features, ref)"
   ]
  },
  {
   "cell_type": "code",
   "execution_count": null,
   "metadata": {
    "collapsed": false
   },
   "outputs": [],
   "source": [
    "scores"
   ]
  },
  {
   "cell_type": "code",
   "execution_count": null,
   "metadata": {
    "collapsed": true
   },
   "outputs": [],
   "source": [
    "import os\n",
    "import math\n",
    "\n",
    "import numpy as np\n",
    "import pandas as pd\n",
    "import scipy.stats as stats\n",
    "from statsmodels.sandbox.stats.multicomp import multipletests\n",
    "from scipy.spatial import distance\n",
    "from scipy.spatial.distance import pdist\n",
    "from scipy.cluster.hierarchy import linkage, cophenet\n",
    "from sklearn.decomposition import NMF\n",
    "import matplotlib.pyplot as plt\n",
    "import seaborn as sns\n",
    "\n",
    "from ccal.visualize import CMAP_CONTINUOUS, plot_nmf_result, plot_features_and_reference, FONT16_BOLD, FONT12_BOLD, FONT20_BOLD, BLACK\n",
    "from ccal.information import information_coefficient, cmi_diff, cmi_ratio\n",
    "from ccal.support import verbose_print, establish_path"
   ]
  }
 ],
 "metadata": {
  "kernelspec": {
   "display_name": "Python 3",
   "language": "python",
   "name": "python3"
  },
  "language_info": {
   "codemirror_mode": {
    "name": "ipython",
    "version": 3
   },
   "file_extension": ".py",
   "mimetype": "text/x-python",
   "name": "python",
   "nbconvert_exporter": "python",
   "pygments_lexer": "ipython3",
   "version": "3.5.1"
  }
 },
 "nbformat": 4,
 "nbformat_minor": 0
}
