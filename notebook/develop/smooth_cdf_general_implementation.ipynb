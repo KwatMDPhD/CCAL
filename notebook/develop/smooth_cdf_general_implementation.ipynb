{
 "cells": [
  {
   "cell_type": "markdown",
   "metadata": {
    "collapsed": true
   },
   "source": [
    "# Smooth data on a $b \\times b$ grid then compute the Cumutal Mutual Information based on the difference between joint and marginal cumulative entropies\n"
   ]
  },
  {
   "cell_type": "code",
   "execution_count": 17,
   "metadata": {
    "collapsed": false
   },
   "outputs": [
    {
     "name": "stdout",
     "output_type": "stream",
     "text": [
      "1.4486167471\n"
     ]
    }
   ],
   "source": [
    "import matplotlib.pyplot as plt\n",
    "%matplotlib inline\n",
    "import numpy\n",
    "\n",
    "sizeOfVector = 50\n",
    "x = numpy.random.rand(sizeOfVector) #For a given vector x with random value numbers and\n",
    "#y = x + numpy.random.rand(sizeOfVector)*0.01\n",
    "y = numpy.random.rand(sizeOfVector) #a given vector y with random value numbers\n",
    "\n",
    "#print(x)\n",
    "#print(y)\n",
    "\n",
    "\n",
    "b= 25 #Assign size of the grid to an integer b\n",
    "\n",
    "\n",
    "#Distribution formula in 1 dimension\n",
    "P = [1/(i+1) for i in range(b)]\n",
    "\n",
    "#print(P)\n",
    "\n",
    "x_p = ((x-min(x))/(max(x)-min(x)))*b #Let x' be the vector x rescaled on the interval [0,b]\n",
    "y_p = ((y-min(y))/(max(y)-min(y)))*b #Let y' be the vector y rescaled on the interval [0,b]\n",
    "\n",
    "#print(x)\n",
    "#print(x_p)\n",
    "#print(x*25)\n",
    "#print(y_p)\n",
    "#print(y*25)\n",
    "\n",
    "\n",
    "#Take the ceiling of x_p and y_p\n",
    "for i in range(0,sizeOfVector):\n",
    "    x_p[i] = numpy.ceil(x_p[i])\n",
    "    y_p[i] = numpy.ceil(y_p[i])\n",
    "    \n",
    "\n",
    "#print(\"x coordinates are: \")\n",
    "#print(x_p)\n",
    "#print(\"y coordinates are: \")\n",
    "#print(y_p)\n",
    "\n",
    "#Cumulative Density function in 2D\n",
    "PXY= [[0 for i in range(b)] for i in range(b)]\n",
    "\n",
    "\n",
    "#Keep a counter of every point at every upper right corner\n",
    "\n",
    "for j in range (1,b+1):\n",
    "    for i in range (1, b+1): #For every upper right corner\n",
    "        #print(\"(\" + str(i) + \",\" + str(j) + \")\") #print points      \n",
    "        distribution = 0\n",
    "        for k in range (0, sizeOfVector): #For every point data given\n",
    "            if (x_p[k]== i) and (y_p[k] == j): #If the point of the data matches the upper right hand corner\n",
    "                #print(\"(\" + str(x_p[k]) + \",\" + str(y_p[k]) + \")\")\n",
    "                distribution = distribution +1 #Then add 1 to the distribution counter\n",
    "                #print(distribution)\n",
    "        PXY[i-1][j-1] = distribution/sizeOfVector\n",
    "        \n",
    "#print(PXY)\n",
    "\n",
    "#Calculate Cumulative Entropy of X and Y (Note CE(X) = CE(Y) by symmetry)\n",
    "CEXoY = 0\n",
    "for i in range (b):\n",
    "    CEXoY = CEXoY - P[i]*numpy.log(P[i])\n",
    "\n",
    "#print(CEXoY)\n",
    " \n",
    "#Calculate CE(X,Y)\n",
    "CEXY =0 \n",
    "for i in range (1, b):\n",
    "    for j in range (1 ,b):\n",
    "        if (PXY[i][j] != 0):\n",
    "            CEXY = CEXY - PXY[i][j]*numpy.log(PXY[i][j])\n",
    "            \n",
    "#print(CEXY)\n",
    "\n",
    "#Caculate Cumulative Mutual Information\n",
    "CMI = (max(y) - numpy.mean(y))*CEXoY + (max(x)- numpy.mean(x))*CEXoY- CEXY\n",
    "\n",
    "print(CMI)"
   ]
  },
  {
   "cell_type": "markdown",
   "metadata": {},
   "source": [
    "# Use original distribution for marginals CE(X) and CE(Y)  "
   ]
  },
  {
   "cell_type": "code",
   "execution_count": 16,
   "metadata": {
    "collapsed": false
   },
   "outputs": [
    {
     "name": "stdout",
     "output_type": "stream",
     "text": [
      "-3.44473756846\n"
     ]
    }
   ],
   "source": [
    "sizeOfVector = 50\n",
    "x = numpy.random.rand(sizeOfVector) #For a given vector x with random value numbers and\n",
    "y = numpy.random.rand(sizeOfVector) #a given vector y with random value numbers\n",
    "\n",
    "b= 50 #Assign size of the grid to an integer b\n",
    "\n",
    "x_o = numpy.sort(x)\n",
    "y_o = numpy.sort(y)\n",
    "\n",
    "#Distribution function in 1 Dimension\n",
    "P = [1/(i+1) for i in range(sizeOfVector)]\n",
    "\n",
    "#Intervals in x and y\n",
    "xinterval =[(x_o[i+1] - x_o[i]) for i in range(sizeOfVector-1)]\n",
    "yinterval =[(y_o[i+1] - y_o[i]) for i in range(sizeOfVector-1)]\n",
    "\n",
    "#print(x_o)\n",
    "#print(xinterval)\n",
    "\n",
    "#Calculate Cumulative Entropy of X and Y\n",
    "CEX = 0\n",
    "CEY = 0\n",
    "for i in range(len(xinterval)):\n",
    "    CEX = CEX - xinterval[i]*P[i]*numpy.log(P[i])\n",
    "    CEY = CEY - yinterval[i]*P[i]*numpy.log(P[i])\n",
    "\n",
    "#print(CEX)\n",
    "#print(CEY)\n",
    "\n",
    "\n",
    "x_p = ((x-min(x))/(max(x)-min(x)))*b #Let x' be the vector x rescaled on the interval [0,b]\n",
    "y_p = ((y-min(y))/(max(y)-min(y)))*b #Let y' be the vector y rescaled on the interval [0,b]\n",
    "\n",
    "#Take the ceiling of x_p and y_p\n",
    "for i in range(0,sizeOfVector):\n",
    "    x_p[i] = numpy.ceil(x_p[i])\n",
    "    y_p[i] = numpy.ceil(y_p[i])\n",
    "    \n",
    "#Cumulative Density function in 2D\n",
    "PXY= [[0 for i in range(b)] for i in range(b)]\n",
    "\n",
    "#Keep a counter of every point at every upper right corner\n",
    "for j in range (1,b+1):\n",
    "    for i in range (1, b+1): #For every upper right corner\n",
    "        #print(\"(\" + str(i) + \",\" + str(j) + \")\") #print points      \n",
    "        distribution = 0\n",
    "        for k in range (0, sizeOfVector): #For every point data given\n",
    "            if (x_p[k]== i) and (y_p[k] == j): #If the point of the data matches the upper right hand corner\n",
    "                #print(\"(\" + str(x_p[k]) + \",\" + str(y_p[k]) + \")\")\n",
    "                distribution = distribution +1 #Then add 1 to the distribution counter\n",
    "                #print(distribution)\n",
    "        PXY[i-1][j-1] = distribution/sizeOfVector\n",
    "        \n",
    "#Calculate CE(X,Y)\n",
    "CEXY =0 \n",
    "for i in range (1, b):\n",
    "    for j in range (1 ,b):\n",
    "        if (PXY[i][j] != 0):\n",
    "            CEXY = CEXY - PXY[i][j]*numpy.log(PXY[i][j])\n",
    "            \n",
    "#print(CEXY)\n",
    "\n",
    "#Caculate Cumulative Mutual Information\n",
    "CMI = (max(y) - numpy.mean(y))*CEX + (max(x)- numpy.mean(x))*CEY- CEXY\n",
    "\n",
    "print(CMI)\n",
    "\n"
   ]
  }
 ],
 "metadata": {
  "anaconda-cloud": {},
  "kernelspec": {
   "display_name": "Python [Root]",
   "language": "python",
   "name": "Python [Root]"
  },
  "language_info": {
   "codemirror_mode": {
    "name": "ipython",
    "version": 3
   },
   "file_extension": ".py",
   "mimetype": "text/x-python",
   "name": "python",
   "nbconvert_exporter": "python",
   "pygments_lexer": "ipython3",
   "version": "3.5.2"
  }
 },
 "nbformat": 4,
 "nbformat_minor": 0
}
