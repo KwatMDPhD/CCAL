{
 "cells": [
  {
   "cell_type": "markdown",
   "metadata": {
    "collapsed": true
   },
   "source": [
    "# Jupyter and Python Interactive Graphics"
   ]
  },
  {
   "cell_type": "code",
   "execution_count": null,
   "metadata": {
    "collapsed": true
   },
   "outputs": [],
   "source": [
    "# Author: Vachan Vadmal\n",
    "\n",
    "# Table of Contents \n",
    "# Using Bokeh"
   ]
  },
  {
   "cell_type": "markdown",
   "metadata": {},
   "source": [
    "<h1 fontsize=20>\n",
    "Table of Contents\n",
    "</h1>"
   ]
  },
  {
   "cell_type": "markdown",
   "metadata": {
    "collapsed": true
   },
   "source": [
    "1. Bokeh Scatter Plot"
   ]
  },
  {
   "cell_type": "markdown",
   "metadata": {},
   "source": [
    "# Bokeh Scatter Plot"
   ]
  },
  {
   "cell_type": "code",
   "execution_count": 40,
   "metadata": {
    "collapsed": false
   },
   "outputs": [
    {
     "data": {
      "text/html": [
       "\n",
       "    <div class=\"bk-root\">\n",
       "        <a href=\"http://bokeh.pydata.org\" target=\"_blank\" class=\"bk-logo bk-logo-small bk-logo-notebook\"></a>\n",
       "        <span id=\"7f778286-1c49-4f3c-b4b2-ba93347a1b7e\">Loading BokehJS ...</span>\n",
       "    </div>"
      ]
     },
     "metadata": {},
     "output_type": "display_data"
    },
    {
     "data": {
      "application/javascript": [
       "\n",
       "(function(global) {\n",
       "  function now() {\n",
       "    return new Date();\n",
       "  }\n",
       "\n",
       "  if (typeof (window._bokeh_onload_callbacks) === \"undefined\") {\n",
       "    window._bokeh_onload_callbacks = [];\n",
       "  }\n",
       "\n",
       "  function run_callbacks() {\n",
       "    window._bokeh_onload_callbacks.forEach(function(callback) { callback() });\n",
       "    delete window._bokeh_onload_callbacks\n",
       "    console.info(\"Bokeh: all callbacks have finished\");\n",
       "  }\n",
       "\n",
       "  function load_libs(js_urls, callback) {\n",
       "    window._bokeh_onload_callbacks.push(callback);\n",
       "    if (window._bokeh_is_loading > 0) {\n",
       "      console.log(\"Bokeh: BokehJS is being loaded, scheduling callback at\", now());\n",
       "      return null;\n",
       "    }\n",
       "    if (js_urls == null || js_urls.length === 0) {\n",
       "      run_callbacks();\n",
       "      return null;\n",
       "    }\n",
       "    console.log(\"Bokeh: BokehJS not loaded, scheduling load and callback at\", now());\n",
       "    window._bokeh_is_loading = js_urls.length;\n",
       "    for (var i = 0; i < js_urls.length; i++) {\n",
       "      var url = js_urls[i];\n",
       "      var s = document.createElement('script');\n",
       "      s.src = url;\n",
       "      s.async = false;\n",
       "      s.onreadystatechange = s.onload = function() {\n",
       "        window._bokeh_is_loading--;\n",
       "        if (window._bokeh_is_loading === 0) {\n",
       "          console.log(\"Bokeh: all BokehJS libraries loaded\");\n",
       "          run_callbacks()\n",
       "        }\n",
       "      };\n",
       "      s.onerror = function() {\n",
       "        console.warn(\"failed to load library \" + url);\n",
       "      };\n",
       "      console.log(\"Bokeh: injecting script tag for BokehJS library: \", url);\n",
       "      document.getElementsByTagName(\"head\")[0].appendChild(s);\n",
       "    }\n",
       "  };\n",
       "\n",
       "  var js_urls = ['https://cdn.pydata.org/bokeh/release/bokeh-0.12.0.min.js', 'https://cdn.pydata.org/bokeh/release/bokeh-widgets-0.12.0.min.js', 'https://cdn.pydata.org/bokeh/release/bokeh-compiler-0.12.0.min.js'];\n",
       "\n",
       "  var inline_js = [\n",
       "    function(Bokeh) {\n",
       "      Bokeh.set_log_level(\"info\");\n",
       "    },\n",
       "    \n",
       "    function(Bokeh) {\n",
       "      Bokeh.$(\"#7f778286-1c49-4f3c-b4b2-ba93347a1b7e\").text(\"BokehJS successfully loaded\");\n",
       "    },\n",
       "    function(Bokeh) {\n",
       "      console.log(\"Bokeh: injecting CSS: https://cdn.pydata.org/bokeh/release/bokeh-0.12.0.min.css\");\n",
       "      Bokeh.embed.inject_css(\"https://cdn.pydata.org/bokeh/release/bokeh-0.12.0.min.css\");\n",
       "      console.log(\"Bokeh: injecting CSS: https://cdn.pydata.org/bokeh/release/bokeh-widgets-0.12.0.min.css\");\n",
       "      Bokeh.embed.inject_css(\"https://cdn.pydata.org/bokeh/release/bokeh-widgets-0.12.0.min.css\");\n",
       "    }\n",
       "  ];\n",
       "\n",
       "  function run_inline_js() {\n",
       "    for (var i = 0; i < inline_js.length; i++) {\n",
       "      inline_js[i](window.Bokeh);\n",
       "    }\n",
       "  }\n",
       "\n",
       "  if (window._bokeh_is_loading === 0) {\n",
       "    console.log(\"Bokeh: BokehJS loaded, going straight to plotting\");\n",
       "    run_inline_js();\n",
       "  } else {\n",
       "    load_libs(js_urls, function() {\n",
       "      console.log(\"Bokeh: BokehJS plotting callback run at\", now());\n",
       "      run_inline_js();\n",
       "    });\n",
       "  }\n",
       "}(this));"
      ]
     },
     "metadata": {},
     "output_type": "display_data"
    },
    {
     "data": {
      "text/html": [
       "\n",
       "\n",
       "    <div class=\"bk-root\">\n",
       "        <div class=\"plotdiv\" id=\"3360c410-3d89-42f3-9076-df0e9dd8f73b\"></div>\n",
       "    </div>\n",
       "<script type=\"text/javascript\">\n",
       "  \n",
       "  (function(global) {\n",
       "    function now() {\n",
       "      return new Date();\n",
       "    }\n",
       "  \n",
       "    if (typeof (window._bokeh_onload_callbacks) === \"undefined\") {\n",
       "      window._bokeh_onload_callbacks = [];\n",
       "    }\n",
       "  \n",
       "    function run_callbacks() {\n",
       "      window._bokeh_onload_callbacks.forEach(function(callback) { callback() });\n",
       "      delete window._bokeh_onload_callbacks\n",
       "      console.info(\"Bokeh: all callbacks have finished\");\n",
       "    }\n",
       "  \n",
       "    function load_libs(js_urls, callback) {\n",
       "      window._bokeh_onload_callbacks.push(callback);\n",
       "      if (window._bokeh_is_loading > 0) {\n",
       "        console.log(\"Bokeh: BokehJS is being loaded, scheduling callback at\", now());\n",
       "        return null;\n",
       "      }\n",
       "      if (js_urls == null || js_urls.length === 0) {\n",
       "        run_callbacks();\n",
       "        return null;\n",
       "      }\n",
       "      console.log(\"Bokeh: BokehJS not loaded, scheduling load and callback at\", now());\n",
       "      window._bokeh_is_loading = js_urls.length;\n",
       "      for (var i = 0; i < js_urls.length; i++) {\n",
       "        var url = js_urls[i];\n",
       "        var s = document.createElement('script');\n",
       "        s.src = url;\n",
       "        s.async = false;\n",
       "        s.onreadystatechange = s.onload = function() {\n",
       "          window._bokeh_is_loading--;\n",
       "          if (window._bokeh_is_loading === 0) {\n",
       "            console.log(\"Bokeh: all BokehJS libraries loaded\");\n",
       "            run_callbacks()\n",
       "          }\n",
       "        };\n",
       "        s.onerror = function() {\n",
       "          console.warn(\"failed to load library \" + url);\n",
       "        };\n",
       "        console.log(\"Bokeh: injecting script tag for BokehJS library: \", url);\n",
       "        document.getElementsByTagName(\"head\")[0].appendChild(s);\n",
       "      }\n",
       "    };var element = document.getElementById(\"3360c410-3d89-42f3-9076-df0e9dd8f73b\");\n",
       "    if (element == null) {\n",
       "      console.log(\"Bokeh: ERROR: autoload.js configured with elementid '3360c410-3d89-42f3-9076-df0e9dd8f73b' but no matching script tag was found. \")\n",
       "      return false;\n",
       "    }\n",
       "  \n",
       "    var js_urls = [];\n",
       "  \n",
       "    var inline_js = [\n",
       "      function(Bokeh) {\n",
       "        Bokeh.$(function() {\n",
       "            var docs_json = {\"444bb58f-2127-4942-ab94-c53a0295c742\":{\"roots\":{\"references\":[{\"attributes\":{\"dimension\":1,\"plot\":{\"id\":\"0ccec3cb-cd32-47a0-be25-1bf0d563bc43\",\"subtype\":\"Figure\",\"type\":\"Plot\"},\"ticker\":{\"id\":\"9553963b-3702-4be8-8403-774f592c1786\",\"type\":\"BasicTicker\"}},\"id\":\"7ee8efb7-61db-4728-a9d0-2bfd2731626b\",\"type\":\"Grid\"},{\"attributes\":{},\"id\":\"d6569eac-216c-4476-834c-d927dbb4c958\",\"type\":\"BasicTickFormatter\"},{\"attributes\":{\"plot\":{\"id\":\"0ccec3cb-cd32-47a0-be25-1bf0d563bc43\",\"subtype\":\"Figure\",\"type\":\"Plot\"},\"ticker\":{\"id\":\"cad5d13a-bb68-4d76-bc58-aedb7895bb63\",\"type\":\"BasicTicker\"}},\"id\":\"9c59e1e6-e09d-4b8c-887d-d1a1e2870007\",\"type\":\"Grid\"},{\"attributes\":{\"callback\":null},\"id\":\"8b8fa33a-5d4e-4af3-b73b-af367ed39ae9\",\"type\":\"DataRange1d\"},{\"attributes\":{},\"id\":\"f3d66fa1-2eaa-446b-ba2e-3fac83d969f5\",\"type\":\"ToolEvents\"},{\"attributes\":{\"fill_alpha\":{\"value\":0.1},\"fill_color\":{\"value\":\"#1f77b4\"},\"line_alpha\":{\"value\":0.1},\"line_color\":{\"value\":\"#1f77b4\"},\"size\":{\"units\":\"screen\",\"value\":10},\"x\":{\"field\":\"x\"},\"y\":{\"field\":\"y\"}},\"id\":\"897dc77f-5dcd-4f65-9fb2-8cc7f0a454bf\",\"type\":\"Circle\"},{\"attributes\":{\"plot\":{\"id\":\"0ccec3cb-cd32-47a0-be25-1bf0d563bc43\",\"subtype\":\"Figure\",\"type\":\"Plot\"}},\"id\":\"79d41b89-71ad-493d-86e0-281521b31912\",\"type\":\"ResetTool\"},{\"attributes\":{},\"id\":\"9553963b-3702-4be8-8403-774f592c1786\",\"type\":\"BasicTicker\"},{\"attributes\":{},\"id\":\"7fff5c0c-5a7b-49f5-adec-8b668a93a388\",\"type\":\"BasicTickFormatter\"},{\"attributes\":{\"plot\":{\"id\":\"0ccec3cb-cd32-47a0-be25-1bf0d563bc43\",\"subtype\":\"Figure\",\"type\":\"Plot\"}},\"id\":\"3288bc53-3ae9-4831-85b0-d447bf8678d9\",\"type\":\"SaveTool\"},{\"attributes\":{\"below\":[{\"id\":\"c72331dc-6d1e-4d36-b664-5cc5ea14d6c0\",\"type\":\"LinearAxis\"}],\"left\":[{\"id\":\"9f19bb56-ce3e-4b9b-a49a-beaee8ab7810\",\"type\":\"LinearAxis\"}],\"plot_height\":400,\"plot_width\":400,\"renderers\":[{\"id\":\"c72331dc-6d1e-4d36-b664-5cc5ea14d6c0\",\"type\":\"LinearAxis\"},{\"id\":\"9c59e1e6-e09d-4b8c-887d-d1a1e2870007\",\"type\":\"Grid\"},{\"id\":\"9f19bb56-ce3e-4b9b-a49a-beaee8ab7810\",\"type\":\"LinearAxis\"},{\"id\":\"7ee8efb7-61db-4728-a9d0-2bfd2731626b\",\"type\":\"Grid\"},{\"id\":\"e925b7c0-04af-4616-9bf6-799fc78df177\",\"type\":\"BoxAnnotation\"},{\"id\":\"3c564137-f6bf-4f7e-8465-954970eb8a32\",\"type\":\"GlyphRenderer\"}],\"title\":{\"id\":\"b32f2480-61b4-474a-9d16-607758dbd2cf\",\"type\":\"Title\"},\"tool_events\":{\"id\":\"f3d66fa1-2eaa-446b-ba2e-3fac83d969f5\",\"type\":\"ToolEvents\"},\"toolbar\":{\"id\":\"117de202-2271-4185-8723-9ca0d7ab878d\",\"type\":\"Toolbar\"},\"x_range\":{\"id\":\"8b8fa33a-5d4e-4af3-b73b-af367ed39ae9\",\"type\":\"DataRange1d\"},\"y_range\":{\"id\":\"b5918c45-b6a0-4665-a373-c10f8e41b3ce\",\"type\":\"DataRange1d\"}},\"id\":\"0ccec3cb-cd32-47a0-be25-1bf0d563bc43\",\"subtype\":\"Figure\",\"type\":\"Plot\"},{\"attributes\":{\"active_drag\":\"auto\",\"active_scroll\":\"auto\",\"active_tap\":\"auto\",\"tools\":[{\"id\":\"c012385a-2c89-409f-b9be-77a088bb8bf9\",\"type\":\"PanTool\"},{\"id\":\"cc858851-eca5-4fd2-966e-a7b41df008c3\",\"type\":\"WheelZoomTool\"},{\"id\":\"71e8a5e9-9bcb-475d-8f72-20e075a12439\",\"type\":\"BoxZoomTool\"},{\"id\":\"3288bc53-3ae9-4831-85b0-d447bf8678d9\",\"type\":\"SaveTool\"},{\"id\":\"79d41b89-71ad-493d-86e0-281521b31912\",\"type\":\"ResetTool\"},{\"id\":\"cfe8e752-022a-4668-a8b4-813087f13865\",\"type\":\"HelpTool\"},{\"id\":\"cd856645-02f0-4555-ba34-2fe00bc41960\",\"type\":\"HoverTool\"}]},\"id\":\"117de202-2271-4185-8723-9ca0d7ab878d\",\"type\":\"Toolbar\"},{\"attributes\":{\"plot\":{\"id\":\"0ccec3cb-cd32-47a0-be25-1bf0d563bc43\",\"subtype\":\"Figure\",\"type\":\"Plot\"}},\"id\":\"cc858851-eca5-4fd2-966e-a7b41df008c3\",\"type\":\"WheelZoomTool\"},{\"attributes\":{\"fill_color\":{\"value\":\"#1f77b4\"},\"line_color\":{\"value\":\"#1f77b4\"},\"size\":{\"units\":\"screen\",\"value\":10},\"x\":{\"field\":\"x\"},\"y\":{\"field\":\"y\"}},\"id\":\"c39e37ac-abbe-4edb-8ea9-cb2ac5d0ae46\",\"type\":\"Circle\"},{\"attributes\":{\"bottom_units\":\"screen\",\"fill_alpha\":{\"value\":0.5},\"fill_color\":{\"value\":\"lightgrey\"},\"left_units\":\"screen\",\"level\":\"overlay\",\"line_alpha\":{\"value\":1.0},\"line_color\":{\"value\":\"black\"},\"line_dash\":[4,4],\"line_width\":{\"value\":2},\"plot\":null,\"render_mode\":\"css\",\"right_units\":\"screen\",\"top_units\":\"screen\"},\"id\":\"e925b7c0-04af-4616-9bf6-799fc78df177\",\"type\":\"BoxAnnotation\"},{\"attributes\":{},\"id\":\"cad5d13a-bb68-4d76-bc58-aedb7895bb63\",\"type\":\"BasicTicker\"},{\"attributes\":{\"plot\":{\"id\":\"0ccec3cb-cd32-47a0-be25-1bf0d563bc43\",\"subtype\":\"Figure\",\"type\":\"Plot\"}},\"id\":\"c012385a-2c89-409f-b9be-77a088bb8bf9\",\"type\":\"PanTool\"},{\"attributes\":{\"plot\":{\"id\":\"0ccec3cb-cd32-47a0-be25-1bf0d563bc43\",\"subtype\":\"Figure\",\"type\":\"Plot\"}},\"id\":\"cfe8e752-022a-4668-a8b4-813087f13865\",\"type\":\"HelpTool\"},{\"attributes\":{\"plot\":null,\"text\":\"Mouse over the dots\"},\"id\":\"b32f2480-61b4-474a-9d16-607758dbd2cf\",\"type\":\"Title\"},{\"attributes\":{\"formatter\":{\"id\":\"7fff5c0c-5a7b-49f5-adec-8b668a93a388\",\"type\":\"BasicTickFormatter\"},\"plot\":{\"id\":\"0ccec3cb-cd32-47a0-be25-1bf0d563bc43\",\"subtype\":\"Figure\",\"type\":\"Plot\"},\"ticker\":{\"id\":\"9553963b-3702-4be8-8403-774f592c1786\",\"type\":\"BasicTicker\"}},\"id\":\"9f19bb56-ce3e-4b9b-a49a-beaee8ab7810\",\"type\":\"LinearAxis\"},{\"attributes\":{\"overlay\":{\"id\":\"e925b7c0-04af-4616-9bf6-799fc78df177\",\"type\":\"BoxAnnotation\"},\"plot\":{\"id\":\"0ccec3cb-cd32-47a0-be25-1bf0d563bc43\",\"subtype\":\"Figure\",\"type\":\"Plot\"}},\"id\":\"71e8a5e9-9bcb-475d-8f72-20e075a12439\",\"type\":\"BoxZoomTool\"},{\"attributes\":{\"callback\":null},\"id\":\"b5918c45-b6a0-4665-a373-c10f8e41b3ce\",\"type\":\"DataRange1d\"},{\"attributes\":{\"callback\":null,\"plot\":{\"id\":\"0ccec3cb-cd32-47a0-be25-1bf0d563bc43\",\"subtype\":\"Figure\",\"type\":\"Plot\"}},\"id\":\"cd856645-02f0-4555-ba34-2fe00bc41960\",\"type\":\"HoverTool\"},{\"attributes\":{\"callback\":null,\"column_names\":[\"y\",\"x\",\"desc\"],\"data\":{\"desc\":[\"ggggb\",\"fdfda\",\"gggbg\",\"bagag\",\"aggeg\",\"gageg\",\"agdag\",\"gefef\",\"agaga\",\"gggdg\"],\"x\":[0.9719073038203411,0.11879758178231481,0.5607793088995394,0.5804638949011905,0.020108117109845614,0.9243852136900056,0.0890692299098238,0.5781392213369966,0.46442869292649447,0.25501285018323405],\"y\":[0.8689248781949004,0.6843172606706353,0.7752853635534652,0.5129154273003557,0.22627143047159104,0.0006946195403166877,0.9415082608990586,0.049394553838223,0.03509939577039778,0.41789685919094977]}},\"id\":\"77fbd7ad-540a-4579-8b6d-3ff1102b6a6d\",\"type\":\"ColumnDataSource\"},{\"attributes\":{\"formatter\":{\"id\":\"d6569eac-216c-4476-834c-d927dbb4c958\",\"type\":\"BasicTickFormatter\"},\"plot\":{\"id\":\"0ccec3cb-cd32-47a0-be25-1bf0d563bc43\",\"subtype\":\"Figure\",\"type\":\"Plot\"},\"ticker\":{\"id\":\"cad5d13a-bb68-4d76-bc58-aedb7895bb63\",\"type\":\"BasicTicker\"}},\"id\":\"c72331dc-6d1e-4d36-b664-5cc5ea14d6c0\",\"type\":\"LinearAxis\"},{\"attributes\":{\"data_source\":{\"id\":\"77fbd7ad-540a-4579-8b6d-3ff1102b6a6d\",\"type\":\"ColumnDataSource\"},\"glyph\":{\"id\":\"c39e37ac-abbe-4edb-8ea9-cb2ac5d0ae46\",\"type\":\"Circle\"},\"hover_glyph\":null,\"nonselection_glyph\":{\"id\":\"897dc77f-5dcd-4f65-9fb2-8cc7f0a454bf\",\"type\":\"Circle\"},\"selection_glyph\":null},\"id\":\"3c564137-f6bf-4f7e-8465-954970eb8a32\",\"type\":\"GlyphRenderer\"}],\"root_ids\":[\"0ccec3cb-cd32-47a0-be25-1bf0d563bc43\"]},\"title\":\"Bokeh Application\",\"version\":\"0.12.0\"}};\n",
       "            var render_items = [{\"docid\":\"444bb58f-2127-4942-ab94-c53a0295c742\",\"elementid\":\"3360c410-3d89-42f3-9076-df0e9dd8f73b\",\"modelid\":\"0ccec3cb-cd32-47a0-be25-1bf0d563bc43\",\"notebook_comms_target\":\"15cdf02c-5074-4c96-bf90-d786e2e50084\"}];\n",
       "            \n",
       "            Bokeh.embed.embed_items(docs_json, render_items);\n",
       "        });\n",
       "      },\n",
       "      function(Bokeh) {\n",
       "      }\n",
       "    ];\n",
       "  \n",
       "    function run_inline_js() {\n",
       "      for (var i = 0; i < inline_js.length; i++) {\n",
       "        inline_js[i](window.Bokeh);\n",
       "      }\n",
       "    }\n",
       "  \n",
       "    if (window._bokeh_is_loading === 0) {\n",
       "      console.log(\"Bokeh: BokehJS loaded, going straight to plotting\");\n",
       "      run_inline_js();\n",
       "    } else {\n",
       "      load_libs(js_urls, function() {\n",
       "        console.log(\"Bokeh: BokehJS plotting callback run at\", now());\n",
       "        run_inline_js();\n",
       "      });\n",
       "    }\n",
       "  }(this));\n",
       "</script>"
      ]
     },
     "metadata": {},
     "output_type": "display_data"
    },
    {
     "data": {
      "text/html": [
       "<p><code>&lt;Bokeh Notebook handle for <strong>In[1]</strong>&gt;</code></p>"
      ],
      "text/plain": [
       "<bokeh.io._CommsHandle at 0x1dfe18eabe0>"
      ]
     },
     "execution_count": 40,
     "metadata": {},
     "output_type": "execute_result"
    }
   ],
   "source": [
    "# This little example shows how to create a scatter plot with random coordinates and random descriptions that you\n",
    "# can then see on the plot by using the hover tool in Bokeh\n",
    "\n",
    "from bokeh.plotting import figure, output_file, show, ColumnDataSource\n",
    "from bokeh.models import HoverTool\n",
    "from bokeh.io import output_notebook\n",
    "\n",
    "import numpy as np\n",
    "import random\n",
    "\n",
    "x = np.random.rand(10)\n",
    "y = np.random.rand(10)\n",
    "\n",
    "strgs = []\n",
    "for i in range(10): \n",
    "    strgs.append(\"\".join(random.choice(\"agggeagabfda\") for _ in range(5)))\n",
    "    \n",
    "datasource = ColumnDataSource(data=dict(x = np.random.rand(10), y = np.random.rand(10), desc=strgs))\n",
    "\n",
    "hover = HoverTool(\n",
    "        tooltips=[\n",
    "            (\"index\", \"$index\"),\n",
    "            (\"(x,y)\", \"($x, $y)\"),\n",
    "            (\"desc\", \"(@desc)\")\n",
    "        ]\n",
    "    )\n",
    "\n",
    "output_notebook()\n",
    "p = figure(plot_width=400, plot_height=400,\n",
    "           title=\"Mouse over the dots\")\n",
    "\n",
    "p.circle('x', 'y', size=10, source=datasource)\n",
    "p.add_tools(HoverTool())\n",
    "\n",
    "show(p)\n",
    "\n"
   ]
  },
  {
   "cell_type": "code",
   "execution_count": null,
   "metadata": {
    "collapsed": true
   },
   "outputs": [],
   "source": []
  },
  {
   "cell_type": "code",
   "execution_count": null,
   "metadata": {
    "collapsed": true
   },
   "outputs": [],
   "source": []
  }
 ],
 "metadata": {
  "anaconda-cloud": {},
  "kernelspec": {
   "display_name": "Python [Root]",
   "language": "python",
   "name": "Python [Root]"
  },
  "language_info": {
   "codemirror_mode": {
    "name": "ipython",
    "version": 3
   },
   "file_extension": ".py",
   "mimetype": "text/x-python",
   "name": "python",
   "nbconvert_exporter": "python",
   "pygments_lexer": "ipython3",
   "version": "3.5.2"
  }
 },
 "nbformat": 4,
 "nbformat_minor": 0
}
