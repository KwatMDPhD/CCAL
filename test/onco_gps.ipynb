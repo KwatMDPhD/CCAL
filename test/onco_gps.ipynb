{
 "cells": [
  {
   "cell_type": "code",
   "execution_count": null,
   "metadata": {
    "collapsed": false,
    "scrolled": true
   },
   "outputs": [],
   "source": [
    "import numpy as np\n",
    "import pandas as pd\n",
    "\n",
    "import os\n",
    "import sys\n",
    "sys.path.insert(0, '..')\n",
    "import ccal\n",
    "\n",
    "%matplotlib inline\n",
    "# %config InlineBackend.figure_formats = {'svg',}"
   ]
  },
  {
   "cell_type": "markdown",
   "metadata": {},
   "source": [
    "# Get states"
   ]
  },
  {
   "cell_type": "code",
   "execution_count": null,
   "metadata": {
    "collapsed": false
   },
   "outputs": [],
   "source": [
    "h = ccal.support.read_gct('/home/cyborg/hematopoietic_cancer/result/ccle_hema_r/k9/ccle_hema_k_9_H.gct')\n",
    "n_states_to_explore = [3, 4, 5, 6, 7, 8, 9, 10, 11, 12, 13, 14, 15, 16, 17, 18, 19, 20, 25, 30]\n",
    "nclustering = 500\n",
    "filename_prefix = 'output/ccle_hema_k_9_H_1000clustering_0828'"
   ]
  },
  {
   "cell_type": "code",
   "execution_count": null,
   "metadata": {
    "collapsed": false,
    "scrolled": true
   },
   "outputs": [],
   "source": [
    "# labels, memberships, cophenetic_correlation = ccal.analyze.get_states_from_h(h, n_states_to_explore, nclustering=nclustering, filename_prefix=filename_prefix)"
   ]
  },
  {
   "cell_type": "markdown",
   "metadata": {},
   "source": [
    "# Map Onco-GPS"
   ]
  },
  {
   "cell_type": "code",
   "execution_count": null,
   "metadata": {
    "collapsed": false
   },
   "outputs": [],
   "source": [
    "labels = pd.read_csv(filename_prefix + '_labels.txt', index_col=0, sep='\\t')\n",
    "memberships = ccal.support.read_gct(filename_prefix + '_memberships.gct')\n",
    "annotations = ccal.support.make_random_features(1, memberships.shape[1])"
   ]
  },
  {
   "cell_type": "code",
   "execution_count": null,
   "metadata": {
    "collapsed": false,
    "scrolled": true
   },
   "outputs": [],
   "source": [
    "ccal.visualize.plot_onco_gps(h,\n",
    "                             np.random.choice(range(10), h.shape[1]))#,\n",
    "#                              background_markersize=0, background_mask_markersize=0)\n",
    "ccal.visualize.plot_onco_gps(h,\n",
    "                             np.random.choice(range(10), h.shape[1]))#,\n",
    "#                              background_markersize=0, background_mask_markersize=0, mds_is_metric=False)\n",
    "ccal.visualize.plot_onco_gps(h,\n",
    "                             np.random.choice(range(10), h.shape[1]))#,\n",
    "#                              background_markersize=0, background_mask_markersize=0, informational_mds=False)\n",
    "ccal.visualize.plot_onco_gps(h,\n",
    "                             np.random.choice(range(10), h.shape[1]),\n",
    "                             annotations=np.random.random_sample(h.shape[1]))#\n",
    "#                              background_markersize=0, background_mask_markersize=0)\n",
    "ccal.visualize.plot_onco_gps(h,\n",
    "                             np.random.choice(range(10), h.shape[1]),\n",
    "                             annotations=np.random.choice(range(5), h.shape[1]),\n",
    "                             annotation_type='categorical')#\n",
    "#                              background_markersize=0, background_mask_markersize=0)\n",
    "ccal.visualize.plot_onco_gps(h,\n",
    "                             np.random.choice(range(10), h.shape[1]),\n",
    "                             annotations=np.random.choice(range(2), h.shape[1]),\n",
    "                             annotation_type='binary')#\n",
    "#                              background_markersize=0, background_mask_markersize=0)"
   ]
  },
  {
   "cell_type": "code",
   "execution_count": null,
   "metadata": {
    "collapsed": false,
    "scrolled": true
   },
   "outputs": [],
   "source": [
    "for n_state in [12]:# n_states_to_explore:\n",
    "    states = labels.ix[n_state, :-1].astype(int).tolist()\n",
    "    signature = 'mds_informational_metric'\n",
    "    ccal.visualize.plot_onco_gps(h, states, mds_is_metric=True, informational_mds=True, output_filepath='output/ccle_hema_k_9_H_1000clustering_0828_s{}_{}.pdf'.format(n_state, signature))\n",
    "    signature = 'mds_informational_no_metric'\n",
    "    ccal.visualize.plot_onco_gps(h, states, mds_is_metric=False, informational_mds=True, output_filepath='output/ccle_hema_k_9_H_1000clustering_0828_s{}_{}.pdf'.format(n_state, signature))\n",
    "    signature = 'mds_no_informational_metric'\n",
    "    ccal.visualize.plot_onco_gps(h, states, mds_is_metric=True, informational_mds=False, output_filepath='output/ccle_hema_k_9_H_1000clustering_0828_s{}_{}.pdf'.format(n_state, signature))\n",
    "    signature = 'mds_no_informational_no_metric'\n",
    "    ccal.visualize.plot_onco_gps(h, states, mds_is_metric=False, informational_mds=False, output_filepath='output/ccle_hema_k_9_H_1000clustering_0828_s{}_{}.pdf'.format(n_state, signature))\n",
    "#     signature = 'populate_random'\n",
    "#     ccal.visualize.plot_onco_gps(h, states, annotations=annotations, output_filepath='output/ccle_hema_k_9_H_1000clustering_0828_s{}_{}.pdf'.format(n_state, signature))"
   ]
  },
  {
   "cell_type": "code",
   "execution_count": 2,
   "metadata": {
    "collapsed": true
   },
   "outputs": [],
   "source": [
    "print_log = print"
   ]
  },
  {
   "cell_type": "code",
   "execution_count": 17,
   "metadata": {
    "collapsed": false
   },
   "outputs": [
    {
     "name": "stdout",
     "output_type": "stream",
     "text": [
      "Directory Desktopfff doesn't exist, creating it ...\n",
      "Created directory Desktopfff.\n"
     ]
    }
   ],
   "source": [
    "def establish_path(filepath):\n",
    "    \"\"\"\n",
    "    Make directories up to `fullpath` if they don't already exist.\n",
    "    :param filepath: str;\n",
    "    :return: None\n",
    "    \"\"\"\n",
    "    from os import path, mkdir\n",
    "    \n",
    "    prefix, suffix = path.split(filepath)\n",
    "    if not (path.isdir(prefix) or path.isfile(prefix) or path.islink(prefix)):\n",
    "        print_log('Directory {} doesn\\'t exist, creating it ...'.format(prefix))\n",
    "        dirs = []\n",
    "        prefix, suffix = path.split(filepath)\n",
    "        dirs.append(prefix)\n",
    "        while prefix != '' and suffix != '':\n",
    "            prefix, suffix = path.split(prefix)\n",
    "            if prefix:\n",
    "                dirs.append(prefix)\n",
    "        for d in reversed(dirs):\n",
    "            if not (path.isdir(d) or path.isfile(d) or path.islink(d)):\n",
    "                mkdir(d)\n",
    "                print_log('Created directory {}.'.format(d))\n",
    "\n",
    "establish_path('Desktopfff/')"
   ]
  }
 ],
 "metadata": {
  "anaconda-cloud": {},
  "kernelspec": {
   "display_name": "Python [default]",
   "language": "python",
   "name": "python3"
  },
  "language_info": {
   "codemirror_mode": {
    "name": "ipython",
    "version": 3
   },
   "file_extension": ".py",
   "mimetype": "text/x-python",
   "name": "python",
   "nbconvert_exporter": "python",
   "pygments_lexer": "ipython3",
   "version": "3.5.2"
  }
 },
 "nbformat": 4,
 "nbformat_minor": 0
}
