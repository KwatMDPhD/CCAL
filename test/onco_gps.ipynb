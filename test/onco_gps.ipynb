{
 "cells": [
  {
   "cell_type": "code",
   "execution_count": null,
   "metadata": {
    "collapsed": false
   },
   "outputs": [],
   "source": [
    "import os\n",
    "import sys\n",
    "\n",
    "import numpy as np\n",
    "import pandas as pd\n",
    "import matplotlib as mpl\n",
    "import matplotlib.pyplot as plt\n",
    "import seaborn as sns\n",
    "\n",
    "sys.path.insert(0, '..')\n",
    "import ccal\n",
    "\n",
    "%matplotlib inline\n",
    "# %config InlineBackend.figure_formats = {'svg',}"
   ]
  },
  {
   "cell_type": "markdown",
   "metadata": {},
   "source": [
    "# Test with real hematopoietic data"
   ]
  },
  {
   "cell_type": "markdown",
   "metadata": {},
   "source": [
    "## Define states"
   ]
  },
  {
   "cell_type": "code",
   "execution_count": null,
   "metadata": {
    "collapsed": true
   },
   "outputs": [],
   "source": [
    "h = ccal.support.read_gct('/home/cyborg/hematopoietic_cancer/result/ccle_hema_r/k9/ccle_hema_k_9_H.gct')\n",
    "ks = list(range(2, 21))\n",
    "n_clusterings = 50\n",
    "state_labels_filepath_prefix = 'output/ccle_hema_k9_H'\n",
    "state_labels_all, state_cophenetic_correlations = ccal.analyze.define_states(h, ks, n_clusterings=n_clusterings, filepath_prefix=state_labels_filepath_prefix)"
   ]
  },
  {
   "cell_type": "markdown",
   "metadata": {},
   "source": [
    "## Plot state labels"
   ]
  },
  {
   "cell_type": "code",
   "execution_count": null,
   "metadata": {
    "collapsed": false,
    "scrolled": true
   },
   "outputs": [],
   "source": [
    "a = np.asarray(state_labels_all, dtype=float)\n",
    "a.sort()\n",
    "\n",
    "figure = plt.figure(figsize=(16, 10))\n",
    "sns.heatmap(pd.DataFrame(a, index=state_labels_all.index), cmap=mpl.cm.Paired, xticklabels=False)"
   ]
  },
  {
   "cell_type": "markdown",
   "metadata": {},
   "source": [
    "## Make Onco-GPS"
   ]
  },
  {
   "cell_type": "code",
   "execution_count": null,
   "metadata": {
    "collapsed": false,
    "scrolled": true
   },
   "outputs": [],
   "source": [
    "n_state = 12\n",
    "state_labels = state_labels_all.ix[n_state, :]\n",
    "ccal.onco_gps.make_map(h, state_labels)"
   ]
  },
  {
   "cell_type": "markdown",
   "metadata": {},
   "source": [
    "# Test with random data"
   ]
  },
  {
   "cell_type": "markdown",
   "metadata": {},
   "source": [
    "## Make Onco-GPS"
   ]
  },
  {
   "cell_type": "code",
   "execution_count": null,
   "metadata": {
    "collapsed": false,
    "scrolled": true
   },
   "outputs": [],
   "source": [
    "ccal.support.VERBOSE = True\n",
    "\n",
    "h = ccal.support.read_gct('/home/cyborg/hematopoietic_cancer/result/ccle_hema_r/k9/ccle_hema_k_9_H.gct')\n",
    "ks = list(range(2, 21))\n",
    "\n",
    "for n_components in [3, 4, 6, 9]:\n",
    "    print('n_components:', n_components)\n",
    "    for n_state in ks[::5]:\n",
    "        print('n_state:', n_state)\n",
    "        ccal.onco_gps.make_map(h.iloc[:n_components, :], np.random.choice(list(range(1, n_state + 1)), h.shape[1]))\n",
    "        ccal.onco_gps.make_map(h.iloc[:n_components, :], np.random.choice(list(range(1, n_state + 1)), h.shape[1]), n_pullratio_components=2)\n",
    "        ccal.onco_gps.make_map(h.iloc[:n_components, :], np.random.choice(list(range(1, n_state + 1)), h.shape[1]), colors=['#E52339',\n",
    "                                                                                                                            '#4682B4',\n",
    "                                                                                                                            '#BAFF51',\n",
    "                                                                                                                            '#614C82',\n",
    "                                                                                                                            '#FF8C00',\n",
    "                                                                                                                            '#FFFF00',\n",
    "                                                                                                                            '#DB7093',\n",
    "                                                                                                                            '#B0E0E6',\n",
    "                                                                                                                            '#09DCFF',\n",
    "                                                                                                                            '#5F9EA0',\n",
    "                                                                                                                            '#008000',\n",
    "                                                                                                                            '#A479E7',\n",
    "                                                                                                                            '#FFC0CB',\n",
    "                                                                                                                            '#FFFFCC',\n",
    "                                                                                                                            '#EF97EA',\n",
    "                                                                                                                            '#DFCBFF',\n",
    "                                                                                                                            '#FF00FF',\n",
    "                                                                                                                            '#FB5200',\n",
    "                                                                                                                            '#FFD700',\n",
    "                                                                                                                            '#FF0000',\n",
    "                                                                                                                            '#FF7F50',\n",
    "                                                                                                                            '#8B0000',\n",
    "                                                                                                                            '#6B8E23',\n",
    "                                                                                                                            '#5F51FF',\n",
    "                                                                                                                            '#B27E3C',\n",
    "                                                                                                                            '#644824',\n",
    "                                                                                                                            '#A0522D'])\n",
    "        for annotation_type in ['continuous', 'categorical', 'binary']:\n",
    "            print('annotation_type:', annotation_type)\n",
    "            if annotation_type == 'continuous':\n",
    "                annotations = np.random.random_sample(h.shape[1])\n",
    "            elif annotation_type == 'categorical':\n",
    "                annotations = np.random.choice(range(n_state), h.shape[1])\n",
    "            elif annotation_type == 'binary':\n",
    "                annotations = np.random.choice(range(2), h.shape[1])\n",
    "            else:\n",
    "                raise ValueError('Error in annotation_type.')\n",
    "            ccal.onco_gps.make_map(h.iloc[:n_components, :],\n",
    "                                   np.random.choice(list(range(1, n_state + 1)), h.shape[1]),\n",
    "                                   annotations=annotations,\n",
    "                                   annotation_type=annotation_type)"
   ]
  },
  {
   "cell_type": "markdown",
   "metadata": {},
   "source": [
    "# Project samples"
   ]
  },
  {
   "cell_type": "code",
   "execution_count": null,
   "metadata": {
    "collapsed": false
   },
   "outputs": [],
   "source": [
    "state = 12\n",
    "states = labels.ix[state, :]"
   ]
  },
  {
   "cell_type": "code",
   "execution_count": null,
   "metadata": {
    "collapsed": false
   },
   "outputs": [],
   "source": [
    "ccal.onco_gps.make_map(h, states)"
   ]
  },
  {
   "cell_type": "code",
   "execution_count": null,
   "metadata": {
    "collapsed": false
   },
   "outputs": [],
   "source": [
    "ccal.onco_gps.make_map(h, states, h_test=h, states_test=states)"
   ]
  },
  {
   "cell_type": "code",
   "execution_count": null,
   "metadata": {
    "collapsed": false
   },
   "outputs": [],
   "source": [
    "n = 10\n",
    "ccal.onco_gps.make_map(h, states, h_test=h.iloc[:, :n], states_test=states[:n])\n",
    "ccal.onco_gps.make_map(h, states, h_test=h.iloc[:, :n], states_test=states[:n], h_test_normalization='clip_and_0-1')\n",
    "ccal.onco_gps.make_map(h, states, h_test=h.iloc[:, :n], states_test=states[:n], h_test_normalization=None)"
   ]
  },
  {
   "cell_type": "markdown",
   "metadata": {},
   "source": [
    "# Test real data"
   ]
  },
  {
   "cell_type": "code",
   "execution_count": null,
   "metadata": {
    "collapsed": true
   },
   "outputs": [],
   "source": [
    "H = ccal.support.read_gct('/home/cyborg/Downloads/KRAS_Matrix.gct')\n",
    "\n",
    "MEMBERSHIPS = pd.read_csv('/home/cyborg/Downloads/KRAS_membership.gct', sep='\\t', index_col=0)\n",
    "K17_MEMBERSHIPS = MEMBERSHIPS.ix[:, 'k_17']\n",
    "K17_MEMBERSHIPS_INT = K17_MEMBERSHIPS.apply(lambda s: int(s[1:])).tolist()"
   ]
  },
  {
   "cell_type": "code",
   "execution_count": null,
   "metadata": {
    "collapsed": false
   },
   "outputs": [],
   "source": [
    "ccal.onco_gps.make_map(H, K17_MEMBERSHIPS_INT, background_markersize=0, background_mask_markersize=0)"
   ]
  },
  {
   "cell_type": "code",
   "execution_count": null,
   "metadata": {
    "collapsed": false,
    "scrolled": true
   },
   "outputs": [],
   "source": [
    "training_h = H\n",
    "empty = np.empty\n",
    "X = 3\n",
    "Y = 10\n",
    "ratios = empty(training_h.shape[1])\n",
    "for i, (c_idx, c) in enumerate(training_h.iteritems()):\n",
    "    c_sorted = c.sort_values(ascending=False)\n",
    "    ratio = float(c_sorted[:X].sum() / c_sorted[X:].sum()) * c.sum()\n",
    "    ratios[i] = ratio\n",
    "normalized_ratios = (ratios - ratios.min()) / (ratios.max() - ratios.min())\n",
    "normalized_ratios *= Y\n",
    "normalized_ratios.clip(0, 1)"
   ]
  },
  {
   "cell_type": "code",
   "execution_count": null,
   "metadata": {
    "collapsed": false
   },
   "outputs": [],
   "source": [
    "ccal.onco_gps.make_map(H, K17_MEMBERSHIPS_INT, background_markersize=0, background_mask_markersize=0)"
   ]
  },
  {
   "cell_type": "code",
   "execution_count": null,
   "metadata": {
    "collapsed": false
   },
   "outputs": [],
   "source": [
    "RPKM = ccal.support.read_gct('/home/cyborg/data/ccle/ccle_rpkm.gct')\n",
    "\n",
    "CD274_RPKM = RPKM.ix['CD274', :]\n",
    "CD274_SAMPLES_IN_H = CD274_RPKM.index & H.columns\n",
    "H_CD274 = H.ix[:, CD274_SAMPLES_IN_H]\n",
    "K17_MEMNERSHIPS_CD274 = K17_MEMBERSHIPS.ix[CD274_SAMPLES_IN_H].apply(lambda s: int(s[1:])).tolist()"
   ]
  },
  {
   "cell_type": "code",
   "execution_count": null,
   "metadata": {
    "collapsed": false
   },
   "outputs": [],
   "source": [
    "ccal.onco_gps.make_map(H, K17_MEMBERSHIPS_INT, annotations=CD274_RPKM.ix[H.columns])"
   ]
  },
  {
   "cell_type": "code",
   "execution_count": null,
   "metadata": {
    "collapsed": false
   },
   "outputs": [],
   "source": [
    "ccal.onco_gps.make_map(H, K17_MEMBERSHIPS_INT, h_test=H_CD274, states_test=K17_MEMNERSHIPS_CD274, annotations=CD274_RPKM.ix[H_CD274.columns])"
   ]
  }
 ],
 "metadata": {
  "anaconda-cloud": {},
  "kernelspec": {
   "display_name": "Python [default]",
   "language": "python",
   "name": "python3"
  },
  "language_info": {
   "codemirror_mode": {
    "name": "ipython",
    "version": 3
   },
   "file_extension": ".py",
   "mimetype": "text/x-python",
   "name": "python",
   "nbconvert_exporter": "python",
   "pygments_lexer": "ipython3",
   "version": "3.5.2"
  }
 },
 "nbformat": 4,
 "nbformat_minor": 0
}
