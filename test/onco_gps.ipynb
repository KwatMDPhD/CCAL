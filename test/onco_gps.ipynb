{
 "cells": [
  {
   "cell_type": "code",
   "execution_count": 1,
   "metadata": {
    "collapsed": false,
    "scrolled": true
   },
   "outputs": [
    {
     "name": "stdout",
     "output_type": "stream",
     "text": [
      "===============================================================================\n",
      "==================== Computational Cancer Analysis Library ====================\n",
      "===============================================================================\n",
      "<17:58:14> Checking library dependencies ...\n",
      "<17:58:14> Using the following libraries:\n",
      "<17:58:14> \tscipy (v0.18.0)\n",
      "<17:58:14> \tstatsmodels (v0.6.1)\n",
      "<17:58:14> \tscikit-learn (v0.17.1)\n",
      "<17:58:14> \tseaborn (v0.7.1)\n",
      "<17:58:14> \trpy2 (v2.8.2)\n",
      "<17:58:14> \tpandas (v0.18.1)\n",
      "<17:58:14> \tmatplotlib (v1.5.1)\n",
      "<17:58:14> \tnumpy (v1.11.1)\n",
      "<17:58:14> Planted a random seed 20121020.\n"
     ]
    }
   ],
   "source": [
    "import numpy as np\n",
    "import pandas as pd\n",
    "\n",
    "import os\n",
    "import sys\n",
    "sys.path.insert(0, '..')\n",
    "import ccal\n",
    "\n",
    "%matplotlib inline\n",
    "# %config InlineBackend.figure_formats = {'svg',}"
   ]
  },
  {
   "cell_type": "markdown",
   "metadata": {},
   "source": [
    "# Get states"
   ]
  },
  {
   "cell_type": "code",
   "execution_count": 2,
   "metadata": {
    "collapsed": false
   },
   "outputs": [],
   "source": [
    "h = ccal.support.read_gct('/home/cyborg/hematopoietic_cancer/result/ccle_hema_r/k9/ccle_hema_k_9_H.gct')\n",
    "n_states_to_explore = [3, 4, 5, 6, 7, 8, 9, 10, 11, 12, 13, 14, 15, 16, 17, 18, 19, 20, 25, 30]\n",
    "nclustering = 500\n",
    "filename_prefix = 'output/ccle_hema_k_9_H_1000clustering_0828'"
   ]
  },
  {
   "cell_type": "code",
   "execution_count": 3,
   "metadata": {
    "collapsed": false,
    "scrolled": true
   },
   "outputs": [],
   "source": [
    "# labels, memberships, cophenetic_correlation = ccal.analyze.get_states_from_h(h, n_states_to_explore, nclustering=nclustering, filename_prefix=filename_prefix)"
   ]
  },
  {
   "cell_type": "markdown",
   "metadata": {},
   "source": [
    "# Map Onco-GPS"
   ]
  },
  {
   "cell_type": "code",
   "execution_count": 4,
   "metadata": {
    "collapsed": false
   },
   "outputs": [],
   "source": [
    "labels = pd.read_csv(filename_prefix + '_labels.txt', index_col=0, sep='\\t')\n",
    "memberships = ccal.support.read_gct(filename_prefix + '_memberships.gct')\n",
    "annotations = ccal.support.make_random_features(1, memberships.shape[1])"
   ]
  },
  {
   "cell_type": "markdown",
   "metadata": {
    "collapsed": false
   },
   "source": [
    "ccal.visualize.plot_onco_gps(h,\n",
    "                             np.random.choice(range(10), h.shape[1]))#,\n",
    "#                              background_markersize=0, background_mask_markersize=0)\n",
    "ccal.visualize.plot_onco_gps(h,\n",
    "                             np.random.choice(range(10), h.shape[1]))#,\n",
    "#                              background_markersize=0, background_mask_markersize=0, mds_is_metric=False)\n",
    "ccal.visualize.plot_onco_gps(h,\n",
    "                             np.random.choice(range(10), h.shape[1]))#,\n",
    "#                              background_markersize=0, background_mask_markersize=0, informational_mds=False)\n",
    "ccal.visualize.plot_onco_gps(h,\n",
    "                             np.random.choice(range(10), h.shape[1]),\n",
    "                             annotations=np.random.random_sample(h.shape[1]))#\n",
    "#                              background_markersize=0, background_mask_markersize=0)\n",
    "ccal.visualize.plot_onco_gps(h,\n",
    "                             np.random.choice(range(10), h.shape[1]),\n",
    "                             annotations=np.random.choice(range(5), h.shape[1]),\n",
    "                             annotation_type='categorical')#\n",
    "#                              background_markersize=0, background_mask_markersize=0)\n",
    "ccal.visualize.plot_onco_gps(h,\n",
    "                             np.random.choice(range(10), h.shape[1]),\n",
    "                             annotations=np.random.choice(range(2), h.shape[1]),\n",
    "                             annotation_type='binary')#\n",
    "#                              background_markersize=0, background_mask_markersize=0)"
   ]
  },
  {
   "cell_type": "code",
   "execution_count": 5,
   "metadata": {
    "collapsed": false
   },
   "outputs": [
    {
     "ename": "AttributeError",
     "evalue": "module 'ccal.information' has no attribute 'information_distance'",
     "output_type": "error",
     "traceback": [
      "\u001b[0;31m---------------------------------------------------------------------------\u001b[0m",
      "\u001b[0;31mAttributeError\u001b[0m                            Traceback (most recent call last)",
      "\u001b[0;32m<ipython-input-5-c3f14a473183>\u001b[0m in \u001b[0;36m<module>\u001b[0;34m()\u001b[0m\n\u001b[1;32m      1\u001b[0m \u001b[0mnormalize_pandas_object\u001b[0m \u001b[0;34m=\u001b[0m \u001b[0mccal\u001b[0m\u001b[0;34m.\u001b[0m\u001b[0msupport\u001b[0m\u001b[0;34m.\u001b[0m\u001b[0mnormalize_pandas_object\u001b[0m\u001b[0;34m\u001b[0m\u001b[0m\n\u001b[1;32m      2\u001b[0m \u001b[0mcompare_matrices\u001b[0m \u001b[0;34m=\u001b[0m \u001b[0mccal\u001b[0m\u001b[0;34m.\u001b[0m\u001b[0msupport\u001b[0m\u001b[0;34m.\u001b[0m\u001b[0mcompare_matrices\u001b[0m\u001b[0;34m\u001b[0m\u001b[0m\n\u001b[0;32m----> 3\u001b[0;31m \u001b[0mf\u001b[0m \u001b[0;34m=\u001b[0m \u001b[0mccal\u001b[0m\u001b[0;34m.\u001b[0m\u001b[0minformation\u001b[0m\u001b[0;34m.\u001b[0m\u001b[0minformation_distance\u001b[0m\u001b[0;34m\u001b[0m\u001b[0m\n\u001b[0m",
      "\u001b[0;31mAttributeError\u001b[0m: module 'ccal.information' has no attribute 'information_distance'"
     ]
    }
   ],
   "source": [
    "normalize_pandas_object = ccal.support.normalize_pandas_object\n",
    "compare_matrices = ccal.support.compare_matrices\n",
    "f = ccal.information.information_distance"
   ]
  },
  {
   "cell_type": "code",
   "execution_count": null,
   "metadata": {
    "collapsed": false,
    "scrolled": true
   },
   "outputs": [],
   "source": [
    "normalized_clipped_h = normalize_pandas_object(normalize_pandas_object(h).clip(-3, 3), method='0-1')\n",
    "\n",
    "X = compare_matrices(normalized_clipped_h, normalized_clipped_h,\n",
    "                 f, report_progress=False)\n",
    "X"
   ]
  },
  {
   "cell_type": "code",
   "execution_count": null,
   "metadata": {
    "collapsed": false,
    "scrolled": true
   },
   "outputs": [],
   "source": [
    "import seaborn as sns\n",
    "import matplotlib.pyplot as plt\n",
    "fig = plt.figure(figsize=(15, 15))\n",
    "sns.heatmap(X, annot=True)"
   ]
  },
  {
   "cell_type": "code",
   "execution_count": null,
   "metadata": {
    "collapsed": false
   },
   "outputs": [],
   "source": [
    "a = np.random.random_sample(100)\n",
    "b = np.random.random_sample(100)\n",
    "print(f(a, a))\n",
    "print(f(b, b))\n",
    "print(f(a, b))"
   ]
  },
  {
   "cell_type": "code",
   "execution_count": null,
   "metadata": {
    "collapsed": false,
    "scrolled": true
   },
   "outputs": [],
   "source": [
    "for n_state in [12]:# n_states_to_explore:\n",
    "    states = labels.ix[n_state, :-1].astype(int).tolist()\n",
    "    signature = 'mds_informational_metric_2'\n",
    "    ccal.visualize.plot_onco_gps(h, states, mds_is_metric=True, informational_mds=True, output_filepath='output/ccle_hema_k_9_H_1000clustering_0828_s{}_{}.pdf'.format(n_state, signature),\n",
    "                                mds_seed=2016)\n",
    "    signature = 'mds_informational_no_metric_2'\n",
    "    ccal.visualize.plot_onco_gps(h, states, mds_is_metric=False, informational_mds=True, output_filepath='output/ccle_hema_k_9_H_1000clustering_0828_s{}_{}.pdf'.format(n_state, signature),\n",
    "                                mds_seed=2016)\n",
    "    signature = 'mds_no_informational_metric_2'\n",
    "    ccal.visualize.plot_onco_gps(h, states, mds_is_metric=True, informational_mds=False, output_filepath='output/ccle_hema_k_9_H_1000clustering_0828_s{}_{}.pdf'.format(n_state, signature),\n",
    "                                mds_seed=2016)\n",
    "    signature = 'mds_no_informational_no_metric_2'\n",
    "    ccal.visualize.plot_onco_gps(h, states, mds_is_metric=False, informational_mds=False, output_filepath='output/ccle_hema_k_9_H_1000clustering_0828_s{}_{}.pdf'.format(n_state, signature),\n",
    "                                mds_seed=2016)\n",
    "    signature = 'populate_random'\n",
    "#     ccal.visualize.plot_onco_gps(h, states, annotations=annotations, output_filepath='output/ccle_hema_k_9_H_1000clustering_0828_s{}_{}.pdf'.format(n_state, signature))"
   ]
  }
 ],
 "metadata": {
  "anaconda-cloud": {},
  "kernelspec": {
   "display_name": "Python [default]",
   "language": "python",
   "name": "python3"
  },
  "language_info": {
   "codemirror_mode": {
    "name": "ipython",
    "version": 3
   },
   "file_extension": ".py",
   "mimetype": "text/x-python",
   "name": "python",
   "nbconvert_exporter": "python",
   "pygments_lexer": "ipython3",
   "version": "3.5.2"
  }
 },
 "nbformat": 4,
 "nbformat_minor": 0
}
