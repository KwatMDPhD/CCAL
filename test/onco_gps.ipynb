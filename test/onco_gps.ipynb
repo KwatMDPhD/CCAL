{
 "cells": [
  {
   "cell_type": "code",
   "execution_count": 1,
   "metadata": {
    "collapsed": false,
    "scrolled": true
   },
   "outputs": [
    {
     "ename": "SyntaxError",
     "evalue": "invalid syntax (onco_gps.py, line 7)",
     "output_type": "error",
     "traceback": [
      "\u001b[0;36m  File \u001b[0;32m\"../ccal/onco_gps.py\"\u001b[0;36m, line \u001b[0;32m7\u001b[0m\n\u001b[0;31m    informational_mds = True, mds_seed = SEED, mds_n_init = 1000, mds_max_iter = 1000,\u001b[0m\n\u001b[0m                    ^\u001b[0m\n\u001b[0;31mSyntaxError\u001b[0m\u001b[0;31m:\u001b[0m invalid syntax\n"
     ]
    }
   ],
   "source": [
    "import numpy as np\n",
    "import pandas as pd\n",
    "\n",
    "import os\n",
    "import sys\n",
    "sys.path.insert(0, '..')\n",
    "import ccal\n",
    "\n",
    "%matplotlib inline\n",
    "# %config InlineBackend.figure_formats = {'svg',}"
   ]
  },
  {
   "cell_type": "markdown",
   "metadata": {},
   "source": [
    "# Get states"
   ]
  },
  {
   "cell_type": "code",
   "execution_count": null,
   "metadata": {
    "collapsed": false
   },
   "outputs": [],
   "source": [
    "h = ccal.support.read_gct('/home/cyborg/hematopoietic_cancer/result/ccle_hema_r/k9/ccle_hema_k_9_H.gct')\n",
    "ks = [3, 4, 5, 6, 7, 8, 9, 10, 11, 12, 13, 14, 15, 16, 17, 18, 19, 20, 25, 30]\n",
    "n_clusterings = 10\n",
    "filepath_prefix = 'output/ccle_hema_k_9_H_{}clustering'.format(n_clusterings)"
   ]
  },
  {
   "cell_type": "markdown",
   "metadata": {
    "collapsed": false,
    "scrolled": true
   },
   "source": [
    "labels, memberships, cophenetic_correlation = ccal.analyze.define_states(h, ks, n_clusterings=n_clusterings,\n",
    "                                                                             filepath_prefix=filepath_prefix)"
   ]
  },
  {
   "cell_type": "markdown",
   "metadata": {},
   "source": [
    "# Make Onco-GPS"
   ]
  },
  {
   "cell_type": "code",
   "execution_count": null,
   "metadata": {
    "collapsed": false
   },
   "outputs": [],
   "source": [
    "labels = pd.read_csv(filepath_prefix + '_labels.txt', index_col=0, sep='\\t')\n",
    "memberships = ccal.support.read_gct(filepath_prefix + '_memberships.gct')\n",
    "annotations = ccal.support.make_random_features(1, memberships.shape[1])"
   ]
  },
  {
   "cell_type": "code",
   "execution_count": null,
   "metadata": {
    "collapsed": false
   },
   "outputs": [],
   "source": [
    "for n_components in range(3, min(h.shape[0], 21), 3):\n",
    "    #h = ccal.support.make_random_features(n_components, 100)\n",
    "    h = h.iloc[:n_components, :]\n",
    "    for state in range(1, 21, 5):\n",
    "        for annotation_type in ['continuous', 'categorical', 'binary']:\n",
    "            ccal.onco_gps.make_map(h,\n",
    "                                   np.random.choice(list(range(state)), h.shape[1]),\n",
    "                                   annotations=np.random.choice(range(2), h.shape[1]),\n",
    "                                   annotation_type=annotation_type)#,\n",
    "                                   #background_markersize=0, background_mask_markersize=0)"
   ]
  }
 ],
 "metadata": {
  "anaconda-cloud": {},
  "kernelspec": {
   "display_name": "Python [default]",
   "language": "python",
   "name": "python3"
  },
  "language_info": {
   "codemirror_mode": {
    "name": "ipython",
    "version": 3
   },
   "file_extension": ".py",
   "mimetype": "text/x-python",
   "name": "python",
   "nbconvert_exporter": "python",
   "pygments_lexer": "ipython3",
   "version": "3.5.2"
  }
 },
 "nbformat": 4,
 "nbformat_minor": 0
}
