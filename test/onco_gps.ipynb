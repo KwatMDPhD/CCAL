{
 "cells": [
  {
   "cell_type": "code",
   "execution_count": 1,
   "metadata": {
    "collapsed": false,
    "scrolled": true
   },
   "outputs": [
    {
     "name": "stdout",
     "output_type": "stream",
     "text": [
      "===============================================================================\n",
      "==================== Computational Cancer Analysis Library ====================\n",
      "===============================================================================\n",
      "<15:50:04> Checking library dependencies ...\n",
      "<15:50:04> Using the following libraries (in addition to the Anaconda libraries):\n",
      "<15:50:04> \tscipy (v0.18.0)\n",
      "<15:50:04> \tstatsmodels (v0.6.1)\n",
      "<15:50:04> \tscikit-learn (v0.17.1)\n",
      "<15:50:04> \tseaborn (v0.7.1)\n",
      "<15:50:04> \trpy2 (v2.8.2)\n",
      "<15:50:04> \tpandas (v0.18.1)\n",
      "<15:50:04> \tmatplotlib (v1.5.1)\n",
      "<15:50:04> \tnumpy (v1.11.1)\n",
      "<15:50:04> Planted a random seed 20121020.\n"
     ]
    }
   ],
   "source": [
    "import numpy as np\n",
    "import pandas as pd\n",
    "\n",
    "import os\n",
    "import sys\n",
    "sys.path.insert(0, '..')\n",
    "import ccal\n",
    "\n",
    "%matplotlib inline\n",
    "# %config InlineBackend.figure_formats = {'svg',}"
   ]
  },
  {
   "cell_type": "markdown",
   "metadata": {},
   "source": [
    "# Define states"
   ]
  },
  {
   "cell_type": "code",
   "execution_count": 2,
   "metadata": {
    "collapsed": false
   },
   "outputs": [],
   "source": [
    "h = ccal.support.read_gct('/home/cyborg/hematopoietic_cancer/result/ccle_hema_r/k9/ccle_hema_k_9_H.gct')\n",
    "ks = [3, 4, 5, 6, 7, 8, 9, 10, 11, 12, 13, 14, 15, 16, 17, 18, 19, 20, 25, 30]\n",
    "n_clusterings = 10\n",
    "filepath_prefix = 'output/ccle_hema_k_9_H_{}clustering'.format(n_clusterings)\n",
    "# labels, memberships, cophenetic_correlation = ccal.analyze.define_states(h, ks, n_clusterings=n_clusterings,\n",
    "#                                                                              filepath_prefix=filepath_prefix)\n",
    "labels = pd.read_csv(filepath_prefix + '_labels.txt', index_col=0, sep='\\t')\n",
    "memberships = ccal.support.read_gct(filepath_prefix + '_memberships.gct')"
   ]
  },
  {
   "cell_type": "markdown",
   "metadata": {},
   "source": [
    "# Make Onco-GPS"
   ]
  },
  {
   "cell_type": "code",
   "execution_count": 3,
   "metadata": {
    "collapsed": false,
    "scrolled": true
   },
   "outputs": [
    {
     "name": "stdout",
     "output_type": "stream",
     "text": [
      "n_components: 3\n",
      "n_state: 3\n",
      "<15:50:04> Making Onco-GPS with 3 components, 166 samples, and 3 states {1, 2, 3} ...\n",
      "<15:50:04> '-0-' normalizing pandas object with axis=1 ...\n",
      "<15:50:04> '0-1' normalizing pandas object with axis=1 ...\n",
      "<15:50:04> Converting association to distance (1 - association) ...\n",
      "<15:50:04> '0-1' normalizing pandas object with axis=0 ...\n",
      "<15:50:04> Modeled columns by -2215.2866041910243e^(-9.588846672204936e-05x) + 2215.2531569915286.\n",
      "<15:50:04> component_pulling_power = 1.000.\n"
     ]
    },
    {
     "name": "stderr",
     "output_type": "stream",
     "text": [
      "/home/cyborg/tool/anaconda3/lib/python3.5/site-packages/scipy/optimize/minpack.py:715: OptimizeWarning: Covariance of the parameters could not be estimated\n",
      "  category=OptimizeWarning)\n"
     ]
    },
    {
     "name": "stdout",
     "output_type": "stream",
     "text": [
      "nmf_compC3_9    0.007913\n",
      "Name: A3KAW_HAEMATOPOIETIC_AND_LYMPHOID_TISSUE, dtype: float64\n",
      "nmf_compC3_9    0.00723\n",
      "Name: A4FUK_HAEMATOPOIETIC_AND_LYMPHOID_TISSUE, dtype: float64\n",
      "nmf_compC3_9    0.008127\n",
      "Name: ALLSIL_HAEMATOPOIETIC_AND_LYMPHOID_TISSUE, dtype: float64\n",
      "nmf_compC1_9    0.000501\n",
      "Name: AML193_HAEMATOPOIETIC_AND_LYMPHOID_TISSUE, dtype: float64\n",
      "nmf_compC3_9    0.023935\n",
      "Name: AMO1_HAEMATOPOIETIC_AND_LYMPHOID_TISSUE, dtype: float64\n",
      "nmf_compC3_9    0.020179\n",
      "Name: BCP1_HAEMATOPOIETIC_AND_LYMPHOID_TISSUE, dtype: float64\n",
      "nmf_compC3_9    0.019727\n",
      "Name: BDCM_HAEMATOPOIETIC_AND_LYMPHOID_TISSUE, dtype: float64\n",
      "nmf_compC3_9    0.015236\n",
      "Name: BL41_HAEMATOPOIETIC_AND_LYMPHOID_TISSUE, dtype: float64\n",
      "nmf_compC3_9    0.032482\n",
      "Name: BL70_HAEMATOPOIETIC_AND_LYMPHOID_TISSUE, dtype: float64\n",
      "nmf_compC3_9    0.075397\n",
      "Name: BV173_HAEMATOPOIETIC_AND_LYMPHOID_TISSUE, dtype: float64\n",
      "nmf_compC2_9    0.015894\n",
      "Name: CA46_HAEMATOPOIETIC_AND_LYMPHOID_TISSUE, dtype: float64\n",
      "nmf_compC3_9    0.000171\n",
      "Name: CI1_HAEMATOPOIETIC_AND_LYMPHOID_TISSUE, dtype: float64\n",
      "nmf_compC2_9    0.012363\n",
      "Name: CMK_HAEMATOPOIETIC_AND_LYMPHOID_TISSUE, dtype: float64\n",
      "nmf_compC1_9    0.000025\n",
      "Name: CMLT1_HAEMATOPOIETIC_AND_LYMPHOID_TISSUE, dtype: float64\n",
      "nmf_compC3_9    0.005338\n",
      "Name: DAUDI_HAEMATOPOIETIC_AND_LYMPHOID_TISSUE, dtype: float64\n",
      "nmf_compC2_9    0.055659\n",
      "Name: DB_HAEMATOPOIETIC_AND_LYMPHOID_TISSUE, dtype: float64\n",
      "nmf_compC3_9    0.001053\n",
      "Name: DEL_HAEMATOPOIETIC_AND_LYMPHOID_TISSUE, dtype: float64\n",
      "nmf_compC3_9    0.013177\n",
      "Name: DND41_HAEMATOPOIETIC_AND_LYMPHOID_TISSUE, dtype: float64\n",
      "nmf_compC3_9    0.034033\n",
      "Name: DOHH2_HAEMATOPOIETIC_AND_LYMPHOID_TISSUE, dtype: float64\n",
      "nmf_compC3_9    0.009507\n",
      "Name: EB1_HAEMATOPOIETIC_AND_LYMPHOID_TISSUE, dtype: float64\n",
      "nmf_compC3_9    0.006219\n",
      "Name: EHEB_HAEMATOPOIETIC_AND_LYMPHOID_TISSUE, dtype: float64\n",
      "nmf_compC2_9    0.000001\n",
      "Name: EJM_HAEMATOPOIETIC_AND_LYMPHOID_TISSUE, dtype: float64\n",
      "nmf_compC1_9    0.043364\n",
      "Name: EM2_HAEMATOPOIETIC_AND_LYMPHOID_TISSUE, dtype: float64\n",
      "nmf_compC3_9    0.007944\n",
      "Name: EOL1_HAEMATOPOIETIC_AND_LYMPHOID_TISSUE, dtype: float64\n",
      "nmf_compC2_9    0.004828\n",
      "Name: F36P_HAEMATOPOIETIC_AND_LYMPHOID_TISSUE, dtype: float64\n",
      "nmf_compC3_9    0.023688\n",
      "Name: GA10_HAEMATOPOIETIC_AND_LYMPHOID_TISSUE, dtype: float64\n",
      "nmf_compC2_9    0.000232\n",
      "Name: GDM1_HAEMATOPOIETIC_AND_LYMPHOID_TISSUE, dtype: float64\n",
      "nmf_compC3_9    0.005969\n",
      "Name: GRANTA519_HAEMATOPOIETIC_AND_LYMPHOID_TISSUE, dtype: float64\n",
      "nmf_compC1_9    0.01852\n",
      "Name: HDLM2_HAEMATOPOIETIC_AND_LYMPHOID_TISSUE, dtype: float64\n",
      "nmf_compC1_9    0.029841\n",
      "Name: HDMYZ_HAEMATOPOIETIC_AND_LYMPHOID_TISSUE, dtype: float64\n",
      "nmf_compC1_9    0.024468\n",
      "Name: HEL9217_HAEMATOPOIETIC_AND_LYMPHOID_TISSUE, dtype: float64\n",
      "nmf_compC2_9    0.019052\n",
      "Name: HEL_HAEMATOPOIETIC_AND_LYMPHOID_TISSUE, dtype: float64\n",
      "nmf_compC1_9    0.000105\n",
      "Name: HH_HAEMATOPOIETIC_AND_LYMPHOID_TISSUE, dtype: float64\n",
      "nmf_compC2_9    0.002803\n",
      "Name: HL60_HAEMATOPOIETIC_AND_LYMPHOID_TISSUE, dtype: float64\n",
      "nmf_compC2_9    0.011588\n",
      "Name: HPBALL_HAEMATOPOIETIC_AND_LYMPHOID_TISSUE, dtype: float64\n",
      "nmf_compC3_9    0.001922\n",
      "Name: HS611T_HAEMATOPOIETIC_AND_LYMPHOID_TISSUE, dtype: float64\n",
      "nmf_compC1_9    0.000139\n",
      "Name: HS616T_HAEMATOPOIETIC_AND_LYMPHOID_TISSUE, dtype: float64\n",
      "nmf_compC1_9    5.067660e-12\n",
      "Name: HS751T_HAEMATOPOIETIC_AND_LYMPHOID_TISSUE, dtype: float64\n",
      "nmf_compC2_9    0.011145\n",
      "Name: HT_HAEMATOPOIETIC_AND_LYMPHOID_TISSUE, dtype: float64\n",
      "nmf_compC3_9    0.00094\n",
      "Name: HUNS1_HAEMATOPOIETIC_AND_LYMPHOID_TISSUE, dtype: float64\n",
      "nmf_compC1_9    6.568919e-08\n",
      "Name: HUT102_HAEMATOPOIETIC_AND_LYMPHOID_TISSUE, dtype: float64\n",
      "nmf_compC1_9    0.001696\n",
      "Name: HUT78_HAEMATOPOIETIC_AND_LYMPHOID_TISSUE, dtype: float64\n",
      "nmf_compC2_9    0.0001\n",
      "Name: JEKO1_HAEMATOPOIETIC_AND_LYMPHOID_TISSUE, dtype: float64\n",
      "nmf_compC3_9    0.009177\n",
      "Name: JJN3_HAEMATOPOIETIC_AND_LYMPHOID_TISSUE, dtype: float64\n",
      "nmf_compC1_9    0.024186\n",
      "Name: JK1_HAEMATOPOIETIC_AND_LYMPHOID_TISSUE, dtype: float64\n",
      "nmf_compC3_9    0.025529\n",
      "Name: JM1_HAEMATOPOIETIC_AND_LYMPHOID_TISSUE, dtype: float64\n",
      "nmf_compC1_9    0.006449\n",
      "Name: JURKAT_HAEMATOPOIETIC_AND_LYMPHOID_TISSUE, dtype: float64\n",
      "nmf_compC1_9    0.022926\n",
      "Name: JURLMK1_HAEMATOPOIETIC_AND_LYMPHOID_TISSUE, dtype: float64\n",
      "nmf_compC3_9    0.029654\n",
      "Name: JVM2_HAEMATOPOIETIC_AND_LYMPHOID_TISSUE, dtype: float64\n",
      "nmf_compC3_9    0.017488\n",
      "Name: JVM3_HAEMATOPOIETIC_AND_LYMPHOID_TISSUE, dtype: float64\n",
      "nmf_compC1_9    0.016068\n",
      "Name: K562_HAEMATOPOIETIC_AND_LYMPHOID_TISSUE, dtype: float64\n",
      "nmf_compC1_9    0.042516\n",
      "Name: KARPAS299_HAEMATOPOIETIC_AND_LYMPHOID_TISSUE, dtype: float64\n",
      "nmf_compC3_9    0.095003\n",
      "Name: KARPAS422_HAEMATOPOIETIC_AND_LYMPHOID_TISSUE, dtype: float64\n",
      "nmf_compC2_9    0.000001\n",
      "Name: KARPAS620_HAEMATOPOIETIC_AND_LYMPHOID_TISSUE, dtype: float64\n",
      "nmf_compC2_9    0.000023\n",
      "Name: KASUMI1_HAEMATOPOIETIC_AND_LYMPHOID_TISSUE, dtype: float64\n",
      "nmf_compC2_9    0.008975\n",
      "Name: KASUMI2_HAEMATOPOIETIC_AND_LYMPHOID_TISSUE, dtype: float64\n",
      "nmf_compC1_9    2.245534e-09\n",
      "Name: KASUMI6_HAEMATOPOIETIC_AND_LYMPHOID_TISSUE, dtype: float64\n",
      "nmf_compC1_9    1.829780e-08\n",
      "Name: KCL22_HAEMATOPOIETIC_AND_LYMPHOID_TISSUE, dtype: float64\n",
      "nmf_compC1_9    0.001719\n",
      "Name: KE37_HAEMATOPOIETIC_AND_LYMPHOID_TISSUE, dtype: float64\n",
      "nmf_compC3_9    0.015053\n",
      "Name: KE97_HAEMATOPOIETIC_AND_LYMPHOID_TISSUE, dtype: float64\n",
      "nmf_compC1_9    0.033834\n",
      "Name: KG1_HAEMATOPOIETIC_AND_LYMPHOID_TISSUE, dtype: float64\n",
      "nmf_compC1_9    0.019048\n",
      "Name: KHM1B_HAEMATOPOIETIC_AND_LYMPHOID_TISSUE, dtype: float64\n",
      "nmf_compC1_9    0.057731\n",
      "Name: KIJK_HAEMATOPOIETIC_AND_LYMPHOID_TISSUE, dtype: float64\n",
      "nmf_compC1_9    0.015293\n",
      "Name: KMH2_HAEMATOPOIETIC_AND_LYMPHOID_TISSUE, dtype: float64\n",
      "nmf_compC1_9    0.01494\n",
      "Name: KMM1_HAEMATOPOIETIC_AND_LYMPHOID_TISSUE, dtype: float64\n",
      "nmf_compC3_9    0.047741\n",
      "Name: KMS11_HAEMATOPOIETIC_AND_LYMPHOID_TISSUE, dtype: float64\n",
      "nmf_compC2_9    0.064289\n",
      "Name: KMS12BM_HAEMATOPOIETIC_AND_LYMPHOID_TISSUE, dtype: float64\n",
      "nmf_compC3_9    0.002447\n",
      "Name: KMS20_HAEMATOPOIETIC_AND_LYMPHOID_TISSUE, dtype: float64\n",
      "nmf_compC3_9    0.069762\n",
      "Name: KMS21BM_HAEMATOPOIETIC_AND_LYMPHOID_TISSUE, dtype: float64\n",
      "nmf_compC3_9    0.002021\n",
      "Name: KMS26_HAEMATOPOIETIC_AND_LYMPHOID_TISSUE, dtype: float64\n",
      "nmf_compC3_9    0.097764\n",
      "Name: KMS27_HAEMATOPOIETIC_AND_LYMPHOID_TISSUE, dtype: float64\n",
      "nmf_compC3_9    0.060741\n",
      "Name: KMS28BM_HAEMATOPOIETIC_AND_LYMPHOID_TISSUE, dtype: float64\n",
      "nmf_compC3_9    0.020387\n",
      "Name: KMS34_HAEMATOPOIETIC_AND_LYMPHOID_TISSUE, dtype: float64\n",
      "nmf_compC1_9    7.805898e-09\n",
      "Name: KO52_HAEMATOPOIETIC_AND_LYMPHOID_TISSUE, dtype: float64\n",
      "nmf_compC3_9    0.026883\n",
      "Name: KOPN8_HAEMATOPOIETIC_AND_LYMPHOID_TISSUE, dtype: float64\n",
      "nmf_compC1_9    0.010514\n",
      "Name: KU812_HAEMATOPOIETIC_AND_LYMPHOID_TISSUE, dtype: float64\n",
      "nmf_compC1_9    0.028058\n",
      "Name: KYO1_HAEMATOPOIETIC_AND_LYMPHOID_TISSUE, dtype: float64\n",
      "nmf_compC1_9    0.015759\n",
      "Name: L1236_HAEMATOPOIETIC_AND_LYMPHOID_TISSUE, dtype: float64\n",
      "nmf_compC3_9    0.033601\n",
      "Name: L363_HAEMATOPOIETIC_AND_LYMPHOID_TISSUE, dtype: float64\n",
      "nmf_compC1_9    0.021968\n",
      "Name: L428_HAEMATOPOIETIC_AND_LYMPHOID_TISSUE, dtype: float64\n",
      "nmf_compC1_9    1.454396e-07\n",
      "Name: L540_HAEMATOPOIETIC_AND_LYMPHOID_TISSUE, dtype: float64\n",
      "nmf_compC1_9    0.0001\n",
      "Name: LAMA84_HAEMATOPOIETIC_AND_LYMPHOID_TISSUE, dtype: float64\n",
      "nmf_compC1_9    0.015409\n",
      "Name: LOUCY_HAEMATOPOIETIC_AND_LYMPHOID_TISSUE, dtype: float64\n",
      "nmf_compC3_9    0.000031\n",
      "Name: LP1_HAEMATOPOIETIC_AND_LYMPHOID_TISSUE, dtype: float64\n",
      "nmf_compC1_9    4.295717e-07\n",
      "Name: M07E_HAEMATOPOIETIC_AND_LYMPHOID_TISSUE, dtype: float64\n",
      "nmf_compC3_9    0.05806\n",
      "Name: MC116_HAEMATOPOIETIC_AND_LYMPHOID_TISSUE, dtype: float64\n",
      "nmf_compC1_9    0.000323\n",
      "Name: ME1_HAEMATOPOIETIC_AND_LYMPHOID_TISSUE, dtype: float64\n",
      "nmf_compC3_9    0.011976\n",
      "Name: MEC1_HAEMATOPOIETIC_AND_LYMPHOID_TISSUE, dtype: float64\n",
      "nmf_compC1_9    9.287112e-07\n",
      "Name: MEG01_HAEMATOPOIETIC_AND_LYMPHOID_TISSUE, dtype: float64\n",
      "nmf_compC3_9    0.054143\n",
      "Name: MHHCALL2_HAEMATOPOIETIC_AND_LYMPHOID_TISSUE, dtype: float64\n",
      "nmf_compC2_9    0.030986\n",
      "Name: MHHCALL3_HAEMATOPOIETIC_AND_LYMPHOID_TISSUE, dtype: float64\n",
      "nmf_compC3_9    0.025361\n",
      "Name: MHHCALL4_HAEMATOPOIETIC_AND_LYMPHOID_TISSUE, dtype: float64\n",
      "nmf_compC3_9    0.009217\n",
      "Name: MINO_HAEMATOPOIETIC_AND_LYMPHOID_TISSUE, dtype: float64\n",
      "nmf_compC1_9    1.220898e-08\n",
      "Name: MJ_HAEMATOPOIETIC_AND_LYMPHOID_TISSUE, dtype: float64\n",
      "nmf_compC3_9    0.021171\n",
      "Name: MM1S_HAEMATOPOIETIC_AND_LYMPHOID_TISSUE, dtype: float64\n",
      "nmf_compC1_9    0.015617\n",
      "Name: MOLM13_HAEMATOPOIETIC_AND_LYMPHOID_TISSUE, dtype: float64\n",
      "nmf_compC1_9    0.050719\n",
      "Name: MOLM16_HAEMATOPOIETIC_AND_LYMPHOID_TISSUE, dtype: float64\n",
      "nmf_compC1_9    0.000001\n",
      "Name: MOLM6_HAEMATOPOIETIC_AND_LYMPHOID_TISSUE, dtype: float64\n",
      "nmf_compC2_9    0.021104\n",
      "Name: MOLP2_HAEMATOPOIETIC_AND_LYMPHOID_TISSUE, dtype: float64\n",
      "nmf_compC3_9    0.000949\n",
      "Name: MOLP8_HAEMATOPOIETIC_AND_LYMPHOID_TISSUE, dtype: float64\n",
      "nmf_compC1_9    0.0\n",
      "Name: MOLT13_HAEMATOPOIETIC_AND_LYMPHOID_TISSUE, dtype: float64\n"
     ]
    },
    {
     "ename": "ZeroDivisionError",
     "evalue": "float division by zero",
     "output_type": "error",
     "traceback": [
      "\u001b[0;31m---------------------------------------------------------------------------\u001b[0m",
      "\u001b[0;31mZeroDivisionError\u001b[0m                         Traceback (most recent call last)",
      "\u001b[0;32m<ipython-input-3-891c08b42a0f>\u001b[0m in \u001b[0;36m<module>\u001b[0;34m()\u001b[0m\n\u001b[1;32m      5\u001b[0m     \u001b[0;32mfor\u001b[0m \u001b[0mn_state\u001b[0m \u001b[0;32min\u001b[0m \u001b[0mks\u001b[0m\u001b[0;34m[\u001b[0m\u001b[0;34m:\u001b[0m\u001b[0;34m:\u001b[0m\u001b[0;36m5\u001b[0m\u001b[0;34m]\u001b[0m\u001b[0;34m:\u001b[0m\u001b[0;34m\u001b[0m\u001b[0m\n\u001b[1;32m      6\u001b[0m         \u001b[0mprint\u001b[0m\u001b[0;34m(\u001b[0m\u001b[0;34m'n_state:'\u001b[0m\u001b[0;34m,\u001b[0m \u001b[0mn_state\u001b[0m\u001b[0;34m)\u001b[0m\u001b[0;34m\u001b[0m\u001b[0m\n\u001b[0;32m----> 7\u001b[0;31m         \u001b[0mccal\u001b[0m\u001b[0;34m.\u001b[0m\u001b[0monco_gps\u001b[0m\u001b[0;34m.\u001b[0m\u001b[0mmake_map\u001b[0m\u001b[0;34m(\u001b[0m\u001b[0mh\u001b[0m\u001b[0;34m.\u001b[0m\u001b[0miloc\u001b[0m\u001b[0;34m[\u001b[0m\u001b[0;34m:\u001b[0m\u001b[0mn_components\u001b[0m\u001b[0;34m,\u001b[0m \u001b[0;34m:\u001b[0m\u001b[0;34m]\u001b[0m\u001b[0;34m,\u001b[0m \u001b[0mnp\u001b[0m\u001b[0;34m.\u001b[0m\u001b[0mrandom\u001b[0m\u001b[0;34m.\u001b[0m\u001b[0mchoice\u001b[0m\u001b[0;34m(\u001b[0m\u001b[0mlist\u001b[0m\u001b[0;34m(\u001b[0m\u001b[0mrange\u001b[0m\u001b[0;34m(\u001b[0m\u001b[0;36m1\u001b[0m\u001b[0;34m,\u001b[0m \u001b[0mn_state\u001b[0m \u001b[0;34m+\u001b[0m \u001b[0;36m1\u001b[0m\u001b[0;34m)\u001b[0m\u001b[0;34m)\u001b[0m\u001b[0;34m,\u001b[0m \u001b[0mh\u001b[0m\u001b[0;34m.\u001b[0m\u001b[0mshape\u001b[0m\u001b[0;34m[\u001b[0m\u001b[0;36m1\u001b[0m\u001b[0;34m]\u001b[0m\u001b[0;34m)\u001b[0m\u001b[0;34m,\u001b[0m \u001b[0mn_pullratio_components\u001b[0m\u001b[0;34m=\u001b[0m\u001b[0;36m2\u001b[0m\u001b[0;34m)\u001b[0m\u001b[0;34m\u001b[0m\u001b[0m\n\u001b[0m\u001b[1;32m      8\u001b[0m         \u001b[0mccal\u001b[0m\u001b[0;34m.\u001b[0m\u001b[0monco_gps\u001b[0m\u001b[0;34m.\u001b[0m\u001b[0mmake_map\u001b[0m\u001b[0;34m(\u001b[0m\u001b[0mh\u001b[0m\u001b[0;34m.\u001b[0m\u001b[0miloc\u001b[0m\u001b[0;34m[\u001b[0m\u001b[0;34m:\u001b[0m\u001b[0mn_components\u001b[0m\u001b[0;34m,\u001b[0m \u001b[0;34m:\u001b[0m\u001b[0;34m]\u001b[0m\u001b[0;34m,\u001b[0m \u001b[0mnp\u001b[0m\u001b[0;34m.\u001b[0m\u001b[0mrandom\u001b[0m\u001b[0;34m.\u001b[0m\u001b[0mchoice\u001b[0m\u001b[0;34m(\u001b[0m\u001b[0mlist\u001b[0m\u001b[0;34m(\u001b[0m\u001b[0mrange\u001b[0m\u001b[0;34m(\u001b[0m\u001b[0;36m1\u001b[0m\u001b[0;34m,\u001b[0m \u001b[0mn_state\u001b[0m \u001b[0;34m+\u001b[0m \u001b[0;36m1\u001b[0m\u001b[0;34m)\u001b[0m\u001b[0;34m)\u001b[0m\u001b[0;34m,\u001b[0m \u001b[0mh\u001b[0m\u001b[0;34m.\u001b[0m\u001b[0mshape\u001b[0m\u001b[0;34m[\u001b[0m\u001b[0;36m1\u001b[0m\u001b[0;34m]\u001b[0m\u001b[0;34m)\u001b[0m\u001b[0;34m)\u001b[0m\u001b[0;34m\u001b[0m\u001b[0m\n\u001b[1;32m      9\u001b[0m         \u001b[0;32mfor\u001b[0m \u001b[0mannotation_type\u001b[0m \u001b[0;32min\u001b[0m \u001b[0;34m[\u001b[0m\u001b[0;34m'continuous'\u001b[0m\u001b[0;34m,\u001b[0m \u001b[0;34m'categorical'\u001b[0m\u001b[0;34m,\u001b[0m \u001b[0;34m'binary'\u001b[0m\u001b[0;34m]\u001b[0m\u001b[0;34m:\u001b[0m\u001b[0;34m\u001b[0m\u001b[0m\n",
      "\u001b[0;32m/home/cyborg/ccal/ccal/onco_gps.py\u001b[0m in \u001b[0;36mmake_map\u001b[0;34m(h_train, states_train, std_max, h_test, h_test_normalization, states_test, informational_mds, mds_seed, mds_n_init, mds_max_iter, function_to_fit, fit_maxfev, fit_min, fit_max, pull_power_min, pull_power_max, n_pulling_components, component_pull_power, n_pullratio_components, pullratio_factor, n_grids, kde_bandwidths_factor, annotations, annotation_name, annotation_type, title, title_fontsize, title_fontcolor, subtitle_fontsize, subtitle_fontcolor, component_markersize, component_markerfacecolor, component_markeredgewidth, component_markeredgecolor, component_text_position, component_fontsize, delaunay_linewidth, delaunay_linecolor, n_contours, contour_linewidth, contour_linecolor, contour_alpha, background_markersize, background_mask_markersize, background_max_alpha, sample_markersize, sample_without_annotation_markerfacecolor, sample_markeredgewidth, sample_markeredgecolor, legend_markersize, legend_fontsize, effectplot_type, effectplot_mean_markerfacecolor, effectplot_mean_markeredgecolor, effectplot_median_markeredgecolor, output_filepath, figure_size, dpi)\u001b[0m\n\u001b[1;32m    108\u001b[0m                                   \u001b[0mn_pullratio_components\u001b[0m\u001b[0;34m=\u001b[0m\u001b[0mn_pullratio_components\u001b[0m\u001b[0;34m,\u001b[0m\u001b[0;34m\u001b[0m\u001b[0m\n\u001b[1;32m    109\u001b[0m                                   \u001b[0mpullratio_factor\u001b[0m\u001b[0;34m=\u001b[0m\u001b[0mpullratio_factor\u001b[0m\u001b[0;34m,\u001b[0m\u001b[0;34m\u001b[0m\u001b[0m\n\u001b[0;32m--> 110\u001b[0;31m                                   n_grids=n_grids, kde_bandwidths_factor=kde_bandwidths_factor)\n\u001b[0m\u001b[1;32m    111\u001b[0m     plot_onco_gps(cc, s, gp, gs, len(set(states_train)),\n\u001b[1;32m    112\u001b[0m                   \u001b[0mannotations\u001b[0m\u001b[0;34m=\u001b[0m\u001b[0mannotations\u001b[0m\u001b[0;34m,\u001b[0m \u001b[0mannotation_name\u001b[0m\u001b[0;34m=\u001b[0m\u001b[0mannotation_name\u001b[0m\u001b[0;34m,\u001b[0m \u001b[0mannotation_type\u001b[0m\u001b[0;34m=\u001b[0m\u001b[0mannotation_type\u001b[0m\u001b[0;34m,\u001b[0m\u001b[0;34m\u001b[0m\u001b[0m\n",
      "\u001b[0;32m/home/cyborg/ccal/ccal/analyze.py\u001b[0m in \u001b[0;36mmake_onco_gps\u001b[0;34m(h_train, states_train, std_max, h_test, h_test_normalization, states_test, informational_mds, mds_seed, mds_n_init, mds_max_iter, function_to_fit, fit_maxfev, fit_min, fit_max, pull_power_min, pull_power_max, n_pulling_components, component_pull_power, n_pullratio_components, pullratio_factor, n_grids, kde_bandwidths_factor)\u001b[0m\n\u001b[1;32m    301\u001b[0m             \u001b[0mc_sorted\u001b[0m \u001b[0;34m=\u001b[0m \u001b[0mc\u001b[0m\u001b[0;34m.\u001b[0m\u001b[0msort_values\u001b[0m\u001b[0;34m(\u001b[0m\u001b[0mascending\u001b[0m\u001b[0;34m=\u001b[0m\u001b[0;32mFalse\u001b[0m\u001b[0;34m)\u001b[0m\u001b[0;34m\u001b[0m\u001b[0m\n\u001b[1;32m    302\u001b[0m             \u001b[0mprint\u001b[0m\u001b[0;34m(\u001b[0m\u001b[0mc_sorted\u001b[0m\u001b[0;34m[\u001b[0m\u001b[0mn_pullratio_components\u001b[0m\u001b[0;34m:\u001b[0m\u001b[0;34m]\u001b[0m\u001b[0;34m)\u001b[0m\u001b[0;34m\u001b[0m\u001b[0m\n\u001b[0;32m--> 303\u001b[0;31m             \u001b[0mratio\u001b[0m \u001b[0;34m=\u001b[0m \u001b[0mfloat\u001b[0m\u001b[0;34m(\u001b[0m\u001b[0mc_sorted\u001b[0m\u001b[0;34m[\u001b[0m\u001b[0;34m:\u001b[0m\u001b[0mn_pullratio_components\u001b[0m\u001b[0;34m]\u001b[0m\u001b[0;34m.\u001b[0m\u001b[0msum\u001b[0m\u001b[0;34m(\u001b[0m\u001b[0;34m)\u001b[0m \u001b[0;34m/\u001b[0m \u001b[0mc_sorted\u001b[0m\u001b[0;34m[\u001b[0m\u001b[0mn_pullratio_components\u001b[0m\u001b[0;34m:\u001b[0m\u001b[0;34m]\u001b[0m\u001b[0;34m.\u001b[0m\u001b[0msum\u001b[0m\u001b[0;34m(\u001b[0m\u001b[0;34m)\u001b[0m\u001b[0;34m)\u001b[0m \u001b[0;34m*\u001b[0m \u001b[0mc\u001b[0m\u001b[0;34m.\u001b[0m\u001b[0msum\u001b[0m\u001b[0;34m(\u001b[0m\u001b[0;34m)\u001b[0m\u001b[0;34m\u001b[0m\u001b[0m\n\u001b[0m\u001b[1;32m    304\u001b[0m             \u001b[0mratios\u001b[0m\u001b[0;34m[\u001b[0m\u001b[0mi\u001b[0m\u001b[0;34m]\u001b[0m \u001b[0;34m=\u001b[0m \u001b[0mratio\u001b[0m\u001b[0;34m\u001b[0m\u001b[0m\n\u001b[1;32m    305\u001b[0m         \u001b[0mnormalized_ratios\u001b[0m \u001b[0;34m=\u001b[0m \u001b[0;34m(\u001b[0m\u001b[0mratios\u001b[0m \u001b[0;34m-\u001b[0m \u001b[0mratios\u001b[0m\u001b[0;34m.\u001b[0m\u001b[0mmin\u001b[0m\u001b[0;34m(\u001b[0m\u001b[0;34m)\u001b[0m\u001b[0;34m)\u001b[0m \u001b[0;34m/\u001b[0m \u001b[0;34m(\u001b[0m\u001b[0mratios\u001b[0m\u001b[0;34m.\u001b[0m\u001b[0mmax\u001b[0m\u001b[0;34m(\u001b[0m\u001b[0;34m)\u001b[0m \u001b[0;34m-\u001b[0m \u001b[0mratios\u001b[0m\u001b[0;34m.\u001b[0m\u001b[0mmin\u001b[0m\u001b[0;34m(\u001b[0m\u001b[0;34m)\u001b[0m\u001b[0;34m)\u001b[0m \u001b[0;34m*\u001b[0m \u001b[0mpullratio_factor\u001b[0m\u001b[0;34m\u001b[0m\u001b[0m\n",
      "\u001b[0;31mZeroDivisionError\u001b[0m: float division by zero"
     ]
    }
   ],
   "source": [
    "ccal.support.VERBOSE = True\n",
    "\n",
    "for n_components in [3, 4, 6, 9]:\n",
    "    print('n_components:', n_components)\n",
    "    for n_state in ks[::5]:\n",
    "        print('n_state:', n_state)\n",
    "        ccal.onco_gps.make_map(h.iloc[:n_components, :], np.random.choice(list(range(1, n_state + 1)), h.shape[1]), n_pullratio_components=2)\n",
    "        ccal.onco_gps.make_map(h.iloc[:n_components, :], np.random.choice(list(range(1, n_state + 1)), h.shape[1]))\n",
    "        for annotation_type in ['continuous', 'categorical', 'binary']:\n",
    "            print('annotation_type:', annotation_type)\n",
    "            if annotation_type == 'continuous':\n",
    "                annotations = np.random.random_sample(h.shape[1])\n",
    "            elif annotation_type == 'categorical':\n",
    "                annotations = np.random.choice(range(n_state), h.shape[1])\n",
    "            elif annotation_type == 'binary':\n",
    "                annotations = np.random.choice(range(2), h.shape[1])\n",
    "            else:\n",
    "                raise ValueError('Error in annotation_type.')\n",
    "            ccal.onco_gps.make_map(h.iloc[:n_components, :],\n",
    "                                   np.random.choice(list(range(1, n_state + 1)), h.shape[1]),\n",
    "                                   annotations=annotations,\n",
    "                                   annotation_type=annotation_type)"
   ]
  },
  {
   "cell_type": "code",
   "execution_count": 10,
   "metadata": {
    "collapsed": false
   },
   "outputs": [
    {
     "data": {
      "text/plain": [
       "2.2204460492503131e-16"
      ]
     },
     "execution_count": 10,
     "metadata": {},
     "output_type": "execute_result"
    }
   ],
   "source": [
    "max(0.00, np.finfo(float).eps)"
   ]
  },
  {
   "cell_type": "markdown",
   "metadata": {},
   "source": [
    "# Project samples"
   ]
  },
  {
   "cell_type": "code",
   "execution_count": null,
   "metadata": {
    "collapsed": false
   },
   "outputs": [],
   "source": [
    "state = 12\n",
    "states = labels.ix[state, :]"
   ]
  },
  {
   "cell_type": "code",
   "execution_count": null,
   "metadata": {
    "collapsed": false
   },
   "outputs": [],
   "source": [
    "ccal.onco_gps.make_map(h, states)"
   ]
  },
  {
   "cell_type": "code",
   "execution_count": null,
   "metadata": {
    "collapsed": false
   },
   "outputs": [],
   "source": [
    "ccal.onco_gps.make_map(h, states, h_test=h, states_test=states)"
   ]
  },
  {
   "cell_type": "code",
   "execution_count": null,
   "metadata": {
    "collapsed": false
   },
   "outputs": [],
   "source": [
    "n = 10\n",
    "ccal.onco_gps.make_map(h, states, h_test=h.iloc[:, :n], states_test=states[:n])\n",
    "ccal.onco_gps.make_map(h, states, h_test=h.iloc[:, :n], states_test=states[:n], h_test_normalization='clip_and_0-1')\n",
    "ccal.onco_gps.make_map(h, states, h_test=h.iloc[:, :n], states_test=states[:n], h_test_normalization=None)"
   ]
  },
  {
   "cell_type": "markdown",
   "metadata": {},
   "source": [
    "# Test real data"
   ]
  },
  {
   "cell_type": "code",
   "execution_count": null,
   "metadata": {
    "collapsed": true
   },
   "outputs": [],
   "source": [
    "H = ccal.support.read_gct('/home/cyborg/Downloads/KRAS_Matrix.gct')\n",
    "\n",
    "MEMBERSHIPS = pd.read_csv('/home/cyborg/Downloads/KRAS_membership.gct', sep='\\t', index_col=0)\n",
    "K17_MEMBERSHIPS = MEMBERSHIPS.ix[:, 'k_17']\n",
    "K17_MEMBERSHIPS_INT = K17_MEMBERSHIPS.apply(lambda s: int(s[1:])).tolist()"
   ]
  },
  {
   "cell_type": "code",
   "execution_count": null,
   "metadata": {
    "collapsed": false
   },
   "outputs": [],
   "source": [
    "ccal.onco_gps.make_map(H, K17_MEMBERSHIPS_INT, background_markersize=0, background_mask_markersize=0)"
   ]
  },
  {
   "cell_type": "code",
   "execution_count": null,
   "metadata": {
    "collapsed": false,
    "scrolled": true
   },
   "outputs": [],
   "source": [
    "training_h = H\n",
    "empty = np.empty\n",
    "X = 3\n",
    "Y = 10\n",
    "ratios = empty(training_h.shape[1])\n",
    "for i, (c_idx, c) in enumerate(training_h.iteritems()):\n",
    "    c_sorted = c.sort_values(ascending=False)\n",
    "    ratio = float(c_sorted[:X].sum() / c_sorted[X:].sum()) * c.sum()\n",
    "    ratios[i] = ratio\n",
    "normalized_ratios = (ratios - ratios.min()) / (ratios.max() - ratios.min())\n",
    "normalized_ratios *= Y\n",
    "normalized_ratios.clip(0, 1)"
   ]
  },
  {
   "cell_type": "code",
   "execution_count": null,
   "metadata": {
    "collapsed": false
   },
   "outputs": [],
   "source": [
    "ccal.onco_gps.make_map(H, K17_MEMBERSHIPS_INT, background_markersize=0, background_mask_markersize=0)"
   ]
  },
  {
   "cell_type": "code",
   "execution_count": null,
   "metadata": {
    "collapsed": true
   },
   "outputs": [],
   "source": [
    "RPKM = ccal.support.read_gct('/home/cyborg/data/ccle/ccle_rpkm.gct')\n",
    "\n",
    "CD274_RPKM = RPKM.ix['CD274', :]\n",
    "CD274_SAMPLES_IN_H = CD274_RPKM.index & H.columns\n",
    "H_CD274 = H.ix[:, CD274_SAMPLES_IN_H]\n",
    "K17_MEMNERSHIPS_CD274 = K17_MEMBERSHIPS.ix[CD274_SAMPLES_IN_H].apply(lambda s: int(s[1:])).tolist()"
   ]
  },
  {
   "cell_type": "code",
   "execution_count": null,
   "metadata": {
    "collapsed": false
   },
   "outputs": [],
   "source": [
    "ccal.onco_gps.make_map(H, K17_MEMBERSHIPS_INT, annotations=CD274_RPKM.ix[H.columns])"
   ]
  },
  {
   "cell_type": "code",
   "execution_count": null,
   "metadata": {
    "collapsed": false
   },
   "outputs": [],
   "source": [
    "ccal.onco_gps.make_map(H, K17_MEMBERSHIPS_INT, h_test=H_CD274, states_test=K17_MEMNERSHIPS_CD274, annotations=CD274_RPKM.ix[H_CD274.columns])"
   ]
  }
 ],
 "metadata": {
  "anaconda-cloud": {},
  "kernelspec": {
   "display_name": "Python [default]",
   "language": "python",
   "name": "python3"
  },
  "language_info": {
   "codemirror_mode": {
    "name": "ipython",
    "version": 3
   },
   "file_extension": ".py",
   "mimetype": "text/x-python",
   "name": "python",
   "nbconvert_exporter": "python",
   "pygments_lexer": "ipython3",
   "version": "3.5.2"
  }
 },
 "nbformat": 4,
 "nbformat_minor": 0
}
