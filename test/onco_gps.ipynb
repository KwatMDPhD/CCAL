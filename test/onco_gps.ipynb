{
 "cells": [
  {
   "cell_type": "code",
   "execution_count": null,
   "metadata": {
    "collapsed": false,
    "scrolled": true
   },
   "outputs": [],
   "source": [
    "import numpy as np\n",
    "import pandas as pd\n",
    "\n",
    "import os\n",
    "import sys\n",
    "sys.path.insert(0, '..')\n",
    "import ccal\n",
    "\n",
    "%matplotlib inline\n",
    "# %config InlineBackend.figure_formats = {'svg',}"
   ]
  },
  {
   "cell_type": "markdown",
   "metadata": {},
   "source": [
    "# Define states"
   ]
  },
  {
   "cell_type": "code",
   "execution_count": null,
   "metadata": {
    "collapsed": false
   },
   "outputs": [],
   "source": [
    "h = ccal.support.read_gct('/home/cyborg/hematopoietic_cancer/result/ccle_hema_r/k9/ccle_hema_k_9_H.gct')\n",
    "ks = [3, 4, 5, 6, 7, 8, 9, 10, 11, 12, 13, 14, 15, 16, 17, 18, 19, 20, 25, 30]\n",
    "n_clusterings = 10\n",
    "filepath_prefix = 'output/ccle_hema_k_9_H_{}clustering'.format(n_clusterings)\n",
    "# labels, memberships, cophenetic_correlation = ccal.analyze.define_states(h, ks, n_clusterings=n_clusterings,\n",
    "#                                                                              filepath_prefix=filepath_prefix)\n",
    "labels = pd.read_csv(filepath_prefix + '_labels.txt', index_col=0, sep='\\t')\n",
    "memberships = ccal.support.read_gct(filepath_prefix + '_memberships.gct')"
   ]
  },
  {
   "cell_type": "markdown",
   "metadata": {},
   "source": [
    "# Make Onco-GPS"
   ]
  },
  {
   "cell_type": "code",
   "execution_count": null,
   "metadata": {
    "collapsed": true
   },
   "outputs": [],
   "source": [
    "ccal.support.VERBOSE = True\n",
    "\n",
    "for n_components in [3, 4, 6, 9]:\n",
    "    print('n_components:', n_components)\n",
    "    for n_state in ks[::5]:\n",
    "        print('n_state:', n_state)\n",
    "        for annotation_type in ['continuous', 'categorical', 'binary']:\n",
    "            print('annotation_type:', annotation_type)\n",
    "            if annotation_type == 'continuous':\n",
    "                annotations = np.random.random_sample(h.shape[1])\n",
    "            elif annotation_type == 'categorical':\n",
    "                annotations = np.random.choice(range(n_state), h.shape[1])\n",
    "            elif annotation_type == 'binary':\n",
    "                annotations = np.random.choice(range(2), h.shape[1])\n",
    "            else:\n",
    "                raise ValueError('Error in annotation_type.')\n",
    "            ccal.onco_gps.make_map(h.iloc[:n_components, :],\n",
    "                                   np.random.choice(list(range(1, n_state + 1)), h.shape[1]),\n",
    "                                   annotations=annotations,\n",
    "                                   annotation_type=annotation_type)"
   ]
  },
  {
   "cell_type": "markdown",
   "metadata": {},
   "source": [
    "# Project samples"
   ]
  },
  {
   "cell_type": "code",
   "execution_count": null,
   "metadata": {
    "collapsed": false
   },
   "outputs": [],
   "source": [
    "state = 12\n",
    "states = labels.ix[state, :]"
   ]
  },
  {
   "cell_type": "code",
   "execution_count": null,
   "metadata": {
    "collapsed": false
   },
   "outputs": [],
   "source": [
    "ccal.onco_gps.make_map(h, states)"
   ]
  },
  {
   "cell_type": "code",
   "execution_count": null,
   "metadata": {
    "collapsed": false
   },
   "outputs": [],
   "source": [
    "ccal.onco_gps.make_map(h, states, h_test=h, states_test=states)"
   ]
  },
  {
   "cell_type": "code",
   "execution_count": null,
   "metadata": {
    "collapsed": false
   },
   "outputs": [],
   "source": [
    "ccal.onco_gps.make_map(h, states, h_test=h, states_test=states, h_test_normalization='clip_and_0-1')"
   ]
  },
  {
   "cell_type": "code",
   "execution_count": null,
   "metadata": {
    "collapsed": false
   },
   "outputs": [],
   "source": [
    "h_test = h.ix[:, :3]\n",
    "states_test = states[: 3]\n",
    "ccal.onco_gps.make_map(h, states, h_test=h_test, states_test=states_test, background_markersize=0, background_mask_markersize=0)"
   ]
  },
  {
   "cell_type": "markdown",
   "metadata": {},
   "source": [
    "# Test real data"
   ]
  },
  {
   "cell_type": "code",
   "execution_count": null,
   "metadata": {
    "collapsed": true
   },
   "outputs": [],
   "source": [
    "H = ccal.support.read_gct('/home/cyborg/Downloads/KRAS_Matrix.gct')\n",
    "\n",
    "MEMBERSHIPS = pd.read_csv('/home/cyborg/Downloads/KRAS_membership.gct', sep='\\t', index_col=0)\n",
    "K17_MEMBERSHIPS = MEMBERSHIPS.ix[:, 'k_17']\n",
    "K17_MEMBERSHIPS_INT = K17_MEMBERSHIPS.apply(lambda s: int(s[1:])).tolist()"
   ]
  },
  {
   "cell_type": "code",
   "execution_count": null,
   "metadata": {
    "collapsed": false
   },
   "outputs": [],
   "source": [
    "ccal.onco_gps.make_map(H, K17_MEMBERSHIPS_INT"
   ]
  },
  {
   "cell_type": "code",
   "execution_count": null,
   "metadata": {
    "collapsed": true
   },
   "outputs": [],
   "source": [
    "RPKM = ccal.support.read_gct('/home/cyborg/data/ccle/ccle_rpkm.gct')\n",
    "\n",
    "CD274_RPKM = RPKM.ix['CD274', :]\n",
    "CD274_SAMPLES_IN_H = CD274_RPKM.index & H.columns\n",
    "H_CD274 = H.ix[:, CD274_SAMPLES_IN_H]\n",
    "K17_MEMNERSHIPS_CD274 = K17_MEMBERSHIPS.ix[CD274_SAMPLES_IN_H].apply(lambda s: int(s[1:])).tolist()"
   ]
  },
  {
   "cell_type": "code",
   "execution_count": null,
   "metadata": {
    "collapsed": false
   },
   "outputs": [],
   "source": [
    "ccal.onco_gps.make_map(H, K17_MEMBERSHIPS_INT, h_test=H_CD274, states_test=K17_MEMNERSHIPS_CD274, annotations=CD274_RPKM.ix[H_CD274.columns])"
   ]
  }
 ],
 "metadata": {
  "anaconda-cloud": {},
  "kernelspec": {
   "display_name": "Python [default]",
   "language": "python",
   "name": "python3"
  },
  "language_info": {
   "codemirror_mode": {
    "name": "ipython",
    "version": 3
   },
   "file_extension": ".py",
   "mimetype": "text/x-python",
   "name": "python",
   "nbconvert_exporter": "python",
   "pygments_lexer": "ipython3",
   "version": "3.5.2"
  }
 },
 "nbformat": 4,
 "nbformat_minor": 0
}
