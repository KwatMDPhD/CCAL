{
 "cells": [
  {
   "cell_type": "code",
   "execution_count": 1,
   "metadata": {
    "collapsed": false,
    "scrolled": true
   },
   "outputs": [
    {
     "name": "stdout",
     "output_type": "stream",
     "text": [
      "===============================================================================\n",
      "==================== Computational Cancer Analysis Library ====================\n",
      "===============================================================================\n",
      "<12:22:42> Checking library dependencies ...\n",
      "<12:22:42> Using the following libraries (in addition to the Anaconda libraries):\n",
      "<12:22:42> \tscipy (v0.18.0)\n",
      "<12:22:42> \tstatsmodels (v0.6.1)\n",
      "<12:22:42> \tscikit-learn (v0.17.1)\n",
      "<12:22:42> \tseaborn (v0.7.1)\n",
      "<12:22:42> \trpy2 (v2.8.2)\n",
      "<12:22:42> \tpandas (v0.18.1)\n",
      "<12:22:42> \tmatplotlib (v1.5.1)\n",
      "<12:22:42> \tnumpy (v1.11.1)\n",
      "<12:22:42> Planted a random seed 20121020.\n"
     ]
    }
   ],
   "source": [
    "import numpy as np\n",
    "import pandas as pd\n",
    "\n",
    "import os\n",
    "import sys\n",
    "sys.path.insert(0, '..')\n",
    "import ccal\n",
    "\n",
    "%matplotlib inline\n",
    "# %config InlineBackend.figure_formats = {'svg',}"
   ]
  },
  {
   "cell_type": "markdown",
   "metadata": {},
   "source": [
    "# Define states"
   ]
  },
  {
   "cell_type": "code",
   "execution_count": 2,
   "metadata": {
    "collapsed": true
   },
   "outputs": [
    {
     "name": "stdout",
     "output_type": "stream",
     "text": [
      "<12:22:43> '-0-' normalizing pandas object with axis=1 ...\n",
      "<12:22:43> Computing distances between samples ...\n",
      "<12:23:45> Defining states by consensus clustering for k=3 ...\n",
      "<12:23:45> Hierarchical clustering sample associations (k=3 @ 0/2) ...\n",
      "<12:23:45> Hierarchical clustering sample associations (k=3 @ 1/2) ...\n",
      "<12:23:45> Consensus hierarchical clustering labels ...\n",
      "<12:23:45> Consensus clustering (0/166) ...\n",
      "<12:23:45> Consensus clustering (30/166) ...\n",
      "<12:23:45> Consensus clustering (60/166) ...\n",
      "<12:23:45> Consensus clustering (90/166) ...\n",
      "<12:23:45> Consensus clustering (120/166) ...\n",
      "<12:23:45> Consensus clustering (150/166) ...\n",
      "<12:23:45> Computed the cophenetic correlation coefficient.\n",
      "<12:23:45> Defining states by consensus clustering for k=4 ...\n",
      "<12:23:45> Hierarchical clustering sample associations (k=4 @ 0/2) ...\n",
      "<12:23:45> Hierarchical clustering sample associations (k=4 @ 1/2) ...\n",
      "<12:23:45> Consensus hierarchical clustering labels ...\n",
      "<12:23:45> Consensus clustering (0/166) ...\n",
      "<12:23:45> Consensus clustering (30/166) ...\n",
      "<12:23:45> Consensus clustering (60/166) ...\n",
      "<12:23:45> Consensus clustering (90/166) ...\n",
      "<12:23:45> Consensus clustering (120/166) ...\n",
      "<12:23:45> Consensus clustering (150/166) ...\n",
      "<12:23:45> Computed the cophenetic correlation coefficient.\n",
      "<12:23:45> Defining states by consensus clustering for k=5 ...\n",
      "<12:23:45> Hierarchical clustering sample associations (k=5 @ 0/2) ...\n",
      "<12:23:46> Hierarchical clustering sample associations (k=5 @ 1/2) ...\n",
      "<12:23:46> Consensus hierarchical clustering labels ...\n",
      "<12:23:46> Consensus clustering (0/166) ...\n",
      "<12:23:46> Consensus clustering (30/166) ...\n",
      "<12:23:46> Consensus clustering (60/166) ...\n",
      "<12:23:46> Consensus clustering (90/166) ...\n",
      "<12:23:46> Consensus clustering (120/166) ...\n",
      "<12:23:46> Consensus clustering (150/166) ...\n",
      "<12:23:46> Computed the cophenetic correlation coefficient.\n"
     ]
    }
   ],
   "source": [
    "h = ccal.support.read_gct('/home/cyborg/hematopoietic_cancer/result/ccle_hema_r/k9/ccle_hema_k_9_H.gct')\n",
    "ks = [3, 4, 5]\n",
    "n_clusterings = 2\n",
    "filepath = 'output/ccle_hema_k_9_H_{}clustering'.format(n_clusterings)\n",
    "labels, cophenetic_correlation = ccal.analyze.define_states(h, ks, n_clusterings=n_clusterings, filepath=filepath)"
   ]
  },
  {
   "cell_type": "code",
   "execution_count": 22,
   "metadata": {
    "collapsed": false
   },
   "outputs": [],
   "source": [
    "a = sorted(set(labels.ix[5, :]))"
   ]
  },
  {
   "cell_type": "code",
   "execution_count": 26,
   "metadata": {
    "collapsed": true
   },
   "outputs": [],
   "source": [
    "from pandas import DataFrame"
   ]
  },
  {
   "cell_type": "code",
   "execution_count": 33,
   "metadata": {
    "collapsed": false
   },
   "outputs": [],
   "source": [
    "def make_label_x_sample_matrix(series, filepath=None):\n",
    "    \"\"\"\n",
    "    Make a label-x-sample binary matrix from a Series.\n",
    "    :param series: pandas Series;\n",
    "    :param filepath: str;\n",
    "    :return: pandas DataFrame;\n",
    "    \"\"\"\n",
    "    label_x_sample = DataFrame(index=sorted(set(series)), columns=series.index)\n",
    "    for i in label_x_sample.index:\n",
    "        label_x_sample.ix[i, :] = (series == i).astype(int)\n",
    "    if filepath:\n",
    "        establish_path(filepath)\n",
    "        write_gct(label_x_sample, filepath)\n",
    "\n",
    "    return label_x_sample"
   ]
  },
  {
   "cell_type": "code",
   "execution_count": 34,
   "metadata": {
    "collapsed": false
   },
   "outputs": [
    {
     "data": {
      "text/html": [
       "<div>\n",
       "<table border=\"1\" class=\"dataframe\">\n",
       "  <thead>\n",
       "    <tr style=\"text-align: right;\">\n",
       "      <th></th>\n",
       "      <th>A3KAW_HAEMATOPOIETIC_AND_LYMPHOID_TISSUE</th>\n",
       "      <th>A4FUK_HAEMATOPOIETIC_AND_LYMPHOID_TISSUE</th>\n",
       "      <th>ALLSIL_HAEMATOPOIETIC_AND_LYMPHOID_TISSUE</th>\n",
       "      <th>AML193_HAEMATOPOIETIC_AND_LYMPHOID_TISSUE</th>\n",
       "      <th>AMO1_HAEMATOPOIETIC_AND_LYMPHOID_TISSUE</th>\n",
       "      <th>BCP1_HAEMATOPOIETIC_AND_LYMPHOID_TISSUE</th>\n",
       "      <th>BDCM_HAEMATOPOIETIC_AND_LYMPHOID_TISSUE</th>\n",
       "      <th>BL41_HAEMATOPOIETIC_AND_LYMPHOID_TISSUE</th>\n",
       "      <th>BL70_HAEMATOPOIETIC_AND_LYMPHOID_TISSUE</th>\n",
       "      <th>BV173_HAEMATOPOIETIC_AND_LYMPHOID_TISSUE</th>\n",
       "      <th>...</th>\n",
       "      <th>SUPT11_HAEMATOPOIETIC_AND_LYMPHOID_TISSUE</th>\n",
       "      <th>SUPT1_HAEMATOPOIETIC_AND_LYMPHOID_TISSUE</th>\n",
       "      <th>TALL1_HAEMATOPOIETIC_AND_LYMPHOID_TISSUE</th>\n",
       "      <th>TF1_HAEMATOPOIETIC_AND_LYMPHOID_TISSUE</th>\n",
       "      <th>THP1_HAEMATOPOIETIC_AND_LYMPHOID_TISSUE</th>\n",
       "      <th>TO175T_HAEMATOPOIETIC_AND_LYMPHOID_TISSUE</th>\n",
       "      <th>TOLEDO_HAEMATOPOIETIC_AND_LYMPHOID_TISSUE</th>\n",
       "      <th>U266B1_HAEMATOPOIETIC_AND_LYMPHOID_TISSUE</th>\n",
       "      <th>U937_HAEMATOPOIETIC_AND_LYMPHOID_TISSUE</th>\n",
       "      <th>WSUDLCL2_HAEMATOPOIETIC_AND_LYMPHOID_TISSUE</th>\n",
       "    </tr>\n",
       "  </thead>\n",
       "  <tbody>\n",
       "    <tr>\n",
       "      <th>1</th>\n",
       "      <td>0</td>\n",
       "      <td>0</td>\n",
       "      <td>0</td>\n",
       "      <td>1</td>\n",
       "      <td>0</td>\n",
       "      <td>0</td>\n",
       "      <td>0</td>\n",
       "      <td>0</td>\n",
       "      <td>0</td>\n",
       "      <td>0</td>\n",
       "      <td>...</td>\n",
       "      <td>0</td>\n",
       "      <td>0</td>\n",
       "      <td>0</td>\n",
       "      <td>0</td>\n",
       "      <td>0</td>\n",
       "      <td>0</td>\n",
       "      <td>0</td>\n",
       "      <td>0</td>\n",
       "      <td>0</td>\n",
       "      <td>0</td>\n",
       "    </tr>\n",
       "    <tr>\n",
       "      <th>2</th>\n",
       "      <td>0</td>\n",
       "      <td>0</td>\n",
       "      <td>0</td>\n",
       "      <td>0</td>\n",
       "      <td>0</td>\n",
       "      <td>0</td>\n",
       "      <td>1</td>\n",
       "      <td>1</td>\n",
       "      <td>1</td>\n",
       "      <td>0</td>\n",
       "      <td>...</td>\n",
       "      <td>0</td>\n",
       "      <td>0</td>\n",
       "      <td>0</td>\n",
       "      <td>0</td>\n",
       "      <td>0</td>\n",
       "      <td>0</td>\n",
       "      <td>0</td>\n",
       "      <td>0</td>\n",
       "      <td>0</td>\n",
       "      <td>0</td>\n",
       "    </tr>\n",
       "    <tr>\n",
       "      <th>3</th>\n",
       "      <td>0</td>\n",
       "      <td>0</td>\n",
       "      <td>1</td>\n",
       "      <td>0</td>\n",
       "      <td>0</td>\n",
       "      <td>0</td>\n",
       "      <td>0</td>\n",
       "      <td>0</td>\n",
       "      <td>0</td>\n",
       "      <td>0</td>\n",
       "      <td>...</td>\n",
       "      <td>0</td>\n",
       "      <td>0</td>\n",
       "      <td>0</td>\n",
       "      <td>0</td>\n",
       "      <td>0</td>\n",
       "      <td>0</td>\n",
       "      <td>0</td>\n",
       "      <td>0</td>\n",
       "      <td>0</td>\n",
       "      <td>0</td>\n",
       "    </tr>\n",
       "    <tr>\n",
       "      <th>4</th>\n",
       "      <td>1</td>\n",
       "      <td>1</td>\n",
       "      <td>0</td>\n",
       "      <td>0</td>\n",
       "      <td>1</td>\n",
       "      <td>1</td>\n",
       "      <td>0</td>\n",
       "      <td>0</td>\n",
       "      <td>0</td>\n",
       "      <td>0</td>\n",
       "      <td>...</td>\n",
       "      <td>0</td>\n",
       "      <td>0</td>\n",
       "      <td>0</td>\n",
       "      <td>0</td>\n",
       "      <td>0</td>\n",
       "      <td>0</td>\n",
       "      <td>0</td>\n",
       "      <td>0</td>\n",
       "      <td>0</td>\n",
       "      <td>0</td>\n",
       "    </tr>\n",
       "    <tr>\n",
       "      <th>5</th>\n",
       "      <td>0</td>\n",
       "      <td>0</td>\n",
       "      <td>0</td>\n",
       "      <td>0</td>\n",
       "      <td>0</td>\n",
       "      <td>0</td>\n",
       "      <td>0</td>\n",
       "      <td>0</td>\n",
       "      <td>0</td>\n",
       "      <td>1</td>\n",
       "      <td>...</td>\n",
       "      <td>1</td>\n",
       "      <td>1</td>\n",
       "      <td>1</td>\n",
       "      <td>1</td>\n",
       "      <td>1</td>\n",
       "      <td>1</td>\n",
       "      <td>1</td>\n",
       "      <td>1</td>\n",
       "      <td>1</td>\n",
       "      <td>1</td>\n",
       "    </tr>\n",
       "  </tbody>\n",
       "</table>\n",
       "<p>5 rows × 166 columns</p>\n",
       "</div>"
      ],
      "text/plain": [
       "   A3KAW_HAEMATOPOIETIC_AND_LYMPHOID_TISSUE  \\\n",
       "1                                         0   \n",
       "2                                         0   \n",
       "3                                         0   \n",
       "4                                         1   \n",
       "5                                         0   \n",
       "\n",
       "   A4FUK_HAEMATOPOIETIC_AND_LYMPHOID_TISSUE  \\\n",
       "1                                         0   \n",
       "2                                         0   \n",
       "3                                         0   \n",
       "4                                         1   \n",
       "5                                         0   \n",
       "\n",
       "   ALLSIL_HAEMATOPOIETIC_AND_LYMPHOID_TISSUE  \\\n",
       "1                                          0   \n",
       "2                                          0   \n",
       "3                                          1   \n",
       "4                                          0   \n",
       "5                                          0   \n",
       "\n",
       "   AML193_HAEMATOPOIETIC_AND_LYMPHOID_TISSUE  \\\n",
       "1                                          1   \n",
       "2                                          0   \n",
       "3                                          0   \n",
       "4                                          0   \n",
       "5                                          0   \n",
       "\n",
       "   AMO1_HAEMATOPOIETIC_AND_LYMPHOID_TISSUE  \\\n",
       "1                                        0   \n",
       "2                                        0   \n",
       "3                                        0   \n",
       "4                                        1   \n",
       "5                                        0   \n",
       "\n",
       "   BCP1_HAEMATOPOIETIC_AND_LYMPHOID_TISSUE  \\\n",
       "1                                        0   \n",
       "2                                        0   \n",
       "3                                        0   \n",
       "4                                        1   \n",
       "5                                        0   \n",
       "\n",
       "   BDCM_HAEMATOPOIETIC_AND_LYMPHOID_TISSUE  \\\n",
       "1                                        0   \n",
       "2                                        1   \n",
       "3                                        0   \n",
       "4                                        0   \n",
       "5                                        0   \n",
       "\n",
       "   BL41_HAEMATOPOIETIC_AND_LYMPHOID_TISSUE  \\\n",
       "1                                        0   \n",
       "2                                        1   \n",
       "3                                        0   \n",
       "4                                        0   \n",
       "5                                        0   \n",
       "\n",
       "   BL70_HAEMATOPOIETIC_AND_LYMPHOID_TISSUE  \\\n",
       "1                                        0   \n",
       "2                                        1   \n",
       "3                                        0   \n",
       "4                                        0   \n",
       "5                                        0   \n",
       "\n",
       "   BV173_HAEMATOPOIETIC_AND_LYMPHOID_TISSUE  \\\n",
       "1                                         0   \n",
       "2                                         0   \n",
       "3                                         0   \n",
       "4                                         0   \n",
       "5                                         1   \n",
       "\n",
       "                      ...                       \\\n",
       "1                     ...                        \n",
       "2                     ...                        \n",
       "3                     ...                        \n",
       "4                     ...                        \n",
       "5                     ...                        \n",
       "\n",
       "   SUPT11_HAEMATOPOIETIC_AND_LYMPHOID_TISSUE  \\\n",
       "1                                          0   \n",
       "2                                          0   \n",
       "3                                          0   \n",
       "4                                          0   \n",
       "5                                          1   \n",
       "\n",
       "   SUPT1_HAEMATOPOIETIC_AND_LYMPHOID_TISSUE  \\\n",
       "1                                         0   \n",
       "2                                         0   \n",
       "3                                         0   \n",
       "4                                         0   \n",
       "5                                         1   \n",
       "\n",
       "   TALL1_HAEMATOPOIETIC_AND_LYMPHOID_TISSUE  \\\n",
       "1                                         0   \n",
       "2                                         0   \n",
       "3                                         0   \n",
       "4                                         0   \n",
       "5                                         1   \n",
       "\n",
       "   TF1_HAEMATOPOIETIC_AND_LYMPHOID_TISSUE  \\\n",
       "1                                       0   \n",
       "2                                       0   \n",
       "3                                       0   \n",
       "4                                       0   \n",
       "5                                       1   \n",
       "\n",
       "   THP1_HAEMATOPOIETIC_AND_LYMPHOID_TISSUE  \\\n",
       "1                                        0   \n",
       "2                                        0   \n",
       "3                                        0   \n",
       "4                                        0   \n",
       "5                                        1   \n",
       "\n",
       "   TO175T_HAEMATOPOIETIC_AND_LYMPHOID_TISSUE  \\\n",
       "1                                          0   \n",
       "2                                          0   \n",
       "3                                          0   \n",
       "4                                          0   \n",
       "5                                          1   \n",
       "\n",
       "   TOLEDO_HAEMATOPOIETIC_AND_LYMPHOID_TISSUE  \\\n",
       "1                                          0   \n",
       "2                                          0   \n",
       "3                                          0   \n",
       "4                                          0   \n",
       "5                                          1   \n",
       "\n",
       "   U266B1_HAEMATOPOIETIC_AND_LYMPHOID_TISSUE  \\\n",
       "1                                          0   \n",
       "2                                          0   \n",
       "3                                          0   \n",
       "4                                          0   \n",
       "5                                          1   \n",
       "\n",
       "   U937_HAEMATOPOIETIC_AND_LYMPHOID_TISSUE  \\\n",
       "1                                        0   \n",
       "2                                        0   \n",
       "3                                        0   \n",
       "4                                        0   \n",
       "5                                        1   \n",
       "\n",
       "   WSUDLCL2_HAEMATOPOIETIC_AND_LYMPHOID_TISSUE  \n",
       "1                                            0  \n",
       "2                                            0  \n",
       "3                                            0  \n",
       "4                                            0  \n",
       "5                                            1  \n",
       "\n",
       "[5 rows x 166 columns]"
      ]
     },
     "execution_count": 34,
     "metadata": {},
     "output_type": "execute_result"
    }
   ],
   "source": [
    "make_label_x_sample_matrix(labels.ix[5, :])"
   ]
  },
  {
   "cell_type": "markdown",
   "metadata": {},
   "source": [
    "# Make Onco-GPS"
   ]
  },
  {
   "cell_type": "code",
   "execution_count": null,
   "metadata": {
    "collapsed": false,
    "scrolled": true
   },
   "outputs": [],
   "source": [
    "ccal.support.VERBOSE = True\n",
    "\n",
    "for n_components in [3, 4, 6, 9]:\n",
    "    print('n_components:', n_components)\n",
    "    for n_state in ks[::5]:\n",
    "        print('n_state:', n_state)\n",
    "        ccal.onco_gps.make_map(h.iloc[:n_components, :], np.random.choice(list(range(1, n_state + 1)), h.shape[1]))\n",
    "        ccal.onco_gps.make_map(h.iloc[:n_components, :], np.random.choice(list(range(1, n_state + 1)), h.shape[1]), colors=['#E52339',\n",
    "                                                                                                                            '#4682B4',\n",
    "                                                                                                                            '#BAFF51',\n",
    "                                                                                                                            '#614C82',\n",
    "                                                                                                                            '#FF8C00',\n",
    "                                                                                                                            '#FFFF00',\n",
    "                                                                                                                            '#DB7093',\n",
    "                                                                                                                            '#B0E0E6',\n",
    "                                                                                                                            '#09DCFF',\n",
    "                                                                                                                            '#5F9EA0',\n",
    "                                                                                                                            '#008000',\n",
    "                                                                                                                            '#A479E7',\n",
    "                                                                                                                            '#FFC0CB',\n",
    "                                                                                                                            '#FFFFCC',\n",
    "                                                                                                                            '#EF97EA',\n",
    "                                                                                                                            '#DFCBFF',\n",
    "                                                                                                                            '#FF00FF',\n",
    "                                                                                                                            '#FB5200',\n",
    "                                                                                                                            '#FFD700',\n",
    "                                                                                                                            '#FF0000',\n",
    "                                                                                                                            '#FF7F50',\n",
    "                                                                                                                            '#8B0000',\n",
    "                                                                                                                            '#6B8E23',\n",
    "                                                                                                                            '#5F51FF',\n",
    "                                                                                                                            '#B27E3C',\n",
    "                                                                                                                            '#644824',\n",
    "                                                                                                                            '#A0522D'])\n",
    "        ccal.onco_gps.make_map(h.iloc[:n_components, :], np.random.choice(list(range(1, n_state + 1)), h.shape[1]), n_pullratio_components=2)\n",
    "        for annotation_type in ['continuous', 'categorical', 'binary']:\n",
    "            print('annotation_type:', annotation_type)\n",
    "            if annotation_type == 'continuous':\n",
    "                annotations = np.random.random_sample(h.shape[1])\n",
    "            elif annotation_type == 'categorical':\n",
    "                annotations = np.random.choice(range(n_state), h.shape[1])\n",
    "            elif annotation_type == 'binary':\n",
    "                annotations = np.random.choice(range(2), h.shape[1])\n",
    "            else:\n",
    "                raise ValueError('Error in annotation_type.')\n",
    "            ccal.onco_gps.make_map(h.iloc[:n_components, :],\n",
    "                                   np.random.choice(list(range(1, n_state + 1)), h.shape[1]),\n",
    "                                   annotations=annotations,\n",
    "                                   annotation_type=annotation_type)"
   ]
  },
  {
   "cell_type": "code",
   "execution_count": null,
   "metadata": {
    "collapsed": true
   },
   "outputs": [],
   "source": [
    "from matplotlib.colors import ListedColormap\n",
    "CMAP_CATEGORICAL_CUSTOM = ListedColormap(['#E52339',\n",
    "                                          '#4682B4',\n",
    "                                          '#BAFF51',\n",
    "                                          '#614C82',\n",
    "                                          '#FF8C00',\n",
    "                                          '#FFFF00',\n",
    "                                          '#DB7093',\n",
    "                                          '#B0E0E6',\n",
    "                                          '#09DCFF',\n",
    "                                          '#5F9EA0',\n",
    "                                          '#008000',\n",
    "                                          '#A479E7',\n",
    "                                          '#FFC0CB',\n",
    "                                          '#FFFFCC',\n",
    "                                          '#EF97EA',\n",
    "                                          '#DFCBFF',\n",
    "                                          '#FF00FF',\n",
    "                                          '#FB5200',\n",
    "                                          '#FFD700',\n",
    "                                          '#FF0000',\n",
    "                                          '#FF7F50',\n",
    "                                          '#8B0000',\n",
    "                                          '#6B8E23',\n",
    "                                          '#5F51FF',\n",
    "                                          '#B27E3C',\n",
    "                                          '#644824',\n",
    "                                          '#A0522D'])"
   ]
  },
  {
   "cell_type": "code",
   "execution_count": null,
   "metadata": {
    "collapsed": false
   },
   "outputs": [],
   "source": [
    "CMAP_CATEGORICAL_CUSTOM(4)"
   ]
  },
  {
   "cell_type": "markdown",
   "metadata": {},
   "source": [
    "# Project samples"
   ]
  },
  {
   "cell_type": "code",
   "execution_count": null,
   "metadata": {
    "collapsed": false
   },
   "outputs": [],
   "source": [
    "state = 12\n",
    "states = labels.ix[state, :]"
   ]
  },
  {
   "cell_type": "code",
   "execution_count": null,
   "metadata": {
    "collapsed": false
   },
   "outputs": [],
   "source": [
    "ccal.onco_gps.make_map(h, states)"
   ]
  },
  {
   "cell_type": "code",
   "execution_count": null,
   "metadata": {
    "collapsed": false
   },
   "outputs": [],
   "source": [
    "ccal.onco_gps.make_map(h, states, h_test=h, states_test=states)"
   ]
  },
  {
   "cell_type": "code",
   "execution_count": null,
   "metadata": {
    "collapsed": false
   },
   "outputs": [],
   "source": [
    "n = 10\n",
    "ccal.onco_gps.make_map(h, states, h_test=h.iloc[:, :n], states_test=states[:n])\n",
    "ccal.onco_gps.make_map(h, states, h_test=h.iloc[:, :n], states_test=states[:n], h_test_normalization='clip_and_0-1')\n",
    "ccal.onco_gps.make_map(h, states, h_test=h.iloc[:, :n], states_test=states[:n], h_test_normalization=None)"
   ]
  },
  {
   "cell_type": "markdown",
   "metadata": {},
   "source": [
    "# Test real data"
   ]
  },
  {
   "cell_type": "code",
   "execution_count": null,
   "metadata": {
    "collapsed": true
   },
   "outputs": [],
   "source": [
    "H = ccal.support.read_gct('/home/cyborg/Downloads/KRAS_Matrix.gct')\n",
    "\n",
    "MEMBERSHIPS = pd.read_csv('/home/cyborg/Downloads/KRAS_membership.gct', sep='\\t', index_col=0)\n",
    "K17_MEMBERSHIPS = MEMBERSHIPS.ix[:, 'k_17']\n",
    "K17_MEMBERSHIPS_INT = K17_MEMBERSHIPS.apply(lambda s: int(s[1:])).tolist()"
   ]
  },
  {
   "cell_type": "code",
   "execution_count": null,
   "metadata": {
    "collapsed": false
   },
   "outputs": [],
   "source": [
    "ccal.onco_gps.make_map(H, K17_MEMBERSHIPS_INT, background_markersize=0, background_mask_markersize=0)"
   ]
  },
  {
   "cell_type": "code",
   "execution_count": null,
   "metadata": {
    "collapsed": false,
    "scrolled": true
   },
   "outputs": [],
   "source": [
    "training_h = H\n",
    "empty = np.empty\n",
    "X = 3\n",
    "Y = 10\n",
    "ratios = empty(training_h.shape[1])\n",
    "for i, (c_idx, c) in enumerate(training_h.iteritems()):\n",
    "    c_sorted = c.sort_values(ascending=False)\n",
    "    ratio = float(c_sorted[:X].sum() / c_sorted[X:].sum()) * c.sum()\n",
    "    ratios[i] = ratio\n",
    "normalized_ratios = (ratios - ratios.min()) / (ratios.max() - ratios.min())\n",
    "normalized_ratios *= Y\n",
    "normalized_ratios.clip(0, 1)"
   ]
  },
  {
   "cell_type": "code",
   "execution_count": null,
   "metadata": {
    "collapsed": false
   },
   "outputs": [],
   "source": [
    "ccal.onco_gps.make_map(H, K17_MEMBERSHIPS_INT, background_markersize=0, background_mask_markersize=0)"
   ]
  },
  {
   "cell_type": "code",
   "execution_count": null,
   "metadata": {
    "collapsed": false
   },
   "outputs": [],
   "source": [
    "RPKM = ccal.support.read_gct('/home/cyborg/data/ccle/ccle_rpkm.gct')\n",
    "\n",
    "CD274_RPKM = RPKM.ix['CD274', :]\n",
    "CD274_SAMPLES_IN_H = CD274_RPKM.index & H.columns\n",
    "H_CD274 = H.ix[:, CD274_SAMPLES_IN_H]\n",
    "K17_MEMNERSHIPS_CD274 = K17_MEMBERSHIPS.ix[CD274_SAMPLES_IN_H].apply(lambda s: int(s[1:])).tolist()"
   ]
  },
  {
   "cell_type": "code",
   "execution_count": null,
   "metadata": {
    "collapsed": false
   },
   "outputs": [],
   "source": [
    "ccal.onco_gps.make_map(H, K17_MEMBERSHIPS_INT, annotations=CD274_RPKM.ix[H.columns])"
   ]
  },
  {
   "cell_type": "code",
   "execution_count": null,
   "metadata": {
    "collapsed": false
   },
   "outputs": [],
   "source": [
    "ccal.onco_gps.make_map(H, K17_MEMBERSHIPS_INT, h_test=H_CD274, states_test=K17_MEMNERSHIPS_CD274, annotations=CD274_RPKM.ix[H_CD274.columns])"
   ]
  }
 ],
 "metadata": {
  "anaconda-cloud": {},
  "kernelspec": {
   "display_name": "Python [default]",
   "language": "python",
   "name": "python3"
  },
  "language_info": {
   "codemirror_mode": {
    "name": "ipython",
    "version": 3
   },
   "file_extension": ".py",
   "mimetype": "text/x-python",
   "name": "python",
   "nbconvert_exporter": "python",
   "pygments_lexer": "ipython3",
   "version": "3.5.2"
  }
 },
 "nbformat": 4,
 "nbformat_minor": 0
}
