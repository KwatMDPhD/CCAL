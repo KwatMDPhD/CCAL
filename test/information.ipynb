{
 "cells": [
  {
   "cell_type": "code",
   "execution_count": 1,
   "metadata": {
    "collapsed": false
   },
   "outputs": [
    {
     "name": "stdout",
     "output_type": "stream",
     "text": [
      "===============================================================================\n",
      "==================== Computational Cancer Analysis Library ====================\n",
      "===============================================================================\n",
      "<18:15:41> Checking library dependencies ...\n",
      "<18:15:41> Using the following libraries (in addition to the Anaconda libraries):\n",
      "<18:15:41> \tscipy (v0.18.0)\n",
      "<18:15:41> \tstatsmodels (v0.6.1)\n",
      "<18:15:41> \tscikit-learn (v0.17.1)\n",
      "<18:15:41> \tseaborn (v0.7.1)\n",
      "<18:15:41> \trpy2 (v2.8.2)\n",
      "<18:15:41> \tpandas (v0.18.1)\n",
      "<18:15:41> \tmatplotlib (v1.5.1)\n",
      "<18:15:41> \tnumpy (v1.11.1)\n",
      "<18:15:41> Planted a random seed 20121020.\n"
     ]
    }
   ],
   "source": [
    "import time\n",
    "import math\n",
    "import numpy as np\n",
    "import sys\n",
    "sys.path.insert(0, '..')\n",
    "import ccal\n",
    "%matplotlib inline"
   ]
  },
  {
   "cell_type": "markdown",
   "metadata": {},
   "source": [
    "# Test data type cases"
   ]
  },
  {
   "cell_type": "code",
   "execution_count": 2,
   "metadata": {
    "collapsed": false
   },
   "outputs": [
    {
     "name": "stdout",
     "output_type": "stream",
     "text": [
      "0.672782394796\n",
      "operands could not be broadcast together with shapes (10,) (11,) (10,) \n",
      "0.189996912609\n",
      "-0.292898352695\n",
      "0.25017956679\n",
      "0.355918908665\n"
     ]
    }
   ],
   "source": [
    "x = np.random.random_sample(10)\n",
    "y = np.random.random_sample(10)\n",
    "print(ccal.information.information_coefficient(x, y))\n",
    "\n",
    "x = np.random.random_sample(10)\n",
    "y = np.random.random_sample(11)\n",
    "try:\n",
    "    ccal.information.information_coefficient(x, y)\n",
    "except ValueError as e:\n",
    "    print(e)\n",
    "\n",
    "x = np.random.random_sample(10)\n",
    "x[1] = None\n",
    "y = np.random.random_sample(10)\n",
    "y[2] = None\n",
    "print(ccal.information.information_coefficient(x, y))\n",
    "\n",
    "x = np.random.random_sample(10)\n",
    "x[1] = None\n",
    "y = np.random.random_sample(10)\n",
    "y[2] = None\n",
    "y[6] = None\n",
    "print(ccal.information.information_coefficient(x, y))\n",
    "\n",
    "x = np.random.random_sample(10)\n",
    "x[1] = None\n",
    "x[3] = None\n",
    "x[5] = None\n",
    "y = np.random.random_sample(10)\n",
    "y[2] = None\n",
    "y[4] = None\n",
    "print(ccal.information.information_coefficient(x, y))\n",
    "\n",
    "x = np.array([12.517, 14.706, np.nan, 14.12, np.nan, np.nan, np.nan, 12.255])\n",
    "y = np.array([0.98246356, 0.97525171, 0.77744759, 0.64084311, 0.4405853, 0.43827196, 0.12447757, 0.08116039])\n",
    "print(ccal.information.information_coefficient(x, y))"
   ]
  },
  {
   "cell_type": "markdown",
   "metadata": {},
   "source": [
    "# Time KDE implementations"
   ]
  },
  {
   "cell_type": "code",
   "execution_count": 3,
   "metadata": {
    "collapsed": true
   },
   "outputs": [],
   "source": [
    "n = 10\n",
    "size = 1000"
   ]
  },
  {
   "cell_type": "markdown",
   "metadata": {},
   "source": [
    "## R's bcv & kde2d"
   ]
  },
  {
   "cell_type": "code",
   "execution_count": 4,
   "metadata": {
    "collapsed": false
   },
   "outputs": [
    {
     "name": "stdout",
     "output_type": "stream",
     "text": [
      "5 \t 0.035396575927734375\n",
      "9 \t 0.04148983955383301\n",
      "17 \t 0.05177450180053711\n"
     ]
    }
   ],
   "source": [
    "import rpy2.robjects as ro\n",
    "from rpy2.robjects.packages import importr\n",
    "from rpy2.robjects.numpy2ri import numpy2ri\n",
    "\n",
    "ro.conversion.py2ri = numpy2ri\n",
    "mass = importr('MASS')\n",
    "\n",
    "for p in range(2, 5):\n",
    "    n_grids = math.pow(2, p) + 1\n",
    "    t0 = time.time()\n",
    "    for i in range(n):\n",
    "        x = np.random.random_sample(size)\n",
    "        y = np.random.random_sample(size)\n",
    "        bandwidth_x = np.asarray(mass.bcv(x)[0])\n",
    "        bandwidth_y = np.asarray(mass.bcv(y)[0])\n",
    "        kde = mass.kde2d(x, y, np.asarray([bandwidth_x, bandwidth_y]), n=np.asarray([n_grids]))\n",
    "    print(int(n_grids), '\\t', time.time() - t0)"
   ]
  },
  {
   "cell_type": "markdown",
   "metadata": {},
   "source": [
    "## fastKDE"
   ]
  },
  {
   "cell_type": "code",
   "execution_count": 5,
   "metadata": {
    "collapsed": true
   },
   "outputs": [],
   "source": [
    "# from fastkde import fastKDE\n",
    "\n",
    "# for p in range(2, 10):\n",
    "#     n_grids = math.pow(2, p) + 1\n",
    "#     t0 = time.time()\n",
    "#     for i in range(n):\n",
    "#         x = np.random.random_sample(size)\n",
    "#         y = np.random.random_sample(size)\n",
    "#         pdf, axes = fastKDE.pdf(x, y, numPoints=n_grids)\n",
    "#     print(int(n_grids), '\\t', time.time() - t0)"
   ]
  },
  {
   "cell_type": "markdown",
   "metadata": {},
   "source": [
    "## KDEMultivariate\n",
    "### Higher overhead. Can specify bandwidth. Slowest."
   ]
  },
  {
   "cell_type": "code",
   "execution_count": 6,
   "metadata": {
    "collapsed": false
   },
   "outputs": [
    {
     "data": {
      "text/plain": [
       "0.9100980758666992"
      ]
     },
     "execution_count": 6,
     "metadata": {},
     "output_type": "execute_result"
    }
   ],
   "source": [
    "from statsmodels.nonparametric.kernel_density import KDEMultivariate\n",
    "\n",
    "t0 = time.time()\n",
    "for i in range(n):\n",
    "    x = np.random.random_sample(size)\n",
    "    y = np.random.random_sample(size)\n",
    "    kde = KDEMultivariate([x, y], var_type='cc', bw=[0.1, 0.1])\n",
    "    kde.pdf()\n",
    "time.time() - t0"
   ]
  },
  {
   "cell_type": "markdown",
   "metadata": {},
   "source": [
    "## gaussian_kde\n",
    "### Faster. Can't specify bandwidth."
   ]
  },
  {
   "cell_type": "code",
   "execution_count": 7,
   "metadata": {
    "collapsed": false
   },
   "outputs": [
    {
     "data": {
      "text/plain": [
       "0.02182602882385254"
      ]
     },
     "execution_count": 7,
     "metadata": {},
     "output_type": "execute_result"
    }
   ],
   "source": [
    "from scipy.stats import gaussian_kde\n",
    "\n",
    "t0 = time.time()\n",
    "for i in range(n):\n",
    "    x = np.random.random_sample(size)\n",
    "    y = np.random.random_sample(size)\n",
    "    kde = gaussian_kde([x, y], bw_method='silverman')\n",
    "    kde.pdf(np.random.random_sample((2, 25)))\n",
    "time.time() - t0"
   ]
  },
  {
   "cell_type": "markdown",
   "metadata": {},
   "source": [
    "# Time information_coefficient implementations"
   ]
  },
  {
   "cell_type": "markdown",
   "metadata": {},
   "source": [
    "## Wrapped R using P and H"
   ]
  },
  {
   "cell_type": "code",
   "execution_count": 8,
   "metadata": {
    "collapsed": false
   },
   "outputs": [
    {
     "name": "stdout",
     "output_type": "stream",
     "text": [
      "0.10862421989440918\n"
     ]
    }
   ],
   "source": [
    "t0 = time.time()\n",
    "for i in range(n):\n",
    "    x = np.random.random_sample(size)\n",
    "    y = np.random.random_sample(size)\n",
    "    ccal.information.information_coefficient(x, y)\n",
    "print(time.time() - t0)"
   ]
  },
  {
   "cell_type": "code",
   "execution_count": 9,
   "metadata": {
    "collapsed": false
   },
   "outputs": [
    {
     "name": "stdout",
     "output_type": "stream",
     "text": [
      "0.08505058288574219\n"
     ]
    }
   ],
   "source": [
    "from rpy2.robjects.packages import SignatureTranslatedAnonymousPackage\n",
    "\n",
    "\n",
    "# TODO: refactor\n",
    "r ='''\n",
    "    information_coefficient <- function(x, y, n.grid = 25) {\n",
    "        x.set <- !is.na(x)\n",
    "        y.set <- !is.na(y)\n",
    "        overlap <- x.set & y.set\n",
    "\n",
    "        x <- x[overlap] + 1e-09 * runif(length(overlap))\n",
    "        y <- y[overlap] + 1e-09 * runif(length(overlap))\n",
    "\n",
    "        if (length(x) > 2) {\n",
    "            delta <- c(bcv(x), bcv(y))\n",
    "            cor <- cor(x, y)\n",
    "\n",
    "            bandwidths <- delta * (1 + (-0.75) * abs(cor))\n",
    "            \n",
    "            kde2d.xy <- kde2d(x, y, bandwidths, n = n.grid)\n",
    "            fxy <- kde2d.xy$z + .Machine$double.eps\n",
    "            dx <- kde2d.xy$x[2] - kde2d.xy$x[1]\n",
    "            dy <- kde2d.xy$y[2] - kde2d.xy$y[1]\n",
    "            pxy <- fxy/(sum(fxy) * dx * dy)\n",
    "            px <- rowSums(pxy) * dy\n",
    "            py <- colSums(pxy) * dx\n",
    "\n",
    "            # hxy <- -sum(pxy * log(pxy)) * dx * dy\n",
    "            # hx <- -sum(px * log(px)) * dx\n",
    "            # hy <- -sum(py * log(py)) * dy\n",
    "            # mi <- hx + hy - hxy\n",
    "\n",
    "            px <- matrix(px, nrow = n.grid, ncol = n.grid)\n",
    "            py <- matrix(py, byrow = TRUE, nrow = n.grid, ncol = n.grid)\n",
    "            mi <- sum(pxy * log(pxy/(px * py))) * dx * dy\n",
    "\n",
    "            ic <- sign(cor) * sqrt(1 - exp(-2 * mi))\n",
    "\n",
    "            if (is.na(ic)) {\n",
    "                ic <- 0\n",
    "            }\n",
    "        } else {\n",
    "            ic <- 0\n",
    "        }\n",
    "        return(ic)\n",
    "    }\n",
    "    '''\n",
    "r = SignatureTranslatedAnonymousPackage(r, 'r')\n",
    "\n",
    "t0 = time.time()\n",
    "for i in range(n):\n",
    "    x = np.random.random_sample(size)\n",
    "    y = np.random.random_sample(size)\n",
    "    r.information_coefficient(x, y)\n",
    "print(time.time() - t0)"
   ]
  },
  {
   "cell_type": "markdown",
   "metadata": {},
   "source": [
    "## Using KDEMultivariate"
   ]
  },
  {
   "cell_type": "code",
   "execution_count": 10,
   "metadata": {
    "collapsed": false,
    "scrolled": true
   },
   "outputs": [
    {
     "name": "stdout",
     "output_type": "stream",
     "text": [
      "0.6361842155456543\n"
     ]
    }
   ],
   "source": [
    "from numpy import asarray\n",
    "from numpy.random import random_sample\n",
    "from statsmodels.nonparametric.kernel_density import KDEMultivariate\n",
    "from scipy.stats import pearsonr\n",
    "\n",
    "drop_nan_columns = ccal.support.drop_nan_columns\n",
    "\n",
    "def information_coefficient_statsmodels(x, y, data_types='cc', n_grids=25, jitter=1E-10):\n",
    "    x, y = drop_nan_columns([x, y])\n",
    "    if len(x) < 3 or len(y) < 3:\n",
    "        return 0\n",
    "    x = asarray(x, dtype=float)\n",
    "    y = asarray(y, dtype=float)\n",
    "    x += random_sample(x.size) * jitter\n",
    "    y += random_sample(y.size) * jitter\n",
    "\n",
    "    cor, p = pearsonr(x, y)    \n",
    "    bandwidth_x = np.asarray(mass.bcv(x)[0]) * (1 + (-0.75) * abs(cor)) / 4\n",
    "    bandwidth_y = np.asarray(mass.bcv(y)[0]) * (1 + (-0.75) * abs(cor)) / 4\n",
    "    \n",
    "    kde = KDEMultivariate([x, y], bw=[bandwidth_x, bandwidth_y], var_type=data_types)\n",
    "    meshgrid_x, meshgrid_y = np.meshgrid(np.linspace(x.min(), x.max(), n_grids), np.linspace(y.min(), y.max(), n_grids))\n",
    "    fxy = kde.pdf(np.vstack([meshgrid_x.flatten(), meshgrid_y.flatten()])).reshape((n_grids, n_grids)) + np.finfo(float).eps\n",
    "    dx = (x.max() - x.min()) / (n_grids - 1)\n",
    "    dy = (y.max() - y.min()) / (n_grids - 1)\n",
    "    pxy = fxy / (fxy.sum() * dx * dy)\n",
    "    px = pxy.sum(axis=1) * dy\n",
    "    py = pxy.sum(axis=0) * dx\n",
    "    \n",
    "    mi = np.sum(pxy * np.log(pxy/(np.array([px] * n_grids).T * np.array([py] * n_grids)))) * dx * dy\n",
    "    \n",
    "    # hxy = - np.sum(pxy * np.log(pxy)) * dx * dy\n",
    "    # hx = -np.sum(px * np.log(px)) * dx\n",
    "    # hy = -np.sum(py * np.log(py)) * dy\n",
    "    # mi = hx + hy - hxy\n",
    "    \n",
    "    ic = np.sign(cor) * np.sqrt(1 - np.exp(- 2 * mi))\n",
    "    \n",
    "    return ic\n",
    "\n",
    "t0 = time.time()\n",
    "for i in range(n):\n",
    "    x = np.random.random_sample(size)\n",
    "    y = np.random.random_sample(size)\n",
    "    information_coefficient_statsmodels(x, y)\n",
    "print(time.time() - t0)"
   ]
  },
  {
   "cell_type": "markdown",
   "metadata": {},
   "source": [
    "## Using gaussian_kde"
   ]
  },
  {
   "cell_type": "code",
   "execution_count": 11,
   "metadata": {
    "collapsed": false
   },
   "outputs": [
    {
     "data": {
      "text/plain": [
       "0.2732663154602051"
      ]
     },
     "execution_count": 11,
     "metadata": {},
     "output_type": "execute_result"
    }
   ],
   "source": [
    "from scipy.stats import gaussian_kde\n",
    "\n",
    "\n",
    "def information_coefficient_scipy(x, y, data_types='cc', n_grids=25, jitter=1E-10):\n",
    "    x, y = drop_nan_columns([x, y])\n",
    "    if len(x) < 3 or len(y) < 3:\n",
    "        return 0\n",
    "    x = asarray(x, dtype=float)\n",
    "    y = asarray(y, dtype=float)\n",
    "    x += random_sample(x.size) * jitter\n",
    "    y += random_sample(y.size) * jitter\n",
    "    \n",
    "    # Get bandwidths\n",
    "    cor, p = pearsonr(x, y)\n",
    "    bandwidth_x = np.asarray(mass.bcv(x)[0]) / 4 * (1 + (-0.75) * abs(cor))\n",
    "    bandwidth_y = np.asarray(mass.bcv(y)[0]) / 4 * (1 + (-0.75) * abs(cor))\n",
    "\n",
    "    # Kernel density estimate\n",
    "    kde = gaussian_kde([x, y], bw_method='silverman')\n",
    "    \n",
    "    meshgrid_x, meshgrid_y = np.meshgrid(np.linspace(x.min(), x.max(), n_grids), np.linspace(y.min(), y.max(), n_grids))\n",
    "    dx = (x.max() - x.min()) / (n_grids - 1)\n",
    "    dy = (y.max() - y.min()) / (n_grids - 1)\n",
    "    \n",
    "    pxy = kde.pdf(np.vstack((meshgrid_x.flatten(), meshgrid_y.flatten()))).reshape((n_grids, n_grids)) + np.finfo(float).eps\n",
    "    px = pxy.sum(axis=1) * dy\n",
    "    py = pxy.sum(axis=0) * dx\n",
    "    mi = np.sum(pxy * np.log(pxy/(px * py))) * dx * dy\n",
    "    ic = np.sign(cor) * np.sqrt(1 - np.exp(- 2 * mi))\n",
    "    return ic\n",
    "\n",
    "t0 = time.time()\n",
    "for i in range(n):\n",
    "    x = np.random.random_sample(size)\n",
    "    y = np.random.random_sample(size)\n",
    "    information_coefficient_scipy(x, y)\n",
    "time.time() - t0"
   ]
  }
 ],
 "metadata": {
  "anaconda-cloud": {},
  "kernelspec": {
   "display_name": "Python [default]",
   "language": "python",
   "name": "python3"
  },
  "language_info": {
   "codemirror_mode": {
    "name": "ipython",
    "version": 3
   },
   "file_extension": ".py",
   "mimetype": "text/x-python",
   "name": "python",
   "nbconvert_exporter": "python",
   "pygments_lexer": "ipython3",
   "version": "3.5.2"
  }
 },
 "nbformat": 4,
 "nbformat_minor": 0
}
