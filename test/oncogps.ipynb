{
 "cells": [
  {
   "cell_type": "code",
   "execution_count": null,
   "metadata": {
    "collapsed": false
   },
   "outputs": [],
   "source": [
    "import os\n",
    "import sys\n",
    "\n",
    "import numpy as np\n",
    "import pandas as pd\n",
    "import matplotlib as mpl\n",
    "import matplotlib.pyplot as plt\n",
    "import seaborn as sns\n",
    "\n",
    "sys.path.insert(0, '..')\n",
    "import ccal\n",
    "\n",
    "%matplotlib inline\n",
    "# %config InlineBackend.figure_formats = {'svg',}"
   ]
  },
  {
   "cell_type": "markdown",
   "metadata": {},
   "source": [
    "## Define states"
   ]
  },
  {
   "cell_type": "code",
   "execution_count": null,
   "metadata": {
    "collapsed": false,
    "scrolled": true
   },
   "outputs": [],
   "source": [
    "h = ccal.support.read_gct('data/hema_k9_H.gct')\n",
    "ks = [12]\n",
    "# distance_matrix, clusterings, cophenetic_correlations = ccal.define_states(h,\n",
    "#                                                                            ks,\n",
    "#                                                                            n_clusterings=30,\n",
    "#                                                                            max_std=5,\n",
    "#                                                                            directory_path='result/define_states/')\n",
    "distance_matrix, clusterings, cophenetic_correlations = ccal.define_states(h,\n",
    "                                                                           ks,\n",
    "                                                                           distance_matrix=ccal.read_gct('data/hema_k9_distance_matrix.gct'),\n",
    "                                                                           n_clusterings=30,\n",
    "                                                                           max_std=5)\n",
    "state_labels = clusterings.ix[12, :]"
   ]
  },
  {
   "cell_type": "markdown",
   "metadata": {},
   "source": [
    "## Make Onco-GPS with real data"
   ]
  },
  {
   "cell_type": "code",
   "execution_count": null,
   "metadata": {
    "collapsed": false
   },
   "outputs": [],
   "source": [
    "colors = ['#CD96CD', '#5CACEE', '#43CD80', '#FFA500', '#CD5555', '#F0A5AB', '#9AC7EF', '#D6A3FC', '#FFE1DC',\n",
    "          '#FAF2BE', '#F3C7F2', '#C6FA60', '#F970F9', '#FC8962', '#F6E370', '#F0F442', '#AED4ED', '#D9D9D9',\n",
    "          '#FD9B85', '#7FFF00', '#FFB90F', '#6E8B3D', '#8B8878', '#7FFFD4', '#00008B', '#D2B48C', '#006400']\n",
    "\n",
    "output = ccal.make_oncogps_map(h, state_labels, component_ratio=2,\n",
    "                               colors=colors[:12], component_markeredgewidth=2.6)"
   ]
  },
  {
   "cell_type": "code",
   "execution_count": null,
   "metadata": {
    "collapsed": false
   },
   "outputs": [],
   "source": [
    "output = ccal.make_oncogps_map(h, state_labels, component_ratio=2,\n",
    "                               colors='paper', component_markeredgewidth=2.6,\n",
    "                               filepath='result/make_oncogps_map.pdf')"
   ]
  },
  {
   "cell_type": "markdown",
   "metadata": {},
   "source": [
    "## Project samples"
   ]
  },
  {
   "cell_type": "code",
   "execution_count": null,
   "metadata": {
    "collapsed": false,
    "scrolled": true
   },
   "outputs": [],
   "source": [
    "# output = ccal.make_oncogps_map(h, state_labels)\n",
    "n = 10\n",
    "\n",
    "output1 = ccal.make_oncogps_map(h, state_labels, testing_h=h, testing_states=state_labels,\n",
    "                                testing_h_normalization='using_training',\n",
    "                                title='Using Training')\n",
    "output2 = ccal.make_oncogps_map(h, state_labels, testing_h=h.iloc[:, :n], testing_states=state_labels[:n],\n",
    "                                testing_h_normalization='using_training',\n",
    "                                title='Using Training')\n",
    "\n",
    "output = ccal.make_oncogps_map(h, state_labels, testing_h=h, testing_states=state_labels,\n",
    "                               testing_h_normalization='as_training',\n",
    "                               title='As Training')\n",
    "output = ccal.make_oncogps_map(h, state_labels, testing_h=h.iloc[:, :n], testing_states=state_labels[:n],\n",
    "                               testing_h_normalization='as_training',\n",
    "                               title='As Training')\n",
    "\n",
    "output = ccal.make_oncogps_map(h, state_labels, testing_h=h, testing_states=state_labels,\n",
    "                               testing_h_normalization=None,\n",
    "                               title='None')\n",
    "output = ccal.make_oncogps_map(h, state_labels, testing_h=h.iloc[:, :n], testing_states=state_labels[:n],\n",
    "                               testing_h_normalization=None,\n",
    "                               title='None')\n",
    "\n",
    "try:\n",
    "    output = ccal.make_oncogps_map(h, state_labels,\n",
    "                                   testing_h=h, testing_states=state_labels,\n",
    "                                   testing_h_normalization='foo')\n",
    "except ValueError as e:\n",
    "    print(e)"
   ]
  },
  {
   "cell_type": "markdown",
   "metadata": {},
   "source": [
    "## Make Onco-GPS with random data"
   ]
  },
  {
   "cell_type": "code",
   "execution_count": null,
   "metadata": {
    "collapsed": false
   },
   "outputs": [],
   "source": [
    "for n_components in [3]:\n",
    "    print('n_components:', n_components)\n",
    "    for n_state in ks[::5]:\n",
    "        print('n_state:', n_state)\n",
    "        ccal.make_oncogps_map(h.iloc[:n_components, :], np.random.choice(list(range(1, n_state + 1)), h.shape[1]))\n",
    "        ccal.make_oncogps_map(h.iloc[:n_components, :], np.random.choice(list(range(1, n_state + 1)), h.shape[1]), n_pulls=2)\n",
    "        for annotation_type in ['continuous', 'categorical', 'binary']:\n",
    "            print('annotation_type:', annotation_type)\n",
    "            if annotation_type == 'continuous':\n",
    "                annotation = np.random.random_sample(h.shape[1])\n",
    "            elif annotation_type == 'categorical':\n",
    "                annotation = np.random.choice(range(n_state), h.shape[1])\n",
    "            elif annotation_type == 'binary':\n",
    "                annotation = np.random.choice(range(2), h.shape[1])\n",
    "            else:\n",
    "                raise ValueError('Error in annotation_type.')\n",
    "            ccal.make_oncogps_map(h.iloc[:n_components, :],\n",
    "                                  np.random.choice(list(range(1, n_state + 1)), h.shape[1]),\n",
    "                                  annotation=annotation,\n",
    "                                  annotation_type=annotation_type)"
   ]
  }
 ],
 "metadata": {
  "anaconda-cloud": {},
  "kernelspec": {
   "display_name": "Python [default]",
   "language": "python",
   "name": "python3"
  },
  "language_info": {
   "codemirror_mode": {
    "name": "ipython",
    "version": 3
   },
   "file_extension": ".py",
   "mimetype": "text/x-python",
   "name": "python",
   "nbconvert_exporter": "python",
   "pygments_lexer": "ipython3",
   "version": "3.5.2"
  }
 },
 "nbformat": 4,
 "nbformat_minor": 0
}
