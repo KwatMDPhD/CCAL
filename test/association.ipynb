{
 "cells": [
  {
   "cell_type": "code",
   "execution_count": null,
   "metadata": {
    "collapsed": false
   },
   "outputs": [],
   "source": [
    "import sys\n",
    "\n",
    "import pandas as pd\n",
    "import matplotlib as mpl\n",
    "import matplotlib.pyplot as plt\n",
    "\n",
    "sys.path.insert(0, '..')\n",
    "\n",
    "import ccal\n",
    "\n",
    "%matplotlib inline\n",
    "mpl.rcParams['figure.figsize'] = (8, 5)\n",
    "mpl.rcParams['figure.max_open_warning'] = 200"
   ]
  },
  {
   "cell_type": "markdown",
   "metadata": {},
   "source": [
    "# Test parallel computing"
   ]
  },
  {
   "cell_type": "code",
   "execution_count": null,
   "metadata": {
    "collapsed": false
   },
   "outputs": [],
   "source": [
    "features = ccal.support.simulate_dataframe_or_series(100, 10)\n",
    "target = ccal.support.simulate_dataframe_or_series(1, 10)\n",
    "\n",
    "ccal.association.match(features, target, 'output/association/parallel100', n_jobs=4, n_samplings=5, n_permutations=5, min_n_per_job=1)"
   ]
  },
  {
   "cell_type": "code",
   "execution_count": null,
   "metadata": {
    "collapsed": false
   },
   "outputs": [],
   "source": [
    "features = ccal.support.simulate_dataframe_or_series(103, 10)\n",
    "target = ccal.support.simulate_dataframe_or_series(1, 10)\n",
    "\n",
    "ccal.association.match(features, target, 'output/association/parallel101', n_jobs=4, n_samplings=5, n_permutations=5)"
   ]
  },
  {
   "cell_type": "markdown",
   "metadata": {},
   "source": [
    "# Test various cases using loop"
   ]
  },
  {
   "cell_type": "code",
   "execution_count": null,
   "metadata": {
    "collapsed": false,
    "scrolled": true
   },
   "outputs": [],
   "source": [
    "ccal.support.VERBOSE = False\n",
    "\n",
    "for feature_n_categories in [None, 10, 2]:\n",
    "    if feature_n_categories:\n",
    "        if feature_n_categories == 2:\n",
    "            feature_type = 'binary'\n",
    "        elif feature_n_categories > 2:\n",
    "            feature_type = 'categorical'\n",
    "    else:\n",
    "        feature_type = 'continuous'\n",
    "        \n",
    "    for target_n_categories in [None, 10, 2]:\n",
    "        if target_n_categories:\n",
    "            if target_n_categories == 2:\n",
    "                target_type = 'binary'\n",
    "            elif target_n_categories > 2:\n",
    "                target_type = 'categorical'\n",
    "        else:\n",
    "            target_type = 'continuous'\n",
    "            \n",
    "        for r in [10, 100]:\n",
    "            for c in [10, 100]:\n",
    "                features = ccal.support.simulate_dataframe_or_series(r, c, n_categories=feature_n_categories)\n",
    "                target = ccal.support.simulate_dataframe_or_series(1, c, n_categories=target_n_categories)\n",
    "                \n",
    "                for n_samplings in [10, 2]:\n",
    "                    for n_permutations in [10, 2]:\n",
    "                        title = '{}-{}-{}row-{}col-{}smpl-{}perm'.format(feature_type, target_type, r, c, n_samplings, n_permutations)\n",
    "                        print(title)\n",
    "                        \n",
    "                        ccal.association.match(features, target, 'output/association/{}'.format(title),\n",
    "                                               feature_type=feature_type, target_type=target_type,\n",
    "                                               n_samplings=n_samplings, n_permutations=n_permutations,\n",
    "                                               title=title)"
   ]
  }
 ],
 "metadata": {
  "anaconda-cloud": {},
  "kernelspec": {
   "display_name": "Python [default]",
   "language": "python",
   "name": "python3"
  },
  "language_info": {
   "codemirror_mode": {
    "name": "ipython",
    "version": 3
   },
   "file_extension": ".py",
   "mimetype": "text/x-python",
   "name": "python",
   "nbconvert_exporter": "python",
   "pygments_lexer": "ipython3",
   "version": "3.5.2"
  }
 },
 "nbformat": 4,
 "nbformat_minor": 0
}
