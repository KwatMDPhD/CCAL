{
 "cells": [
  {
   "cell_type": "code",
   "execution_count": null,
   "metadata": {
    "collapsed": false,
    "scrolled": false
   },
   "outputs": [],
   "source": [
    "import sys\n",
    "import os\n",
    "\n",
    "import pandas as pd\n",
    "import matplotlib as mpl\n",
    "import matplotlib.pyplot as plt\n",
    "\n",
    "sys.path.insert(0, '..')\n",
    "\n",
    "import ccal\n",
    "\n",
    "%matplotlib inline\n",
    "mpl.rcParams['figure.figsize'] = (16, 10)\n",
    "mpl.rcParams['figure.max_open_warning'] = 200\n",
    "\n",
    "HOME_DIR = os.environ['HOME']\n",
    "CCLE_DIR = os.path.join(HOME_DIR, 'data', 'ccle')"
   ]
  },
  {
   "cell_type": "markdown",
   "metadata": {},
   "source": [
    "# Read test data"
   ]
  },
  {
   "cell_type": "code",
   "execution_count": null,
   "metadata": {
    "collapsed": false
   },
   "outputs": [],
   "source": [
    "h_matrix = ccal.read_gct('data/nmf_k9_h.gct')"
   ]
  },
  {
   "cell_type": "code",
   "execution_count": null,
   "metadata": {
    "collapsed": true
   },
   "outputs": [],
   "source": [
    "variant_filepath = os.path.join(CCLE_DIR, 'ccle_variants.gct')\n",
    "variant_df = ccal.read_gct(variant_filepath)\n",
    "\n",
    "gene_dependency_filepath = os.path.join(CCLE_DIR, 'ccle_gene_dependencies.gct')\n",
    "gene_dependency_df = ccal.read_gct(gene_dependency_filepath)\n",
    "\n",
    "gene_expression_filepath = os.path.join(CCLE_DIR, 'ccle_gene_expressions.gct')\n",
    "gene_expression_df = ccal.read_gct(gene_expression_filepath)\n",
    "\n",
    "pathway_expression_filepath = os.path.join(CCLE_DIR, 'ccle_pathway_expressions.gct')\n",
    "pathway_expression_df = ccal.read_gct(pathway_expression_filepath)\n",
    "\n",
    "protein_expression_filepath = os.path.join(CCLE_DIR, 'ccle_protein_expressions.gct')\n",
    "protein_expression_df = ccal.read_gct(protein_expression_filepath)\n",
    "\n",
    "pathology_filepath = os.path.join(CCLE_DIR, 'ccle_pathologies.gct')\n",
    "pathology_df = ccal.read_gct(pathology_filepath)\n",
    "\n",
    "phenotype_filepath = os.path.join(CCLE_DIR, 'ccle_phenotypes.gct')\n",
    "phenotype_df = ccal.read_gct(phenotype_filepath)\n",
    "\n",
    "drug_dependency_filepath = os.path.join(CCLE_DIR, 'ccle_drug_sensitivities.gct')\n",
    "drug_dependency_df = ccal.read_gct(drug_dependency_filepath)"
   ]
  },
  {
   "cell_type": "markdown",
   "metadata": {},
   "source": [
    "# Test make_association_panels"
   ]
  },
  {
   "cell_type": "markdown",
   "metadata": {},
   "source": [
    "## Make target bundle"
   ]
  },
  {
   "cell_type": "code",
   "execution_count": null,
   "metadata": {
    "collapsed": true
   },
   "outputs": [],
   "source": [
    "component = 9\n",
    "target_bundle = [['H Matrix', h_matrix, 'continuous', False, 0, component, 'Component {}'.format(component)]]"
   ]
  },
  {
   "cell_type": "markdown",
   "metadata": {},
   "source": [
    "## Make feature bundles"
   ]
  },
  {
   "cell_type": "code",
   "execution_count": null,
   "metadata": {
    "collapsed": true
   },
   "outputs": [],
   "source": [
    "feature_bundles = {}\n",
    "\n",
    "n_features = 30\n",
    "feature_indices = list(range(n_features))\n",
    "\n",
    "feature_bundles['features=filepath'] = [['Variant', variant_filepath, 'binary', False, 0, feature_indices, []],\n",
    "                                        ['Gene Dependency', gene_dependency_filepath, 'continuous', True, 0, feature_indices, []],\n",
    "                                        ['Gene Expression', gene_expression_filepath, 'continuous', False, 0, feature_indices, []],\n",
    "                                        ['Pathway Expression', pathway_expression_filepath, 'continuous', False, 0, feature_indices, []],\n",
    "                                        ['Protein Expression', protein_expression_filepath, 'continuous', False, 0, feature_indices, []],\n",
    "                                        ['Pathology',  pathology_filepath, 'binary', False, 0, [], []],\n",
    "                                        ['Phenotype', phenotype_filepath, 'binary', False, 0, feature_indices, []],\n",
    "                                        ['Drug Sensitivity', drug_dependency_filepath, 'continuous', True, 0, feature_indices, []]]\n",
    "\n",
    "feature_bundles['features=df'] = [['Variant', variant_df, 'binary', False, 0, feature_indices, []],\n",
    "                                  ['Gene Dependency', gene_dependency_df, 'continuous', True, 0, feature_indices, []],\n",
    "                                  ['Gene Expression', gene_expression_df, 'continuous', False, 0, feature_indices, []],\n",
    "                                  ['Pathway Expression', pathway_expression_df, 'continuous', False, 0, feature_indices, []],\n",
    "                                  ['Protein Expression', protein_expression_df, 'continuous', False, 0, feature_indices, []],\n",
    "                                  ['Pathology',  pathology_df, 'binary', False, 0, [], []],\n",
    "                                  ['Phenotype', phenotype_df, 'binary', False, 0, feature_indices, []],\n",
    "                                  ['Drug Sensitivity', drug_dependency_df, 'continuous', True, 0, feature_indices, []]]\n",
    "\n",
    "feature_aliases = ['Feature {}'.format(f) for f in feature_indices]\n",
    "feature_bundles['feature_aliases'] = [['Variant', variant_df, 'binary', False, 0, feature_indices, feature_aliases],\n",
    "                                      ['Gene Dependency', gene_dependency_df, 'continuous', True, 0, feature_indices, feature_aliases],\n",
    "                                      ['Gene Expression', gene_expression_df, 'continuous', False, 0, feature_indices, feature_aliases],\n",
    "                                      ['Pathway Expression', pathway_expression_df, 'continuous', False, 0, feature_indices, feature_aliases],\n",
    "                                      ['Protein Expression', protein_expression_df, 'continuous', False, 0, feature_indices, feature_aliases],\n",
    "                                      ['Pathology',  pathology_df, 'binary', False, 0, [], feature_aliases],\n",
    "                                      ['Phenotype', phenotype_df, 'binary', False, 0, feature_indices, feature_aliases],\n",
    "                                      ['Drug Sensitivity', drug_dependency_df, 'continuous', True, 0, feature_indices, feature_aliases]]"
   ]
  },
  {
   "cell_type": "markdown",
   "metadata": {},
   "source": [
    "## Test"
   ]
  },
  {
   "cell_type": "code",
   "execution_count": null,
   "metadata": {
    "collapsed": false,
    "scrolled": true
   },
   "outputs": [],
   "source": [
    "for feature_bundle_name, feature_bundle in feature_bundles.items():\n",
    "    ccal.make_association_panels(target_bundle, feature_bundle,\n",
    "                                 n_features=10, n_jobs=1, n_samplings=3, n_permutations=3,\n",
    "                                 dpi=10,\n",
    "                                 filepath_prefix='result/make_association_panels/{}_'.format(feature_bundle_name))"
   ]
  },
  {
   "cell_type": "markdown",
   "metadata": {},
   "source": [
    "# Test make_association_panel"
   ]
  },
  {
   "cell_type": "markdown",
   "metadata": {},
   "source": [
    "## Test speicfic call"
   ]
  },
  {
   "cell_type": "code",
   "execution_count": null,
   "metadata": {
    "collapsed": false
   },
   "outputs": [],
   "source": [
    "simulated_target = ccal.support.simulate_dataframe_or_series(1, 3)\n",
    "simulated_features = ccal.support.simulate_dataframe_or_series(10, 3)\n",
    "target_type = 'continuous'\n",
    "feature_type = 'continuous'\n",
    "n_samplings = 5\n",
    "n_permutations = 2\n",
    "S = ccal.make_association_panel(simulated_target, simulated_features,\n",
    "                                target_type=target_type, feature_type=feature_type,\n",
    "                                n_samplings=n_samplings, n_permutations=n_permutations)"
   ]
  },
  {
   "cell_type": "markdown",
   "metadata": {},
   "source": [
    "## Test with loop"
   ]
  },
  {
   "cell_type": "code",
   "execution_count": null,
   "metadata": {
    "collapsed": false,
    "scrolled": true
   },
   "outputs": [],
   "source": [
    "ccal.support.VERBOSE = False\n",
    "\n",
    "# Test continuous, categorical, and binary target\n",
    "for n_targert_categories in [None, 10, 2]:\n",
    "    \n",
    "    if n_targert_categories:\n",
    "        if n_targert_categories == 2:  # Test binary category\n",
    "            target_type = 'binary'\n",
    "            \n",
    "        elif n_targert_categories > 2:  # Test categorical category\n",
    "            target_type = 'categorical'\n",
    "            \n",
    "    else:  # Test continuous target\n",
    "        target_type = 'continuous'\n",
    "        \n",
    "    # Test continuous, categorical, and binary features\n",
    "    for n_feature_categories in [None, 10, 2]:\n",
    "        \n",
    "        if n_feature_categories:\n",
    "            if n_feature_categories == 2:  # Test binary features\n",
    "                feature_type = 'binary'\n",
    "                \n",
    "            elif n_feature_categories > 2:  # Test categorical features\n",
    "                feature_type = 'categorical'\n",
    "                \n",
    "        else:  # Test continuous features\n",
    "            feature_type = 'continuous'\n",
    "\n",
    "        # Test with varying number of features\n",
    "        for n_features in [1, 2, 100]:\n",
    "            \n",
    "            # Test with varying number of samples\n",
    "            for n_samples in [3, 100]:\n",
    "\n",
    "                # Simualte target\n",
    "                simulated_target = ccal.support.simulate_dataframe_or_series(1,\n",
    "                                                                             n_samples,\n",
    "                                                                             n_categories=n_targert_categories)\n",
    "                \n",
    "                # Simulate features\n",
    "                simulated_features = ccal.support.simulate_dataframe_or_series(n_features,\n",
    "                                                                               n_samples,\n",
    "                                                                               n_categories=n_feature_categories)\n",
    "                \n",
    "                # Test varying number of parallel jobs\n",
    "                for n_jobs in [1, 2, 3]:\n",
    "                    \n",
    "                    # Test varying numbner of samplings\n",
    "                    for n_samplings in [1, 3]: \n",
    "\n",
    "                        # Test varying number of permutations\n",
    "                        for n_permutations in [1, 3]:\n",
    "\n",
    "                            title = '{}X{} & {}X{} @ {}jobs & {}smpl & {}perms'.format(n_features,\n",
    "                                                                                       n_samples,\n",
    "                                                                                       target_type[:3],\n",
    "                                                                                       feature_type[:3],\n",
    "                                                                                       n_jobs,\n",
    "                                                                                       n_samplings,\n",
    "                                                                                       n_permutations)\n",
    "                            print(title)\n",
    "\n",
    "                            # Test\n",
    "                            ccal.make_association_panel(simulated_target, simulated_features,\n",
    "                                                        target_type=target_type, feature_type=feature_type, \n",
    "                                                        n_samplings=n_samplings, n_permutations=n_permutations,\n",
    "                                                        title=title,                                                   \n",
    "                                                        filepath_prefix='result/make_association_panel/{}'.format(title))"
   ]
  }
 ],
 "metadata": {
  "anaconda-cloud": {},
  "kernelspec": {
   "display_name": "Python [default]",
   "language": "python",
   "name": "python3"
  },
  "language_info": {
   "codemirror_mode": {
    "name": "ipython",
    "version": 3
   },
   "file_extension": ".py",
   "mimetype": "text/x-python",
   "name": "python",
   "nbconvert_exporter": "python",
   "pygments_lexer": "ipython3",
   "version": "3.5.2"
  }
 },
 "nbformat": 4,
 "nbformat_minor": 0
}
