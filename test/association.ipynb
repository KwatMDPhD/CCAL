{
 "cells": [
  {
   "cell_type": "code",
   "execution_count": null,
   "metadata": {
    "collapsed": false,
    "scrolled": false
   },
   "outputs": [],
   "source": [
    "import sys\n",
    "import os\n",
    "\n",
    "import numpy as np\n",
    "import pandas as pd\n",
    "import matplotlib as mpl\n",
    "import matplotlib.pyplot as plt\n",
    "import seaborn as sns\n",
    "\n",
    "sys.path.insert(0, '..')\n",
    "\n",
    "import ccal\n",
    "\n",
    "%matplotlib inline\n",
    "mpl.rcParams['figure.figsize'] = (16, 10)\n",
    "mpl.rcParams['figure.max_open_warning'] = 200\n",
    "\n",
    "HOME_DIR = os.environ['HOME']\n",
    "CCLE_DIR = os.path.join(HOME_DIR, 'data', 'ccle')"
   ]
  },
  {
   "cell_type": "markdown",
   "metadata": {},
   "source": [
    "# Test make_association_panel"
   ]
  },
  {
   "cell_type": "markdown",
   "metadata": {},
   "source": [
    "## Test speicfic call"
   ]
  },
  {
   "cell_type": "code",
   "execution_count": null,
   "metadata": {
    "collapsed": false,
    "scrolled": true
   },
   "outputs": [],
   "source": [
    "n_samples = 100\n",
    "n_features = 10\n",
    "\n",
    "n_targert_categories = None\n",
    "n_features_categories = None\n",
    "\n",
    "if n_targert_categories:\n",
    "    if n_targert_categories == 2:  # Test binary category\n",
    "        target_type = 'binary'\n",
    "    elif n_targert_categories > 2:  # Test categorical category\n",
    "        target_type = 'categorical'\n",
    "else:  # Test continuous target\n",
    "    target_type = 'continuous'\n",
    "    \n",
    "if n_features_categories:\n",
    "    if n_features_categories == 2:  # Test binary features\n",
    "        features_type = 'binary'\n",
    "    elif n_features_categories > 2:  # Test categorical features\n",
    "        features_type = 'categorical'\n",
    "else:  # Test continuous features\n",
    "    features_type = 'continuous'\n",
    "\n",
    "simulated_target = ccal.support.simulate_dataframe_or_series(1, n_samples,\n",
    "                                                             n_categories=n_targert_categories)\n",
    "simulated_features = ccal.support.simulate_dataframe_or_series(n_features, n_samples,\n",
    "                                                             n_categories=n_features_categories)\n",
    "n_samplings = 10\n",
    "n_permutations = 10\n",
    "scores = ccal.make_association_panel(simulated_target, simulated_features,\n",
    "                            target_type=target_type, features_type=features_type,\n",
    "                            n_features=0,\n",
    "                            n_samplings=n_samplings, n_permutations=n_permutations,\n",
    "                            filepath_prefix='result/make_association_panel/test')"
   ]
  },
  {
   "cell_type": "markdown",
   "metadata": {},
   "source": [
    "## Test with loop"
   ]
  },
  {
   "cell_type": "code",
   "execution_count": null,
   "metadata": {
    "collapsed": true
   },
   "outputs": [],
   "source": [
    "ccal.support.VERBOSE = False\n",
    "\n",
    "# Test continuous, categorical, and binary target\n",
    "for n_targert_categories in [10, 2, None]:\n",
    "    \n",
    "    if n_targert_categories:\n",
    "        if n_targert_categories == 2:  # Test binary category\n",
    "            target_type = 'binary'\n",
    "            \n",
    "        elif n_targert_categories > 2:  # Test categorical category\n",
    "            target_type = 'categorical'\n",
    "            \n",
    "    else:  # Test continuous target\n",
    "        target_type = 'continuous'\n",
    "        \n",
    "    # Test continuous, categorical, and binary features\n",
    "    for n_features_categories in [None, 10, 2]:\n",
    "        \n",
    "        if n_features_categories:\n",
    "            if n_features_categories == 2:  # Test binary features\n",
    "                features_type = 'binary'\n",
    "                \n",
    "            elif n_features_categories > 2:  # Test categorical features\n",
    "                features_type = 'categorical'\n",
    "                \n",
    "        else:  # Test continuous features\n",
    "            features_type = 'continuous'\n",
    "\n",
    "        # Test with varying number of features\n",
    "        for n_features in [1, 2, 50]:\n",
    "            \n",
    "            # Test with varying number of samples\n",
    "            for n_samples in [3, 100]:\n",
    "\n",
    "                # Simualte target\n",
    "                simulated_target = ccal.support.simulate_dataframe_or_series(1,\n",
    "                                                                             n_samples,\n",
    "                                                                             n_categories=n_targert_categories)\n",
    "                \n",
    "                # Simulate features\n",
    "                while True:\n",
    "                    simulated_features = ccal.support.simulate_dataframe_or_series(n_features,\n",
    "                                                                                   n_samples,\n",
    "                                                                                   n_categories=n_features_categories)\n",
    "                    if isinstance(simulated_features, pd.Series):\n",
    "                        if len(set(simulated_features)) > 2:\n",
    "                            break\n",
    "                    else:\n",
    "                        simulated_features = simulated_features.ix[simulated_features.apply(lambda f: len(set(f)), axis=1) >= 2]\n",
    "                        if not simulated_features.empty:\n",
    "                            break\n",
    "                        \n",
    "                # Test varying number of parallel jobs\n",
    "                for n_jobs in [1]:\n",
    "                    \n",
    "                    # Test varying numbner of samplings\n",
    "                    for n_samplings in [1, 3]: \n",
    "\n",
    "                        # Test varying number of permutations\n",
    "                        for n_permutations in [1, 3]:\n",
    "\n",
    "                            title = '{}X{} & {}X{} @ {}jobs & {}smpl & {}perms'.format(n_features,\n",
    "                                                                                       n_samples,\n",
    "                                                                                       target_type[:3],\n",
    "                                                                                       features_type[:3],\n",
    "                                                                                       n_jobs,\n",
    "                                                                                       n_samplings,\n",
    "                                                                                       n_permutations)\n",
    "                            print(title)\n",
    "\n",
    "                            # Test\n",
    "                            ccal.make_association_panel(simulated_target, simulated_features,\n",
    "                                                        target_type=target_type, features_type=features_type, \n",
    "                                                        n_samplings=n_samplings, n_permutations=n_permutations,\n",
    "                                                        title=title,                                                   \n",
    "                                                        filepath_prefix='result/make_association_panel/{}'.format(title))"
   ]
  },
  {
   "cell_type": "markdown",
   "metadata": {},
   "source": [
    "# Set up real test data"
   ]
  },
  {
   "cell_type": "code",
   "execution_count": null,
   "metadata": {
    "collapsed": true
   },
   "outputs": [],
   "source": [
    "h_matrix = ccal.read_gct('data/nmf_k9_h.gct')\n",
    "component = 9\n",
    "target = h_matrix.ix[component, :]\n",
    "target_type = 'continuous'\n",
    "\n",
    "variant_filepath = os.path.join(CCLE_DIR, 'ccle_variant.gct')\n",
    "gene_dependency_filepath = os.path.join(CCLE_DIR, 'ccle_gene_dependency.gct')\n",
    "gene_expression_filepath = os.path.join(CCLE_DIR, 'ccle_gene_expression.gct')\n",
    "pathway_expression_filepath = os.path.join(CCLE_DIR, 'ccle_pathway_expression.gct')\n",
    "regulator_filepath = os.path.join(CCLE_DIR, 'ccle_regulator.gct')\n",
    "protein_expression_filepath = os.path.join(CCLE_DIR, 'ccle_protein_expression.gct')\n",
    "phenotype_filepath = os.path.join(CCLE_DIR, 'ccle_phenotype.gct')\n",
    "drug_dependency_filepath = os.path.join(CCLE_DIR, 'ccle_drug_sensitivity.gct')\n",
    "\n",
    "variant_df = ccal.read_gct(variant_filepath)\n",
    "gene_dependency_df = ccal.read_gct(gene_dependency_filepath)\n",
    "gene_expression_df = ccal.read_gct(gene_expression_filepath)\n",
    "pathway_expression_df = ccal.read_gct(pathway_expression_filepath)\n",
    "regulator_df = ccal.read_gct(regulator_filepath)\n",
    "protein_expression_df = ccal.read_gct(protein_expression_filepath)\n",
    "phenotype_df = ccal.read_gct(phenotype_filepath)\n",
    "drug_dependency_df = ccal.read_gct(drug_dependency_filepath)\n",
    "\n",
    "features_bundles = {}\n",
    "\n",
    "n_features = 20\n",
    "index = list(range(n_features))\n",
    "\n",
    "features_bundle_full = [['Variant', variant_df, 'binary', False, 0, index, []],\n",
    "                        ['Gene Dependency', gene_dependency_df, 'continuous', True, 0, index, []],\n",
    "                        ['Gene Expression', gene_expression_df, 'continuous', False, 0, index, []],\n",
    "                        ['Pathway Expression', pathway_expression_df, 'continuous', False, 0, index, []],\n",
    "                        ['Regulator', regulator_df, 'continuous', False, 0, index, []],\n",
    "                        ['Protein Expression', protein_expression_df, 'continuous', False, 0, index, []],\n",
    "                        ['Phenotype', phenotype_df, 'binary', False, 0, index, []],\n",
    "                        ['Drug Sensitivity', drug_dependency_df, 'continuous', True, 0, index, []]]\n",
    "\n",
    "features_bundle_limited = [['Variant', variant_df, 'binary', False, 0, ['KRAS_MUT', 'TP53_MUT'], []],\n",
    "                           ['Gene Dependency', gene_dependency_df, 'continuous', True, 0, ['KRAS'], []],\n",
    "                           ['Gene Expression', gene_expression_df, 'continuous', False, 0, ['KRAS'], []],\n",
    "                           ['Pathway Expression', pathway_expression_df, 'continuous', False, 0, ['HALLMARK_PROTEIN_SECRETION', 'HALLMARK_APOPTOSIS'], []],\n",
    "                           ['Regulator', regulator_df, 'continuous', False, 0, ['IPA_AR'], []],\n",
    "                           ['Protein Expression', protein_expression_df, 'continuous', False, 0, [], []],\n",
    "                           ['Phenotype', phenotype_df, 'binary', False, 0, ['lung'], []],\n",
    "                           ['Drug Sensitivity', drug_dependency_df, 'continuous', True, 0, ['erastin'], []]]"
   ]
  },
  {
   "cell_type": "markdown",
   "metadata": {},
   "source": [
    "# Test make_association_panels"
   ]
  },
  {
   "cell_type": "markdown",
   "metadata": {},
   "source": [
    "## Test full annotation"
   ]
  },
  {
   "cell_type": "code",
   "execution_count": null,
   "metadata": {
    "collapsed": false,
    "scrolled": true
   },
   "outputs": [],
   "source": [
    "ccal.make_association_panels(target, [b for b in features_bundle_full if b[0] in ('Pathway Expression')],\n",
    "                             target_name='KRAS Component {}'.format(component), target_type=target_type,\n",
    "                             n_features=10, n_jobs=6, n_samplings=3, n_permutations=3,\n",
    "                             filepath_prefix='result/make_association_panels/full_')"
   ]
  },
  {
   "cell_type": "markdown",
   "metadata": {},
   "source": [
    "## Test limited annotation"
   ]
  },
  {
   "cell_type": "code",
   "execution_count": null,
   "metadata": {
    "collapsed": false
   },
   "outputs": [],
   "source": [
    "ccal.make_association_panels(target, features_bundle_limited,\n",
    "                             target_name='KRAS Component {}'.format(component), target_type=target_type,\n",
    "                             n_features=10, n_jobs=1, n_samplings=3, n_permutations=3,\n",
    "                             filepath_prefix='result/make_association_panels/limited_')"
   ]
  },
  {
   "cell_type": "markdown",
   "metadata": {},
   "source": [
    "# Test plot_summary_association_panel"
   ]
  },
  {
   "cell_type": "code",
   "execution_count": null,
   "metadata": {
    "collapsed": false
   },
   "outputs": [],
   "source": [
    "annotation_bundle = [\n",
    "    ['Pathway Expression', '/home/cyborg/oncogps/result/kras_genes/fdr0.075/nmf_k9_association/1/top20_pathway_expression.txt'],\n",
    "    ['Pathology',  '/home/cyborg/oncogps/result/kras_genes/fdr0.075/nmf_k9_association/1/top20_pathology.txt'],\n",
    "    ['Phenotype', '/home/cyborg/oncogps/result/kras_genes/fdr0.075/nmf_k9_association/1/_phenotype.txt'],\n",
    "    ['Drug Sensitivity', '/home/cyborg/oncogps/result/kras_genes/fdr0.075/nmf_k9_association/1/_drug_sensitivity.txt']\n",
    "]\n",
    "\n",
    "ccal.plot_summary_association_panel(target, features_bundle_limited, annotation_bundle, filepath='result/plot_summary_association_panel/test.pdf')"
   ]
  }
 ],
 "metadata": {
  "anaconda-cloud": {},
  "kernelspec": {
   "display_name": "Python [default]",
   "language": "python",
   "name": "python3"
  },
  "language_info": {
   "codemirror_mode": {
    "name": "ipython",
    "version": 3
   },
   "file_extension": ".py",
   "mimetype": "text/x-python",
   "name": "python",
   "nbconvert_exporter": "python",
   "pygments_lexer": "ipython3",
   "version": "3.5.2"
  }
 },
 "nbformat": 4,
 "nbformat_minor": 0
}
