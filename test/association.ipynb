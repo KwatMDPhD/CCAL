{
 "cells": [
  {
   "cell_type": "code",
   "execution_count": 1,
   "metadata": {
    "collapsed": false
   },
   "outputs": [
    {
     "name": "stdout",
     "output_type": "stream",
     "text": [
      "================================================================================\n",
      "================= Computational Cancer Analysis Library (CCAL) =================\n",
      "================================================================================\n"
     ]
    }
   ],
   "source": [
    "import sys\n",
    "import os\n",
    "\n",
    "import pandas as pd\n",
    "import matplotlib as mpl\n",
    "import matplotlib.pyplot as plt\n",
    "\n",
    "sys.path.insert(0, '..')\n",
    "\n",
    "import ccal\n",
    "\n",
    "%matplotlib inline\n",
    "mpl.rcParams['figure.figsize'] = (8, 5)\n",
    "mpl.rcParams['figure.max_open_warning'] = 200"
   ]
  },
  {
   "cell_type": "markdown",
   "metadata": {},
   "source": [
    "# Test new API"
   ]
  },
  {
   "cell_type": "code",
   "execution_count": 2,
   "metadata": {
    "collapsed": false
   },
   "outputs": [],
   "source": [
    "DATA_DIR = '/home/cyborg/onco_gps/data/'\n",
    "RESULT_DIR = '/home/cyborg/onco_gps/result/'\n",
    "k = 9\n",
    "w_matrix = ccal.read_gct(os.path.join(RESULT_DIR, 'kras_genes', 'fdr{}'.format(0.075), 'nmf', 'matrices', 'nmf_k{}_w.gct'.format(k)))\n",
    "h_matrix = ccal.read_gct(os.path.join(RESULT_DIR, 'kras_genes', 'fdr{}'.format(0.075                                                                              ), 'nmf', 'matrices', 'nmf_k{}_h.gct'.format(k)))"
   ]
  },
  {
   "cell_type": "code",
   "execution_count": null,
   "metadata": {
    "collapsed": false
   },
   "outputs": [
    {
     "name": "stdout",
     "output_type": "stream",
     "text": [
      "<210155> Loading targets bundle ...\n",
      "<210155> Reading H Matrix ...\n",
      "<210155> \tData: <class 'pandas.core.frame.DataFrame'>.\n",
      "<210155> \tData type: continuous.\n",
      "<210155> \tIs ascending: False.\n",
      "<210155> \tIndex axis: 0.\n",
      "<210155> \tIndex: 1.\n",
      "<210155> \tIndex alias: Component 2.\n",
      "<210155> \tRead 1 features & 750 samples.\n",
      "<210155> Loading feature bundle ...\n",
      "<210155> Reading Drug Sensitivity ...\n",
      "<210155> \tData: <class 'str'>.\n",
      "<210155> \tData type: continuous.\n",
      "<210155> \tIs ascending: True.\n",
      "<210155> \tIndex axis: 0.\n",
      "<210155> \tIndex: [].\n",
      "<210155> \tIndex alias: [].\n",
      "<210155> \tRead 481 features & 645 samples.\n",
      "<210155> \n",
      "<210155> $\n",
      "<210155> $$\n",
      "<210155> $$$\n",
      "<210155> $$$$\n",
      "<210155> $$$$$\n",
      "<210155> Annotating Component 2 with Drug Sensitivity ...\n",
      "<210155> Target Component 2 (597 cols) and features (597 cols) have 597 shared columns.\n",
      "<210155> Dropping features with less than 3 unique values ...\n",
      "<210156> \tKept 481 features.\n",
      "<210156> Scoring (without parallelizing) ...\n",
      "<210159> Computing 0.95 CI using distributions built by 10 bootstraps ...\n",
      "<210159> \tBootstrapping 25 features (> 0.950 percentile) ...\n",
      "<210159> \tBootstrapping 25 features (< 0.050 percentile) ...\n",
      "<210202> Computing P-value and FDR using 5 permutation test ...\n",
      "<210202> Scoring against permuted target (without parallelizing) ...\n",
      "<210202> \tScoring against permuted target (0/5) ...\n",
      "<210205> \tScoring against permuted target (1/5) ...\n",
      "<210207> \tScoring against permuted target (2/5) ...\n",
      "<210210> \tScoring against permuted target (3/5) ...\n"
     ]
    }
   ],
   "source": [
    "feature_bundle = [['Variant', '/home/cyborg/data/ccle/ccle_variants.gct', 'binary', False, 0, [], []],\n",
    "                  ['Gene Dependency', '/home/cyborg/data/ccle/ccle_gene_dependencies.gct', 'continuous', True, 0, [], []],\n",
    "                  ['Gene Expression', '/home/cyborg/data/ccle/ccle_gene_expressions.gct', 'continuous', False, 0, [], []],\n",
    "                  ['Pathway Expression', '/home/cyborg/data/ccle/ccle_pathway_expressions.gct', 'continuous', False, 0, [], []],\n",
    "                  ['Protein Expression', '/home/cyborg/data/ccle/ccle_protein_expressions.gct', 'continuous', False, 0, [], []],\n",
    "                  ['Pathology',  '/home/cyborg/data/ccle/ccle_pathologies.gct', 'binary', False, 0, [], []],\n",
    "                  ['Phenotype', '/home/cyborg/data/ccle/ccle_phenotypes.gct', 'binary', False, 0, [], []],\n",
    "                  ['Drug Sensitivity', '/home/cyborg/data/ccle/ccle_drug_sensitivities.gct', 'continuous', True, 0, [], []]]\n",
    "feature_bundle = [b for b in feature_bundle if b[0] in ('Drug Sensitivity')]\n",
    "\n",
    "target_bundle = [['H Matrix', h_matrix, 'continuous', False, 0, 1, 'Component 2']]\n",
    "\n",
    "ccal.make_association_panels(target_bundle, feature_bundle,\n",
    "                             n_jobs=1, n_samplings=10, n_permutations=5,\n",
    "                             filepath_prefix='output/top20.05')"
   ]
  },
  {
   "cell_type": "markdown",
   "metadata": {},
   "source": [
    "# Test parallel computing"
   ]
  },
  {
   "cell_type": "code",
   "execution_count": null,
   "metadata": {
    "collapsed": false
   },
   "outputs": [],
   "source": [
    "features = ccal.support.simulate_dataframe_or_series(100, 10)\n",
    "target = ccal.support.simulate_dataframe_or_series(1, 10)\n",
    "\n",
    "ccal.association.match(features, target, 'output/association/parallel100', n_jobs=4, n_samplings=5, n_permutations=5, min_n_per_job=1)"
   ]
  },
  {
   "cell_type": "code",
   "execution_count": null,
   "metadata": {
    "collapsed": false
   },
   "outputs": [],
   "source": [
    "features = ccal.support.simulate_dataframe_or_series(103, 10)\n",
    "target = ccal.support.simulate_dataframe_or_series(1, 10)\n",
    "\n",
    "ccal.association.match(features, target, 'output/association/parallel101', n_jobs=4, n_samplings=5, n_permutations=5)"
   ]
  },
  {
   "cell_type": "markdown",
   "metadata": {},
   "source": [
    "# Test various cases using loop"
   ]
  },
  {
   "cell_type": "code",
   "execution_count": null,
   "metadata": {
    "collapsed": false,
    "scrolled": true
   },
   "outputs": [],
   "source": [
    "ccal.support.VERBOSE = False\n",
    "\n",
    "for feature_n_categories in [None, 10, 2]:\n",
    "    if feature_n_categories:\n",
    "        if feature_n_categories == 2:\n",
    "            feature_type = 'binary'\n",
    "        elif feature_n_categories > 2:\n",
    "            feature_type = 'categorical'\n",
    "    else:\n",
    "        feature_type = 'continuous'\n",
    "        \n",
    "    for target_n_categories in [None, 10, 2]:\n",
    "        if target_n_categories:\n",
    "            if target_n_categories == 2:\n",
    "                target_type = 'binary'\n",
    "            elif target_n_categories > 2:\n",
    "                target_type = 'categorical'\n",
    "        else:\n",
    "            target_type = 'continuous'\n",
    "            \n",
    "        for r in [10, 100]:\n",
    "            for c in [10, 100]:\n",
    "                features = ccal.support.simulate_dataframe_or_series(r, c, n_categories=feature_n_categories)\n",
    "                target = ccal.support.simulate_dataframe_or_series(1, c, n_categories=target_n_categories)\n",
    "                \n",
    "                for n_samplings in [10, 2]:\n",
    "                    for n_permutations in [10, 2]:\n",
    "                        title = '{}-{}-{}row-{}col-{}smpl-{}perm'.format(feature_type, target_type, r, c, n_samplings, n_permutations)\n",
    "                        print(title)\n",
    "                        \n",
    "                        ccal.association.match(features, target, 'output/association/{}'.format(title),\n",
    "                                               feature_type=feature_type, target_type=target_type,\n",
    "                                               n_samplings=n_samplings, n_permutations=n_permutations,\n",
    "                                               title=title)"
   ]
  }
 ],
 "metadata": {
  "anaconda-cloud": {},
  "kernelspec": {
   "display_name": "Python [default]",
   "language": "python",
   "name": "python3"
  },
  "language_info": {
   "codemirror_mode": {
    "name": "ipython",
    "version": 3
   },
   "file_extension": ".py",
   "mimetype": "text/x-python",
   "name": "python",
   "nbconvert_exporter": "python",
   "pygments_lexer": "ipython3",
   "version": "3.5.2"
  }
 },
 "nbformat": 4,
 "nbformat_minor": 0
}
