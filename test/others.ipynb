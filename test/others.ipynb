{
 "cells": [
  {
   "cell_type": "code",
   "execution_count": null,
   "metadata": {
    "collapsed": true
   },
   "outputs": [],
   "source": [
    "from numpy.random import random_integers\n",
    "\n",
    "annotations = ['a', 'b', 'c', 'a']\n",
    "\n",
    "annotation_mappings = {}\n",
    "for i, a in enumerate(annotations):\n",
    "    if a not in annotation_mappings:\n",
    "        annotation_mappings[a] = i\n",
    "    \n",
    "\n",
    "annotation_mappings"
   ]
  }
 ],
 "metadata": {
  "anaconda-cloud": {},
  "kernelspec": {
   "display_name": "Python [default]",
   "language": "python",
   "name": "python3"
  },
  "language_info": {
   "codemirror_mode": {
    "name": "ipython",
    "version": 3
   },
   "file_extension": ".py",
   "mimetype": "text/x-python",
   "name": "python",
   "nbconvert_exporter": "python",
   "pygments_lexer": "ipython3",
   "version": "3.5.2"
  }
 },
 "nbformat": 4,
 "nbformat_minor": 1
}
