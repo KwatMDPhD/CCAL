{
 "cells": [
  {
   "cell_type": "markdown",
   "metadata": {},
   "source": [
    "## Cumulative Entropy and Mutual Information\n"
   ]
  },
  {
   "cell_type": "markdown",
   "metadata": {},
   "source": [
    "Reference: Journal of Statistical Planning and Inference 12/2009; 139:4072-4087."
   ]
  },
  {
   "cell_type": "code",
   "execution_count": 1,
   "metadata": {
    "collapsed": false
   },
   "outputs": [],
   "source": [
    "import random\n",
    "import time\n",
    "import numpy as np\n",
    "import matplotlib.pyplot as plt\n",
    "import math\n",
    "%matplotlib inline\n",
    "random.seed(4408765) \n",
    "#import rpy2.robjects as robjects\n",
    "#import rpy2.robjects.lib.ggplot2 as ggplot2\n",
    "#%load_ext rpy2.ipython\n",
    "%load_ext Cython"
   ]
  },
  {
   "cell_type": "code",
   "execution_count": 2,
   "metadata": {
    "collapsed": true
   },
   "outputs": [],
   "source": [
    "def xy_cor(N, rho, truncate=True):\n",
    "    \"This function generates two N-element Gaussian random vectors with correlation rho\"\n",
    "    xx = np.array([0, 1])\n",
    "    yy = np.array([0, 1])\n",
    "    means = [0, 1]  \n",
    "    stds = [0.5, 0.5]\n",
    "    covs = [[stds[0]**2, stds[0]*stds[1]*rho], \n",
    "        [stds[0]*stds[1]*rho, stds[1]**2]] \n",
    "    m = np.random.multivariate_normal(means, covs, N).T\n",
    "    x = (m[0] - np.mean(m[0]))/np.std(m[0])\n",
    "    y = (m[1] - np.mean(m[1]))/np.std(m[1])\n",
    "    if (truncate == True):\n",
    "        x = (x - np.min(x))/(np.max(x) - np.min(x))\n",
    "        y = (y - np.min(y))/(np.max(y) - np.min(y))\n",
    "        #thres = 3\n",
    "        #for i in range(N):\n",
    "        #    if x[i] > thres:\n",
    "        #        x[i] = thres\n",
    "        #    if x[i] < -thres:\n",
    "        #        x[i] = -thres\n",
    "        #    if y[i] > thres:\n",
    "        #        y[i] = thres\n",
    "        #    if y[i] < -thres:\n",
    "         #       y[i] = -thres  \n",
    "    return (x, y)"
   ]
  },
  {
   "cell_type": "markdown",
   "metadata": {},
   "source": [
    "### Define Cumulative Mutual Information Function"
   ]
  },
  {
   "cell_type": "code",
   "execution_count": 3,
   "metadata": {
    "collapsed": false
   },
   "outputs": [],
   "source": [
    "# %%cython --annotate\n",
    "\n",
    "def CMI(x, y):\n",
    "    \"This function computes the Cumulative Mutual Information\"\n",
    "    N = len(x)\n",
    "    lattice_x = np.zeros((N, N), dtype=\"float_\")    # Array of lower x tile coordinates\n",
    "    lattice_y = np.zeros((N, N), dtype=\"float_\")     # Array of lower y tile coordinates\n",
    "    lattice_area = np.zeros((N, N), dtype=\"float_\")   # Array of tile areas\n",
    "    lattice_count = np.zeros((N, N), dtype=\"uint8\")    # Array of tile data counts\n",
    "    x_order = np.argsort(x, kind='quicksort')\n",
    "    x_sorted = x[x_order]\n",
    "    y_order = np.argsort(y, kind='quicksort')\n",
    "    y_sorted = y[y_order]\n",
    "    ind = np.arange(0, N, 1)\n",
    "    ind_x_order = np.argsort(x_order, kind='quicksort') \n",
    "    ind_x = ind[ind_x_order]\n",
    "    ind_y_order = np.argsort(y_order, kind='quicksort') \n",
    "    ind_y = ind[ind_y_order]\n",
    "    for i in range(N):\n",
    "        for j in range(N):\n",
    "            lattice_x[i, j] = x_sorted[i]\n",
    "            lattice_y[i, j] = y_sorted[j]\n",
    "            if i < (N-1) and j < (N-1):\n",
    "                lattice_area[i, j] = (x_sorted[i+1] - x_sorted[i])*(y_sorted[j+1] - y_sorted[j])\n",
    "        \n",
    "    for i in range(N): \n",
    "        lattice_count[ind_x[i], ind_y[i]] = 1 \n",
    "\n",
    "    np.cumsum(lattice_count, axis=1, out=lattice_count)\n",
    "    np.cumsum(lattice_count, axis=0, out=lattice_count)\n",
    "    CDF_xy = lattice_count/float(N)\n",
    "    CDF_x = np.arange(0, N, 1)/float(N)\n",
    "    CDF_y = CDF_x\n",
    "    CE_x = 0\n",
    "    CE_y = 0\n",
    "    for i in range(N-1):\n",
    "        if CDF_x[i] != 0:\n",
    "            CE_x = CE_x - (x_sorted[i+1] - x_sorted[i]) * CDF_x[i] * math.log(CDF_x[i])\n",
    "        if CDF_y[i] != 0:       \n",
    "            CE_y = CE_y - (y_sorted[i+1] - y_sorted[i]) * CDF_y[i] * math.log(CDF_y[i])\n",
    "\n",
    "    CE_xy = 0\n",
    "    for i in range(N):\n",
    "        for j in range(N):\n",
    "            if CDF_xy[i, j] != 0:\n",
    "                CE_xy = CE_xy - lattice_area[i, j] * CDF_xy[i, j] * math.log(CDF_xy[i, j])\n",
    "             \n",
    "    # Compute the CMI based on the difference between joint and marginals CE's        \n",
    "            \n",
    "    CMI = CE_xy - (max(y) - np.mean(y))*CE_x - (max(x) - np.mean(x))*CE_y  \n",
    "    if CMI < 0:\n",
    "        CMI = 0\n",
    "    \n",
    "    # Compute the CMI based on the ratio of joint and marginals CE's\n",
    "    \n",
    "#    CMI2 = 0\n",
    "#    for i in range(N):\n",
    "#        for j in range(N):\n",
    "#            if CDF_x[i] != 0 and CDF_y[j] != 0 and CDF_xy[i, j] != 0:\n",
    "#                CMI2 = CMI2 - lattice_area[i, j] * CDF_xy[i, j] * math.log(CDF_xy[i, j])/(CDF_x[i]*CDF_y[j])\n",
    "        \n",
    "#    return (CMI, CMI2)\n",
    "    return (CMI)"
   ]
  },
  {
   "cell_type": "markdown",
   "metadata": {},
   "source": [
    "### Generate data"
   ]
  },
  {
   "cell_type": "code",
   "execution_count": 8,
   "metadata": {
    "collapsed": false
   },
   "outputs": [
    {
     "name": "stderr",
     "output_type": "stream",
     "text": [
      "/Applications/anaconda3/lib/python3.5/site-packages/ipykernel/__main__.py:9: RuntimeWarning: covariance is not positive-semidefinite.\n"
     ]
    }
   ],
   "source": [
    "N = 100           # Number of x and y data points\n",
    "inst = 10\n",
    "\n",
    "corrs = np.arange(0, 1.005, 0.05)\n",
    "T = len(corrs)\n",
    "CMI_aver_diff = np.zeros((T), dtype=\"float_\") \n",
    "CMI_aver_ratio = np.zeros((T), dtype=\"float_\") \n",
    "\n",
    "for t in range(T):\n",
    "    print(t)\n",
    "    CMI_diff = np.zeros(inst, dtype=\"float_\") \n",
    "    CMI_ratio = np.zeros(inst, dtype=\"float_\") \n",
    "    for k in range(inst):\n",
    "        (x, y) = xy_cor(N, corrs[t], truncate=False)        \n",
    "        (CMI_diff[k]) = CMI(x, y)        \n",
    "  \n",
    "    CMI_aver_diff[t] = np.mean(CMI_diff)\n",
    "    CMI_aver_ratio[t] = np.mean(CMI_ratio)"
   ]
  },
  {
   "cell_type": "code",
   "execution_count": 9,
   "metadata": {
    "collapsed": false
   },
   "outputs": [
    {
     "data": {
      "text/plain": [
       "<matplotlib.collections.PathCollection at 0x112895048>"
      ]
     },
     "execution_count": 9,
     "metadata": {},
     "output_type": "execute_result"
    },
    {
     "data": {
      "image/png": "[encoded data removed]",
      "text/plain": [
       "<matplotlib.figure.Figure at 0x110226978>"
      ]
     },
     "metadata": {},
     "output_type": "display_data"
    }
   ],
   "source": [
    "plt.scatter(corrs, CMI_aver_diff)"
   ]
  },
  {
   "cell_type": "code",
   "execution_count": 10,
   "metadata": {
    "collapsed": false
   },
   "outputs": [
    {
     "data": {
      "text/plain": [
       "<matplotlib.collections.PathCollection at 0x112823ef0>"
      ]
     },
     "execution_count": 10,
     "metadata": {},
     "output_type": "execute_result"
    },
    {
     "data": {
      "image/png": "[encoded data removed]",
      "text/plain": [
       "<matplotlib.figure.Figure at 0x110269cc0>"
      ]
     },
     "metadata": {},
     "output_type": "display_data"
    }
   ],
   "source": [
    "plt.scatter(corrs, CMI_aver_ratio)"
   ]
  },
  {
   "cell_type": "code",
   "execution_count": 12,
   "metadata": {
    "collapsed": false
   },
   "outputs": [
    {
     "ename": "TypeError",
     "evalue": "CMI() takes 2 positional arguments but 3 were given",
     "traceback": [
      "\u001b[0;31m---------------------------------------------------------------------------\u001b[0m",
      "\u001b[0;31mTypeError\u001b[0m                                 Traceback (most recent call last)",
      "\u001b[0;32m<ipython-input-12-646e048a6760>\u001b[0m in \u001b[0;36m<module>\u001b[0;34m()\u001b[0m\n\u001b[1;32m      1\u001b[0m \u001b[0;34m(\u001b[0m\u001b[0mx\u001b[0m\u001b[0;34m,\u001b[0m \u001b[0my\u001b[0m\u001b[0;34m)\u001b[0m \u001b[0;34m=\u001b[0m \u001b[0mxy_cor\u001b[0m\u001b[0;34m(\u001b[0m\u001b[0mN\u001b[0m\u001b[0;34m,\u001b[0m \u001b[0;36m0.80\u001b[0m\u001b[0;34m)\u001b[0m\u001b[0;34m\u001b[0m\u001b[0m\n\u001b[0;32m----> 2\u001b[0;31m \u001b[0mprint\u001b[0m\u001b[0;34m(\u001b[0m\u001b[0mCMI\u001b[0m\u001b[0;34m(\u001b[0m\u001b[0mx\u001b[0m\u001b[0;34m,\u001b[0m \u001b[0my\u001b[0m\u001b[0;34m,\u001b[0m \u001b[0;32mFalse\u001b[0m\u001b[0;34m)\u001b[0m\u001b[0;34m)\u001b[0m\u001b[0;34m\u001b[0m\u001b[0m\n\u001b[0m\u001b[1;32m      3\u001b[0m \u001b[0;34m(\u001b[0m\u001b[0mx\u001b[0m\u001b[0;34m,\u001b[0m \u001b[0my\u001b[0m\u001b[0;34m)\u001b[0m \u001b[0;34m=\u001b[0m \u001b[0mxy_cor\u001b[0m\u001b[0;34m(\u001b[0m\u001b[0mN\u001b[0m\u001b[0;34m,\u001b[0m \u001b[0;36m0.80\u001b[0m\u001b[0;34m)\u001b[0m\u001b[0;34m\u001b[0m\u001b[0m\n\u001b[1;32m      4\u001b[0m \u001b[0mprint\u001b[0m\u001b[0;34m(\u001b[0m\u001b[0mCMI\u001b[0m\u001b[0;34m(\u001b[0m\u001b[0mx\u001b[0m\u001b[0;34m,\u001b[0m \u001b[0my\u001b[0m\u001b[0;34m,\u001b[0m \u001b[0;32mFalse\u001b[0m\u001b[0;34m)\u001b[0m\u001b[0;34m)\u001b[0m\u001b[0;34m\u001b[0m\u001b[0m\n\u001b[1;32m      5\u001b[0m \u001b[0;34m(\u001b[0m\u001b[0mx\u001b[0m\u001b[0;34m,\u001b[0m \u001b[0my\u001b[0m\u001b[0;34m)\u001b[0m \u001b[0;34m=\u001b[0m \u001b[0mxy_cor\u001b[0m\u001b[0;34m(\u001b[0m\u001b[0mN\u001b[0m\u001b[0;34m,\u001b[0m \u001b[0;36m0.80\u001b[0m\u001b[0;34m)\u001b[0m\u001b[0;34m\u001b[0m\u001b[0m\n",
      "\u001b[0;31mTypeError\u001b[0m: CMI() takes 2 positional arguments but 3 were given"
     ],
     "output_type": "error"
    }
   ],
   "source": [
    "(x, y) = xy_cor(N, 0.80)\n",
    "print(CMI(x, y, False))\n",
    "(x, y) = xy_cor(N, 0.80)\n",
    "print(CMI(x, y, False))\n",
    "(x, y) = xy_cor(N, 0.80)\n",
    "print(CMI(x, y, False))"
   ]
  },
  {
   "cell_type": "code",
   "execution_count": 102,
   "metadata": {
    "collapsed": false
   },
   "outputs": [
    {
     "name": "stdout",
     "output_type": "stream",
     "text": [
      "0.247267274853\n",
      "0.247267274853\n",
      "0.278961104385\n",
      "(0.030604803817837214, 4.1300995260403317)\n"
     ]
    }
   ],
   "source": [
    "x = np.random.uniform(low=0.0, high=1.0, size=N)\n",
    "y = np.random.uniform(low=0.0, high=1.0, size=N)\n",
    "print(CMI(x, x, False))"
   ]
  },
  {
   "cell_type": "code",
   "execution_count": 13,
   "metadata": {
    "collapsed": false
   },
   "outputs": [
    {
     "name": "stdout",
     "output_type": "stream",
     "text": [
      "Execution time 9.162075996398926 seconds. \n"
     ]
    }
   ],
   "source": [
    "x = np.random.uniform(low=0.0, high=1.0, size=200)\n",
    "y = np.random.uniform(low=0.0, high=1.0, size=200)\n",
    "start_time = time.time()\n",
    "\n",
    "for i in range(100):\n",
    "    z = CMI(x, y)\n",
    "\n",
    "end_time = time.time() \n",
    "print(\"Execution time %s seconds. \" % (end_time - start_time))"
   ]
  },
  {
   "cell_type": "code",
   "execution_count": 15,
   "metadata": {
    "collapsed": false
   },
   "outputs": [],
   "source": [
    "from library.support import *\n",
    "from library.visualize import *\n",
    "from library.information import *\n",
    "from library.ccba import *"
   ]
  },
  {
   "cell_type": "code",
   "execution_count": 16,
   "metadata": {
    "collapsed": false
   },
   "outputs": [
    {
     "name": "stdout",
     "output_type": "stream",
     "text": [
      "Execution time 2.733725070953369 seconds. \n"
     ]
    }
   ],
   "source": [
    "start_time = time.time()\n",
    "\n",
    "for i in range(100):\n",
    "    z = compute_information_coefficient(x, y)\n",
    "\n",
    "end_time = time.time() \n",
    "print(\"Execution time %s seconds. \" % (end_time - start_time))"
   ]
  }
 ],
 "metadata": {
  "kernelspec": {
   "display_name": "Python 3",
   "language": "python",
   "name": "python3"
  },
  "language_info": {
   "codemirror_mode": {
    "name": "ipython",
    "version": 3.0
   },
   "file_extension": ".py",
   "mimetype": "text/x-python",
   "name": "python",
   "nbconvert_exporter": "python",
   "pygments_lexer": "ipython3",
   "version": "3.5.1"
  }
 },
 "nbformat": 4,
 "nbformat_minor": 0
}