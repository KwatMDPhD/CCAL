{
 "cells": [
  {
   "cell_type": "code",
   "execution_count": 1,
   "metadata": {
    "collapsed": false
   },
   "outputs": [
    {
     "name": "stdout",
     "output_type": "stream",
     "text": [
      "Using the following packages:\n",
      "matplotlib v1.5.1\n",
      "numpy v1.10.4\n",
      "pandas v0.18.0\n",
      "rpy2 v2.7.9\n",
      "scikit-learn v0.17.1\n",
      "seaborn v0.7.0\n"
     ]
    }
   ],
   "source": [
    "from library.ccba import *\n",
    "import sys\n",
    "sys.path.insert(0, '/Users/Kwat/binf/code')\n",
    "from kz_code import *\n",
    "%matplotlib inline"
   ]
  },
  {
   "cell_type": "code",
   "execution_count": 2,
   "metadata": {
    "collapsed": false
   },
   "outputs": [
    {
     "name": "stdout",
     "output_type": "stream",
     "text": [
      "gene_x_sample_df shape: (22944, 211)\n"
     ]
    }
   ],
   "source": [
    "# Read gene expressiong\n",
    "gene_x_sample_df = pd.read_csv('./data/GES24759/GSE24759_series_matrix.txt', sep='\\t', comment='!', index_col=0)\n",
    "print('gene_x_sample_df shape: {}'.format(gene_x_sample_df.shape))"
   ]
  },
  {
   "cell_type": "code",
   "execution_count": 3,
   "metadata": {
    "collapsed": false
   },
   "outputs": [
    {
     "name": "stdout",
     "output_type": "stream",
     "text": [
      "Start parsing at line 277\n",
      "Stop parsing at line 23223\n",
      "Parse error: 1173\n",
      "Gene symbol error 741\n"
     ]
    }
   ],
   "source": [
    "# Read gene information\n",
    "with open('./data/GES24759/GSE24759_family.soft') as f:\n",
    "    gene_info = {}\n",
    "    parse_error = {}\n",
    "    gene_symbol_error = {}\n",
    "    parse = False\n",
    "    for i, line in enumerate(f.readlines()):\n",
    "        line = line.strip()\n",
    "        if not parse:\n",
    "            if line == '!platform_table_begin':\n",
    "                parse = True\n",
    "                print('Start parsing at line {}'.format(i))\n",
    "        else:\n",
    "            if line == '!platform_table_end':\n",
    "                print('Stop parsing at line {}'.format(i))\n",
    "                break\n",
    "            else:\n",
    "                split = line.split('\\t')\n",
    "                try:\n",
    "                    if (split[8] == '' or split[8] =='NA'):\n",
    "                        gene_symbol_error[split[0]] = line\n",
    "                        continue\n",
    "                    elif split[0] in gene_info:\n",
    "                        print('Duplicate at {}'.format(split[0]))\n",
    "                    else:\n",
    "                        gene_info[split[0]] = {'gene_title':split[7],\n",
    "                                               'gene_symbol':split[8].split(' /// '),\n",
    "                                               'entrez_gene':split[9],\n",
    "                                               'refseq':split[10].split(' /// ')}\n",
    "                except:\n",
    "                    parse_error[split[0]] = line\n",
    "    print('Parse error: {}'.format(len(parse_error)))\n",
    "    print('Gene symbol error {}'.format(len(gene_symbol_error)))"
   ]
  },
  {
   "cell_type": "code",
   "execution_count": null,
   "metadata": {
    "collapsed": true
   },
   "outputs": [],
   "source": [
    "# Select k"
   ]
  },
  {
   "cell_type": "code",
   "execution_count": null,
   "metadata": {
    "collapsed": false
   },
   "outputs": [],
   "source": [
    "# NMF\n",
    "list_k = list(range(6,7))\n",
    "\n",
    "nmf_result = {}\n",
    "for k in list_k:\n",
    "    print('Perfomring NMF with k {}'.format(k))\n",
    "    w, h, err =  nmf(gene_x_sample_df, k)\n",
    "    nmf_result[k] = ({'w':w, 'h':h, 'err':err})"
   ]
  },
  {
   "cell_type": "code",
   "execution_count": null,
   "metadata": {
    "collapsed": false
   },
   "outputs": [],
   "source": [
    "# Plot NMF result\n",
    "k=6\n",
    "ax1 = sns.pointplot(x=list_k, y=[v['err'] for v in nmf_result.values()])\n",
    "ax1.set(xlabel='k', ylabel='Reconstruction Error')\n",
    "ax1.set_title('k vs. Reconstruction Error')\n",
    "plt.show()"
   ]
  },
  {
   "cell_type": "code",
   "execution_count": null,
   "metadata": {
    "collapsed": false
   },
   "outputs": [],
   "source": [
    "ax2 = sns.heatmap(nmf_result[k]['w'], yticklabels=False)\n",
    "ax2.set(xlabel='Component', ylabel='Gene')\n",
    "ax2.set_title('H matrix generated using k={}'.format(k))\n",
    "plt.show()"
   ]
  },
  {
   "cell_type": "code",
   "execution_count": null,
   "metadata": {
    "collapsed": false
   },
   "outputs": [],
   "source": [
    "ax3 = sns.heatmap(nmf_result[k]['h'], xticklabels=False)\n",
    "ax3.set(xlabel='Sample', ylabel='Component')\n",
    "ax3.set_title('H matrix generated using k={}'.format(k))\n",
    "plt.show()"
   ]
  },
  {
   "cell_type": "code",
   "execution_count": null,
   "metadata": {
    "collapsed": false
   },
   "outputs": [],
   "source": [
    "# TODO: figure out why the number of passing values are the same for each col in W\n",
    "quantile_percent = 0.99\n",
    "for i in range(nmf_result[k]['w'].shape[1]):\n",
    "    print('Analyzing component {} ...'.format(i))\n",
    "    \n",
    "    col = nmf_result[k]['w'][:, i]\n",
    "    quantile_threshold = quantile(col, 100/((1-quantile_percent)*100))[-1]\n",
    "    idx_pass_threshold = np.nonzero(np.greater_equal(col, quantile_threshold)*col)[0]\n",
    "    print('{} genes above {} quantile threshold.'.format(len(idx_pass_threshold), quantile_percent))\n",
    "\n",
    "    for gene in gene_x_sample_df.index[idx_pass_threshold]:\n",
    "        if gene in gene_info:\n",
    "            pass\n",
    "        elif gene in parse_error:\n",
    "            print('Parse error at {}'.format(gene))\n",
    "        elif gene in gene_symbol_error:\n",
    "            print('Gene symbol error at {}'.format(gene))\n",
    "        else:\n",
    "            print('Unknown error at {}'.format(gene))"
   ]
  }
 ],
 "metadata": {
  "kernelspec": {
   "display_name": "Python 3",
   "language": "python",
   "name": "python3"
  },
  "language_info": {
   "codemirror_mode": {
    "name": "ipython",
    "version": 3
   },
   "file_extension": ".py",
   "mimetype": "text/x-python",
   "name": "python",
   "nbconvert_exporter": "python",
   "pygments_lexer": "ipython3",
   "version": "3.5.1"
  }
 },
 "nbformat": 4,
 "nbformat_minor": 0
}
