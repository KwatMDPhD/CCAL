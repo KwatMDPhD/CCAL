{
 "cells": [
  {
   "cell_type": "code",
   "execution_count": 1,
   "metadata": {
    "collapsed": false
   },
   "outputs": [
    {
     "name": "stdout",
     "output_type": "stream",
     "text": [
      "Using the following packages:\n",
      "matplotlib v1.5.1\n",
      "numpy v1.10.4\n",
      "pandas v0.18.0\n",
      "rpy2 v2.7.9\n",
      "scikit-learn v0.17.1\n",
      "scipy v0.17.0\n",
      "seaborn v0.7.0\n"
     ]
    }
   ],
   "source": [
    "import sys, os\n",
    "sys.path.insert(0, os.environ['KZ_CODE'])\n",
    "from kz_code import *\n",
    "sys.path.insert(0, os.environ['CCBA'])\n",
    "from library.ccba import *\n",
    "%matplotlib inline"
   ]
  },
  {
   "cell_type": "code",
   "execution_count": null,
   "metadata": {
    "collapsed": false
   },
   "outputs": [
    {
     "name": "stdout",
     "output_type": "stream",
     "text": [
      "gene_x_sample_df shape: (22944, 211)\n"
     ]
    }
   ],
   "source": [
    "# Read gene expression\n",
    "gene_x_sample_df = pd.read_csv('./data/GES24759/GSE24759_series_matrix.txt', sep='\\t', comment='!', index_col=0)\n",
    "print('gene_x_sample_df shape: {}'.format(gene_x_sample_df.shape))"
   ]
  },
  {
   "cell_type": "code",
   "execution_count": null,
   "metadata": {
    "collapsed": false
   },
   "outputs": [
    {
     "name": "stdout",
     "output_type": "stream",
     "text": [
      "Computing clustering score for k=2 using method cophenetic_correlation ...\n",
      "Computing the cophenetic correlation coefficient ...\n",
      "Computing clustering score for k=3 using method cophenetic_correlation ...\n",
      "Computing the cophenetic correlation coefficient ...\n",
      "Computing clustering score for k=4 using method cophenetic_correlation ...\n"
     ]
    }
   ],
   "source": [
    "# NMF and select k\n",
    "nmf_results, scores = nmf_and_score(gene_x_sample_df, [2, 3, 4, 5, 6, 7, 8, 9, 10], verbose=True)"
   ]
  },
  {
   "cell_type": "code",
   "execution_count": null,
   "metadata": {
    "collapsed": false
   },
   "outputs": [],
   "source": [
    "# Plot reconstruction error\n",
    "ax = sns.pointplot(x=list(nmf_results.keys()), y=[v['ERROR'] for v in nmf_results.values()])\n",
    "ax.set(xlabel='k', ylabel='Reconstruction Error')\n",
    "ax.set_title('k vs. Reconstruction Error')\n",
    "plt.show()"
   ]
  },
  {
   "cell_type": "code",
   "execution_count": null,
   "metadata": {
    "collapsed": false
   },
   "outputs": [],
   "source": [
    "ax = sns.pointplot(x=[k for k, v in scores.items()], y=[v['mean'] for k, v in scores.items()])\n",
    "ax.set(xlabel='k', ylabel='Mean')\n",
    "ax.set_title('k vs. Mean')\n",
    "plt.show()"
   ]
  },
  {
   "cell_type": "code",
   "execution_count": null,
   "metadata": {
    "collapsed": false
   },
   "outputs": [],
   "source": [
    "# Plot W and H matrices\n",
    "k = 6\n",
    "ax = sns.heatmap(nmf_results[k]['W'], yticklabels=False)\n",
    "ax.set(xlabel='Component', ylabel='Gene')\n",
    "ax.set_title('H matrix generated using k={}'.format(k))\n",
    "plt.show()\n",
    "\n",
    "ax = sns.heatmap(nmf_results[k]['H'], xticklabels=False)\n",
    "ax.set(xlabel='Sample', ylabel='Component')\n",
    "ax.set_title('H matrix generated using k={}'.format(k))\n",
    "plt.show()"
   ]
  },
  {
   "cell_type": "code",
   "execution_count": null,
   "metadata": {
    "collapsed": false
   },
   "outputs": [],
   "source": [
    "# Make gene-to-info dictionary\n",
    "with open('./data/GES24759/GSE24759_family.soft') as f:\n",
    "    gene_info = {}\n",
    "    parse_errors = {}\n",
    "    gene_symbol_errors = {}\n",
    "    parse = False\n",
    "    for i, line in enumerate(f.readlines()):\n",
    "        line = line.strip()\n",
    "        if not parse:\n",
    "            if line == '!platform_table_begin':\n",
    "                parse = True\n",
    "                print('Start parsing at line {}'.format(i))\n",
    "        else:\n",
    "            if line == '!platform_table_end':\n",
    "                print('Stop parsing at line {}'.format(i))\n",
    "                parse = False\n",
    "                break\n",
    "            else:\n",
    "                split = line.split('\\t')\n",
    "                try:\n",
    "                    if (split[8] == '' or split[8] =='NA'):\n",
    "                        gene_symbol_errors[split[0]] = line\n",
    "                        continue\n",
    "                    elif split[0] in gene_info:\n",
    "                        print('Duplicate at {}'.format(split[0]))\n",
    "                    else:\n",
    "                        gene_info[split[0]] = {'gene_title':split[7],\n",
    "                                               'gene_symbol':split[8].split(' /// '),\n",
    "                                               'entrez_gene':split[9],\n",
    "                                               'refseq':split[10].split(' /// ')}\n",
    "                except:\n",
    "                    parse_errors[split[0]] = line\n",
    "    print('Parse error: {}'.format(len(parse_errors)))\n",
    "    print('Gene symbol error {}'.format(len(gene_symbol_errors)))"
   ]
  },
  {
   "cell_type": "code",
   "execution_count": null,
   "metadata": {
    "collapsed": false
   },
   "outputs": [],
   "source": [
    "# TODO: figure out why the number of passing values are the same for eother_ch col in W\n",
    "top_genes = {}  # dictionary(key:component; value:top genes)\n",
    "\n",
    "percentile = 0.99\n",
    "for i in range(nmf_results[k]['W'].shape[1]):\n",
    "    name = 'k{}c{}'.format(k, i)\n",
    "    print('Analyzing {} ...'.format(name))\n",
    "    \n",
    "    top_genes[name] = set()\n",
    "    \n",
    "    col = nmf_results[k]['W'][:, i]\n",
    "    threshold = quantile(col, 100/((1-percentile)*100))[-1]\n",
    "    indices_passing_threshold = np.nonzero(np.greater_equal(col, threshold)*col)[0]\n",
    "    print('{} genes above {} percentile threshold.'.format(len(indices_passing_threshold), percentile*100))\n",
    "\n",
    "    for gene in gene_x_sample_df.index[indices_passing_threshold]:\n",
    "        if gene in gene_info:\n",
    "            top_genes[name].update(set(gene_info[gene]['gene_symbol']))\n",
    "        elif gene in parse_errors:\n",
    "            print('Parse error at {}'.format(gene))\n",
    "        elif gene in gene_symbol_errors:\n",
    "            print('Gene symbol error at {}'.format(gene))\n",
    "        else:\n",
    "            print('Unknown error at {}'.format(gene))"
   ]
  },
  {
   "cell_type": "code",
   "execution_count": null,
   "metadata": {
    "collapsed": false,
    "scrolled": false
   },
   "outputs": [],
   "source": [
    "for k, v in top_genes.items():\n",
    "    print('*** {} ***'.format(k))\n",
    "    for g in v:\n",
    "        print('{}'.format(g))"
   ]
  },
  {
   "cell_type": "code",
   "execution_count": null,
   "metadata": {
    "collapsed": false
   },
   "outputs": [],
   "source": [
    "def make_colorbar():\n",
    "    \"\"\"\n",
    "    Make colorbar examples.\n",
    "    \"\"\"\n",
    "    fig = plt.figure(figsize=(8, 3))\n",
    "    ax1 = fig.add_axes([0.05, 0.80, 0.9, 0.15])\n",
    "    ax2 = fig.add_axes([0.05, 0.475, 0.9, 0.15])\n",
    "\n",
    "    # Set the colormap and norm to correspond to the data for which\n",
    "    # the colorbar will be used.\n",
    "    cmap = CMAP\n",
    "    norm = mpl.colors.Normalize(vmin=5, vmax=10)\n",
    "\n",
    "    # ColorbarBase derives from ScalarMappable and puts a colorbar\n",
    "    # in a specified axes, so it has everything needed for a\n",
    "    # standalone colorbar.  There are many more kwargs, but the\n",
    "    # following gives a basic continuous colorbar with ticks\n",
    "    # and labels.\n",
    "    cb1 = mpl.colorbar.ColorbarBase(ax1,\n",
    "                                    cmap=cmap,\n",
    "                                    norm=norm,\n",
    "                                    orientation='horizontal')\n",
    "    cb1.set_label('Unit')\n",
    "\n",
    "    # The length of the bounds array must be one greater than the length of the color list.\n",
    "    cmap = mpl.colors.ListedColormap([RED, PURPLE, GREEN])\n",
    "    # The bounds must be monotonically increasing.\n",
    "    bounds = [1, 2, 6, 8]\n",
    "    norm = mpl.colors.BoundaryNorm(bounds, cmap.N)\n",
    "\n",
    "    # Eextended ends to show the 'over' and 'under' value colors.\n",
    "    cmap.set_over(SILVER)\n",
    "    cmap.set_under(SILVER)\n",
    "    cb2 = mpl.colorbar.ColorbarBase(ax2,\n",
    "                                    cmap=cmap,\n",
    "                                    norm=norm,\n",
    "                                    boundaries=[bounds[0] - 3] + bounds + [bounds[-1] + 3],\n",
    "                                    extend='both',\n",
    "                                    extendfrac='auto',\n",
    "                                    ticks=bounds,\n",
    "                                    spacing='proportional',\n",
    "                                    orientation='horizontal')\n",
    "    cb2.set_label('Unit')\n",
    "make_colorbar()"
   ]
  },
  {
   "cell_type": "code",
   "execution_count": null,
   "metadata": {
    "collapsed": true
   },
   "outputs": [],
   "source": []
  }
 ],
 "metadata": {
  "kernelspec": {
   "display_name": "Python 3",
   "language": "python",
   "name": "python3"
  },
  "language_info": {
   "codemirror_mode": {
    "name": "ipython",
    "version": 3
   },
   "file_extension": ".py",
   "mimetype": "text/x-python",
   "name": "python",
   "nbconvert_exporter": "python",
   "pygments_lexer": "ipython3",
   "version": "3.5.1"
  }
 },
 "nbformat": 4,
 "nbformat_minor": 0
}
