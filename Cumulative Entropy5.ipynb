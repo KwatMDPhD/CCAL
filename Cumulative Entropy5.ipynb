{
 "cells": [
  {
   "cell_type": "markdown",
   "metadata": {},
   "source": [
    "## Experimental Functions for Cumulative Entropy and Mutual Information\n",
    "\n",
    "These functions compute the mutual information based on the cumulative distribution function rather than the density as it is done in traditional definitions."
   ]
  },
  {
   "cell_type": "code",
   "execution_count": 1,
   "metadata": {
    "collapsed": false
   },
   "outputs": [],
   "source": [
    "import random\n",
    "import time\n",
    "import numpy as np\n",
    "import matplotlib.pyplot as plt\n",
    "import math\n",
    "%matplotlib inline\n",
    "random.seed(4408765) "
   ]
  },
  {
   "cell_type": "code",
   "execution_count": 2,
   "metadata": {
    "collapsed": true
   },
   "outputs": [],
   "source": [
    "def xy_cor(N, rho, truncate=True):\n",
    "    \"This function generates two N-element Gaussian random vectors with correlation rho\"\n",
    "    xx = np.array([0, 1])\n",
    "    yy = np.array([0, 1])\n",
    "    means = [0, 1]  \n",
    "    stds = [0.5, 0.5]\n",
    "    covs = [[stds[0]**2, stds[0]*stds[1]*rho], \n",
    "        [stds[0]*stds[1]*rho, stds[1]**2]] \n",
    "    m = np.random.multivariate_normal(means, covs, N).T\n",
    "    x = (m[0] - np.mean(m[0]))/np.std(m[0])\n",
    "    y = (m[1] - np.mean(m[1]))/np.std(m[1])\n",
    "    if (truncate == True):\n",
    "        x = (x - np.min(x))/(np.max(x) - np.min(x))\n",
    "        y = (y - np.min(y))/(np.max(y) - np.min(y))\n",
    "        thres = 3\n",
    "        for i in range(N):\n",
    "            if x[i] > thres:\n",
    "                x[i] = thres\n",
    "            if x[i] < -thres:\n",
    "                x[i] = -thres\n",
    "            if y[i] > thres:\n",
    "                y[i] = thres\n",
    "            if y[i] < -thres:\n",
    "                y[i] = -thres  \n",
    "    return (x, y)"
   ]
  },
  {
   "cell_type": "markdown",
   "metadata": {},
   "source": [
    "### Define the Cumulative Mutual Information function based on the difference between joint and marginals Cumulative Entropies\n",
    "\n",
    "$$CMI(x, y) = (max(x) - \\bar{x}) CE(y) + (max(y) - \\bar{y}) CE(x) - CE(x, y)$$"
   ]
  },
  {
   "cell_type": "code",
   "execution_count": 3,
   "metadata": {
    "collapsed": false
   },
   "outputs": [],
   "source": [
    "def CMI_diff(x, y):\n",
    "    \"This function computes the Cumulative Mutual Information based on the difference between joint and marginals CE's\"\n",
    "    x = x - np.mean(x)\n",
    "    y = y - np.mean(y)\n",
    "    N = len(x)\n",
    "    lattice_x = np.zeros((N, N), dtype=\"float_\")    # Array of lower x tile coordinates\n",
    "    lattice_y = np.zeros((N, N), dtype=\"float_\")     # Array of lower y tile coordinates\n",
    "    lattice_area = np.zeros((N, N), dtype=\"float_\")   # Array of tile areas\n",
    "    lattice_count = np.zeros((N, N), dtype=\"uint8\")    # Array of tile data counts\n",
    "    x_order = np.argsort(x, kind='quicksort')\n",
    "    x_sorted = x[x_order]\n",
    "    y_order = np.argsort(y, kind='quicksort')\n",
    "    y_sorted = y[y_order]\n",
    "    ind = np.arange(0, N, 1)\n",
    "    ind_x_order = np.argsort(x_order, kind='quicksort') \n",
    "    ind_x = ind[ind_x_order]\n",
    "    ind_y_order = np.argsort(y_order, kind='quicksort') \n",
    "    ind_y = ind[ind_y_order]\n",
    "    for i in range(N):\n",
    "        for j in range(N):\n",
    "            lattice_x[i, j] = x_sorted[i]\n",
    "            lattice_y[i, j] = y_sorted[j]\n",
    "            if i < (N-1) and j < (N-1):\n",
    "                lattice_area[i, j] = (x_sorted[i+1] - x_sorted[i])*(y_sorted[j+1] - y_sorted[j])\n",
    "        \n",
    "    for i in range(N): \n",
    "        lattice_count[ind_x[i], ind_y[i]] = 1 \n",
    "\n",
    "    np.cumsum(lattice_count, axis=1, out=lattice_count)\n",
    "    np.cumsum(lattice_count, axis=0, out=lattice_count)\n",
    "    CDF_xy = lattice_count/float(N)\n",
    "    CDF_x = np.arange(0, N, 1)/float(N)\n",
    "    CDF_y = CDF_x\n",
    "    CE_x = 0\n",
    "    CE_y = 0\n",
    "    for i in range(N-1):\n",
    "        if CDF_x[i] != 0:\n",
    "            CE_x = CE_x - (x_sorted[i+1] - x_sorted[i]) * CDF_x[i] * math.log(CDF_x[i])\n",
    "        if CDF_y[i] != 0:       \n",
    "            CE_y = CE_y - (y_sorted[i+1] - y_sorted[i]) * CDF_y[i] * math.log(CDF_y[i])\n",
    "\n",
    "    CE_xy = 0\n",
    "    for i in range(N):\n",
    "        for j in range(N):\n",
    "            if CDF_xy[i, j] != 0:\n",
    "                CE_xy = CE_xy - lattice_area[i, j] * CDF_xy[i, j] * math.log(CDF_xy[i, j])\n",
    "             \n",
    "    # Compute the CMI based on the difference between joint and marginals CE's        \n",
    "            \n",
    "    CMI = CE_xy - (max(y) - np.mean(y))*CE_x - (max(x) - np.mean(x))*CE_y  \n",
    "    if CMI < 0:\n",
    "        CMI = 0\n",
    "\n",
    "    return (CMI/(np.max(x)*np.max(y)))"
   ]
  },
  {
   "cell_type": "markdown",
   "metadata": {},
   "source": [
    "### Define the Cumulative Mutual Information function based on the ratio of joint and marginals Cumulative Entropies\n",
    "\n",
    "$$CMI(x, y) = \\int \\int P(x,y) \\log \\left ( \\frac{P(x,y)}{P(x)P(y)} \\right ) dx dy$$"
   ]
  },
  {
   "cell_type": "code",
   "execution_count": 4,
   "metadata": {
    "collapsed": true
   },
   "outputs": [],
   "source": [
    "def CMI_ratio(x, y):\n",
    "    \"This function computes the Cumulative Mutual Information based on the ratio of joint and marginals CE's\"      \n",
    "    x = x - np.mean(x)\n",
    "    y = y - np.mean(y)\n",
    "    N = len(x)\n",
    "    lattice_x = np.zeros((N, N), dtype=\"float_\")    # Array of lower x tile coordinates\n",
    "    lattice_y = np.zeros((N, N), dtype=\"float_\")     # Array of lower y tile coordinates\n",
    "    lattice_area = np.zeros((N, N), dtype=\"float_\")   # Array of tile areas\n",
    "    lattice_count = np.zeros((N, N), dtype=\"uint8\")    # Array of tile data counts\n",
    "    x_order = np.argsort(x, kind='quicksort')\n",
    "    x_sorted = x[x_order]\n",
    "    y_order = np.argsort(y, kind='quicksort')\n",
    "    y_sorted = y[y_order]\n",
    "    ind = np.arange(0, N, 1)\n",
    "    ind_x_order = np.argsort(x_order, kind='quicksort') \n",
    "    ind_x = ind[ind_x_order]\n",
    "    ind_y_order = np.argsort(y_order, kind='quicksort') \n",
    "    ind_y = ind[ind_y_order]\n",
    "    for i in range(N):\n",
    "        for j in range(N):\n",
    "            lattice_x[i, j] = x_sorted[i]\n",
    "            lattice_y[i, j] = y_sorted[j]\n",
    "            if i < (N-1) and j < (N-1):\n",
    "                lattice_area[i, j] = (x_sorted[i+1] - x_sorted[i])*(y_sorted[j+1] - y_sorted[j])\n",
    "        \n",
    "    for i in range(N): \n",
    "        lattice_count[ind_x[i], ind_y[i]] = 1 \n",
    "\n",
    "    np.cumsum(lattice_count, axis=1, out=lattice_count)\n",
    "    np.cumsum(lattice_count, axis=0, out=lattice_count)\n",
    "    CDF_xy = lattice_count/float(N)\n",
    "    CDF_x = np.arange(0, N, 1)/float(N)\n",
    "    CDF_y = CDF_x\n",
    "    \n",
    "    # Compute the CMI based on the ratio of joint and marginals CE's\n",
    "    \n",
    "    CMI = 0\n",
    "    for i in range(N):\n",
    "        for j in range(N):\n",
    "            if CDF_x[i] != 0 and CDF_y[j] != 0 and CDF_xy[i, j] != 0:\n",
    "                CMI = CMI - lattice_area[i, j] * CDF_xy[i, j] * math.log(CDF_xy[i, j])/(CDF_x[i]*CDF_y[j])\n",
    "        \n",
    "    return (CMI/(np.max(x)*np.max(y)))"
   ]
  },
  {
   "cell_type": "markdown",
   "metadata": {},
   "source": [
    "### Generate correlated random data for incremental values of the correlation between x and y"
   ]
  },
  {
   "cell_type": "code",
   "execution_count": 12,
   "metadata": {
    "collapsed": false
   },
   "outputs": [
    {
     "name": "stderr",
     "output_type": "stream",
     "text": [
      "/Users/tamayo/anaconda3/lib/python3.5/site-packages/ipykernel/__main__.py:9: RuntimeWarning: covariance is not positive-semidefinite.\n"
     ]
    }
   ],
   "source": [
    "N = 100          # Number of x and y data points\n",
    "inst = 200\n",
    "\n",
    "corrs = np.arange(0, 1.005, 0.1)\n",
    "T = len(corrs)\n",
    "CMI_aver_diff = np.zeros((T), dtype=\"float_\") \n",
    "CMI_aver_ratio = np.zeros((T), dtype=\"float_\") \n",
    "\n",
    "for t in range(T):\n",
    "    CMI_diff_vals = np.zeros(inst, dtype=\"float_\") \n",
    "    CMI_ratio_vals = np.zeros(inst, dtype=\"float_\") \n",
    "    for k in range(inst):\n",
    "        (x, y) = xy_cor(N, corrs[t], truncate=False)        \n",
    "        CMI_diff_vals[k] = CMI_diff(x, y)  \n",
    "        CMI_ratio_vals[k] = CMI_ratio(x, y)\n",
    "  \n",
    "    CMI_aver_diff[t] = np.mean(CMI_diff_vals)\n",
    "    CMI_aver_ratio[t] = np.mean(CMI_ratio_vals)\n",
    "    \n",
    "\n"
   ]
  },
  {
   "cell_type": "code",
   "execution_count": 13,
   "metadata": {
    "collapsed": false
   },
   "outputs": [
    {
     "data": {
      "text/plain": [
       "<matplotlib.collections.PathCollection at 0x11452a860>"
      ]
     },
     "execution_count": 13,
     "metadata": {},
     "output_type": "execute_result"
    },
    {
     "data": {
      "image/png": "[encoded data removed]",
      "text/plain": [
       "<matplotlib.figure.Figure at 0x10d991c18>"
      ]
     },
     "metadata": {},
     "output_type": "display_data"
    }
   ],
   "source": [
    "plt.scatter(corrs, CMI_aver_diff)"
   ]
  },
  {
   "cell_type": "code",
   "execution_count": 14,
   "metadata": {
    "collapsed": false
   },
   "outputs": [
    {
     "data": {
      "text/plain": [
       "<matplotlib.collections.PathCollection at 0x114605320>"
      ]
     },
     "execution_count": 14,
     "metadata": {},
     "output_type": "execute_result"
    },
    {
     "data": {
      "image/png": "[encoded data removed]",
      "text/plain": [
       "<matplotlib.figure.Figure at 0x114535b70>"
      ]
     },
     "metadata": {},
     "output_type": "display_data"
    }
   ],
   "source": [
    "plt.scatter(corrs, CMI_aver_ratio)"
   ]
  },
  {
   "cell_type": "markdown",
   "metadata": {},
   "source": [
    "### Basic timings"
   ]
  },
  {
   "cell_type": "code",
   "execution_count": 15,
   "metadata": {
    "collapsed": false
   },
   "outputs": [
    {
     "name": "stdout",
     "output_type": "stream",
     "text": [
      "Execution time 0.08793322801589966 seconds per function call \n",
      "Execution time 0.12226523876190186 seconds per function call \n"
     ]
    }
   ],
   "source": [
    "x = np.random.uniform(low=0.0, high=1.0, size=200)\n",
    "y = np.random.uniform(low=0.0, high=1.0, size=200)\n",
    "\n",
    "N = 100\n",
    "start_time = time.time()\n",
    "for i in range(N):\n",
    "    z = CMI_diff(x, y)\n",
    "\n",
    "end_time = time.time() \n",
    "print(\"Execution time %s seconds per function call \" % ((end_time - start_time)/N))\n",
    "\n",
    "start_time = time.time()\n",
    "for i in range(N):\n",
    "    z = CMI_ratio(x, y)\n",
    "\n",
    "end_time = time.time() \n",
    "print(\"Execution time %s seconds per function call \" % ((end_time - start_time)/N))"
   ]
  },
  {
   "cell_type": "markdown",
   "metadata": {},
   "source": [
    "### Test normalization vs. linear rescaling of the input variables"
   ]
  },
  {
   "cell_type": "code",
   "execution_count": 16,
   "metadata": {
    "collapsed": false
   },
   "outputs": [
    {
     "name": "stdout",
     "output_type": "stream",
     "text": [
      "0.045177453834\n",
      "0.045177453834\n",
      "0.045177453834\n",
      "-------------\n",
      "17.0658584452\n",
      "17.0658584452\n",
      "17.0658584452\n"
     ]
    }
   ],
   "source": [
    "# Generate correlated x and y vectors\n",
    "\n",
    "(x, y) = xy_cor(200, 0.5, truncate=False)  \n",
    "\n",
    "# Rescaled versions of the vectors\n",
    "\n",
    "x2 = 20*x + 234\n",
    "x3 = x/3 - 0.6\n",
    "y2 = 10*y + 10\n",
    "y3 = y/2 - 989\n",
    "\n",
    "print(CMI_diff(x, y))\n",
    "print(CMI_diff(x2, y2))\n",
    "print(CMI_diff(x3, y3))\n",
    "print(\"-------------\")\n",
    "print(CMI_ratio(x, y))\n",
    "print(CMI_ratio(x2, y2))\n",
    "print(CMI_ratio(x3, y3))"
   ]
  },
  {
   "cell_type": "markdown",
   "metadata": {},
   "source": [
    "### References: \n",
    "\n",
    "Di Crescenzo and Logobardi. On cumulative entropies. Journal of Statistical Planning and Inference 12/2009; 139:4072-4087.\n",
    "https://www.researchgate.net/publication/48191880_On_cumulative_entropies"
   ]
  }
 ],
 "metadata": {
  "kernelspec": {
   "display_name": "Python 3.5",
   "language": "python3",
   "name": "python3"
  },
  "language_info": {
   "codemirror_mode": {
    "name": "ipython",
    "version": 3
   },
   "file_extension": ".py",
   "mimetype": "text/x-python",
   "name": "python",
   "nbconvert_exporter": "python",
   "pygments_lexer": "ipython3",
   "version": "3.5.1"
  }
 },
 "nbformat": 4,
 "nbformat_minor": 0
}
