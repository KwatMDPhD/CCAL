{
 "cells": [
  {
   "cell_type": "markdown",
   "metadata": {},
   "source": [
    "# Set up environment"
   ]
  },
  {
   "cell_type": "code",
   "execution_count": null,
   "metadata": {
    "collapsed": true
   },
   "outputs": [],
   "source": [
    "%matplotlib inline\n",
    "\n",
    "import sys\n",
    "import os"
   ]
  },
  {
   "cell_type": "code",
   "execution_count": null,
   "metadata": {
    "collapsed": false
   },
   "outputs": [],
   "source": [
    "# Path to your CCBA library\n",
    "PATH_CCBA = '/Users/Kwat/binf/ccba/'\n",
    "\n",
    "# Import CCBA library\n",
    "sys.path.append(os.path.join(PATH_CCBA))\n",
    "from libary.support import *\n",
    "from libary.visualize import *\n",
    "\n",
    "# Set data path\n",
    "PATH_TEST_DATA = os.path.join(PATH_CCBA, 'data', 'test')"
   ]
  },
  {
   "cell_type": "markdown",
   "metadata": {},
   "source": [
    "# +++ TEST +++"
   ]
  },
  {
   "cell_type": "code",
   "execution_count": null,
   "metadata": {
    "collapsed": false
   },
   "outputs": [],
   "source": [
    "input_filename = '/Users/Kwat/binf/hematopoietic_cancer/data/ccle/ctrp_v1.gct'\n",
    "data = read_gct(input_filename)\n",
    "data"
   ]
  },
  {
   "cell_type": "code",
   "execution_count": null,
   "metadata": {
    "collapsed": false
   },
   "outputs": [],
   "source": [
    "plot_heatmap(data)"
   ]
  },
  {
   "cell_type": "code",
   "execution_count": null,
   "metadata": {
    "collapsed": false
   },
   "outputs": [],
   "source": [
    "output_filename = os.path.join(PATH_TEST_DATA, 'write_gct_output')\n",
    "write_gct(data, output_filename)"
   ]
  },
  {
   "cell_type": "code",
   "execution_count": null,
   "metadata": {
    "collapsed": false
   },
   "outputs": [],
   "source": [
    "data2 = read_gct(output_filename + '.gct')\n",
    "data2"
   ]
  },
  {
   "cell_type": "code",
   "execution_count": null,
   "metadata": {
    "collapsed": false
   },
   "outputs": [],
   "source": [
    "plot_heatmap(data2)"
   ]
  },
  {
   "cell_type": "markdown",
   "metadata": {},
   "source": [
    "# FUNCTIONS TO BE IMPORTED"
   ]
  },
  {
   "cell_type": "code",
   "execution_count": null,
   "metadata": {
    "collapsed": false
   },
   "outputs": [],
   "source": [
    "# Computation\n",
    "def compute_information_coefficient():\n",
    "    \"\"\"\n",
    "    Compute information coefficient.\n",
    "    \"\"\"\n",
    "    \n",
    "def compute_association():\n",
    "    \"\"\"\n",
    "    Compute pairwise association of x and y.\n",
    "    \"\"\"\n",
    "    \n",
    "def compute_conditional_association():\n",
    "    \"\"\"\n",
    "    Compute pairwise association of x and y, given z.\n",
    "    \"\"\"\n",
    "    \n",
    "def compute_conditinal_mutual_information():\n",
    "    \"\"\"\n",
    "    Compute the conditional mutual imnformation:\n",
    "    I(X, Y | X) = H(X, Z) + H(Y, Z) - H(X, Y, Z) - H(Z).\n",
    "    \"\"\"\n",
    "    \n",
    "def normalize():\n",
    "    \"\"\"\n",
    "    \"\"\"\n",
    "    \n",
    "def train_basian_predictor():\n",
    "    \"\"\"\n",
    "    XXX.\n",
    "    \"\"\"\n",
    "\n",
    "def test_basian_predictor():\n",
    "    \"\"\"\n",
    "    XXX.\n",
    "    \"\"\"\n",
    "    \n",
    "def compute_nonnegative_least_square():\n",
    "    \"\"\"\n",
    "    \"\"\"\n",
    "    \n",
    "def compute_mutual_information():\n",
    "    \"\"\"\n",
    "    XXX.\n",
    "    \"\"\"\n",
    "\n",
    "def select_XXX():\n",
    "    \"\"\"\n",
    "    XXX.\n",
    "    \"\"\"\n",
    "    \n",
    "def select_multiple_XXX():\n",
    "    \"\"\"\n",
    "    Select multiple features form a given target XXX.\n",
    "    \"\"\"\n",
    "    \n",
    "def compute_area_under_regression_error_curve():\n",
    "    \"\"\"\n",
    "    Compute area under the regression error curve (REC).\n",
    "    This is the counter of the ROC for continuous target values.\n",
    "    \"\"\"\n",
    "    \n",
    "def compute_association():\n",
    "    \"\"\"\n",
    "    Compute association between XXX and XXX.\n",
    "    \"\"\"\n",
    "    \n",
    "def compute_association_matrix():\n",
    "    \"\"\"\n",
    "    Compute the distance between columns or rows across two matrices.\n",
    "    \"\"\"\n",
    "\n",
    "# Onco GPS\n",
    "def oncogps_define_states():\n",
    "    \"\"\"\n",
    "    Compute the OncoGPS states by consensus clustering.\n",
    "    \"\"\"\n",
    "    \n",
    "def oncogps_map():\n",
    "    \"\"\"\n",
    "    Map OncoGPS.\n",
    "    \"\"\"\n",
    "    \n",
    "def populate_map():\n",
    "    \"\"\"\n",
    "    \"\"\"\n",
    "    \n",
    "def create_components():\n",
    "    \"\"\"\n",
    "    NMF projection.\n",
    "    \"\"\"\n",
    "\n",
    "def select_k():\n",
    "    \"\"\"\n",
    "    Select k for NMF.\n",
    "    \"\"\"\n",
    "    \n",
    "def nmf():\n",
    "    \"\"\"\n",
    "    NMF.\n",
    "    \"\"\"\n",
    "    \n",
    "# Visualization\n",
    "def plot_feature_panel():\n",
    "    \"\"\"\n",
    "    XXX.\n",
    "    \"\"\"\n",
    "\n",
    "def get_overlap():\n",
    "    \"\"\"\n",
    "    XXX.\n",
    "    \"\"\"\n",
    "\n",
    "def explore():\n",
    "    \"\"\"\n",
    "    XXX.\n",
    "    \"\"\"\n",
    "    \n",
    "def convert_maf_to_gct():\n",
    "    \"\"\"\n",
    "    XXX.\n",
    "    \"\"\"\n",
    "\n",
    "def generate_association_matrix():\n",
    "    \"\"\"\n",
    "    XXX.\n",
    "    \"\"\"\n",
    "    \n",
    "def plot_mutual_information():\n",
    "    \"\"\"\n",
    "    \"\"\"\n",
    "    def read_cls():\n",
    "    \"\"\"\n",
    "    Read a .cls and XXX.\n",
    "    \"\"\"\n",
    "    \n",
    "# File manipulation\n",
    "\n",
    "def read_gmt():\n",
    "    \"\"\"\n",
    "    Read a .gmt and XXX.\n",
    "    \"\"\"\n",
    "\n",
    "def filter_matrix():\n",
    "    \"\"\"\n",
    "    Filter a subset of features and samples.\n",
    "    \"\"\"\n",
    "    \n",
    "def subset_phenotype():\n",
    "    \"\"\"\n",
    "    XXX.\n",
    "    \"\"\"\n",
    "    \n",
    "def subset_feature():\n",
    "    \"\"\"\n",
    "    XXX.\n",
    "    \"\"\"\n",
    "    \n",
    "def match_and_merge():\n",
    "    \"\"\"\n",
    "    XXX.\n",
    "    \"\"\""
   ]
  }
 ],
 "metadata": {
  "kernelspec": {
   "display_name": "Python 3",
   "language": "python",
   "name": "python3"
  },
  "language_info": {
   "codemirror_mode": {
    "name": "ipython",
    "version": 3
   },
   "file_extension": ".py",
   "mimetype": "text/x-python",
   "name": "python",
   "nbconvert_exporter": "python",
   "pygments_lexer": "ipython3",
   "version": "3.5.1"
  }
 },
 "nbformat": 4,
 "nbformat_minor": 0
}
