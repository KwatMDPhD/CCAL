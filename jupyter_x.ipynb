{
 "cells": [
  {
   "cell_type": "code",
   "execution_count": 1,
   "metadata": {
    "collapsed": false
   },
   "outputs": [],
   "source": [
    "import os\n",
    "import sys\n",
    "# sys.path.insert(0, '/home/cyborg/ccal')\n",
    "\n",
    "# # TODO: decide which importing method to use\n",
    "# import ccal\n",
    "# from ccal import *\n",
    "\n",
    "import json"
   ]
  },
  {
   "cell_type": "code",
   "execution_count": 2,
   "metadata": {
    "collapsed": true
   },
   "outputs": [],
   "source": [
    "_dict = {}\n",
    "\n",
    "_dict['alias'] = 'Define Components'\n",
    "\n",
    "# TODO: set up importing syntax\n",
    "_dict['filepath'] = './ccal'\n",
    "_dict['library_name'] = 'ccal'\n",
    "_dict['function_name'] = 'define_components'\n",
    "\n",
    "# TODO: make data_type universally understandable\n",
    "_dict['required_args'] = [\n",
    "    {'Expression Matrix to be Decomposed': {'arg_name': 'matrix',\n",
    "                                            'data_type': ['DataFrame', 'str'],\n",
    "                                            'desctiption': 'This is an argument description for Expression Matrix to be Decomposed.'}},\n",
    "    {'Numbers of Componets': {'arg_name':'ks',\n",
    "                              'data_type':['list'],\n",
    "                              'desctiption': 'This is an argument description for Number of Components.'}}\n",
    "]\n",
    "\n",
    "_dict['optional_args'] = []\n",
    "_dict['return'] = [\n",
    "    {'NMF Result Dictionary':{'data_type': 'dict',\n",
    "                              'description:': 'This is the description for the returned NMF Result Dictionary.'}},\n",
    "    {'Cophenetic Correlation Coefficients':{'data_type': 'dict',\n",
    "                                            'description': 'This is the description for the returned Cophentic Correlation Coefficients.'}}\n",
    "]"
   ]
  },
  {
   "cell_type": "code",
   "execution_count": 17,
   "metadata": {
    "collapsed": false
   },
   "outputs": [
    {
     "name": "stderr",
     "output_type": "stream",
     "text": [
      "ERROR:root:Cell magic `%%r` not found.\n"
     ]
    }
   ],
   "source": [
    "%%ruby"
   ]
  },
  {
   "cell_type": "code",
   "execution_count": 14,
   "metadata": {
    "collapsed": false
   },
   "outputs": [
    {
     "data": {
      "application/javascript": [
       "\n",
       "    /**\n",
       "     * Declaration of Task class\n",
       "     * @constructor\n",
       "     */\n",
       "    GenePattern.Task = function(taskJson) {\n",
       "        // Define class members\n",
       "        this.alias = null;\n",
       "        this.filepath = null;\n",
       "        this.library_name = null;\n",
       "        this.function_name = null;\n",
       "        this.required_args = null;\n",
       "        this.optional_args = null;\n",
       "        this.return = null;\n",
       "\n",
       "        /**\n",
       "         * Constructor-like initialization for the Task class\n",
       "         *\n",
       "         * @private\n",
       "         */\n",
       "        this._init_ = function() {\n",
       "            if (taskJson) {\n",
       "                this.alias = taskJson.alias;\n",
       "                this.filepath = taskJson.filepath;\n",
       "                this.library_name = taskJson.library_name;\n",
       "                this.function_name = taskJson.function_name;\n",
       "                this.required_args = taskJson.required_args;\n",
       "                this.optional_args = taskJson.optional_args;\n",
       "                this.return = taskJson.return;\n",
       "            }\n",
       "        };\n",
       "        this._init_();\n",
       "\n",
       "        /**\n",
       "         * Loads a Task's parameters from REST call, or retrieves them from the cache\n",
       "         *\n",
       "         * @param pObj - The following parameters may be set\n",
       "         *                  force: Do not use cache, if available. Always make AJAX call.\n",
       "         *                  success: callback function for a done() event,\n",
       "         *                          expects response and a list of Param objects as arguments\n",
       "         *                  error: callback function for an fail() event, expects exception as argument\n",
       "         *\n",
       "         * @returns {jQuery.Deferred} - Returns a jQuery Deferred object for event chaining.\n",
       "         *      See http://api.jquery.com/jquery.deferred/ for details.\n",
       "         */\n",
       "        this.params = function(pObj) {\n",
       "            var task = this;\n",
       "            var forceRefresh = pObj && ((typeof pObj.force === 'boolean' && pObj.force) ||\n",
       "                (typeof pObj.force === 'string' && pObj.force.toLowerCase() === 'true'));\n",
       "            var inCache = forceRefresh ? false : task._params !== null;\n",
       "\n",
       "            if (inCache) {\n",
       "                return new $.Deferred()\n",
       "                    .done(function() {\n",
       "                        if (pObj && pObj.success) {\n",
       "                            pObj.success(\"cached\", task._params);\n",
       "                        }\n",
       "                    })\n",
       "                    .resolve();\n",
       "            }\n",
       "            else {\n",
       "                var REST_ENDPOINT = \"/rest/v1/tasks/\";\n",
       "\n",
       "                return $.ajax({\n",
       "                        url: GenePattern.server() + REST_ENDPOINT + encodeURIComponent(task.lsid()),\n",
       "                        type: 'GET',\n",
       "                        dataType: 'json',\n",
       "                        xhrFields: {\n",
       "                            withCredentials: true\n",
       "                        }\n",
       "                    })\n",
       "                    .done(function(response) {\n",
       "                        // Add params to Task object\n",
       "                        var params = response['params'];\n",
       "                        if (params) {\n",
       "                            task._params = [];\n",
       "                            for (var i = 0; i < params.length; i++) {\n",
       "                                var param = params[i];\n",
       "                                task._params.push(new GenePattern.Param(param));\n",
       "                            }\n",
       "                        }\n",
       "\n",
       "                        // Add updated EULA info to Task Object\n",
       "                        task._eula = response['eulaInfo'];\n",
       "\n",
       "                        if (pObj && pObj.success) {\n",
       "                            pObj.success(response, task._params);\n",
       "                        }\n",
       "                    })\n",
       "                    .fail(function(exception) {\n",
       "                        if (pObj && pObj.error) {\n",
       "                            pObj.error(exception);\n",
       "                        }\n",
       "                    });\n",
       "            }\n",
       "        };\n",
       "\n",
       "        return this;\n",
       "};"
      ],
      "text/plain": [
       "<IPython.core.display.Javascript object>"
      ]
     },
     "metadata": {},
     "output_type": "display_data"
    }
   ],
   "source": [
    "%%javascript\n",
    "\n",
    "    /**\n",
    "     * Declaration of Task class\n",
    "     * @constructor\n",
    "     */\n",
    "    GenePattern.Task = function(taskJson) {\n",
    "        // Define class members\n",
    "        this.alias = null;\n",
    "        this.filepath = null;\n",
    "        this.library_name = null;\n",
    "        this.function_name = null;\n",
    "        this.required_args = null;\n",
    "        this.optional_args = null;\n",
    "        this.return = null;\n",
    "\n",
    "        /**\n",
    "         * Constructor-like initialization for the Task class\n",
    "         *\n",
    "         * @private\n",
    "         */\n",
    "        this._init_ = function() {\n",
    "            if (taskJson) {\n",
    "                this.alias = taskJson.alias;\n",
    "                this.filepath = taskJson.filepath;\n",
    "                this.library_name = taskJson.library_name;\n",
    "                this.function_name = taskJson.function_name;\n",
    "                this.required_args = taskJson.required_args;\n",
    "                this.optional_args = taskJson.optional_args;\n",
    "                this.return = taskJson.return;\n",
    "            }\n",
    "        };\n",
    "        this._init_();\n",
    "\n",
    "        /**\n",
    "         * Loads a Task's parameters from REST call, or retrieves them from the cache\n",
    "         *\n",
    "         * @param pObj - The following parameters may be set\n",
    "         *                  force: Do not use cache, if available. Always make AJAX call.\n",
    "         *                  success: callback function for a done() event,\n",
    "         *                          expects response and a list of Param objects as arguments\n",
    "         *                  error: callback function for an fail() event, expects exception as argument\n",
    "         *\n",
    "         * @returns {jQuery.Deferred} - Returns a jQuery Deferred object for event chaining.\n",
    "         *      See http://api.jquery.com/jquery.deferred/ for details.\n",
    "         */\n",
    "        this.params = function(pObj) {\n",
    "            var task = this;\n",
    "            var forceRefresh = pObj && ((typeof pObj.force === 'boolean' && pObj.force) ||\n",
    "                (typeof pObj.force === 'string' && pObj.force.toLowerCase() === 'true'));\n",
    "            var inCache = forceRefresh ? false : task._params !== null;\n",
    "\n",
    "            if (inCache) {\n",
    "                return new $.Deferred()\n",
    "                    .done(function() {\n",
    "                        if (pObj && pObj.success) {\n",
    "                            pObj.success(\"cached\", task._params);\n",
    "                        }\n",
    "                    })\n",
    "                    .resolve();\n",
    "            }\n",
    "            else {\n",
    "                var REST_ENDPOINT = \"/rest/v1/tasks/\";\n",
    "\n",
    "                return $.ajax({\n",
    "                        url: GenePattern.server() + REST_ENDPOINT + encodeURIComponent(task.lsid()),\n",
    "                        type: 'GET',\n",
    "                        dataType: 'json',\n",
    "                        xhrFields: {\n",
    "                            withCredentials: true\n",
    "                        }\n",
    "                    })\n",
    "                    .done(function(response) {\n",
    "                        // Add params to Task object\n",
    "                        var params = response['params'];\n",
    "                        if (params) {\n",
    "                            task._params = [];\n",
    "                            for (var i = 0; i < params.length; i++) {\n",
    "                                var param = params[i];\n",
    "                                task._params.push(new GenePattern.Param(param));\n",
    "                            }\n",
    "                        }\n",
    "\n",
    "                        // Add updated EULA info to Task Object\n",
    "                        task._eula = response['eulaInfo'];\n",
    "\n",
    "                        if (pObj && pObj.success) {\n",
    "                            pObj.success(response, task._params);\n",
    "                        }\n",
    "                    })\n",
    "                    .fail(function(exception) {\n",
    "                        if (pObj && pObj.error) {\n",
    "                            pObj.error(exception);\n",
    "                        }\n",
    "                    });\n",
    "            }\n",
    "        };\n",
    "\n",
    "        return this;\n",
    "};"
   ]
  },
  {
   "cell_type": "code",
   "execution_count": 18,
   "metadata": {
    "collapsed": false
   },
   "outputs": [
    {
     "name": "stderr",
     "output_type": "stream",
     "text": [
      "ERROR:root:Cell magic `%%javascript\"\"` not found.\n"
     ]
    }
   ],
   "source": [
    "%%javascript\n",
    "\n"
   ]
  },
  {
   "cell_type": "code",
   "execution_count": 3,
   "metadata": {
    "collapsed": false
   },
   "outputs": [],
   "source": [
    "json_filepath = '/home/cyborg/test.json'\n",
    "\n",
    "with open(json_filepath, 'w') as f:\n",
    "    json.dump(_dict, f, indent=4, sort_keys=True)"
   ]
  },
  {
   "cell_type": "code",
   "execution_count": 4,
   "metadata": {
    "collapsed": false
   },
   "outputs": [],
   "source": [
    "with open(json_filepath, 'r') as f:\n",
    "    read_dict = json.load(f)"
   ]
  },
  {
   "cell_type": "code",
   "execution_count": 5,
   "metadata": {
    "collapsed": false
   },
   "outputs": [
    {
     "data": {
      "text/plain": [
       "'./ccal'"
      ]
     },
     "execution_count": 5,
     "metadata": {},
     "output_type": "execute_result"
    }
   ],
   "source": [
    "filepath = read_dict['filepath']\n",
    "filepath"
   ]
  },
  {
   "cell_type": "code",
   "execution_count": 6,
   "metadata": {
    "collapsed": false
   },
   "outputs": [
    {
     "data": {
      "text/plain": [
       "'ccal'"
      ]
     },
     "execution_count": 6,
     "metadata": {},
     "output_type": "execute_result"
    }
   ],
   "source": [
    "library_name = read_dict['library_name']\n",
    "library_name"
   ]
  },
  {
   "cell_type": "code",
   "execution_count": 7,
   "metadata": {
    "collapsed": false
   },
   "outputs": [
    {
     "data": {
      "text/plain": [
       "'define_components'"
      ]
     },
     "execution_count": 7,
     "metadata": {},
     "output_type": "execute_result"
    }
   ],
   "source": [
    "function_name = read_dict['function_name']\n",
    "function_name"
   ]
  },
  {
   "cell_type": "code",
   "execution_count": 8,
   "metadata": {
    "collapsed": true
   },
   "outputs": [],
   "source": [
    "sys.path.insert(0, filepath)"
   ]
  },
  {
   "cell_type": "code",
   "execution_count": 9,
   "metadata": {
    "collapsed": false
   },
   "outputs": [
    {
     "name": "stdout",
     "output_type": "stream",
     "text": [
      "================================================================================\n",
      "================= Computational Cancer Analysis Library (CCAL) =================\n",
      "================================================================================\n",
      "Planted a random seed: 20121020.\n"
     ]
    }
   ],
   "source": [
    "exec('from {} import {}'.format(library_name, function_name))"
   ]
  }
 ],
 "metadata": {
  "anaconda-cloud": {},
  "kernelspec": {
   "display_name": "Python [default]",
   "language": "python",
   "name": "python3"
  },
  "language_info": {
   "codemirror_mode": {
    "name": "ipython",
    "version": 3
   },
   "file_extension": ".py",
   "mimetype": "text/x-python",
   "name": "python",
   "nbconvert_exporter": "python",
   "pygments_lexer": "ipython3",
   "version": "3.5.2"
  }
 },
 "nbformat": 4,
 "nbformat_minor": 1
}
