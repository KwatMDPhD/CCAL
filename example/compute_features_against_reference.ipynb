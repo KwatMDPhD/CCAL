{
 "cells": [
  {
   "cell_type": "code",
   "execution_count": 2,
   "metadata": {
    "collapsed": false
   },
   "outputs": [],
   "source": [
    "import sys\n",
    "sys.path.insert(0, '../../')\n",
    "import ccal"
   ]
  },
  {
   "cell_type": "code",
   "execution_count": 3,
   "metadata": {
    "collapsed": true
   },
   "outputs": [],
   "source": [
    "import numpy as np\n",
    "import pandas as pd"
   ]
  },
  {
   "cell_type": "code",
   "execution_count": 4,
   "metadata": {
    "collapsed": true
   },
   "outputs": [],
   "source": [
    "metric = 'information_coef'\n",
    "information_coefficient = ccal.information.information_coefficient\n",
    "print_log = ccal.support.print_log"
   ]
  },
  {
   "cell_type": "code",
   "execution_count": 5,
   "metadata": {
    "collapsed": true
   },
   "outputs": [],
   "source": [
    "features = ccal.support.make_random_features(10, 10)\n",
    "ref = ccal.support.make_random_features(1, 10)"
   ]
  },
  {
   "cell_type": "code",
   "execution_count": 28,
   "metadata": {
    "collapsed": false
   },
   "outputs": [
    {
     "name": "stdout",
     "output_type": "stream",
     "text": [
      "<09:27:02> Computing scores using information_coef metric ...\n",
      "<09:27:02> \t0/10 ...\n"
     ]
    }
   ],
   "source": [
    "if metric is 'information_coef':\n",
    "    function = information_coefficient\n",
    "elif metric is 'information_cmi_diff':\n",
    "    function = cmi_diff\n",
    "elif metric is 'information_cmi_ratio':\n",
    "    function = cmi_ratio\n",
    "else:\n",
    "    raise ValueError('Unknown metric {}.'.format(metric))\n",
    "\n",
    "print_log('Computing scores using {} metric ...'.format(metric))\n",
    "scores = np.empty(features.shape[0])\n",
    "for i, (idx, s) in enumerate(features.iterrows()):\n",
    "    if i % 100 is 0:\n",
    "        print_log('\\t{}/{} ...'.format(i, features.shape[0]))\n",
    "    scores[i] = function(s, ref)\n",
    "scores = pd.DataFrame(scores, index=features.index, columns=[metric]).sort_values(metric)"
   ]
  },
  {
   "cell_type": "code",
   "execution_count": 29,
   "metadata": {
    "collapsed": false
   },
   "outputs": [
    {
     "data": {
      "text/html": [
       "<div>\n",
       "<table border=\"1\" class=\"dataframe\">\n",
       "  <thead>\n",
       "    <tr style=\"text-align: right;\">\n",
       "      <th></th>\n",
       "      <th>information_coef</th>\n",
       "    </tr>\n",
       "  </thead>\n",
       "  <tbody>\n",
       "    <tr>\n",
       "      <th>Feature 5</th>\n",
       "      <td>-0.182883</td>\n",
       "    </tr>\n",
       "    <tr>\n",
       "      <th>Feature 6</th>\n",
       "      <td>-0.131461</td>\n",
       "    </tr>\n",
       "    <tr>\n",
       "      <th>Feature 9</th>\n",
       "      <td>-0.101985</td>\n",
       "    </tr>\n",
       "    <tr>\n",
       "      <th>Feature 1</th>\n",
       "      <td>0.088753</td>\n",
       "    </tr>\n",
       "    <tr>\n",
       "      <th>Feature 3</th>\n",
       "      <td>0.139911</td>\n",
       "    </tr>\n",
       "    <tr>\n",
       "      <th>Feature 2</th>\n",
       "      <td>0.174277</td>\n",
       "    </tr>\n",
       "    <tr>\n",
       "      <th>Feature 0</th>\n",
       "      <td>0.212880</td>\n",
       "    </tr>\n",
       "    <tr>\n",
       "      <th>Feature 4</th>\n",
       "      <td>0.343922</td>\n",
       "    </tr>\n",
       "    <tr>\n",
       "      <th>Feature 8</th>\n",
       "      <td>0.365568</td>\n",
       "    </tr>\n",
       "    <tr>\n",
       "      <th>Feature 7</th>\n",
       "      <td>0.420255</td>\n",
       "    </tr>\n",
       "  </tbody>\n",
       "</table>\n",
       "</div>"
      ],
      "text/plain": [
       "           information_coef\n",
       "Feature 5         -0.182883\n",
       "Feature 6         -0.131461\n",
       "Feature 9         -0.101985\n",
       "Feature 1          0.088753\n",
       "Feature 3          0.139911\n",
       "Feature 2          0.174277\n",
       "Feature 0          0.212880\n",
       "Feature 4          0.343922\n",
       "Feature 8          0.365568\n",
       "Feature 7          0.420255"
      ]
     },
     "execution_count": 29,
     "metadata": {},
     "output_type": "execute_result"
    }
   ],
   "source": [
    "scores"
   ]
  },
  {
   "cell_type": "code",
   "execution_count": 30,
   "metadata": {
    "collapsed": true
   },
   "outputs": [],
   "source": [
    "nsampling = 5\n",
    "nfeatures = 3\n",
    "confidence = 0.95\n",
    "import math\n",
    "from scipy import stats"
   ]
  },
  {
   "cell_type": "code",
   "execution_count": 31,
   "metadata": {
    "collapsed": false
   },
   "outputs": [
    {
     "name": "stdout",
     "output_type": "stream",
     "text": [
      "<09:27:03> Bootstrapping to get 0.95 confidence interval ...\n",
      "<09:27:03> Bootstrapping top & bottom 6 features vs. reference ...\n"
     ]
    }
   ],
   "source": [
    "print_log('Bootstrapping to get {} confidence interval ...'.format(confidence))\n",
    "nsample = math.ceil(0.632 * features.shape[1])\n",
    "if nsampling < 2:\n",
    "    print_log('Not bootstrapping because number of sampling < 3.')\n",
    "elif nsample < 3:\n",
    "    print_log('Not bootstrapping because 0.632 * number of sample < 3.')\n",
    "else:\n",
    "    # Limit features to be bootstrapped\n",
    "    if nfeatures < 1:\n",
    "        above_quantile = scores.ix[:, metric] >= scores.ix[:, metric].quantile(nfeatures)\n",
    "        print_log('Bootstrapping {} features vs. reference > {} quantile ...'.format(sum(above_quantile),\n",
    "                                                                                     nfeatures))\n",
    "        below_quantile = scores.ix[:, metric] <= scores.ix[:, metric].quantile(1 - nfeatures)\n",
    "        print_log('Bootstrapping {} features vs. reference < {} quantile ...'.format(sum(below_quantile),\n",
    "                                                                                     1 - nfeatures))\n",
    "        indices_to_bootstrap = scores.index[above_quantile | below_quantile].tolist()\n",
    "    else:\n",
    "        indices_to_bootstrap = scores.index[:nfeatures].tolist() + scores.index[-nfeatures:].tolist()\n",
    "        print_log('Bootstrapping top & bottom {} features vs. reference ...'.format(len(indices_to_bootstrap)))\n",
    "\n",
    "    # Random sample columns and compute scores using the sampled columns\n",
    "    sampled_scores = pd.DataFrame(index=indices_to_bootstrap, columns=range(nsampling))\n",
    "    for c in sampled_scores:\n",
    "        sample_indices = np.random.choice(features.columns.tolist(), int(nsample)).tolist()\n",
    "        sampled_features = features.ix[indices_to_bootstrap, sample_indices]\n",
    "        sampled_ref = ref.ix[sample_indices]\n",
    "        for idx, s in sampled_features.iterrows():\n",
    "            sampled_scores.ix[idx, c] = function(s, sampled_ref)\n",
    "\n",
    "    # Get confidence intervals\n",
    "    confidence_intervals = pd.DataFrame(index=indices_to_bootstrap, columns=['{} MoE'.format(confidence)])\n",
    "    z_critical = stats.norm.ppf(q=confidence)\n",
    "\n",
    "    for i, s in sampled_scores.iterrows():\n",
    "        std = s.std()\n",
    "        moe = z_critical * (std / math.sqrt(s.size))\n",
    "        confidence_intervals.ix[i, 0] = moe\n",
    "    scores = pd.merge(scores, confidence_intervals, how='outer', left_index=True, right_index='True')"
   ]
  },
  {
   "cell_type": "code",
   "execution_count": 32,
   "metadata": {
    "collapsed": false
   },
   "outputs": [
    {
     "data": {
      "text/plain": [
       "['Feature 5', 'Feature 6', 'Feature 9', 'Feature 4', 'Feature 8', 'Feature 7']"
      ]
     },
     "execution_count": 32,
     "metadata": {},
     "output_type": "execute_result"
    }
   ],
   "source": [
    "indices_to_bootstrap"
   ]
  },
  {
   "cell_type": "code",
   "execution_count": 33,
   "metadata": {
    "collapsed": false
   },
   "outputs": [
    {
     "data": {
      "text/html": [
       "<div>\n",
       "<table border=\"1\" class=\"dataframe\">\n",
       "  <thead>\n",
       "    <tr style=\"text-align: right;\">\n",
       "      <th></th>\n",
       "      <th>information_coef</th>\n",
       "      <th>0.95 MoE</th>\n",
       "    </tr>\n",
       "  </thead>\n",
       "  <tbody>\n",
       "    <tr>\n",
       "      <th>Feature 0</th>\n",
       "      <td>0.212880</td>\n",
       "      <td>NaN</td>\n",
       "    </tr>\n",
       "    <tr>\n",
       "      <th>Feature 1</th>\n",
       "      <td>0.088753</td>\n",
       "      <td>NaN</td>\n",
       "    </tr>\n",
       "    <tr>\n",
       "      <th>Feature 2</th>\n",
       "      <td>0.174277</td>\n",
       "      <td>NaN</td>\n",
       "    </tr>\n",
       "    <tr>\n",
       "      <th>Feature 3</th>\n",
       "      <td>0.139911</td>\n",
       "      <td>NaN</td>\n",
       "    </tr>\n",
       "    <tr>\n",
       "      <th>Feature 4</th>\n",
       "      <td>0.343922</td>\n",
       "      <td>0.0624322</td>\n",
       "    </tr>\n",
       "    <tr>\n",
       "      <th>Feature 5</th>\n",
       "      <td>-0.182883</td>\n",
       "      <td>0.130076</td>\n",
       "    </tr>\n",
       "    <tr>\n",
       "      <th>Feature 6</th>\n",
       "      <td>-0.131461</td>\n",
       "      <td>0.0828297</td>\n",
       "    </tr>\n",
       "    <tr>\n",
       "      <th>Feature 7</th>\n",
       "      <td>0.420255</td>\n",
       "      <td>0.132864</td>\n",
       "    </tr>\n",
       "    <tr>\n",
       "      <th>Feature 8</th>\n",
       "      <td>0.365568</td>\n",
       "      <td>0.401646</td>\n",
       "    </tr>\n",
       "    <tr>\n",
       "      <th>Feature 9</th>\n",
       "      <td>-0.101985</td>\n",
       "      <td>0.290488</td>\n",
       "    </tr>\n",
       "  </tbody>\n",
       "</table>\n",
       "</div>"
      ],
      "text/plain": [
       "           information_coef   0.95 MoE\n",
       "Feature 0          0.212880        NaN\n",
       "Feature 1          0.088753        NaN\n",
       "Feature 2          0.174277        NaN\n",
       "Feature 3          0.139911        NaN\n",
       "Feature 4          0.343922  0.0624322\n",
       "Feature 5         -0.182883   0.130076\n",
       "Feature 6         -0.131461  0.0828297\n",
       "Feature 7          0.420255   0.132864\n",
       "Feature 8          0.365568   0.401646\n",
       "Feature 9         -0.101985   0.290488"
      ]
     },
     "execution_count": 33,
     "metadata": {},
     "output_type": "execute_result"
    }
   ],
   "source": [
    "scores"
   ]
  },
  {
   "cell_type": "code",
   "execution_count": 34,
   "metadata": {
    "collapsed": true
   },
   "outputs": [],
   "source": [
    "nperm = 5"
   ]
  },
  {
   "cell_type": "code",
   "execution_count": 35,
   "metadata": {
    "collapsed": true
   },
   "outputs": [],
   "source": [
    "from statsmodels.sandbox.stats.multicomp import multipletests"
   ]
  },
  {
   "cell_type": "code",
   "execution_count": 36,
   "metadata": {
    "collapsed": true
   },
   "outputs": [],
   "source": [
    "ascending = True"
   ]
  },
  {
   "cell_type": "code",
   "execution_count": 37,
   "metadata": {
    "collapsed": false
   },
   "outputs": [
    {
     "name": "stdout",
     "output_type": "stream",
     "text": [
      "<09:27:05> Performing permutation test with 5 permutations ...\n"
     ]
    },
    {
     "data": {
      "text/html": [
       "<div>\n",
       "<table border=\"1\" class=\"dataframe\">\n",
       "  <thead>\n",
       "    <tr style=\"text-align: right;\">\n",
       "      <th></th>\n",
       "      <th>information_coef</th>\n",
       "      <th>0.95 MoE</th>\n",
       "      <th>Local P-value</th>\n",
       "      <th>Global P-value</th>\n",
       "      <th>FDR (BH)</th>\n",
       "    </tr>\n",
       "  </thead>\n",
       "  <tbody>\n",
       "    <tr>\n",
       "      <th>Feature 5</th>\n",
       "      <td>-0.182883</td>\n",
       "      <td>0.130076</td>\n",
       "      <td>0.6</td>\n",
       "      <td>0.74</td>\n",
       "      <td>0.74</td>\n",
       "    </tr>\n",
       "    <tr>\n",
       "      <th>Feature 6</th>\n",
       "      <td>-0.131461</td>\n",
       "      <td>0.0828297</td>\n",
       "      <td>0.6</td>\n",
       "      <td>0.66</td>\n",
       "      <td>0.733333</td>\n",
       "    </tr>\n",
       "    <tr>\n",
       "      <th>Feature 9</th>\n",
       "      <td>-0.101985</td>\n",
       "      <td>0.290488</td>\n",
       "      <td>0.4</td>\n",
       "      <td>0.52</td>\n",
       "      <td>0.65</td>\n",
       "    </tr>\n",
       "    <tr>\n",
       "      <th>Feature 1</th>\n",
       "      <td>0.088753</td>\n",
       "      <td>NaN</td>\n",
       "      <td>0.8</td>\n",
       "      <td>0.46</td>\n",
       "      <td>0.65</td>\n",
       "    </tr>\n",
       "    <tr>\n",
       "      <th>Feature 3</th>\n",
       "      <td>0.139911</td>\n",
       "      <td>NaN</td>\n",
       "      <td>0.4</td>\n",
       "      <td>0.4</td>\n",
       "      <td>0.65</td>\n",
       "    </tr>\n",
       "    <tr>\n",
       "      <th>Feature 2</th>\n",
       "      <td>0.174277</td>\n",
       "      <td>NaN</td>\n",
       "      <td>0.2</td>\n",
       "      <td>0.32</td>\n",
       "      <td>0.64</td>\n",
       "    </tr>\n",
       "    <tr>\n",
       "      <th>Feature 0</th>\n",
       "      <td>0.212880</td>\n",
       "      <td>NaN</td>\n",
       "      <td>0.2</td>\n",
       "      <td>0.28</td>\n",
       "      <td>0.64</td>\n",
       "    </tr>\n",
       "    <tr>\n",
       "      <th>Feature 4</th>\n",
       "      <td>0.343922</td>\n",
       "      <td>0.0624322</td>\n",
       "      <td>0.2</td>\n",
       "      <td>0.12</td>\n",
       "      <td>0.4</td>\n",
       "    </tr>\n",
       "    <tr>\n",
       "      <th>Feature 8</th>\n",
       "      <td>0.365568</td>\n",
       "      <td>0.401646</td>\n",
       "      <td>0.2</td>\n",
       "      <td>0.12</td>\n",
       "      <td>0.4</td>\n",
       "    </tr>\n",
       "    <tr>\n",
       "      <th>Feature 7</th>\n",
       "      <td>0.420255</td>\n",
       "      <td>0.132864</td>\n",
       "      <td>0.2</td>\n",
       "      <td>0.1</td>\n",
       "      <td>0.4</td>\n",
       "    </tr>\n",
       "  </tbody>\n",
       "</table>\n",
       "</div>"
      ],
      "text/plain": [
       "           information_coef   0.95 MoE Local P-value Global P-value  FDR (BH)\n",
       "Feature 5         -0.182883   0.130076           0.6           0.74      0.74\n",
       "Feature 6         -0.131461  0.0828297           0.6           0.66  0.733333\n",
       "Feature 9         -0.101985   0.290488           0.4           0.52      0.65\n",
       "Feature 1          0.088753        NaN           0.8           0.46      0.65\n",
       "Feature 3          0.139911        NaN           0.4            0.4      0.65\n",
       "Feature 2          0.174277        NaN           0.2           0.32      0.64\n",
       "Feature 0          0.212880        NaN           0.2           0.28      0.64\n",
       "Feature 4          0.343922  0.0624322           0.2           0.12       0.4\n",
       "Feature 8          0.365568   0.401646           0.2           0.12       0.4\n",
       "Feature 7          0.420255   0.132864           0.2            0.1       0.4"
      ]
     },
     "execution_count": 37,
     "metadata": {},
     "output_type": "execute_result"
    }
   ],
   "source": [
    "print_log('Performing permutation test with {} permutations ...'.format(nperm))\n",
    "permutation_pvals_and_fdrs = pd.DataFrame(index=features.index,\n",
    "                                          columns=['Local P-value', 'Global P-value', 'FDR (BH)'])\n",
    "# Compute scores using permuted ref\n",
    "permutation_scores = np.empty((features.shape[0], nperm))\n",
    "shuffled_ref = np.array(ref)\n",
    "for i in range(nperm):\n",
    "    np.random.shuffle(shuffled_ref)\n",
    "    for j, (idx, s) in enumerate(features.iterrows()):\n",
    "        permutation_scores[j, i] = function(s, shuffled_ref)\n",
    "\n",
    "# Compute permutation P-values and FDRs\n",
    "all_permutation_scores = permutation_scores.flatten()\n",
    "for i, (idx, f) in enumerate(scores.iterrows()):\n",
    "    local_pval = float(sum(permutation_scores[i, :] > float(f.ix[metric])) / nperm)\n",
    "    if not local_pval:\n",
    "        local_pval = float(1 / nperm)\n",
    "    permutation_pvals_and_fdrs.ix[idx, 'Local P-value'] = local_pval\n",
    "\n",
    "    global_pval = float(sum(all_permutation_scores > float(f.ix[metric])) / (nperm * features.shape[0]))\n",
    "    if not global_pval:\n",
    "        global_pval = float(1 / (nperm * features.shape[0]))\n",
    "    permutation_pvals_and_fdrs.ix[idx, 'Global P-value'] = global_pval\n",
    "\n",
    "permutation_pvals_and_fdrs.ix[:, 'FDR (BH)'] = multipletests(permutation_pvals_and_fdrs.ix[:, 'Global P-value'],\n",
    "                                                             method='fdr_bh')[1]\n",
    "scores = pd.merge(scores, permutation_pvals_and_fdrs, left_index=True, right_index=True)\n",
    "\n",
    "scores.sort_values(metric, ascending=ascending)"
   ]
  },
  {
   "cell_type": "code",
   "execution_count": 38,
   "metadata": {
    "collapsed": false
   },
   "outputs": [
    {
     "name": "stdout",
     "output_type": "stream",
     "text": [
      "<09:27:10> Computing scores using information_coef metric ...\n",
      "<09:27:10> \t0/10 ...\n",
      "<09:27:10> Bootstrapping to get 0.95 confidence interval ...\n",
      "<09:27:10> Bootstrapping top & bottom 6 features vs. reference ...\n",
      "<09:27:10> Performing permutation test with 5 permutations ...\n"
     ]
    },
    {
     "data": {
      "text/html": [
       "<div>\n",
       "<table border=\"1\" class=\"dataframe\">\n",
       "  <thead>\n",
       "    <tr style=\"text-align: right;\">\n",
       "      <th></th>\n",
       "      <th>information_coef</th>\n",
       "      <th>0.95 MoE</th>\n",
       "      <th>Local P-value</th>\n",
       "      <th>Global P-value</th>\n",
       "      <th>FDR (BH)</th>\n",
       "    </tr>\n",
       "  </thead>\n",
       "  <tbody>\n",
       "    <tr>\n",
       "      <th>Feature 5</th>\n",
       "      <td>-0.182883</td>\n",
       "      <td>0.449749</td>\n",
       "      <td>0.4</td>\n",
       "      <td>0.66</td>\n",
       "      <td>0.66</td>\n",
       "    </tr>\n",
       "    <tr>\n",
       "      <th>Feature 6</th>\n",
       "      <td>-0.131461</td>\n",
       "      <td>0.166379</td>\n",
       "      <td>0.4</td>\n",
       "      <td>0.56</td>\n",
       "      <td>0.622222</td>\n",
       "    </tr>\n",
       "    <tr>\n",
       "      <th>Feature 9</th>\n",
       "      <td>-0.101985</td>\n",
       "      <td>0.173724</td>\n",
       "      <td>0.8</td>\n",
       "      <td>0.52</td>\n",
       "      <td>0.622222</td>\n",
       "    </tr>\n",
       "    <tr>\n",
       "      <th>Feature 1</th>\n",
       "      <td>0.088753</td>\n",
       "      <td>NaN</td>\n",
       "      <td>0.4</td>\n",
       "      <td>0.4</td>\n",
       "      <td>0.571429</td>\n",
       "    </tr>\n",
       "    <tr>\n",
       "      <th>Feature 3</th>\n",
       "      <td>0.139911</td>\n",
       "      <td>NaN</td>\n",
       "      <td>0.2</td>\n",
       "      <td>0.3</td>\n",
       "      <td>0.5</td>\n",
       "    </tr>\n",
       "    <tr>\n",
       "      <th>Feature 2</th>\n",
       "      <td>0.174277</td>\n",
       "      <td>NaN</td>\n",
       "      <td>0.6</td>\n",
       "      <td>0.26</td>\n",
       "      <td>0.5</td>\n",
       "    </tr>\n",
       "    <tr>\n",
       "      <th>Feature 0</th>\n",
       "      <td>0.212880</td>\n",
       "      <td>NaN</td>\n",
       "      <td>0.2</td>\n",
       "      <td>0.24</td>\n",
       "      <td>0.5</td>\n",
       "    </tr>\n",
       "    <tr>\n",
       "      <th>Feature 4</th>\n",
       "      <td>0.343922</td>\n",
       "      <td>0.431597</td>\n",
       "      <td>0.4</td>\n",
       "      <td>0.12</td>\n",
       "      <td>0.4</td>\n",
       "    </tr>\n",
       "    <tr>\n",
       "      <th>Feature 8</th>\n",
       "      <td>0.365568</td>\n",
       "      <td>0.303669</td>\n",
       "      <td>0.2</td>\n",
       "      <td>0.12</td>\n",
       "      <td>0.4</td>\n",
       "    </tr>\n",
       "    <tr>\n",
       "      <th>Feature 7</th>\n",
       "      <td>0.420255</td>\n",
       "      <td>0.365209</td>\n",
       "      <td>0.2</td>\n",
       "      <td>0.08</td>\n",
       "      <td>0.4</td>\n",
       "    </tr>\n",
       "  </tbody>\n",
       "</table>\n",
       "</div>"
      ],
      "text/plain": [
       "           information_coef  0.95 MoE Local P-value Global P-value  FDR (BH)\n",
       "Feature 5         -0.182883  0.449749           0.4           0.66      0.66\n",
       "Feature 6         -0.131461  0.166379           0.4           0.56  0.622222\n",
       "Feature 9         -0.101985  0.173724           0.8           0.52  0.622222\n",
       "Feature 1          0.088753       NaN           0.4            0.4  0.571429\n",
       "Feature 3          0.139911       NaN           0.2            0.3       0.5\n",
       "Feature 2          0.174277       NaN           0.6           0.26       0.5\n",
       "Feature 0          0.212880       NaN           0.2           0.24       0.5\n",
       "Feature 4          0.343922  0.431597           0.4           0.12       0.4\n",
       "Feature 8          0.365568  0.303669           0.2           0.12       0.4\n",
       "Feature 7          0.420255  0.365209           0.2           0.08       0.4"
      ]
     },
     "execution_count": 38,
     "metadata": {},
     "output_type": "execute_result"
    }
   ],
   "source": [
    "ccal.analyze.compute_against_reference(features, ref, metric, nfeatures, ascending, nsampling, confidence, nperm)"
   ]
  }
 ],
 "metadata": {
  "anaconda-cloud": {},
  "kernelspec": {
   "display_name": "Python [default]",
   "language": "python",
   "name": "python3"
  },
  "language_info": {
   "codemirror_mode": {
    "name": "ipython",
    "version": 3
   },
   "file_extension": ".py",
   "mimetype": "text/x-python",
   "name": "python",
   "nbconvert_exporter": "python",
   "pygments_lexer": "ipython3",
   "version": "3.5.2"
  }
 },
 "nbformat": 4,
 "nbformat_minor": 0
}
