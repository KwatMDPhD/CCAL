{
 "cells": [
  {
   "cell_type": "code",
   "execution_count": null,
   "metadata": {
    "collapsed": true
   },
   "outputs": [],
   "source": [
    "# Use higher resolution\n",
    "%config InlineBackend.figure_formats = {'svg',}"
   ]
  },
  {
   "cell_type": "code",
   "execution_count": 1,
   "metadata": {
    "collapsed": false
   },
   "outputs": [
    {
     "name": "stdout",
     "output_type": "stream",
     "text": [
      "===============================================================================\n",
      "==================== Computational Cancer Analysis Library ====================\n",
      "===============================================================================\n",
      "<14:10:10> Checking dependencies ...\n",
      "<14:10:10> Using the following packages:\n",
      "<14:10:10> \tmatplotlib (v1.5.1)\n",
      "<14:10:10> \tnumpy (v1.10.4)\n",
      "<14:10:10> \tpandas (v0.18.0)\n",
      "<14:10:10> \trpy2 (v2.7.9)\n",
      "<14:10:10> \tscikit-learn (v0.17.1)\n",
      "<14:10:10> \tscipy (v0.17.0)\n",
      "<14:10:10> \tseaborn (v0.7.0)\n"
     ]
    }
   ],
   "source": [
    "import sys\n",
    "import time\n",
    "import math\n",
    "\n",
    "import numpy as np\n",
    "from scipy.stats import pearsonr\n",
    "\n",
    "sys.path.insert(0, '../../')\n",
    "import ccal\n",
    "from ccal.support import drop_nan_columns, add_jitter\n",
    "\n",
    "%matplotlib inline\n",
    "%config InlineBackend.figure_formats = {'svg',}"
   ]
  },
  {
   "cell_type": "code",
   "execution_count": 2,
   "metadata": {
    "collapsed": true
   },
   "outputs": [],
   "source": [
    "n = 100\n",
    "size = 1000\n",
    "x = np.random.random_sample(size)\n",
    "y = np.random.random_sample(size)"
   ]
  },
  {
   "cell_type": "markdown",
   "metadata": {},
   "source": [
    "# Time information_coefficient implementations"
   ]
  },
  {
   "cell_type": "markdown",
   "metadata": {},
   "source": [
    "## Wrapped R using P and H"
   ]
  },
  {
   "cell_type": "code",
   "execution_count": 3,
   "metadata": {
    "collapsed": false
   },
   "outputs": [
    {
     "name": "stdout",
     "output_type": "stream",
     "text": [
      "0.9430339336395264\n"
     ]
    }
   ],
   "source": [
    "from rpy2.robjects.packages import SignatureTranslatedAnonymousPackage\n",
    "\n",
    "\n",
    "# TODO: refactor\n",
    "r ='''\n",
    "    information_coefficient <- function(x, y, n.grid = 25) {\n",
    "        x.set <- !is.na(x)\n",
    "        y.set <- !is.na(y)\n",
    "        overlap <- x.set & y.set\n",
    "\n",
    "        x <- x[overlap] + 1e-09 * runif(length(overlap))\n",
    "        y <- y[overlap] + 1e-09 * runif(length(overlap))\n",
    "\n",
    "        if (length(x) > 2) {\n",
    "            delta <- c(bcv(x), bcv(y))\n",
    "            cor <- cor(x, y)\n",
    "\n",
    "            bandwidths <- delta * (1 + (-0.75) * abs(cor))\n",
    "            \n",
    "            kde2d.xy <- kde2d(x, y, bandwidths, n = n.grid)\n",
    "            fxy <- kde2d.xy$z + .Machine$double.eps\n",
    "            dx <- kde2d.xy$x[2] - kde2d.xy$x[1]\n",
    "            dy <- kde2d.xy$y[2] - kde2d.xy$y[1]\n",
    "            pxy <- fxy/(sum(fxy) * dx * dy)\n",
    "            px <- rowSums(pxy) * dy\n",
    "            py <- colSums(pxy) * dx\n",
    "\n",
    "            # hxy <- -sum(pxy * log(pxy)) * dx * dy\n",
    "            # hx <- -sum(px * log(px)) * dx\n",
    "            # hy <- -sum(py * log(py)) * dy\n",
    "            # mi <- hx + hy - hxy\n",
    "\n",
    "            px <- matrix(px, nrow = n.grid, ncol = n.grid)\n",
    "            py <- matrix(py, byrow = TRUE, nrow = n.grid, ncol = n.grid)\n",
    "            mi <- sum(pxy * log(pxy/(px * py))) * dx * dy\n",
    "\n",
    "            ic <- sign(cor) * sqrt(1 - exp(-2 * mi))\n",
    "\n",
    "            if (is.na(ic)) {\n",
    "                ic <- 0\n",
    "            }\n",
    "        } else {\n",
    "            ic <- 0\n",
    "        }\n",
    "        return(ic)\n",
    "    }\n",
    "    '''\n",
    "r = SignatureTranslatedAnonymousPackage(r, 'r')\n",
    "\n",
    "t0 = time.time()\n",
    "for i in range(n):\n",
    "    x = np.random.random_sample(size)\n",
    "    y = np.random.random_sample(size)\n",
    "    r.information_coefficient(x, y)\n",
    "print(time.time() - t0)"
   ]
  },
  {
   "cell_type": "markdown",
   "metadata": {},
   "source": [
    "## Using R's kde2d"
   ]
  },
  {
   "cell_type": "code",
   "execution_count": 4,
   "metadata": {
    "collapsed": false,
    "scrolled": true
   },
   "outputs": [
    {
     "data": {
      "text/plain": [
       "0.9052920341491699"
      ]
     },
     "execution_count": 4,
     "metadata": {},
     "output_type": "execute_result"
    }
   ],
   "source": [
    "import rpy2.robjects as ro\n",
    "from rpy2.robjects.numpy2ri import numpy2ri\n",
    "ro.conversion.py2ri = numpy2ri\n",
    "from rpy2.robjects.packages import importr\n",
    "mass = importr('MASS')\n",
    "\n",
    "\n",
    "def information_coefficient_kde2d(x, y, ngrid=25):\n",
    "    x, y = add_jitter(drop_nan_columns([x, y]))\n",
    "\n",
    "    if len(x) <= 2:\n",
    "        return 0\n",
    "    \n",
    "    cor, p = pearsonr(x, y)    \n",
    "    bandwidth_x = np.asarray(mass.bcv(x)[0]) * (1 + (-0.75) * abs(cor))\n",
    "    bandwidth_y = np.asarray(mass.bcv(y)[0]) * (1 + (-0.75) * abs(cor))\n",
    "    \n",
    "    fxy = np.asarray(mass.kde2d(x, y, np.asarray([bandwidth_x, bandwidth_y]), n=np.asarray([ngrid]))[2]) + np.finfo(float).eps\n",
    "    dx = (x.max() - x.min()) / (ngrid - 1)\n",
    "    dy = (y.max() - y.min()) / (ngrid - 1)\n",
    "    pxy = fxy / (fxy.sum() * dx * dy)\n",
    "    px = pxy.sum(axis=1) * dy\n",
    "    py = pxy.sum(axis=0) * dx\n",
    "    \n",
    "    mi = np.sum(pxy * np.log(pxy/(np.array([px] * ngrid).T * np.array([py] * ngrid)))) * dx * dy\n",
    "    \n",
    "    # hxy = - np.sum(pxy * np.log(pxy)) * dx * dy\n",
    "    # hx = -np.sum(px * np.log(px)) * dx\n",
    "    # hy = -np.sum(py * np.log(py)) * dy\n",
    "    # mi = hx + hy - hxy\n",
    "    \n",
    "    ic = np.sign(cor) * np.sqrt(1 - np.exp(- 2 * mi))\n",
    "    \n",
    "    return ic\n",
    "\n",
    "t0 = time.time()\n",
    "for i in range(n):\n",
    "    x = np.random.random_sample(size)\n",
    "    y = np.random.random_sample(size)\n",
    "    information_coefficient_kde2d(x, y)\n",
    "time.time() - t0"
   ]
  },
  {
   "cell_type": "markdown",
   "metadata": {},
   "source": [
    "## Using KDEMultivariate"
   ]
  },
  {
   "cell_type": "code",
   "execution_count": 5,
   "metadata": {
    "collapsed": false,
    "scrolled": true
   },
   "outputs": [
    {
     "name": "stdout",
     "output_type": "stream",
     "text": [
      "4.958044052124023\n"
     ]
    }
   ],
   "source": [
    "from statsmodels.nonparametric.kernel_density import KDEMultivariate\n",
    "\n",
    "\n",
    "def information_coefficient(x, y, data_types, ngrid=25):\n",
    "    x, y = add_jitter(drop_nan_columns([x, y]))\n",
    "\n",
    "    if len(x) <= 2:\n",
    "        return 0\n",
    "\n",
    "    cor, p = pearsonr(x, y)    \n",
    "    bandwidth_x = np.asarray(mass.bcv(x)[0]) * (1 + (-0.75) * abs(cor)) / 4\n",
    "    bandwidth_y = np.asarray(mass.bcv(y)[0]) * (1 + (-0.75) * abs(cor)) / 4\n",
    "    \n",
    "    kde = KDEMultivariate([x, y], bw=[bandwidth_x, bandwidth_y], var_type=data_types)\n",
    "    meshgrid_x, meshgrid_y = np.meshgrid(np.linspace(x.min(), x.max(), ngrid), np.linspace(y.min(), y.max(), ngrid))\n",
    "    fxy = kde.pdf(np.vstack([meshgrid_x.flatten(), meshgrid_y.flatten()])).reshape((ngrid, ngrid)) + np.finfo(float).eps\n",
    "    dx = (x.max() - x.min()) / (ngrid - 1)\n",
    "    dy = (y.max() - y.min()) / (ngrid - 1)\n",
    "    pxy = fxy / (fxy.sum() * dx * dy)\n",
    "    px = pxy.sum(axis=1) * dy\n",
    "    py = pxy.sum(axis=0) * dx\n",
    "    \n",
    "    mi = np.sum(pxy * np.log(pxy/(np.array([px] * ngrid).T * np.array([py] * ngrid)))) * dx * dy\n",
    "    \n",
    "    # hxy = - np.sum(pxy * np.log(pxy)) * dx * dy\n",
    "    # hx = -np.sum(px * np.log(px)) * dx\n",
    "    # hy = -np.sum(py * np.log(py)) * dy\n",
    "    # mi = hx + hy - hxy\n",
    "    \n",
    "    ic = np.sign(cor) * np.sqrt(1 - np.exp(- 2 * mi))\n",
    "    \n",
    "    return ic\n",
    "\n",
    "t0 = time.time()\n",
    "for i in range(n):\n",
    "    x = np.random.random_sample(size)\n",
    "    y = np.random.random_sample(size)\n",
    "    information_coefficient(x, y, data_types='cc')\n",
    "print(time.time() - t0)"
   ]
  },
  {
   "cell_type": "code",
   "execution_count": 6,
   "metadata": {
    "collapsed": false,
    "scrolled": false
   },
   "outputs": [
    {
     "name": "stdout",
     "output_type": "stream",
     "text": [
      "[1] 0.1311764\n",
      "\n",
      "0.131176387253\n",
      "0.131176387245\n"
     ]
    }
   ],
   "source": [
    "print(r.information_coefficient(x, y))\n",
    "print(information_coefficient_kde2d(x, y))\n",
    "print(information_coefficient(x, y, data_types='cc'))\n",
    "#print(information_coefficient_scipy(x, y, 'cc'))"
   ]
  },
  {
   "cell_type": "markdown",
   "metadata": {},
   "source": [
    "## Using gaussian_kde"
   ]
  },
  {
   "cell_type": "code",
   "execution_count": 7,
   "metadata": {
    "collapsed": false
   },
   "outputs": [
    {
     "data": {
      "text/plain": [
       "2.533968925476074"
      ]
     },
     "execution_count": 7,
     "metadata": {},
     "output_type": "execute_result"
    }
   ],
   "source": [
    "from scipy.stats import gaussian_kde\n",
    "\n",
    "\n",
    "def information_coefficient_scipy(x, y, data_types, ngrid=25):\n",
    "    x, y = add_jitter(drop_nan_columns([x, y]))\n",
    "\n",
    "    if len(x) <= 2:\n",
    "        return 0\n",
    "    \n",
    "    # Get bandwidths\n",
    "    cor, p = pearsonr(x, y)\n",
    "    bandwidth_x = np.asarray(mass.bcv(x)[0]) / 4 * (1 + (-0.75) * abs(cor))\n",
    "    bandwidth_y = np.asarray(mass.bcv(y)[0]) / 4 * (1 + (-0.75) * abs(cor))\n",
    "\n",
    "    # Kernel density estimate\n",
    "    kde = gaussian_kde([x, y], bw_method='silverman')\n",
    "    \n",
    "    meshgrid_x, meshgrid_y = np.meshgrid(np.linspace(x.min(), x.max(), ngrid), np.linspace(y.min(), y.max(), ngrid))\n",
    "    dx = (x.max() - x.min()) / (ngrid - 1)\n",
    "    dy = (y.max() - y.min()) / (ngrid - 1)\n",
    "    \n",
    "    pxy = kde.pdf(np.vstack((meshgrid_x.flatten(), meshgrid_y.flatten()))).reshape((ngrid, ngrid)) + np.finfo(float).eps\n",
    "    px = pxy.sum(axis=1) * dy\n",
    "    py = pxy.sum(axis=0) * dx\n",
    "    mi = np.sum(pxy * np.log(pxy/(px * py))) * dx * dy\n",
    "    ic = np.sign(cor) * np.sqrt(1 - np.exp(- 2 * mi))\n",
    "    return ic\n",
    "\n",
    "t0 = time.time()\n",
    "for i in range(n):\n",
    "    x = np.random.random_sample(size)\n",
    "    y = np.random.random_sample(size)\n",
    "    information_coefficient_scipy(x, y, 'cc')\n",
    "time.time() - t0"
   ]
  },
  {
   "cell_type": "markdown",
   "metadata": {},
   "source": [
    "# Test data type cases"
   ]
  },
  {
   "cell_type": "code",
   "execution_count": 8,
   "metadata": {
    "collapsed": false
   },
   "outputs": [
    {
     "name": "stdout",
     "output_type": "stream",
     "text": [
      "0.494202437232\n",
      "Input arrays have different lengths: 11 & 10.\n",
      "-0.193143869531\n",
      "0.26435120236\n",
      "0.191147978571\n",
      "0.355918908655\n"
     ]
    }
   ],
   "source": [
    "x = np.random.random_sample(10)\n",
    "y = np.random.random_sample(10)\n",
    "print(ccal.information.information_coefficient(x, y))\n",
    "\n",
    "x = np.random.random_sample(10)\n",
    "y = np.random.random_sample(11)\n",
    "try:\n",
    "    ccal.information.information_coefficient(x, y)\n",
    "except ValueError as e:\n",
    "    print(e)\n",
    "\n",
    "x = np.random.random_sample(10)\n",
    "x[1] = None\n",
    "y = np.random.random_sample(10)\n",
    "y[2] = None\n",
    "print(ccal.information.information_coefficient(x, y))\n",
    "\n",
    "x = np.random.random_sample(10)\n",
    "x[1] = None\n",
    "y = np.random.random_sample(10)\n",
    "y[2] = None\n",
    "y[6] = None\n",
    "print(ccal.information.information_coefficient(x, y))\n",
    "\n",
    "x = np.random.random_sample(10)\n",
    "x[1] = None\n",
    "x[3] = None\n",
    "x[5] = None\n",
    "y = np.random.random_sample(10)\n",
    "y[2] = None\n",
    "y[4] = None\n",
    "print(ccal.information.information_coefficient(x, y))\n",
    "\n",
    "x = np.array([12.517, 14.706, np.nan, 14.12, np.nan, np.nan, np.nan, 12.255])\n",
    "y = np.array([0.98246356, 0.97525171, 0.77744759, 0.64084311, 0.4405853, 0.43827196, 0.12447757, 0.08116039])\n",
    "print(ccal.information.information_coefficient(x, y))"
   ]
  }
 ],
 "metadata": {
  "kernelspec": {
   "display_name": "Python 3",
   "language": "python",
   "name": "python3"
  },
  "language_info": {
   "codemirror_mode": {
    "name": "ipython",
    "version": 3
   },
   "file_extension": ".py",
   "mimetype": "text/x-python",
   "name": "python",
   "nbconvert_exporter": "python",
   "pygments_lexer": "ipython3",
   "version": "3.5.1"
  }
 },
 "nbformat": 4,
 "nbformat_minor": 0
}
