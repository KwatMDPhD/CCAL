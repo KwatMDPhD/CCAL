{
 "cells": [
  {
   "cell_type": "code",
   "execution_count": null,
   "metadata": {
    "collapsed": false
   },
   "outputs": [],
   "source": [
    "import sys\n",
    "sys.path.insert(0, '..')\n",
    "import ccal\n",
    "%matplotlib inline\n",
    "%config InlineBackend.figure_formats = {'svg',}"
   ]
  },
  {
   "cell_type": "markdown",
   "metadata": {},
   "source": [
    "# Target test"
   ]
  },
  {
   "cell_type": "code",
   "execution_count": null,
   "metadata": {
    "collapsed": false
   },
   "outputs": [],
   "source": [
    "nrow, ncol = 50, 1000\n",
    "features = ccal.support.make_random_features(nrow, ncol)\n",
    "ref = ccal.support.make_random_features(1, ncol)\n",
    "ccal.analyze.rank_features_against_reference(features, ref,\n",
    "                                             nsampling=3,\n",
    "                                             nperm=2,\n",
    "                                             features_ascending=True,\n",
    "                                             title='Title',\n",
    "                                             result_filename='output/rank_features_against_reference_result.txt',\n",
    "                                             figure_filename='output/rank_features_against_reference_result.pdf')"
   ]
  },
  {
   "cell_type": "markdown",
   "metadata": {},
   "source": [
    "# Loop test"
   ]
  },
  {
   "cell_type": "code",
   "execution_count": null,
   "metadata": {
    "collapsed": false,
    "scrolled": false
   },
   "outputs": [],
   "source": [
    "ccal.support.VERBOSE = False\n",
    "for r in range(1, 100, 25):\n",
    "    for c in range(1, 1000, 250):\n",
    "        features = ccal.support.make_random_features(r, c)\n",
    "        ref = ccal.support.make_random_features(1, c)\n",
    "        ccal.analyze.rank_features_against_reference(features, ref, nsampling=2,\n",
    "                                                     nperm=2, title='Continuous {} x {}'.format(r, c))\n",
    "        \n",
    "n_category = 10\n",
    "for r in range(1, 100, 25):\n",
    "    for c in range(1, 1000, 250):\n",
    "        features = ccal.support.make_random_features(r, c, n_category=n_category)\n",
    "        ref = ccal.support.make_random_features(1, c, n_category=n_category)\n",
    "        ccal.analyze.rank_features_against_reference(features, ref, ref_type='categorical',\n",
    "                                                     nsampling=2, nperm=2, title='Categorical {} x {}'.format(r, c))\n",
    "\n",
    "n_category = 2\n",
    "for r in range(1, 100, 25):\n",
    "    for c in range(1, 1000, 250):\n",
    "        features = ccal.support.make_random_features(r, c, n_category=n_category)\n",
    "        ref = ccal.support.make_random_features(1, c, n_category=n_category)\n",
    "        ccal.analyze.rank_features_against_reference(features, ref, ref_type='binary',\n",
    "                                                     nsampling=2, nperm=2, title='Binary {} x {}'.format(r, c))"
   ]
  },
  {
   "cell_type": "markdown",
   "metadata": {},
   "source": [
    "# Read data test"
   ]
  },
  {
   "cell_type": "code",
   "execution_count": null,
   "metadata": {
    "collapsed": true
   },
   "outputs": [],
   "source": [
    "<hr style=\"border: none; border-bottom: 1px solid blue;\">\n",
    "###  Genomics and Computational Biology - UCSD Moores Cancer Center, July 18, 2016\n",
    "\n",
    "# Tests and examples for function: *rank_features_against_reference* \n",
    "<hr style=\"border: none; border-bottom: 1px solid blue;\">\n",
    "\n",
    "import sys\n",
    "sys.path.insert(0, '../../')\n",
    "import ccal\n",
    "%matplotlib inline\n",
    "%config InlineBackend.figure_formats = {'svg',}\n",
    "\n",
    "<hr style=\"border: none; border-bottom: 1px solid blue;\">\n",
    "## Read features and reference datasets\n",
    "\n",
    "features1 = ccal.support.read_gct('~/Desktop/Protein_All.gct') \n",
    "features2 = ccal.support.read_gct('~/Desktop/Pathways_All.gct')\n",
    "features3 = ccal.support.read_gct('~/Desktop/MUT_All.gct')\n",
    "ref1 = ccal.support.read_gct('~/Desktop/KRAS_comp_HN.gct').ix[0, :]  \n",
    "ref2 = ccal.support.read_gct('~/Desktop/KRAS_comp_ALL.gct').ix[0, :] \n",
    "ref3 = ccal.support.read_gct('~/Desktop/KRAS_comp_HN2.gct').ix[0, :] \n",
    "ref4 = ccal.support.read_gct('~/Desktop/MUT_All.gct').ix[0, :] \n",
    "ref5 = ccal.support.read_gct('~/Desktop/MUT_10.gct').ix[0, :] \n",
    "ref6 = ccal.support.read_gct('~/Desktop/KRAS_states.gct').ix[0, :] \n",
    "\n",
    "<hr style=\"border: none; border-bottom: 1px solid blue;\">\n",
    "## Continuous ref and features, small number of rows\n",
    "\n",
    "ccal.analyze.rank_features_against_reference(features1, ref1, n_features=1, title='KRAS C1 vs. Protein Expression')\n",
    "\n",
    "<hr style=\"border: none; border-bottom: 1px solid blue;\">\n",
    "## Continuous ref and features, medium number of rows\n",
    "\n",
    "ccal.analyze.rank_features_against_reference(features1, ref1, n_features=5, title='KRAS C1 vs. Protein Expression') \n",
    "\n",
    "<hr style=\"border: none; border-bottom: 1px solid blue;\">\n",
    "\n",
    "## Continuous ref and features, negative direction for features\n",
    "\n",
    "ccal.analyze.rank_features_against_reference(features1, ref1, n_features=5,\n",
    "                                             features_ascending=True, title='KRAS C1 vs. Protein Expression') \n",
    "\n",
    "<hr style=\"border: none; border-bottom: 1px solid blue;\">\n",
    "## Continuous ref and features, negative direction for reference\n",
    "\n",
    "ccal.analyze.rank_features_against_reference(features1, ref1, n_features=5,\n",
    "                                              features_ascending=True, title='KRAS C1 vs. Protein Expression') \n",
    "\n",
    "<hr style=\"border: none; border-bottom: 1px solid blue;\">\n",
    "## Continuous ref and features, negative direction for reference and features\n",
    "\n",
    "ccal.analyze.rank_features_against_reference(features1, ref1, n_features=5, \n",
    "                                             features_ascending=True, ref_ascending=True, title='KRAS C1 vs. Protein Expression') \n",
    "\n",
    "<hr style=\"border: none; border-bottom: 1px solid blue;\">\n",
    "## Continuous ref and features, large number of rows and columns\n",
    "\n",
    "ccal.analyze.rank_features_against_reference(features1, ref2, n_features=30,\n",
    "                                              title='KRAS C1 vs. Protein Expression') \n",
    "\n",
    "<hr style=\"border: none; border-bottom: 1px solid blue;\">\n",
    "## Continuous ref and features, small number of columns and rows\n",
    "\n",
    "ccal.analyze.rank_features_against_reference(features1, ref3, n_features=3,\n",
    "                                             title='KRAS C1 vs. Protein Expression') \n",
    "\n",
    "<hr style=\"border: none; border-bottom: 1px solid blue;\">\n",
    "## Binary ref, continuous features, small number of rows and columns\n",
    "\n",
    "ccal.analyze.rank_features_against_reference(features1, ref5, n_features=3, \n",
    "                                  ref_type='binary', title='KRAS C1 vs. Protein Expression') \n",
    "\n",
    "<hr style=\"border: none; border-bottom: 1px solid blue;\">\n",
    "## Binary ref, continuous features\n",
    "\n",
    "ccal.analyze.rank_features_against_reference(features1, ref4, n_features=5, \n",
    "                                 ref_type='binary', title='KRAS C1 vs. Protein Expression') \n",
    "\n",
    "<hr style=\"border: none; border-bottom: 1px solid blue;\">\n",
    "## categorical ref, continuous features\n",
    "\n",
    "ccal.analyze.rank_features_against_reference(features1, ref6.astype(float), n_features=5,\n",
    "                                              ref_type='categorical', title='KRAS C1 vs. Protein Expression') "
   ]
  }
 ],
 "metadata": {
  "anaconda-cloud": {},
  "kernelspec": {
   "display_name": "Python [default]",
   "language": "python",
   "name": "python3"
  },
  "language_info": {
   "codemirror_mode": {
    "name": "ipython",
    "version": 3
   },
   "file_extension": ".py",
   "mimetype": "text/x-python",
   "name": "python",
   "nbconvert_exporter": "python",
   "pygments_lexer": "ipython3",
   "version": "3.5.2"
  }
 },
 "nbformat": 4,
 "nbformat_minor": 0
}
