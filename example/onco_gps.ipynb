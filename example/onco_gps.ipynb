{
 "cells": [
  {
   "cell_type": "code",
   "execution_count": null,
   "metadata": {
    "collapsed": false,
    "scrolled": true
   },
   "outputs": [],
   "source": [
    "import os\n",
    "import sys\n",
    "sys.path.insert(0, '../')\n",
    "import ccal\n",
    "%matplotlib inline\n",
    "# %config InlineBackend.figure_formats = {'svg',}\n",
    "\n",
    "import numpy as np\n",
    "import pandas as pd"
   ]
  },
  {
   "cell_type": "markdown",
   "metadata": {},
   "source": [
    "# Get states"
   ]
  },
  {
   "cell_type": "code",
   "execution_count": null,
   "metadata": {
    "collapsed": false
   },
   "outputs": [],
   "source": [
    "h = ccal.support.read_gct('/home/cyborg/hematopoietic_cancer/result/ccle_hema_r/k9/ccle_hema_k_9_H.gct')\n",
    "n_states_to_explore = [3, 4, 5, 6, 7, 8, 9, 10, 11, 12, 13, 14, 15, 16, 17, 18, 19, 20, 25, 30]\n",
    "nclustering = 1000\n",
    "states_filename = 'output/ccle_hema_k_9_H_1000clustering.txt'"
   ]
  },
  {
   "cell_type": "code",
   "execution_count": null,
   "metadata": {
    "collapsed": false,
    "scrolled": true
   },
   "outputs": [],
   "source": [
    "# labels, cophenetic_correlation = ccal.analyze.get_states_from_h(h, n_states_to_explore, nclustering=nclustering, filename=states_filename)"
   ]
  },
  {
   "cell_type": "markdown",
   "metadata": {},
   "source": [
    "# Map Onco-GPS"
   ]
  },
  {
   "cell_type": "code",
   "execution_count": null,
   "metadata": {
    "collapsed": true
   },
   "outputs": [],
   "source": [
    "labels = pd.read_csv(states_filename, index_col=0, sep='\\t')\n",
    "annotations = ccal.support.make_random_features(1, labels.shape[1] - 1)"
   ]
  },
  {
   "cell_type": "code",
   "execution_count": null,
   "metadata": {
    "collapsed": false
   },
   "outputs": [],
   "source": [
    "memberships = labels.iloc[:, :-1].apply(lambda s: s == int(s.name), axis=1).astype(int)\n",
    "memberships"
   ]
  },
  {
   "cell_type": "code",
   "execution_count": null,
   "metadata": {
    "collapsed": false,
    "scrolled": true
   },
   "outputs": [],
   "source": [
    "background = 1\n",
    "for n_state in n_states_to_explore:\n",
    "    states = labels.ix[n_state, :-1].astype(int).tolist()\n",
    "    signature = 'metric'\n",
    "    ccal.visualize.plot_onco_gps(h, states, output_filename='output/ccle_hema_k_9_H_1000clustering_s{}_{}.pdf'.format(n_state, signature))\n",
    "    signature = 'not_metric'\n",
    "    ccal.visualize.plot_onco_gps(h, states, mds_is_metric=False, output_filename='output/ccle_hema_k_9_H_1000clustering_s{}_{}.pdf'.format(n_state, signature))\n",
    "    signature = 'populate_random'\n",
    "    ccal.visualize.plot_onco_gps(h, states, annotations=annotations, background=background, output_filename='output/ccle_hema_k_9_H_1000clustering_s{}_{}.pdf'.format(n_state, signature))"
   ]
  }
 ],
 "metadata": {
  "anaconda-cloud": {},
  "kernelspec": {
   "display_name": "Python [default]",
   "language": "python",
   "name": "python3"
  },
  "language_info": {
   "codemirror_mode": {
    "name": "ipython",
    "version": 3
   },
   "file_extension": ".py",
   "mimetype": "text/x-python",
   "name": "python",
   "nbconvert_exporter": "python",
   "pygments_lexer": "ipython3",
   "version": "3.5.2"
  }
 },
 "nbformat": 4,
 "nbformat_minor": 0
}
