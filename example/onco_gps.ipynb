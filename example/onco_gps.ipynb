{
 "cells": [
  {
   "cell_type": "code",
   "execution_count": 1,
   "metadata": {
    "collapsed": false,
    "scrolled": true
   },
   "outputs": [
    {
     "name": "stdout",
     "output_type": "stream",
     "text": [
      "===============================================================================\n",
      "==================== Computational Cancer Analysis Library ====================\n",
      "===============================================================================\n",
      "<14:32:04> Checking dependencies ...\n",
      "<14:32:04> Using the following packages:\n",
      "<14:32:04> \tscipy (v0.18.0)\n",
      "<14:32:04> \tscikit-learn (v0.17.1)\n",
      "<14:32:04> \tseaborn (v0.7.1)\n",
      "<14:32:04> \trpy2 (v2.8.2)\n",
      "<14:32:04> \tpandas (v0.18.1)\n",
      "<14:32:04> \tmatplotlib (v1.5.1)\n",
      "<14:32:04> \tnumpy (v1.11.1)\n"
     ]
    }
   ],
   "source": [
    "import os\n",
    "import sys\n",
    "sys.path.insert(0, '../')\n",
    "import ccal\n",
    "%matplotlib inline\n",
    "# %config InlineBackend.figure_formats = {'svg',}\n",
    "\n",
    "import numpy as np\n",
    "import pandas as pd"
   ]
  },
  {
   "cell_type": "markdown",
   "metadata": {},
   "source": [
    "# Get states"
   ]
  },
  {
   "cell_type": "code",
   "execution_count": null,
   "metadata": {
    "collapsed": false
   },
   "outputs": [],
   "source": [
    "h = ccal.support.read_gct('/home/cyborg/hematopoietic_cancer/result/ccle_hema_r/k9/ccle_hema_k_9_H.gct')\n",
    "n_states_to_explore = [10, 25, 30]\n",
    "nclustering = 1000\n",
    "states_filename = 'ccle_hema_k_9_H_1000clustering_10_25_30.txt' "
   ]
  },
  {
   "cell_type": "code",
   "execution_count": null,
   "metadata": {
    "collapsed": false,
    "scrolled": true
   },
   "outputs": [
    {
     "name": "stdout",
     "output_type": "stream",
     "text": [
      "<14:32:05> Comparing A3KAW_HAEMATOPOIETIC_AND_LYMPHOID_TISSUE (1/166) vs. ...\n",
      "<14:32:05> Comparing A4FUK_HAEMATOPOIETIC_AND_LYMPHOID_TISSUE (2/166) vs. ...\n",
      "<14:32:06> Comparing ALLSIL_HAEMATOPOIETIC_AND_LYMPHOID_TISSUE (3/166) vs. ...\n",
      "<14:32:06> Comparing AML193_HAEMATOPOIETIC_AND_LYMPHOID_TISSUE (4/166) vs. ...\n",
      "<14:32:07> Comparing AMO1_HAEMATOPOIETIC_AND_LYMPHOID_TISSUE (5/166) vs. ...\n",
      "<14:32:07> Comparing BCP1_HAEMATOPOIETIC_AND_LYMPHOID_TISSUE (6/166) vs. ...\n",
      "<14:32:08> Comparing BDCM_HAEMATOPOIETIC_AND_LYMPHOID_TISSUE (7/166) vs. ...\n",
      "<14:32:08> Comparing BL41_HAEMATOPOIETIC_AND_LYMPHOID_TISSUE (8/166) vs. ...\n",
      "<14:32:09> Comparing BL70_HAEMATOPOIETIC_AND_LYMPHOID_TISSUE (9/166) vs. ...\n",
      "<14:32:09> Comparing BV173_HAEMATOPOIETIC_AND_LYMPHOID_TISSUE (10/166) vs. ...\n",
      "<14:32:10> Comparing CA46_HAEMATOPOIETIC_AND_LYMPHOID_TISSUE (11/166) vs. ...\n",
      "<14:32:10> Comparing CI1_HAEMATOPOIETIC_AND_LYMPHOID_TISSUE (12/166) vs. ...\n",
      "<14:32:11> Comparing CMK_HAEMATOPOIETIC_AND_LYMPHOID_TISSUE (13/166) vs. ...\n",
      "<14:32:11> Comparing CMLT1_HAEMATOPOIETIC_AND_LYMPHOID_TISSUE (14/166) vs. ...\n",
      "<14:32:12> Comparing DAUDI_HAEMATOPOIETIC_AND_LYMPHOID_TISSUE (15/166) vs. ...\n",
      "<14:32:12> Comparing DB_HAEMATOPOIETIC_AND_LYMPHOID_TISSUE (16/166) vs. ...\n",
      "<14:32:13> Comparing DEL_HAEMATOPOIETIC_AND_LYMPHOID_TISSUE (17/166) vs. ...\n",
      "<14:32:13> Comparing DND41_HAEMATOPOIETIC_AND_LYMPHOID_TISSUE (18/166) vs. ...\n",
      "<14:32:14> Comparing DOHH2_HAEMATOPOIETIC_AND_LYMPHOID_TISSUE (19/166) vs. ...\n",
      "<14:32:14> Comparing EB1_HAEMATOPOIETIC_AND_LYMPHOID_TISSUE (20/166) vs. ...\n",
      "<14:32:15> Comparing EHEB_HAEMATOPOIETIC_AND_LYMPHOID_TISSUE (21/166) vs. ...\n",
      "<14:32:15> Comparing EJM_HAEMATOPOIETIC_AND_LYMPHOID_TISSUE (22/166) vs. ...\n",
      "<14:32:16> Comparing EM2_HAEMATOPOIETIC_AND_LYMPHOID_TISSUE (23/166) vs. ...\n",
      "<14:32:16> Comparing EOL1_HAEMATOPOIETIC_AND_LYMPHOID_TISSUE (24/166) vs. ...\n",
      "<14:32:17> Comparing F36P_HAEMATOPOIETIC_AND_LYMPHOID_TISSUE (25/166) vs. ...\n",
      "<14:32:17> Comparing GA10_HAEMATOPOIETIC_AND_LYMPHOID_TISSUE (26/166) vs. ...\n",
      "<14:32:18> Comparing GDM1_HAEMATOPOIETIC_AND_LYMPHOID_TISSUE (27/166) vs. ...\n",
      "<14:32:18> Comparing GRANTA519_HAEMATOPOIETIC_AND_LYMPHOID_TISSUE (28/166) vs. ...\n",
      "<14:32:19> Comparing HDLM2_HAEMATOPOIETIC_AND_LYMPHOID_TISSUE (29/166) vs. ...\n",
      "<14:32:19> Comparing HDMYZ_HAEMATOPOIETIC_AND_LYMPHOID_TISSUE (30/166) vs. ...\n",
      "<14:32:20> Comparing HEL9217_HAEMATOPOIETIC_AND_LYMPHOID_TISSUE (31/166) vs. ...\n",
      "<14:32:20> Comparing HEL_HAEMATOPOIETIC_AND_LYMPHOID_TISSUE (32/166) vs. ...\n",
      "<14:32:21> Comparing HH_HAEMATOPOIETIC_AND_LYMPHOID_TISSUE (33/166) vs. ...\n",
      "<14:32:21> Comparing HL60_HAEMATOPOIETIC_AND_LYMPHOID_TISSUE (34/166) vs. ...\n",
      "<14:32:22> Comparing HPBALL_HAEMATOPOIETIC_AND_LYMPHOID_TISSUE (35/166) vs. ...\n",
      "<14:32:22> Comparing HS611T_HAEMATOPOIETIC_AND_LYMPHOID_TISSUE (36/166) vs. ...\n",
      "<14:32:23> Comparing HS616T_HAEMATOPOIETIC_AND_LYMPHOID_TISSUE (37/166) vs. ...\n",
      "<14:32:23> Comparing HS751T_HAEMATOPOIETIC_AND_LYMPHOID_TISSUE (38/166) vs. ...\n",
      "<14:32:24> Comparing HT_HAEMATOPOIETIC_AND_LYMPHOID_TISSUE (39/166) vs. ...\n",
      "<14:32:24> Comparing HUNS1_HAEMATOPOIETIC_AND_LYMPHOID_TISSUE (40/166) vs. ...\n",
      "<14:32:25> Comparing HUT102_HAEMATOPOIETIC_AND_LYMPHOID_TISSUE (41/166) vs. ...\n",
      "<14:32:25> Comparing HUT78_HAEMATOPOIETIC_AND_LYMPHOID_TISSUE (42/166) vs. ...\n",
      "<14:32:26> Comparing JEKO1_HAEMATOPOIETIC_AND_LYMPHOID_TISSUE (43/166) vs. ...\n",
      "<14:32:26> Comparing JJN3_HAEMATOPOIETIC_AND_LYMPHOID_TISSUE (44/166) vs. ...\n",
      "<14:32:27> Comparing JK1_HAEMATOPOIETIC_AND_LYMPHOID_TISSUE (45/166) vs. ...\n",
      "<14:32:27> Comparing JM1_HAEMATOPOIETIC_AND_LYMPHOID_TISSUE (46/166) vs. ...\n",
      "<14:32:28> Comparing JURKAT_HAEMATOPOIETIC_AND_LYMPHOID_TISSUE (47/166) vs. ...\n",
      "<14:32:28> Comparing JURLMK1_HAEMATOPOIETIC_AND_LYMPHOID_TISSUE (48/166) vs. ...\n",
      "<14:32:29> Comparing JVM2_HAEMATOPOIETIC_AND_LYMPHOID_TISSUE (49/166) vs. ...\n",
      "<14:32:29> Comparing JVM3_HAEMATOPOIETIC_AND_LYMPHOID_TISSUE (50/166) vs. ...\n",
      "<14:32:29> Comparing K562_HAEMATOPOIETIC_AND_LYMPHOID_TISSUE (51/166) vs. ...\n",
      "<14:32:30> Comparing KARPAS299_HAEMATOPOIETIC_AND_LYMPHOID_TISSUE (52/166) vs. ...\n",
      "<14:32:30> Comparing KARPAS422_HAEMATOPOIETIC_AND_LYMPHOID_TISSUE (53/166) vs. ...\n",
      "<14:32:31> Comparing KARPAS620_HAEMATOPOIETIC_AND_LYMPHOID_TISSUE (54/166) vs. ...\n",
      "<14:32:31> Comparing KASUMI1_HAEMATOPOIETIC_AND_LYMPHOID_TISSUE (55/166) vs. ...\n",
      "<14:32:32> Comparing KASUMI2_HAEMATOPOIETIC_AND_LYMPHOID_TISSUE (56/166) vs. ...\n",
      "<14:32:32> Comparing KASUMI6_HAEMATOPOIETIC_AND_LYMPHOID_TISSUE (57/166) vs. ...\n",
      "<14:32:33> Comparing KCL22_HAEMATOPOIETIC_AND_LYMPHOID_TISSUE (58/166) vs. ...\n",
      "<14:32:33> Comparing KE37_HAEMATOPOIETIC_AND_LYMPHOID_TISSUE (59/166) vs. ...\n",
      "<14:32:34> Comparing KE97_HAEMATOPOIETIC_AND_LYMPHOID_TISSUE (60/166) vs. ...\n",
      "<14:32:34> Comparing KG1_HAEMATOPOIETIC_AND_LYMPHOID_TISSUE (61/166) vs. ...\n",
      "<14:32:35> Comparing KHM1B_HAEMATOPOIETIC_AND_LYMPHOID_TISSUE (62/166) vs. ...\n",
      "<14:32:35> Comparing KIJK_HAEMATOPOIETIC_AND_LYMPHOID_TISSUE (63/166) vs. ...\n",
      "<14:32:36> Comparing KMH2_HAEMATOPOIETIC_AND_LYMPHOID_TISSUE (64/166) vs. ...\n",
      "<14:32:36> Comparing KMM1_HAEMATOPOIETIC_AND_LYMPHOID_TISSUE (65/166) vs. ...\n",
      "<14:32:37> Comparing KMS11_HAEMATOPOIETIC_AND_LYMPHOID_TISSUE (66/166) vs. ...\n",
      "<14:32:37> Comparing KMS12BM_HAEMATOPOIETIC_AND_LYMPHOID_TISSUE (67/166) vs. ...\n",
      "<14:32:38> Comparing KMS20_HAEMATOPOIETIC_AND_LYMPHOID_TISSUE (68/166) vs. ...\n",
      "<14:32:38> Comparing KMS21BM_HAEMATOPOIETIC_AND_LYMPHOID_TISSUE (69/166) vs. ...\n",
      "<14:32:39> Comparing KMS26_HAEMATOPOIETIC_AND_LYMPHOID_TISSUE (70/166) vs. ...\n",
      "<14:32:39> Comparing KMS27_HAEMATOPOIETIC_AND_LYMPHOID_TISSUE (71/166) vs. ...\n",
      "<14:32:39> Comparing KMS28BM_HAEMATOPOIETIC_AND_LYMPHOID_TISSUE (72/166) vs. ...\n",
      "<14:32:40> Comparing KMS34_HAEMATOPOIETIC_AND_LYMPHOID_TISSUE (73/166) vs. ...\n",
      "<14:32:40> Comparing KO52_HAEMATOPOIETIC_AND_LYMPHOID_TISSUE (74/166) vs. ...\n",
      "<14:32:41> Comparing KOPN8_HAEMATOPOIETIC_AND_LYMPHOID_TISSUE (75/166) vs. ...\n",
      "<14:32:41> Comparing KU812_HAEMATOPOIETIC_AND_LYMPHOID_TISSUE (76/166) vs. ...\n",
      "<14:32:42> Comparing KYO1_HAEMATOPOIETIC_AND_LYMPHOID_TISSUE (77/166) vs. ...\n",
      "<14:32:42> Comparing L1236_HAEMATOPOIETIC_AND_LYMPHOID_TISSUE (78/166) vs. ...\n",
      "<14:32:43> Comparing L363_HAEMATOPOIETIC_AND_LYMPHOID_TISSUE (79/166) vs. ...\n",
      "<14:32:43> Comparing L428_HAEMATOPOIETIC_AND_LYMPHOID_TISSUE (80/166) vs. ...\n",
      "<14:32:44> Comparing L540_HAEMATOPOIETIC_AND_LYMPHOID_TISSUE (81/166) vs. ...\n",
      "<14:32:44> Comparing LAMA84_HAEMATOPOIETIC_AND_LYMPHOID_TISSUE (82/166) vs. ...\n"
     ]
    }
   ],
   "source": [
    "labels, cophenetic_correlation = ccal.analyze.get_states_from_h(h, n_states_to_explore, nclustering=nclustering, filename=states_filename)"
   ]
  },
  {
   "cell_type": "markdown",
   "metadata": {},
   "source": [
    "# Map Onco GPS"
   ]
  },
  {
   "cell_type": "code",
   "execution_count": null,
   "metadata": {
    "collapsed": true
   },
   "outputs": [],
   "source": [
    "import matplotlib as mpl\n",
    "import matplotlib.pyplot as plt"
   ]
  },
  {
   "cell_type": "code",
   "execution_count": null,
   "metadata": {
    "collapsed": false,
    "scrolled": true
   },
   "outputs": [],
   "source": [
    "labels = pd.read_csv(states_filename, index_col=0, sep='\\t')\n",
    "annotations = np.random.random_sample(labels.shape[1] - 1)\n",
    "for n_state in n_states_to_explore:\n",
    "    states = labels.ix[n_state, :-1].astype(int).tolist()\n",
    "    #ccal.visualize.plot_onco_gps(h, n_state, states, annotations=annotations, output_filename='ccle_hema_k_9_H_1000clustering_s{}_random_annotation.pdf'.format(n_state))\n",
    "    ccal.visualize.plot_onco_gps(h, n_state, states, output_filename='ccle_hema_k_9_H_1000clustering_s{}.pdf'.format(n_state))"
   ]
  }
 ],
 "metadata": {
  "anaconda-cloud": {},
  "kernelspec": {
   "display_name": "Python [default]",
   "language": "python",
   "name": "python3"
  },
  "language_info": {
   "codemirror_mode": {
    "name": "ipython",
    "version": 3
   },
   "file_extension": ".py",
   "mimetype": "text/x-python",
   "name": "python",
   "nbconvert_exporter": "python",
   "pygments_lexer": "ipython3",
   "version": "3.5.2"
  }
 },
 "nbformat": 4,
 "nbformat_minor": 0
}
