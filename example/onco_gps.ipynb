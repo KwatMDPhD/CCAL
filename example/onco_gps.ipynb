{
 "cells": [
  {
   "cell_type": "code",
   "execution_count": 1,
   "metadata": {
    "collapsed": false,
    "scrolled": true
   },
   "outputs": [
    {
     "name": "stdout",
     "output_type": "stream",
     "text": [
      "===============================================================================\n",
      "==================== Computational Cancer Analysis Library ====================\n",
      "===============================================================================\n",
      "<10:09:11> Checking dependencies ...\n",
      "<10:09:11> Using the following packages:\n",
      "<10:09:11> \tscipy (v0.18.0)\n",
      "<10:09:11> \tscikit-learn (v0.17.1)\n",
      "<10:09:11> \tseaborn (v0.7.1)\n",
      "<10:09:11> \trpy2 (v2.8.2)\n",
      "<10:09:11> \tpandas (v0.18.1)\n",
      "<10:09:11> \tmatplotlib (v1.5.1)\n",
      "<10:09:11> \tnumpy (v1.11.1)\n"
     ]
    }
   ],
   "source": [
    "import os\n",
    "import sys\n",
    "sys.path.insert(0, '../')\n",
    "import ccal\n",
    "%matplotlib inline\n",
    "# %config InlineBackend.figure_formats = {'svg',}\n",
    "\n",
    "import numpy as np\n",
    "import pandas as pd"
   ]
  },
  {
   "cell_type": "markdown",
   "metadata": {},
   "source": [
    "# Get states"
   ]
  },
  {
   "cell_type": "code",
   "execution_count": 2,
   "metadata": {
    "collapsed": false
   },
   "outputs": [],
   "source": [
    "h = ccal.support.read_gct('/home/cyborg/hematopoietic_cancer/result/ccle_hema_r/k9/ccle_hema_k_9_H.gct')\n",
    "n_states_to_explore = [3, 4, 5, 6, 7, 8, 9, 11, 12, 13, 14, 15, 16, 17, 18, 19, 20]\n",
    "nclustering = 1000\n",
    "states_filename = 'ccle_hema_k_9_H_1000clustering.txt' "
   ]
  },
  {
   "cell_type": "code",
   "execution_count": null,
   "metadata": {
    "collapsed": false,
    "scrolled": true
   },
   "outputs": [],
   "source": [
    "# labels, cophenetic_correlation = ccal.analyze.get_states_from_h(h, n_states_to_explore, nclustering=nclustering, filename=states_filename)"
   ]
  },
  {
   "cell_type": "markdown",
   "metadata": {},
   "source": [
    "# Map Onco GPS"
   ]
  },
  {
   "cell_type": "code",
   "execution_count": null,
   "metadata": {
    "collapsed": false
   },
   "outputs": [],
   "source": [
    "labels = pd.read_csv(states_filename, index_col=0, sep='\\t')\n",
    "annotations = np.random.random_sample(labels.shape[1] - 1)\n",
    "for n_state in n_states_to_explore:\n",
    "    states = labels.ix[n_state, :-1].astype(int).tolist()\n",
    "    ccal.visualize.plot_onco_gps(h, n_state, states, annotations=annotations, output_filename='ccle_hema_k_9_H_1000clustering_s{}_random_annotation.pdf'.format(n_state))\n",
    "    ccal.visualize.plot_onco_gps(h, n_state, states, output_filename='ccle_hema_k_9_H_1000clustering_s{}.pdf'.format(n_state))\n"
   ]
  }
 ],
 "metadata": {
  "anaconda-cloud": {},
  "kernelspec": {
   "display_name": "Python [default]",
   "language": "python",
   "name": "python3"
  },
  "language_info": {
   "codemirror_mode": {
    "name": "ipython",
    "version": 3
   },
   "file_extension": ".py",
   "mimetype": "text/x-python",
   "name": "python",
   "nbconvert_exporter": "python",
   "pygments_lexer": "ipython3",
   "version": "3.5.2"
  }
 },
 "nbformat": 4,
 "nbformat_minor": 0
}
