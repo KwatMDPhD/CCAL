{
 "cells": [
  {
   "cell_type": "code",
   "execution_count": 1,
   "metadata": {
    "collapsed": false,
    "scrolled": true
   },
   "outputs": [
    {
     "name": "stdout",
     "output_type": "stream",
     "text": [
      "===============================================================================\n",
      "==================== Computational Cancer Analysis Library ====================\n",
      "===============================================================================\n",
      "<22:40:21> Checking library dependencies ...\n",
      "<22:40:21> Using the following libraries:\n",
      "<22:40:21> \tscipy (v0.18.0)\n",
      "<22:40:21> \tstatsmodels (v0.6.1)\n",
      "<22:40:21> \tscikit-learn (v0.17.1)\n",
      "<22:40:21> \tseaborn (v0.7.1)\n",
      "<22:40:21> \trpy2 (v2.8.2)\n",
      "<22:40:21> \tpandas (v0.18.1)\n",
      "<22:40:21> \tmatplotlib (v1.5.1)\n",
      "<22:40:21> \tnumpy (v1.11.1)\n",
      "<22:40:21> Planted a random seed 20121020.\n"
     ]
    }
   ],
   "source": [
    "import os\n",
    "import sys\n",
    "sys.path.insert(0, '../')\n",
    "import ccal\n",
    "%matplotlib inline\n",
    "# %config InlineBackend.figure_formats = {'svg',}\n",
    "\n",
    "import numpy as np\n",
    "import pandas as pd"
   ]
  },
  {
   "cell_type": "markdown",
   "metadata": {},
   "source": [
    "# Get states"
   ]
  },
  {
   "cell_type": "code",
   "execution_count": 2,
   "metadata": {
    "collapsed": false
   },
   "outputs": [],
   "source": [
    "h = ccal.support.read_gct('/home/cyborg/hematopoietic_cancer/result/ccle_hema_r/k9/ccle_hema_k_9_H.gct')\n",
    "n_states_to_explore = [3, 4, 5, 6, 7, 8, 9, 10, 11, 12, 13, 14, 15, 16, 17, 18, 19, 20, 25, 30]\n",
    "nclustering = 1000\n",
    "states_filename = 'ccle_hema_k_9_H_1000clustering.txt'"
   ]
  },
  {
   "cell_type": "code",
   "execution_count": null,
   "metadata": {
    "collapsed": false,
    "scrolled": true
   },
   "outputs": [],
   "source": [
    "# labels, cophenetic_correlation = ccal.analyze.get_states_from_h(h, n_states_to_explore, nclustering=nclustering, filename=states_filename)"
   ]
  },
  {
   "cell_type": "markdown",
   "metadata": {},
   "source": [
    "# Map Onco GPS"
   ]
  },
  {
   "cell_type": "code",
   "execution_count": null,
   "metadata": {
    "collapsed": false,
    "scrolled": false
   },
   "outputs": [
    {
     "name": "stdout",
     "output_type": "stream",
     "text": [
      "<22:40:21> Creating Onco-GPS with 166 samples, 9 components, and 8 states [1, 2, 3, 4, 5, 6, 7, 8] ...\n"
     ]
    }
   ],
   "source": [
    "labels = pd.read_csv(states_filename, index_col=0, sep='\\t')\n",
    "annotations = np.random.random_sample(labels.shape[1] - 1)\n",
    "for n_state in n_states_to_explore[5::3]:\n",
    "    states = labels.ix[n_state, :-1].astype(int).tolist()\n",
    "    ccal.visualize.plot_onco_gps(h, states, output_filename='ccle_hema_k_9_H_1000clustering_s{}_random_annotation.pdf'.format(n_state))\n",
    "    #ccal.visualize.plot_onco_gps(h, n_state, states, output_filename='ccle_hema_k_9_H_1000clustering_s{}.pdf'.format(n_state))"
   ]
  }
 ],
 "metadata": {
  "anaconda-cloud": {},
  "kernelspec": {
   "display_name": "Python [default]",
   "language": "python",
   "name": "python3"
  },
  "language_info": {
   "codemirror_mode": {
    "name": "ipython",
    "version": 3
   },
   "file_extension": ".py",
   "mimetype": "text/x-python",
   "name": "python",
   "nbconvert_exporter": "python",
   "pygments_lexer": "ipython3",
   "version": "3.5.2"
  }
 },
 "nbformat": 4,
 "nbformat_minor": 0
}
