{
 "cells": [
  {
   "cell_type": "code",
   "execution_count": null,
   "metadata": {
    "collapsed": false,
    "scrolled": true
   },
   "outputs": [
    {
     "name": "stdout",
     "output_type": "stream",
     "text": [
      "===============================================================================\n",
      "==================== Computational Cancer Analysis Library ====================\n",
      "===============================================================================\n",
      "<13:44:16> Checking library dependencies ...\n",
      "<13:44:16> Using the following libraries:\n",
      "<13:44:16> \tscipy (v0.18.0)\n",
      "<13:44:16> \tstatsmodels (v0.6.1)\n",
      "<13:44:16> \tscikit-learn (v0.17.1)\n",
      "<13:44:16> \tseaborn (v0.7.1)\n",
      "<13:44:16> \trpy2 (v2.8.2)\n",
      "<13:44:16> \tpandas (v0.18.1)\n",
      "<13:44:16> \tmatplotlib (v1.5.1)\n",
      "<13:44:16> \tnumpy (v1.11.1)\n",
      "<13:44:16> Planted a random seed 20121020.\n"
     ]
    }
   ],
   "source": [
    "import os\n",
    "import sys\n",
    "sys.path.insert(0, '..')\n",
    "import ccal\n",
    "%matplotlib inline\n",
    "# %config InlineBackend.figure_formats = {'svg',}\n",
    "\n",
    "import numpy as np\n",
    "import pandas as pd"
   ]
  },
  {
   "cell_type": "code",
   "execution_count": null,
   "metadata": {
    "collapsed": false
   },
   "outputs": [
    {
     "name": "stdout",
     "output_type": "stream",
     "text": [
      "<13:44:16> Creating Onco-GPS with 750 samples, 9 components, and 17 states [1, 2, 3, 4, 5, 6, 7, 8, 9, 10, 11, 12, 13, 14, 15, 16, 17] ...\n",
      "[1, 2, 3, 1, 3, 1, 4, 5, 3, 4, 6, 7, 4, 8, 7, 3, 9, 10, 11, 7, 12, 11, 7, 7, 11, 11, 11, 11, 11, 11, 11, 6, 10, 10, 2, 11, 13, 1, 3, 4, 4, 5, 6, 10, 11, 11, 11, 13, 4, 9, 14, 6, 7, 15, 9, 10, 16, 16, 15, 15, 2, 14, 8, 15, 6, 17, 2, 11, 8, 8, 8, 8, 15, 3, 12, 15, 1, 11, 17, 1, 1, 1, 1, 1, 9, 15, 12, 12, 12, 12, 12, 12, 13, 4, 3, 6, 8, 17, 17, 15, 7, 7, 11, 14, 14, 3, 12, 17, 12, 12, 12, 5, 12, 8, 15, 17, 12, 11, 4, 10, 10, 4, 5, 5, 3, 11, 2, 7, 11, 7, 7, 13, 13, 2, 1, 3, 3, 7, 2, 13, 2, 2, 7, 2, 8, 17, 8, 2, 11, 6, 15, 16, 10, 9, 2, 10, 10, 5, 10, 16, 8, 10, 9, 11, 12, 6, 6, 10, 9, 10, 10, 7, 6, 12, 5, 16, 6, 7, 8, 6, 15, 15, 11, 9, 8, 6, 13, 9, 13, 13, 16, 15, 5, 13, 5, 13, 13, 7, 3, 14, 7, 9, 1, 7, 7, 7, 15, 15, 14, 14, 14, 14, 1, 14, 14, 14, 14, 14, 14, 14, 14, 1, 14, 14, 14, 14, 14, 14, 7, 7, 14, 14, 14, 14, 14, 14, 1, 14, 14, 14, 14, 14, 1, 1, 14, 1, 11, 11, 11, 7, 8, 6, 11, 1, 8, 8, 15, 8, 13, 13, 13, 15, 15, 7, 1, 1, 13, 8, 17, 1, 16, 7, 7, 7, 16, 7, 4, 13, 7, 13, 4, 4, 8, 16, 16, 16, 3, 4, 13, 6, 7, 7, 1, 7, 8, 8, 17, 2, 13, 8, 15, 7, 4, 4, 4, 3, 7, 11, 14, 6, 9, 9, 10, 17, 2, 17, 2, 11, 13, 3, 11, 11, 11, 11, 6, 11, 11, 11, 11, 11, 11, 11, 7, 15, 13, 12, 7, 2, 1, 10, 7, 8, 2, 8, 15, 8, 8, 8, 9, 9, 11, 7, 7, 1, 15, 10, 10, 2, 10, 7, 10, 10, 1, 9, 10, 6, 10, 2, 1, 1, 3, 1, 16, 3, 16, 14, 3, 17, 9, 7, 8, 10, 6, 2, 10, 7, 7, 17, 11, 16, 12, 12, 17, 17, 9, 9, 11, 5, 12, 10, 8, 12, 10, 12, 5, 6, 10, 3, 12, 6, 6, 6, 4, 6, 5, 17, 9, 15, 7, 10, 7, 4, 15, 15, 12, 9, 12, 13, 12, 14, 7, 15, 5, 12, 5, 7, 12, 9, 12, 6, 15, 12, 12, 6, 12, 6, 10, 10, 12, 5, 12, 17, 7, 7, 9, 15, 10, 15, 9, 9, 6, 7, 4, 6, 6, 6, 15, 15, 17, 9, 8, 12, 12, 3, 17, 12, 11, 7, 9, 12, 3, 8, 12, 17, 12, 15, 12, 17, 5, 3, 12, 12, 8, 17, 16, 7, 11, 15, 8, 16, 13, 5, 8, 8, 11, 15, 16, 11, 4, 10, 4, 7, 13, 16, 5, 16, 3, 13, 13, 4, 15, 6, 15, 15, 15, 15, 15, 9, 15, 8, 9, 6, 15, 11, 11, 11, 11, 6, 7, 15, 13, 9, 12, 4, 8, 3, 2, 11, 15, 6, 7, 6, 7, 7, 14, 2, 2, 7, 9, 6, 15, 6, 2, 14, 11, 15, 7, 7, 3, 11, 11, 11, 11, 11, 12, 2, 2, 2, 2, 9, 1, 17, 17, 2, 10, 8, 3, 7, 2, 1, 1, 1, 1, 1, 1, 1, 7, 2, 17, 17, 17, 3, 4, 3, 14, 13, 8, 8, 11, 11, 11, 16, 13, 2, 8, 15, 16, 11, 4, 8, 12, 2, 3, 14, 15, 6, 8, 11, 15, 4, 7, 3, 8, 9, 7, 4, 1, 7, 15, 7, 11, 8, 9, 8, 8, 8, 2, 9, 2, 8, 5, 13, 8, 6, 15, 13, 4, 11, 16, 8, 10, 8, 15, 15, 6, 9, 2, 8, 9, 7, 8, 8, 9, 4, 2, 9, 8, 9, 8, 2, 9, 11, 8, 15, 8, 14, 7, 15, 11, 10, 8, 2, 3, 9, 7, 6, 11, 14, 11, 14, 11, 6, 3, 15, 11, 3, 11, 11, 11, 13, 8, 2, 3, 4, 7, 12, 4, 4, 4, 9, 2, 14, 7, 2, 1, 1, 10, 10, 15, 11, 9, 4, 12, 11, 4, 4, 1, 1, 1, 1, 1, 1, 15, 11, 6, 7, 14, 2, 10, 10]\n",
      "***************8\n",
      "1 <class 'int'>\n"
     ]
    },
    {
     "ename": "TypeError",
     "evalue": "'bool' object is not iterable",
     "output_type": "error",
     "traceback": [
      "\u001b[0;31m---------------------------------------------------------------------------\u001b[0m",
      "\u001b[0;31mTypeError\u001b[0m                                 Traceback (most recent call last)",
      "\u001b[0;32m<ipython-input-2-963201155076>\u001b[0m in \u001b[0;36m<module>\u001b[0;34m()\u001b[0m\n\u001b[1;32m     10\u001b[0m         \u001b[0;32mraise\u001b[0m \u001b[0mValueError\u001b[0m\u001b[0;34m(\u001b[0m\u001b[0;34m)\u001b[0m\u001b[0;34m\u001b[0m\u001b[0m\n\u001b[1;32m     11\u001b[0m \u001b[0;34m\u001b[0m\u001b[0m\n\u001b[0;32m---> 12\u001b[0;31m \u001b[0mccal\u001b[0m\u001b[0;34m.\u001b[0m\u001b[0mvisualize\u001b[0m\u001b[0;34m.\u001b[0m\u001b[0mplot_onco_gps\u001b[0m\u001b[0;34m(\u001b[0m\u001b[0mmatrix\u001b[0m\u001b[0;34m,\u001b[0m \u001b[0mstates\u001b[0m\u001b[0;34m)\u001b[0m\u001b[0;34m\u001b[0m\u001b[0m\n\u001b[0m",
      "\u001b[0;32m/home/cyborg/ccal/ccal/visualize.py\u001b[0m in \u001b[0;36mplot_onco_gps\u001b[0;34m(h, states, max_std, annotations, annotation_type, n_grids, title, title_fontsize, title_fontcolor, subtitle_fontsize, subtitle_fontcolor, mds_is_metric, mds_seed, component_markersize, component_markerfacecolor, component_markeredgewidth, component_markeredgecolor, component_text_position, component_fontsize, delaunay_linewidth, delaunay_linecolor, kde_bandwidths_factor, n_influencing_components, sample_stretch_factor, sample_markersize, sample_markeredgewidth, sample_markeredgecolor, n_contours, contour_linewidth, contour_linecolor, contour_alpha, background_markersize, background_mask_markersize, background_max_alpha, legend_markersize, legend_fontsize, effectplot_type, effectplot_mean_markerfacecolor, effectplot_mean_markeredgecolor, effectplot_median_markeredgecolor, output_filepath, figure_size, dpi)\u001b[0m\n\u001b[1;32m    513\u001b[0m             \u001b[0mprint\u001b[0m\u001b[0;34m(\u001b[0m\u001b[0;34m'***************8'\u001b[0m\u001b[0;34m)\u001b[0m\u001b[0;34m\u001b[0m\u001b[0m\n\u001b[1;32m    514\u001b[0m             \u001b[0mprint\u001b[0m\u001b[0;34m(\u001b[0m\u001b[0ms\u001b[0m\u001b[0;34m,\u001b[0m \u001b[0mtype\u001b[0m\u001b[0;34m(\u001b[0m\u001b[0ms\u001b[0m\u001b[0;34m)\u001b[0m\u001b[0;34m)\u001b[0m\u001b[0;34m\u001b[0m\u001b[0m\n\u001b[0;32m--> 515\u001b[0;31m             ax_legend.text(0.26, y, 'State {} (n={})'.format(s, sum(states == s)),\n\u001b[0m\u001b[1;32m    516\u001b[0m                            fontsize=legend_fontsize, weight='bold', verticalalignment='center')\n\u001b[1;32m    517\u001b[0m \u001b[0;34m\u001b[0m\u001b[0m\n",
      "\u001b[0;31mTypeError\u001b[0m: 'bool' object is not iterable"
     ]
    }
   ],
   "source": [
    "matrix = ccal.support.read_gct('/home/cyborg/Downloads/KRAS_Matrix.gct')\n",
    "\n",
    "M = pd.read_csv('/home/cyborg/Downloads/KRAS_membership.gct', sep='\\t')\n",
    "k17 = M.ix[:, 'k_17']\n",
    "states = []\n",
    "for x in k17:\n",
    "    if type(x) == str and x[0] == 'S':\n",
    "        states.append(int(x[1:]))\n",
    "    else:\n",
    "        raise ValueError()\n",
    "\n",
    "ccal.visualize.plot_onco_gps(matrix, states)"
   ]
  },
  {
   "cell_type": "markdown",
   "metadata": {},
   "source": [
    "# Get states"
   ]
  },
  {
   "cell_type": "code",
   "execution_count": null,
   "metadata": {
    "collapsed": false
   },
   "outputs": [],
   "source": [
    "h = ccal.support.read_gct('/home/cyborg/hematopoietic_cancer/result/ccle_hema_r/k9/ccle_hema_k_9_H.gct')\n",
    "n_states_to_explore = [3, 4, 5, 6, 7, 8, 9, 10, 11, 12, 13, 14, 15, 16, 17, 18, 19, 20, 25, 30]\n",
    "nclustering = 500\n",
    "filename_prefix = 'output/ccle_hema_k_9_H_1000clustering_0828'"
   ]
  },
  {
   "cell_type": "code",
   "execution_count": null,
   "metadata": {
    "collapsed": false,
    "scrolled": true
   },
   "outputs": [],
   "source": [
    "labels, memberships, cophenetic_correlation = ccal.analyze.get_states_from_h(h, n_states_to_explore, nclustering=nclustering, filename_prefix=filename_prefix)"
   ]
  },
  {
   "cell_type": "markdown",
   "metadata": {},
   "source": [
    "# Map Onco-GPS"
   ]
  },
  {
   "cell_type": "code",
   "execution_count": null,
   "metadata": {
    "collapsed": false
   },
   "outputs": [],
   "source": [
    "labels = pd.read_csv(filename_prefix + '_labels.txt', index_col=0, sep='\\t')\n",
    "memberships = ccal.support.read_gct(filename_prefix + '_memberships.gct')\n",
    "annotations = ccal.support.make_random_features(1, memberships.shape[1])"
   ]
  },
  {
   "cell_type": "code",
   "execution_count": null,
   "metadata": {
    "collapsed": false,
    "scrolled": true
   },
   "outputs": [],
   "source": [
    "background = 1\n",
    "for n_state in n_states_to_explore:\n",
    "    states = labels.ix[n_state, :-1].astype(int).tolist()\n",
    "    signature = 'metric'\n",
    "    ccal.visualize.plot_onco_gps(h, states, output_filepath='output/ccle_hema_k_9_H_1000clustering_0828_s{}_{}.pdf'.format(n_state, signature))\n",
    "    signature = 'not_metric'\n",
    "    ccal.visualize.plot_onco_gps(h, states, mds_is_metric=False, output_filepath='output/ccle_hema_k_9_H_1000clustering_0828_s{}_{}.pdf'.format(n_state, signature))\n",
    "    signature = 'populate_random'\n",
    "    ccal.visualize.plot_onco_gps(h, states, annotations=annotations, background=background, output_filepath='output/ccle_hema_k_9_H_1000clustering_0828_s{}_{}.pdf'.format(n_state, signature))"
   ]
  }
 ],
 "metadata": {
  "anaconda-cloud": {},
  "kernelspec": {
   "display_name": "Python [default]",
   "language": "python",
   "name": "python3"
  },
  "language_info": {
   "codemirror_mode": {
    "name": "ipython",
    "version": 3
   },
   "file_extension": ".py",
   "mimetype": "text/x-python",
   "name": "python",
   "nbconvert_exporter": "python",
   "pygments_lexer": "ipython3",
   "version": "3.5.2"
  }
 },
 "nbformat": 4,
 "nbformat_minor": 0
}
