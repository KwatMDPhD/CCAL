{
 "cells": [
  {
   "cell_type": "code",
   "execution_count": 2,
   "metadata": {
    "collapsed": false
   },
   "outputs": [
    {
     "name": "stdout",
     "output_type": "stream",
     "text": [
      "===============================================================================\n",
      "==================== Computational Cancer Analysis Library ====================\n",
      "===============================================================================\n",
      "<12:19:32> Checking dependencies ...\n",
      "<12:19:32> Using the following packages:\n",
      "<12:19:32> \tpandas (v0.18.1)\n",
      "<12:19:32> \tseaborn (v0.7.1)\n",
      "<12:19:32> \tnumpy (v1.11.1)\n",
      "<12:19:32> \tscipy (v0.18.0)\n",
      "<12:19:32> \tscikit-learn (v0.17.1)\n",
      "<12:19:32> \trpy2 (v2.8.2)\n",
      "<12:19:32> \tmatplotlib (v1.5.1)\n"
     ]
    }
   ],
   "source": []
  }
 ],
 "metadata": {
  "anaconda-cloud": {},
  "kernelspec": {
   "display_name": "Python [default]",
   "language": "python",
   "name": "python3"
  },
  "language_info": {
   "codemirror_mode": {
    "name": "ipython",
    "version": 3
   },
   "file_extension": ".py",
   "mimetype": "text/x-python",
   "name": "python",
   "nbconvert_exporter": "python",
   "pygments_lexer": "ipython3",
   "version": "3.5.2"
  }
 },
 "nbformat": 4,
 "nbformat_minor": 0
}
