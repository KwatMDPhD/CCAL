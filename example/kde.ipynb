{
 "cells": [
  {
   "cell_type": "code",
   "execution_count": null,
   "metadata": {
    "collapsed": true
   },
   "outputs": [],
   "source": [
    "import time\n",
    "import math\n",
    "\n",
    "import numpy as np\n",
    "\n",
    "\n",
    "n = 100\n",
    "size = 1000\n",
    "x = np.random.random_sample(size)\n",
    "y = np.random.random_sample(size)\n",
    "#ngrid = 33"
   ]
  },
  {
   "cell_type": "markdown",
   "metadata": {},
   "source": [
    "## R's bcv & kde2d"
   ]
  },
  {
   "cell_type": "code",
   "execution_count": null,
   "metadata": {
    "collapsed": false
   },
   "outputs": [],
   "source": [
    "import rpy2.robjects as ro\n",
    "from rpy2.robjects.numpy2ri import numpy2ri\n",
    "ro.conversion.py2ri = numpy2ri\n",
    "from rpy2.robjects.packages import importr\n",
    "mass = importr('MASS')\n",
    "\n",
    "for p in range(2, 10):\n",
    "    ngrid = math.pow(2, p) + 1\n",
    "    t0 = time.time()\n",
    "    for i in range(n):\n",
    "        x = np.random.random_sample(size)\n",
    "        y = np.random.random_sample(size)\n",
    "        bandwidth_x = np.asarray(mass.bcv(x)[0])\n",
    "        bandwidth_y = np.asarray(mass.bcv(y)[0])\n",
    "        kde = mass.kde2d(x, y, np.asarray([bandwidth_x, bandwidth_y]), n=np.asarray([ngrid]))\n",
    "    print(int(ngrid), '\\t', time.time() - t0)"
   ]
  },
  {
   "cell_type": "markdown",
   "metadata": {},
   "source": [
    "## fastKDE"
   ]
  },
  {
   "cell_type": "code",
   "execution_count": null,
   "metadata": {
    "collapsed": false
   },
   "outputs": [],
   "source": [
    "from fastkde import fastKDE\n",
    "\n",
    "for p in range(2, 10):\n",
    "    ngrid = math.pow(2, p) + 1\n",
    "    t0 = time.time()\n",
    "    for i in range(n):\n",
    "        x = np.random.random_sample(size)\n",
    "        y = np.random.random_sample(size)\n",
    "        pdf, axes = fastKDE.pdf(x, y, numPoints=ngrid)\n",
    "    print(int(ngrid), '\\t', time.time() - t0)"
   ]
  },
  {
   "cell_type": "markdown",
   "metadata": {},
   "source": [
    "## KDEMultivariate\n",
    "Higher overhead. Can specify bandwidth. Slowest."
   ]
  },
  {
   "cell_type": "code",
   "execution_count": null,
   "metadata": {
    "collapsed": false
   },
   "outputs": [],
   "source": [
    "from statsmodels.nonparametric.kernel_density import KDEMultivariate\n",
    "\n",
    "t0 = time.time()\n",
    "for i in range(n):\n",
    "    x = np.random.random_sample(size)\n",
    "    y = np.random.random_sample(size)\n",
    "    kde = KDEMultivariate([x, y], var_type='cc', bw=[0.1, 0.1])\n",
    "    kde.pdf()\n",
    "time.time() - t0"
   ]
  },
  {
   "cell_type": "markdown",
   "metadata": {},
   "source": [
    "## gaussian_kde\n",
    "Faster. Can't specify bandwidth."
   ]
  },
  {
   "cell_type": "code",
   "execution_count": null,
   "metadata": {
    "collapsed": false
   },
   "outputs": [],
   "source": [
    "from scipy.stats import gaussian_kde\n",
    "\n",
    "t0 = time.time()\n",
    "for i in range(n):\n",
    "    x = np.random.random_sample(size)\n",
    "    y = np.random.random_sample(size)\n",
    "    kde = gaussian_kde([x, y], bw_method='silverman')\n",
    "    kde.pdf(np.random.random_sample((2, 25)))\n",
    "time.time() - t0"
   ]
  }
 ],
 "metadata": {
  "kernelspec": {
   "display_name": "Python 3",
   "language": "python",
   "name": "python3"
  },
  "language_info": {
   "codemirror_mode": {
    "name": "ipython",
    "version": 3
   },
   "file_extension": ".py",
   "mimetype": "text/x-python",
   "name": "python",
   "nbconvert_exporter": "python",
   "pygments_lexer": "ipython3",
   "version": "3.5.1"
  }
 },
 "nbformat": 4,
 "nbformat_minor": 0
}
