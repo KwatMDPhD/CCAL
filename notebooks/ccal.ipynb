{
 "cells": [
  {
   "cell_type": "code",
   "execution_count": 1,
   "metadata": {
    "ExecuteTime": {
     "end_time": "2017-10-06T00:22:49.058929Z",
     "start_time": "2017-10-06T00:22:49.053663Z"
    },
    "collapsed": true
   },
   "outputs": [],
   "source": [
    "# Let python see .. directory when trying to import stuff\n",
    "\n",
    "import sys\n",
    "sys.path.insert(0, '..')"
   ]
  },
  {
   "cell_type": "code",
   "execution_count": 2,
   "metadata": {
    "ExecuteTime": {
     "end_time": "2017-10-06T00:22:51.617182Z",
     "start_time": "2017-10-06T00:22:49.746244Z"
    }
   },
   "outputs": [],
   "source": [
    "# Import ccal\n",
    "\n",
    "import ccal"
   ]
  },
  {
   "cell_type": "code",
   "execution_count": 3,
   "metadata": {
    "ExecuteTime": {
     "end_time": "2017-10-06T00:22:52.382956Z",
     "start_time": "2017-10-06T00:22:52.358172Z"
    },
    "scrolled": true
   },
   "outputs": [
    {
     "name": "stdout",
     "output_type": "stream",
     "text": [
      "['GPSMap',\n",
      " '__builtins__',\n",
      " '__cached__',\n",
      " '__doc__',\n",
      " '__file__',\n",
      " '__loader__',\n",
      " '__name__',\n",
      " '__package__',\n",
      " '__path__',\n",
      " '__spec__',\n",
      " 'apply_function_on_2_1d_arrays_and_compute_empirical_p_value',\n",
      " 'apply_function_on_2_2d_arrays_slices',\n",
      " 'cast_series_to_builtins',\n",
      " 'cast_str_to_builtins',\n",
      " 'classification',\n",
      " 'classify',\n",
      " 'cluster',\n",
      " 'cluster_2d_array_rows_and_columns',\n",
      " 'cluster_2d_array_slices_by_group',\n",
      " 'compute_bandwidths',\n",
      " 'compute_brier_entropy',\n",
      " 'compute_empirical_p_value',\n",
      " 'compute_empirical_p_values_and_fdrs',\n",
      " 'compute_enrichment_score',\n",
      " 'compute_entropy',\n",
      " 'compute_information_coefficient',\n",
      " 'compute_joint_probability',\n",
      " 'compute_log2_ratios',\n",
      " 'compute_margin_of_error',\n",
      " 'compute_posterior_probability',\n",
      " 'consensus_cluster',\n",
      " 'copy_path',\n",
      " 'correlate',\n",
      " 'count_coclusterings',\n",
      " 'define_components',\n",
      " 'define_exponential_function',\n",
      " 'define_states',\n",
      " 'define_x_coordinates_for_reflection',\n",
      " 'dimension_reduction',\n",
      " 'download',\n",
      " 'drop_df_slices',\n",
      " 'drop_nan_and_apply_function_on_2_1d_arrays',\n",
      " 'establish_path',\n",
      " 'extract_tar',\n",
      " 'fit_essentiality',\n",
      " 'fit_function_on_each_2d_array_slice',\n",
      " 'flatten_nested',\n",
      " 'get_1d_array_unique_objects_in_order',\n",
      " 'get_home_directory_path',\n",
      " 'get_now',\n",
      " 'get_open_port',\n",
      " 'get_reference',\n",
      " 'get_target_grid_indices',\n",
      " 'get_top_and_bottom_series_indices',\n",
      " 'get_unique_objects_in_order',\n",
      " 'get_volume_name',\n",
      " 'group',\n",
      " 'group_and_apply_function_on_each_group',\n",
      " 'gsea',\n",
      " 'gzip_compress',\n",
      " 'gzip_decompress',\n",
      " 'gzip_decompress_and_bgzip_compress',\n",
      " 'hierarchical_cluster_distances_and_compute_ccc',\n",
      " 'hierarchical_consensus_cluster',\n",
      " 'infer',\n",
      " 'infer_assuming_independence',\n",
      " 'information',\n",
      " 'install_libraries',\n",
      " 'integize',\n",
      " 'kde',\n",
      " 'kernel_density',\n",
      " 'linear_algebra',\n",
      " 'linear_model',\n",
      " 'make_case_annotations',\n",
      " 'make_essentiality_matrix',\n",
      " 'make_index_and_fraction_grid_coordinates_pair',\n",
      " 'make_match_panel',\n",
      " 'make_membership_df_from_categorical_series',\n",
      " 'make_nd_grid_coordinates',\n",
      " 'make_summary_match_panel',\n",
      " 'make_volume_dict',\n",
      " 'match',\n",
      " 'matrix_decomposition',\n",
      " 'mds',\n",
      " 'merge_dicts_with_function',\n",
      " 'mount',\n",
      " 'multiprocess',\n",
      " 'nd_array',\n",
      " 'nmf',\n",
      " 'nmf_consensus_cluster',\n",
      " 'normalize_1d_array',\n",
      " 'normalize_2d_array',\n",
      " 'onco_gps',\n",
      " 'permute_and_compute_enrichment_score',\n",
      " 'plot',\n",
      " 'plot_bayesian_nomogram',\n",
      " 'plot_essentiality',\n",
      " 'plot_heatmap',\n",
      " 'probability',\n",
      " 'read_CopyNumberLowPass_Gistic2',\n",
      " 'read_CopyNumber_Gistic2',\n",
      " 'read_MutSigNozzleReport2CV',\n",
      " 'reboot',\n",
      " 'regress',\n",
      " 'regression',\n",
      " 'replace_bad_objects',\n",
      " 'run_command',\n",
      " 'run_single_sample_gsea',\n",
      " 'shuffle_each_2d_array_slice',\n",
      " 'shutdown',\n",
      " 'simulate_df',\n",
      " 'simulate_series',\n",
      " 'skew',\n",
      " 'solve_ax_equal_b',\n",
      " 'source_environment',\n",
      " 'split_df',\n",
      " 'split_str_ignoring_inside_quotes',\n",
      " 'support',\n",
      " 'tcga',\n",
      " 'title_str',\n",
      " 'unmount',\n",
      " 'untitle_str',\n",
      " 'unzip',\n",
      " 'write_dict']\n"
     ]
    }
   ],
   "source": [
    "# List ccal attributes\n",
    "\n",
    "from pprint import pprint\n",
    "pprint(sorted(ccal.__dict__.keys()))"
   ]
  },
  {
   "cell_type": "code",
   "execution_count": 5,
   "metadata": {
    "ExecuteTime": {
     "end_time": "2017-10-06T00:24:05.732558Z",
     "start_time": "2017-10-06T00:24:05.727616Z"
    }
   },
   "outputs": [],
   "source": [
    "df = ccal.simulate_df(10, 10)\n",
    "\n",
    "\n",
    "%matplotlib inline\n",
    "ccal.plot_heatmap(df)"
   ]
  }
 ],
 "metadata": {
  "kernelspec": {
   "display_name": "Python 3",
   "language": "python",
   "name": "python3"
  },
  "language_info": {
   "codemirror_mode": {
    "name": "ipython",
    "version": 3
   },
   "file_extension": ".py",
   "mimetype": "text/x-python",
   "name": "python",
   "nbconvert_exporter": "python",
   "pygments_lexer": "ipython3",
   "version": "3.6.2"
  }
 },
 "nbformat": 4,
 "nbformat_minor": 2
}
