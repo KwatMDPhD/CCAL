{
 "cells": [
  {
   "cell_type": "raw",
   "metadata": {
    "ExecuteTime": {
     "end_time": "2017-10-20T23:50:30.484951Z",
     "start_time": "2017-10-20T23:50:30.410280Z"
    }
   },
   "source": [
    "# Make ../ccal/__inti__.py\n",
    "\n",
    "import os\n",
    "\n",
    "imports = []\n",
    "\n",
    "for dp, dns, fns in os.walk('../ccal'):\n",
    "\n",
    "    split = dp.split('/')\n",
    "    if len(split) == 4:\n",
    "\n",
    "        if split[2] == split[3]:\n",
    "\n",
    "            for fn in fns:\n",
    "                if fn.endswith('.py'):\n",
    "\n",
    "                    with open(os.path.join(dp, fn)) as f:\n",
    "\n",
    "                        for l in f.readlines():\n",
    "                            if l.startswith('def '):\n",
    "\n",
    "                                function_name = l.split('(')[0][4:]\n",
    "                                if not function_name.startswith('_'):\n",
    "\n",
    "                                    imports.append(\n",
    "                                        'from .{0}.{0}.{1} import {2}'.format(\n",
    "                                            split[2], fn[:-3], function_name))\n",
    "        else:\n",
    "            print(split)\n",
    "\n",
    "with open('../ccal/__init__.py', 'w') as f:\n",
    "    f.write('\\n'.join(imports))\n",
    "\n",
    "# Sort and prettify imports"
   ]
  },
  {
   "cell_type": "code",
   "execution_count": null,
   "metadata": {
    "ExecuteTime": {
     "end_time": "2017-10-21T00:15:57.808881Z",
     "start_time": "2017-10-21T00:15:57.804563Z"
    }
   },
   "outputs": [],
   "source": [
    "# Let python see the directory containing ccal when trying to import stuff\n",
    "\n",
    "import sys\n",
    "sys.path.insert(0, '..')"
   ]
  },
  {
   "cell_type": "code",
   "execution_count": null,
   "metadata": {
    "ExecuteTime": {
     "end_time": "2017-10-21T00:15:58.266865Z",
     "start_time": "2017-10-21T00:15:57.811323Z"
    }
   },
   "outputs": [],
   "source": [
    "# Import ccal\n",
    "\n",
    "import ccal"
   ]
  },
  {
   "cell_type": "code",
   "execution_count": null,
   "metadata": {
    "ExecuteTime": {
     "end_time": "2017-10-21T00:15:58.267947Z",
     "start_time": "2017-10-21T00:15:57.802Z"
    },
    "scrolled": false
   },
   "outputs": [],
   "source": [
    "# Use ccal\n",
    "\n",
    "df = ccal.simulate_df(10, 10)\n",
    "\n",
    "\n",
    "%matplotlib inline\n",
    "ccal.plot_heatmap(df)"
   ]
  },
  {
   "cell_type": "code",
   "execution_count": null,
   "metadata": {
    "ExecuteTime": {
     "end_time": "2017-10-21T00:15:58.269060Z",
     "start_time": "2017-10-21T00:15:57.805Z"
    },
    "scrolled": false
   },
   "outputs": [],
   "source": [
    "# List ccal attributes\n",
    "\n",
    "dir(ccal)"
   ]
  }
 ],
 "metadata": {
  "kernelspec": {
   "display_name": "Python [conda env:ccal]",
   "language": "python",
   "name": "conda-env-ccal-py"
  },
  "language_info": {
   "codemirror_mode": {
    "name": "ipython",
    "version": 3
   },
   "file_extension": ".py",
   "mimetype": "text/x-python",
   "name": "python",
   "nbconvert_exporter": "python",
   "pygments_lexer": "ipython3",
   "version": "3.6.3"
  }
 },
 "nbformat": 4,
 "nbformat_minor": 2
}
