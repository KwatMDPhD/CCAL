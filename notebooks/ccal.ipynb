{
 "cells": [
  {
   "cell_type": "code",
   "execution_count": 28,
   "metadata": {
    "ExecuteTime": {
     "end_time": "2017-10-06T23:39:44.848477Z",
     "start_time": "2017-10-06T23:39:42.670233Z"
    }
   },
   "outputs": [],
   "source": [
    "import ccal"
   ]
  },
  {
   "cell_type": "code",
   "execution_count": null,
   "metadata": {
    "ExecuteTime": {
     "end_time": "2017-10-06T22:22:58.433946Z",
     "start_time": "2017-10-06T22:22:58.429890Z"
    },
    "collapsed": true
   },
   "outputs": [],
   "source": [
    "# Let python see the directory containing ccal when trying to import stuff\n",
    "\n",
    "import sys\n",
    "sys.path.insert(0, '..')"
   ]
  },
  {
   "cell_type": "code",
   "execution_count": null,
   "metadata": {
    "ExecuteTime": {
     "end_time": "2017-10-06T22:23:00.434444Z",
     "start_time": "2017-10-06T22:22:58.436464Z"
    }
   },
   "outputs": [],
   "source": [
    "# Import ccal\n",
    "\n",
    "import ccal"
   ]
  },
  {
   "cell_type": "code",
   "execution_count": null,
   "metadata": {
    "ExecuteTime": {
     "end_time": "2017-10-06T22:23:00.471218Z",
     "start_time": "2017-10-06T22:23:00.437275Z"
    },
    "scrolled": true
   },
   "outputs": [],
   "source": [
    "# List ccal attributes\n",
    "\n",
    "from pprint import pprint\n",
    "pprint(sorted(ccal.__dict__.keys()))"
   ]
  },
  {
   "cell_type": "code",
   "execution_count": null,
   "metadata": {
    "ExecuteTime": {
     "end_time": "2017-10-06T22:23:01.471176Z",
     "start_time": "2017-10-06T22:23:00.473316Z"
    },
    "scrolled": true
   },
   "outputs": [],
   "source": [
    "# Use ccal\n",
    "\n",
    "df = ccal.simulate_df(10, 10)\n",
    "\n",
    "\n",
    "%matplotlib inline\n",
    "ccal.plot_heatmap(df)"
   ]
  },
  {
   "cell_type": "code",
   "execution_count": 2,
   "metadata": {
    "ExecuteTime": {
     "end_time": "2017-10-06T23:27:35.589419Z",
     "start_time": "2017-10-06T23:27:35.585702Z"
    },
    "collapsed": true
   },
   "outputs": [],
   "source": [
    "import os"
   ]
  },
  {
   "cell_type": "code",
   "execution_count": 27,
   "metadata": {
    "ExecuteTime": {
     "end_time": "2017-10-06T23:34:21.199890Z",
     "start_time": "2017-10-06T23:34:21.143060Z"
    },
    "scrolled": false
   },
   "outputs": [
    {
     "name": "stdout",
     "output_type": "stream",
     "text": [
      "../ccal\n",
      "../ccal/hdf5\n",
      "../ccal/hdf5/hdf5\n",
      "../ccal/linear_model\n",
      "../ccal/linear_model/linear_model\n",
      "../ccal/linear_model/linear_model/plot\n",
      "../ccal/linear_model/linear_model/plot/colormaps\n",
      "../ccal/linear_model/linear_model/plot/plot\n",
      "../ccal/linear_model/linear_model/plot/plot/support\n",
      "../ccal/linear_model/linear_model/plot/plot/support/support\n",
      "../ccal/linear_model/linear_model/plot/plot/nd_array\n",
      "../ccal/linear_model/linear_model/plot/plot/nd_array/nd_array\n",
      "../ccal/tcga\n",
      "../ccal/tcga/tcga\n",
      "../ccal/skew\n",
      "../ccal/skew/skew\n",
      "../ccal/skew/skew/support\n",
      "../ccal/skew/skew/support/support\n",
      "../ccal/skew/skew/plot\n",
      "../ccal/skew/skew/plot/colormaps\n",
      "../ccal/skew/skew/plot/plot\n",
      "../ccal/skew/skew/plot/plot/support\n",
      "../ccal/skew/skew/plot/plot/support/support\n",
      "../ccal/skew/skew/plot/plot/nd_array\n",
      "../ccal/skew/skew/plot/plot/nd_array/nd_array\n",
      "../ccal/skew/skew/nd_array\n",
      "../ccal/skew/skew/nd_array/nd_array\n",
      "../ccal/linear_algebra\n",
      "../ccal/linear_algebra/linear_algebra\n",
      "../ccal/kernel_density\n",
      "../ccal/kernel_density/kernel_density\n",
      "../ccal/kernel_density/kernel_density/nd_array\n",
      "../ccal/kernel_density/kernel_density/nd_array/nd_array\n",
      "../ccal/kernel_density/notebooks\n",
      "../ccal/probability\n",
      "../ccal/probability/probability\n",
      "../ccal/probability/probability/kernel_density\n",
      "../ccal/probability/probability/kernel_density/kernel_density\n",
      "../ccal/probability/probability/kernel_density/kernel_density/nd_array\n",
      "../ccal/probability/probability/kernel_density/kernel_density/nd_array/nd_array\n",
      "../ccal/probability/probability/kernel_density/notebooks\n",
      "../ccal/probability/probability/plot\n",
      "../ccal/probability/probability/plot/colormaps\n",
      "../ccal/probability/probability/plot/plot\n",
      "../ccal/probability/probability/plot/plot/support\n",
      "../ccal/probability/probability/plot/plot/support/support\n",
      "../ccal/probability/probability/plot/plot/nd_array\n",
      "../ccal/probability/probability/plot/plot/nd_array/nd_array\n",
      "../ccal/probability/probability/nd_array\n",
      "../ccal/probability/probability/nd_array/nd_array\n",
      "../ccal/probability/data\n",
      "../ccal/probability/notebooks\n",
      "../ccal/cluster\n",
      "../ccal/cluster/cluster\n",
      "../ccal/cluster/cluster/support\n",
      "../ccal/cluster/cluster/support/support\n",
      "../ccal/cluster/cluster/matrix_decomposition\n",
      "../ccal/cluster/cluster/matrix_decomposition/matrix_decomposition\n",
      "../ccal/cluster/cluster/information\n",
      "../ccal/cluster/cluster/information/information\n",
      "../ccal/cluster/cluster/plot\n",
      "../ccal/cluster/cluster/plot/colormaps\n",
      "../ccal/cluster/cluster/plot/plot\n",
      "../ccal/cluster/cluster/plot/plot/support\n",
      "../ccal/cluster/cluster/plot/plot/support/support\n",
      "../ccal/cluster/cluster/plot/plot/nd_array\n",
      "../ccal/cluster/cluster/plot/plot/nd_array/nd_array\n",
      "../ccal/cluster/cluster/nd_array\n",
      "../ccal/cluster/cluster/nd_array/nd_array\n",
      "../ccal/cluster/notebooks\n",
      "../ccal/network\n",
      "../ccal/network/network\n",
      "../ccal/support\n",
      "../ccal/support/support\n",
      "../ccal/mutational_signature\n",
      "../ccal/mutational_signature/mutational_signature\n",
      "../ccal/mutational_signature/media\n",
      "../ccal/mutational_signature/notebooks\n",
      "../ccal/variant\n",
      "../ccal/variant/variant\n",
      "../ccal/variant/variant/hdf5\n",
      "../ccal/variant/variant/hdf5/hdf5\n",
      "../ccal/match\n",
      "../ccal/match/match\n",
      "../ccal/match/match/support\n",
      "../ccal/match/match/support/support\n",
      "../ccal/match/match/information\n",
      "../ccal/match/match/information/information\n",
      "../ccal/match/match/plot\n",
      "../ccal/match/match/plot/colormaps\n",
      "../ccal/match/match/plot/plot\n",
      "../ccal/match/match/plot/plot/support\n",
      "../ccal/match/match/plot/plot/support/support\n",
      "../ccal/match/match/plot/plot/nd_array\n",
      "../ccal/match/match/plot/plot/nd_array/nd_array\n",
      "../ccal/match/match/nd_array\n",
      "../ccal/match/match/nd_array/nd_array\n",
      "../ccal/match/notebooks\n",
      "../ccal/cryptograph\n",
      "../ccal/cryptograph/cryptograph\n",
      "../ccal/grch\n",
      "../ccal/grch/grch\n",
      "../ccal/grch/grch/support\n",
      "../ccal/grch/grch/support/support\n",
      "../ccal/regression\n",
      "../ccal/regression/regression\n",
      "../ccal/feature\n",
      "../ccal/feature/feature\n",
      "../ccal/feature/feature/hdf5\n",
      "../ccal/feature/feature/hdf5/hdf5\n",
      "../ccal/matrix_decomposition\n",
      "../ccal/matrix_decomposition/matrix_decomposition\n",
      "../ccal/gsea\n",
      "../ccal/gsea/data\n",
      "../ccal/gsea/notebooks\n",
      "../ccal/gsea/gsea\n",
      "../ccal/gsea/gsea/support\n",
      "../ccal/gsea/gsea/support/support\n",
      "../ccal/gsea/gsea/nd_array\n",
      "../ccal/gsea/gsea/nd_array/nd_array\n",
      "../ccal/file\n",
      "../ccal/file/file\n",
      "../ccal/file/file/support\n",
      "../ccal/file/file/support/support\n",
      "../ccal/dimension_reduction\n",
      "../ccal/dimension_reduction/dimension_reduction\n",
      "../ccal/dimension_reduction/dimension_reduction/nd_array\n",
      "../ccal/dimension_reduction/dimension_reduction/nd_array/nd_array\n",
      "../ccal/information\n",
      "../ccal/information/information\n",
      "../ccal/sequencing_process\n",
      "../ccal/sequencing_process/notebooks\n",
      "../ccal/sequencing_process/sequencing_process\n",
      "../ccal/sequencing_process/sequencing_process/support\n",
      "../ccal/sequencing_process/sequencing_process/support/support\n",
      "../ccal/sequence\n",
      "../ccal/sequence/sequence\n",
      "../ccal/plot\n",
      "../ccal/plot/colormaps\n",
      "../ccal/plot/plot\n",
      "../ccal/plot/plot/support\n",
      "../ccal/plot/plot/support/support\n",
      "../ccal/plot/plot/nd_array\n",
      "../ccal/plot/plot/nd_array/nd_array\n",
      "../ccal/classification\n",
      "../ccal/classification/classification\n",
      "../ccal/nd_array\n",
      "../ccal/nd_array/nd_array\n",
      "../ccal/onco_gps\n",
      "../ccal/onco_gps/notebooks\n",
      "../ccal/onco_gps/onco_gps\n",
      "../ccal/onco_gps/onco_gps/linear_algebra\n",
      "../ccal/onco_gps/onco_gps/linear_algebra/linear_algebra\n",
      "../ccal/onco_gps/onco_gps/kernel_density\n",
      "../ccal/onco_gps/onco_gps/kernel_density/kernel_density\n",
      "../ccal/onco_gps/onco_gps/kernel_density/kernel_density/nd_array\n",
      "../ccal/onco_gps/onco_gps/kernel_density/kernel_density/nd_array/nd_array\n",
      "../ccal/onco_gps/onco_gps/kernel_density/notebooks\n",
      "../ccal/onco_gps/onco_gps/cluster\n",
      "../ccal/onco_gps/onco_gps/cluster/cluster\n",
      "../ccal/onco_gps/onco_gps/cluster/cluster/support\n",
      "../ccal/onco_gps/onco_gps/cluster/cluster/support/support\n",
      "../ccal/onco_gps/onco_gps/cluster/cluster/matrix_decomposition\n",
      "../ccal/onco_gps/onco_gps/cluster/cluster/matrix_decomposition/matrix_decomposition\n",
      "../ccal/onco_gps/onco_gps/cluster/cluster/information\n",
      "../ccal/onco_gps/onco_gps/cluster/cluster/information/information\n",
      "../ccal/onco_gps/onco_gps/cluster/cluster/plot\n",
      "../ccal/onco_gps/onco_gps/cluster/cluster/plot/colormaps\n",
      "../ccal/onco_gps/onco_gps/cluster/cluster/plot/plot\n",
      "../ccal/onco_gps/onco_gps/cluster/cluster/plot/plot/support\n",
      "../ccal/onco_gps/onco_gps/cluster/cluster/plot/plot/support/support\n",
      "../ccal/onco_gps/onco_gps/cluster/cluster/plot/plot/nd_array\n",
      "../ccal/onco_gps/onco_gps/cluster/cluster/plot/plot/nd_array/nd_array\n",
      "../ccal/onco_gps/onco_gps/cluster/cluster/nd_array\n",
      "../ccal/onco_gps/onco_gps/cluster/cluster/nd_array/nd_array\n",
      "../ccal/onco_gps/onco_gps/cluster/notebooks\n",
      "../ccal/onco_gps/onco_gps/support\n",
      "../ccal/onco_gps/onco_gps/support/support\n",
      "../ccal/onco_gps/onco_gps/regression\n",
      "../ccal/onco_gps/onco_gps/regression/regression\n",
      "../ccal/onco_gps/onco_gps/dimension_reduction\n",
      "../ccal/onco_gps/onco_gps/dimension_reduction/dimension_reduction\n",
      "../ccal/onco_gps/onco_gps/dimension_reduction/dimension_reduction/nd_array\n",
      "../ccal/onco_gps/onco_gps/dimension_reduction/dimension_reduction/nd_array/nd_array\n",
      "../ccal/onco_gps/onco_gps/plot\n",
      "../ccal/onco_gps/onco_gps/plot/colormaps\n",
      "../ccal/onco_gps/onco_gps/plot/plot\n",
      "../ccal/onco_gps/onco_gps/plot/plot/support\n",
      "../ccal/onco_gps/onco_gps/plot/plot/support/support\n",
      "../ccal/onco_gps/onco_gps/plot/plot/nd_array\n",
      "../ccal/onco_gps/onco_gps/plot/plot/nd_array/nd_array\n",
      "../ccal/onco_gps/onco_gps/classification\n",
      "../ccal/onco_gps/onco_gps/classification/classification\n",
      "../ccal/onco_gps/onco_gps/nd_array\n",
      "../ccal/onco_gps/onco_gps/nd_array/nd_array\n"
     ]
    }
   ],
   "source": [
    "for location in walk('../ccal'):\n",
    "\n",
    "    p = location[0]\n",
    "\n",
    "    if any([bad_fn in p for bad_fn in ['.git', '__pycache__']]):\n",
    "        continue\n",
    "\n",
    "    if isdir(p):\n",
    "        print(p)"
   ]
  },
  {
   "cell_type": "code",
   "execution_count": null,
   "metadata": {
    "collapsed": true
   },
   "outputs": [],
   "source": []
  }
 ],
 "metadata": {
  "kernelspec": {
   "display_name": "Python 3",
   "language": "python",
   "name": "python3"
  },
  "language_info": {
   "codemirror_mode": {
    "name": "ipython",
    "version": 3
   },
   "file_extension": ".py",
   "mimetype": "text/x-python",
   "name": "python",
   "nbconvert_exporter": "python",
   "pygments_lexer": "ipython3",
   "version": "3.6.2"
  }
 },
 "nbformat": 4,
 "nbformat_minor": 2
}
